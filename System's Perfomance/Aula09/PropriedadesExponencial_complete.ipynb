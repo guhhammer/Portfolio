{
  "nbformat": 4,
  "nbformat_minor": 0,
  "metadata": {
    "kernelspec": {
      "display_name": "Python 3",
      "language": "python",
      "name": "python3"
    },
    "language_info": {
      "codemirror_mode": {
        "name": "ipython",
        "version": 3
      },
      "file_extension": ".py",
      "mimetype": "text/x-python",
      "name": "python",
      "nbconvert_exporter": "python",
      "pygments_lexer": "ipython3",
      "version": "3.8.3"
    },
    "colab": {
      "name": "PropriedadesExponencial.ipynb",
      "provenance": [],
      "collapsed_sections": []
    }
  },
  "cells": [
    {
      "cell_type": "markdown",
      "metadata": {
        "id": "rtw1mtvK2HP5"
      },
      "source": [
        "### Importar bibliotecas"
      ]
    },
    {
      "cell_type": "code",
      "metadata": {
        "id": "66BFRqsw2HP_"
      },
      "source": [
        "import time\n",
        "import numpy as np\n",
        "import scipy.stats as st\n",
        "#from propriedadesExp import pExpMenor, somaExpCDFI, somaExpCDFV"
      ],
      "execution_count": 24,
      "outputs": []
    },
    {
      "cell_type": "code",
      "metadata": {
        "id": "Oc-nRRVa3hvC"
      },
      "source": [
        "import numpy as np\n",
        "import scipy.stats as st\n",
        "\n",
        "\n",
        "def pExpMenor(MU1, MU2, nSim):\n",
        "    exp1 = st.expon.rvs(scale=MU1, size=nSim)\n",
        "    #print(exp1)\n",
        "    exp2 = st.expon.rvs(scale=MU2, size=nSim)\n",
        "    #print(exp2)\n",
        "    menor = exp1 < exp2\n",
        "    #print(menor)\n",
        "    return np.count_nonzero(menor) / nSim\n",
        "\n",
        "\n",
        "def somaExpCDFI(x, N, MU, nSim):\n",
        "    deuCerto = 0\n",
        "    for i in range(nSim):\n",
        "        EXP = st.expon.rvs(scale=MU, size=N)\n",
        "        soma = sum(EXP)\n",
        "        if soma <= x:\n",
        "            deuCerto = deuCerto + 1\n",
        "    return deuCerto/nSim\n",
        "\n",
        "\n",
        "def somaExpCDFV(x, N, MU, nSim):\n",
        "\n",
        "    # sorteia matrz EXPEXP = np.random.exponential(MU, [nSim, N])\n",
        "    matrix = np.random.exponential(MU, [nSim, N])\n",
        "  \n",
        "    # soma as linhas\n",
        "    lines = np.sum(matrix, axis=1)\n",
        "  \n",
        "    # quais linhas tem soma menor do que x\n",
        "    less = lines < x\n",
        "\n",
        "    return np.count_nonzero(less) / nSim\n"
      ],
      "execution_count": 29,
      "outputs": []
    },
    {
      "cell_type": "markdown",
      "metadata": {
        "id": "CQcx74QJ2HQH"
      },
      "source": [
        "## Probabilidade de uma variável aleatória exponencial ser menor do que outra\n",
        "Sejam $X_{1}$ e $X_{2}$ variáveis aleatórias independentes com média ${mu}_{1} = 1/L_{1}$ e ${mu}_{2} = 1/L_{2}$<br>\n",
        "\n",
        "* P[$X_{1} \\leq X_{2}$] = $\\frac{L_{1}}{L_{1}+L_{2}}$<br><br>\n",
        "\n",
        "Podemos simular essa probabilidade com o seguinte algoritmo vetorial, implementado na função pExpMenor.<br>\n",
        "* Sortear array ${exp}_{1}$ com $nSim$ valores exponenciais com média ${mu}_{1}$.<br>\n",
        "* Sortear array ${exp}_{2}$ com $nSim$ valores exponenciais com média ${mu}_{2}$.<br>\n",
        "* Calcular vetor $menor$ com valores $True$ se ${exp}_{1}$ < ${exp}_{2}$. <br>\n",
        "* Retornar a quantidade de elementos no vetor $menor$ contendo valor True, dividida por $nSim$.<br><br>\n",
        "\n",
        "O código a seguir compara o valor de probabildade simulado pela função $pExpMenor$ com o valor teórico."
      ]
    },
    {
      "cell_type": "code",
      "metadata": {
        "colab": {
          "base_uri": "https://localhost:8080/"
        },
        "id": "v5yVFmyb2HQH",
        "outputId": "c3716b68-8d27-4981-f653-9fab6b3bfc0c"
      },
      "source": [
        "mu1 = 2\n",
        "mu2 = 4\n",
        "nSim = 10000\n",
        "\n",
        "probT = (1/mu1)/(1/mu1+1/mu2)\n",
        "t1 = time.perf_counter()\n",
        "probS = pExpMenor(mu1, mu2, nSim)\n",
        "t2 = time.perf_counter()\n",
        "print('Probabilidade simulada:  {:.4f}'.format(probS))\n",
        "print('Probabilidade teórica: {:.4f}'.format(probT))\n",
        "print('Tempo de simulação: {:.4f}'.format(t2-t1))"
      ],
      "execution_count": 26,
      "outputs": [
        {
          "output_type": "stream",
          "name": "stdout",
          "text": [
            "Probabilidade simulada:  0.6684\n",
            "Probabilidade teórica: 0.6667\n",
            "Tempo de simulação: 0.0019\n"
          ]
        }
      ]
    },
    {
      "cell_type": "markdown",
      "metadata": {
        "id": "lRqxjfs82HQI"
      },
      "source": [
        "## Distribuição da soma de *N* variáveis aleatórias exponenciais\n",
        "Sejam $X_{1}, X_{2}, \\cdots , X_{N}$ variáveis aleatórias independentes com média $mu_{1} = 1/L$<br>\n",
        "$X = X_{1} + X_{2} + \\cdots + X_{N}$ tem distribuição Erlang com parâmetros *N* e *L*.\n",
        "* $f_{X}(x)=\\frac{L^{N}x^{N-1}e^{-Lx}}{\\tau (N)}$\n",
        "* $F_{X}(x)=1-\\sum_{j=0}^{N-1}e^{-Lx}\\frac{(Lx)^{j}}{j!}$\n",
        "\n",
        "Com a biblioteca Scipy temos:<br>\n",
        "* P[$X \\leq x$] = st.gamma.cdf(x, a=N, scale=MU)<br><br>"
      ]
    },
    {
      "cell_type": "markdown",
      "metadata": {
        "id": "8E1uXUOM2HQJ"
      },
      "source": [
        "## Algoritmo interativo\n",
        "Podemos calcular simular a CDF da soma de $N$ variáveis aleatórias exponencias com média $MU$ com o seguinte algoritmo interativo implementado com as bibliotecas scipy numpy e scipy:<br>\n",
        "* Iniciar a variável $deuCerto$ com zero.<br>\n",
        "* Sortear o array $EXP$ com $N$ variáveis aleatórias com média $MU$.<br>\n",
        "* Calcular o array $soma$ contendo o somatório de $EXP$, ou seja, a soma de $N$ variáveis aleatórias exponenciais com média $MU$.<br>\n",
        "* Incrementar $deuCerto$ se a soma for menor do que o valor $x$ para o qual queremos calcular a CDF (passado com argumento).<br>\n",
        "* Retornar $deuCerto$ dividido por $nSim$.<br><br>\n",
        "\n",
        "O código a seguir compara o valor de probabildade simulado pela função somaExpCDFI com o valor da CDF da variável gamma calculado pela biblioteca Scipy."
      ]
    },
    {
      "cell_type": "code",
      "metadata": {
        "colab": {
          "base_uri": "https://localhost:8080/"
        },
        "id": "jyY463q92HQK",
        "outputId": "145a7a2d-fde9-428a-dd57-ac5a87cf9b8e"
      },
      "source": [
        "x = 12\n",
        "N = 5\n",
        "MU = 2\n",
        "nSim = 10000\n",
        "\n",
        "probT = st.gamma.cdf(x, a=N, scale=MU) \n",
        "t1 = time.perf_counter()\n",
        "probS = somaExpCDFI(x, N, MU, nSim)\n",
        "t2 = time.perf_counter()\n",
        "print('Probabilidade simulada:  {:.4f}'.format(probS))\n",
        "print('Probabilidade teórica: {:.4f}'.format(probT))\n",
        "print('Tempo de simulação: {:.4f}'.format(t2-t1))"
      ],
      "execution_count": 27,
      "outputs": [
        {
          "output_type": "stream",
          "name": "stdout",
          "text": [
            "Probabilidade simulada:  0.7125\n",
            "Probabilidade teórica: 0.7149\n",
            "Tempo de simulação: 0.5610\n"
          ]
        }
      ]
    },
    {
      "cell_type": "markdown",
      "metadata": {
        "id": "VcdzJVCF2HQL"
      },
      "source": [
        "## Algoritmo vetorial\n",
        "Podemos calcular simular a CDF da soma de $N$ variáveis aleatórias exponencias com média $MU$ com o seguinte algoritmo vetorial implementado com a biblioteca numpy:<br>\n",
        "\n",
        "Sortear a matriz $EXP$ com $nSim$ linhas e $N$ colunas.<br>\n",
        "* Observação: Cada linha corresponde a uma simulação e contém os valores das $N$ exponencias sorteadas com média MU. <br>\n",
        "* Dica: usar np.random.exponential(MU, [nSim, N]) <br><br>\n",
        "\n",
        "Calcular o array $soma$ contendo o somatório de cada linha da matriz $EXP$, ou seja, cada elento tem a soma de $N$ variáveis aleatórias exponenciais com média $MU$.<br>\n",
        "* Dica: usar np.sum(), observando que tem que somar as linhas. <br><br>\n",
        "\n",
        "Calcular o array $menor$ que contém $True$ para cada linha da matriz cuja soma menor seja do que o valor $x$ para o qual queremos calcular a CDF (passado com argumento).<br>\n",
        "* Dica: (soma <= x)<br><br>\n",
        "\n",
        "Retornar a quantidade de elementos no vetor $menor$ contendo valor True, dividida por $nSim$.<br>\n",
        "* Dica: usar a função np.count_nonzero para contar a quantidade de elementos com valor True.<br><br>\n",
        "\n",
        "O código a seguir compara o valor de probabildade simulado pela função somaExpCDFV com o valor da CDF da variável gamma calculado pela biblioteca Scipy."
      ]
    },
    {
      "cell_type": "code",
      "metadata": {
        "colab": {
          "base_uri": "https://localhost:8080/"
        },
        "id": "Xa8reDEP2HQM",
        "outputId": "6b95c637-543b-4869-837f-45dffd119e4e"
      },
      "source": [
        "x = 12\n",
        "N = 5\n",
        "MU = 2\n",
        "nSim = 10000\n",
        "\n",
        "probT = st.gamma.cdf(x, a=N, scale=MU) \n",
        "t1 = time.perf_counter()\n",
        "probS = somaExpCDFV(x, N, MU, nSim)\n",
        "t2 = time.perf_counter()\n",
        "print('Probabilidade simulada:  {:.4f}'.format(probS))\n",
        "print('Probabilidade teórica: {:.4f}'.format(probT))\n",
        "print('Tempo de simulação: {:.4f}'.format(t2-t1))"
      ],
      "execution_count": 31,
      "outputs": [
        {
          "output_type": "stream",
          "name": "stdout",
          "text": [
            "Probabilidade simulada:  0.7159\n",
            "Probabilidade teórica: 0.7149\n",
            "Tempo de simulação: 0.0068\n"
          ]
        }
      ]
    },
    {
      "cell_type": "code",
      "metadata": {
        "id": "trTJ1T272HQN"
      },
      "source": [
        ""
      ],
      "execution_count": 28,
      "outputs": []
    }
  ]
}