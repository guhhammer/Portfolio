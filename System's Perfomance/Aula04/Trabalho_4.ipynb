{
  "nbformat": 4,
  "nbformat_minor": 0,
  "metadata": {
    "colab": {
      "name": "Untitled0.ipynb",
      "provenance": [],
      "collapsed_sections": []
    },
    "kernelspec": {
      "name": "python3",
      "display_name": "Python 3"
    },
    "language_info": {
      "name": "python"
    }
  },
  "cells": [
    {
      "cell_type": "code",
      "metadata": {
        "id": "rey-g5tLzQtt"
      },
      "source": [
        "import numpy as np\n",
        "import math\n",
        "import random\n",
        "from scipy.stats import poisson\n",
        "from scipy.stats import expon\n",
        "import matplotlib.pyplot as plt"
      ],
      "execution_count": null,
      "outputs": []
    },
    {
      "cell_type": "code",
      "metadata": {
        "id": "jb0S8mlOzV17"
      },
      "source": [
        "# Gerador de numeros aleatorios com distribuicao de Poisson\n",
        "# Cria array com n valores aleatorios (distribuição de Poisson com parametro 'L')\n",
        "def rndpoiss(L, n):\n",
        "    out = [0 for x in range(n)]\n",
        "    for i in range(n):\n",
        "        # substituir o comando abaixo pelo codigo que gera os valores\n",
        "        out[i] = 0\n",
        "    return out\n",
        "\n",
        "def rndpoiss(L, n):\n",
        "    out = [0 for x in range(n)]\n",
        "    for i in range(n):\n",
        "        j = 0;\n",
        "        cdf = math.exp(-L);\n",
        "        pdf = math.exp(-L)\n",
        "        u = random.random();\n",
        "        while (cdf <= u):\n",
        "          pdf = pdf * (L/(j+1))\n",
        "          cdf = cdf + pdf\n",
        "          j = j + 1\n",
        "        out[i] = j\n",
        "    return out"
      ],
      "execution_count": null,
      "outputs": []
    },
    {
      "cell_type": "code",
      "metadata": {
        "id": "hkkFI4yT3R-o"
      },
      "source": [
        ""
      ],
      "execution_count": null,
      "outputs": []
    },
    {
      "cell_type": "code",
      "metadata": {
        "colab": {
          "base_uri": "https://localhost:8080/",
          "height": 282
        },
        "id": "U8pPqwNGz48C",
        "outputId": "61226951-07f1-4622-85e5-52b777473703"
      },
      "source": [
        "L = 4\n",
        "#a = poisson.rvs(L, size=10000)\n",
        "############################################################\n",
        "# para testar a sua função, comentar o comando anterior e  #\n",
        "# retirar o comentario do proximo comando                  #\n",
        "############################################################\n",
        "a = rndpoiss(L, 10000)\n",
        "\n",
        "x = np.unique(a)\n",
        "\n",
        "fig, ax = plt.subplots(1, 1)\n",
        "ax.plot(x, poisson.pmf(x, L), 'bo', ms=5, label='Poisson pmf')\n",
        "ax.vlines(x, 0, poisson.pmf(x, L), colors='k', linestyles='-', lw=1, alpha=0.5)\n",
        "ax.hist(a, bins=x.max(), density=True, histtype='stepfilled',\n",
        "        label='dados', align='left', alpha=0.2)\n",
        "ax.legend(loc='best', frameon=False)"
      ],
      "execution_count": null,
      "outputs": [
        {
          "output_type": "execute_result",
          "data": {
            "text/plain": [
              "<matplotlib.legend.Legend at 0x7fd9d40c00d0>"
            ]
          },
          "metadata": {},
          "execution_count": 15
        },
        {
          "output_type": "display_data",
          "data": {
            "image/png": "[encoded data removed]",
            "text/plain": [
              "<Figure size 432x288 with 1 Axes>"
            ]
          },
          "metadata": {
            "needs_background": "light"
          }
        }
      ]
    },
    {
      "cell_type": "code",
      "metadata": {
        "id": "QIX6rAaGzYIF"
      },
      "source": [
        "# Gerador de numeros aleatorios com distribuicao exponencial\n",
        "# Cria array com n valores aleatorios\n",
        "# com distribuição exponencial e parametro 'mu'\n",
        "def rndexp(mu, n):\n",
        "    out = [0 for x in range(n)]\n",
        "    for i in range(n):\n",
        "        L = 1/mu\n",
        "        u = random.random()\n",
        "        out[i] = -math.log(1-u) / L\n",
        "    return out"
      ],
      "execution_count": null,
      "outputs": []
    },
    {
      "cell_type": "code",
      "metadata": {
        "colab": {
          "base_uri": "https://localhost:8080/",
          "height": 265
        },
        "id": "Dan_qLYqzYM-",
        "outputId": "2af47cc3-0822-4623-8b54-dd36087d6aaf"
      },
      "source": [
        "mu = 4\n",
        "sigma = mu\n",
        "\n",
        "#a = expon.rvs(0, mu, size=10000)\n",
        "############################################################\n",
        "# para testar a sua função, comentar o comando anterior e  #\n",
        "# retirar o comentario do proximo comando                  #\n",
        "############################################################\n",
        "a = rndexp(mu, 100000)\n",
        "\n",
        "fig, ax = plt.subplots(1, 1)\n",
        "x = np.arange(0, expon.ppf(0.9999, 0, mu), 1 / 100)\n",
        "ax.plot(x, expon.pdf(x, 0, mu), 'b', ms=1,\n",
        "        label='exponecial pdf \\nmu = {0:.2f}'.format(mu))\n",
        "\n",
        "ax.hist(a, bins=12*sigma, density=True, histtype='stepfilled', label='dados')\n",
        "ax.legend(loc='best', frameon=False)\n",
        "\n",
        "plt.show()"
      ],
      "execution_count": null,
      "outputs": [
        {
          "output_type": "display_data",
          "data": {
            "image/png": "[encoded data removed]",
            "text/plain": [
              "<Figure size 432x288 with 1 Axes>"
            ]
          },
          "metadata": {
            "needs_background": "light"
          }
        }
      ]
    },
    {
      "cell_type": "code",
      "metadata": {
        "id": "eJqIqHuzzYPm"
      },
      "source": [
        ""
      ],
      "execution_count": null,
      "outputs": []
    },
    {
      "cell_type": "code",
      "metadata": {
        "id": "DkwW9WwCzYR8"
      },
      "source": [
        ""
      ],
      "execution_count": null,
      "outputs": []
    },
    {
      "cell_type": "code",
      "metadata": {
        "id": "i5LNoojbzYUd"
      },
      "source": [
        ""
      ],
      "execution_count": null,
      "outputs": []
    },
    {
      "cell_type": "code",
      "metadata": {
        "id": "Q0oUmcVmzYW7"
      },
      "source": [
        ""
      ],
      "execution_count": null,
      "outputs": []
    }
  ]
}