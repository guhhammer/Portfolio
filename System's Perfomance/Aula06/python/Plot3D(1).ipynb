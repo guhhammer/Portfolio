{
 "cells": [
  {
   "cell_type": "markdown",
   "metadata": {},
   "source": [
    "## Importar as bibliotecas necessárias"
   ]
  },
  {
   "cell_type": "code",
   "execution_count": null,
   "metadata": {},
   "outputs": [],
   "source": [
    "import numpy as np\n",
    "import matplotlib.pyplot as plt"
   ]
  },
  {
   "cell_type": "markdown",
   "metadata": {},
   "source": [
    "## Gráfico de linha 3d\n",
    "Criar a figura<br>\n",
    "Criar os eixos de plotagem em 3 dimensões com o parâmetros projection = '3d'<br>\n",
    "Definir as coordenadas dos pontos<br>\n",
    "* Para cada valor do eixo z vamos calcular as coordenadas dos eixos x e y com as funções cosseno e seno.\n",
    "* Criar 1000 pontos na coordenada z variando entre 0 e 15 (muitos pontos são necesários para dar a continuidade de uma linha).\n",
    "* Seno e cosseno variam entre -1 e 1. Os valores apresentados nos eixos vão de -1 a 1 (o último vlor 1.5 não é mostrado)."
   ]
  },
  {
   "cell_type": "code",
   "execution_count": null,
   "metadata": {},
   "outputs": [],
   "source": [
    "fig = plt.figure()\n",
    "ax = plt.axes(projection=\"3d\")\n",
    "\n",
    "z = np.linspace(0, 15, 1000)\n",
    "x = np.cos(z)\n",
    "y = np.sin(z)\n",
    "\n",
    "xyticks = np.arange(-1, 1.5, 0.5)\n",
    "ax.set_xticks(xyticks)\n",
    "ax.set_yticks(xyticks)\n",
    "\n",
    "ax.plot3D(x, y, z, 'blue')\n",
    "plt.show()"
   ]
  },
  {
   "cell_type": "markdown",
   "metadata": {},
   "source": [
    "## Gráfico de supeficie\n",
    "### Exemplo 1 dos slides\n",
    "Definir a dunção (os valores das coordenadas z serão calculados a partir da função.<br>\n",
    "Definir a grade de coordenadas dos eixos x e y.<br>\n",
    "* Em cada coordenada 30 valores entre 0 e 3\n",
    "* Para cada variação da coordenada x são necessários todos os valores da coordenada y\n",
    "* Usar a função meshgrid para gerar as coordenadas\n",
    "* As coordenadas z são calculadas com a função que estamos plotando"
   ]
  },
  {
   "cell_type": "code",
   "execution_count": null,
   "metadata": {},
   "outputs": [],
   "source": [
    "def f(x, y):\n",
    "    return np.exp(-(x+y))\n",
    "\n",
    "fig = plt.figure()\n",
    "ax = plt.axes(projection=\"3d\")\n",
    "\n",
    "\n",
    "x = np.linspace(0, 3, 30)\n",
    "y = np.linspace(0, 3, 30)\n",
    "\n",
    "X, Y = np.meshgrid(x, y)\n",
    "Z = f(X, Y)\n",
    "\n",
    "\n",
    "ax = plt.axes(projection='3d')\n",
    "ax.set_xlabel('x')\n",
    "ax.set_ylabel('y')\n",
    "ax.set_zlabel('z')\n",
    "\n",
    "ax.plot_surface(X, Y, Z, rstride=1, cstride=1,\n",
    "                cmap='winter', edgecolor='none')\n",
    "ax.set_title('Exemplo 1');\n",
    "\n",
    "plt.show()"
   ]
  },
  {
   "cell_type": "markdown",
   "metadata": {},
   "source": [
    "### Exemplo 5 dos slides\n",
    "Mesma lógica do exemplo 1"
   ]
  },
  {
   "cell_type": "code",
   "execution_count": null,
   "metadata": {},
   "outputs": [],
   "source": [
    "def F(x, y):\n",
    "    return (1-np.exp(-x))*(1-np.exp(-y))\n",
    "\n",
    "fig = plt.figure()\n",
    "ax = plt.axes(projection=\"3d\")\n",
    "\n",
    "\n",
    "x = np.linspace(0, 3, 30)\n",
    "y = np.linspace(0, 3, 30)\n",
    "X, Y = np.meshgrid(x, y)\n",
    "Z = F(X, Y)\n",
    "\n",
    "ax.set_xlabel('x')\n",
    "ax.set_ylabel('y')\n",
    "ax.set_zlabel('z')\n",
    "\n",
    "ax = plt.axes(projection='3d')\n",
    "ax.plot_surface(X, Y, Z, rstride=1, cstride=1,\n",
    "                cmap='winter', edgecolor='none')\n",
    "ax.set_title('Exemplo 1');\n",
    "\n",
    "plt.show()"
   ]
  },
  {
   "cell_type": "markdown",
   "metadata": {},
   "source": [
    "Execute no Pycharm para poder rotacionar as figuras"
   ]
  },
  {
   "cell_type": "markdown",
   "metadata": {},
   "source": [
    "## Gaissiana Bivariada Padrão\n",
    "Mesma lógica para o grafico de superfície.<br>\n",
    "Função contour para plotar as linhas de contorno."
   ]
  },
  {
   "cell_type": "code",
   "execution_count": null,
   "metadata": {},
   "outputs": [],
   "source": [
    "import numpy as np\n",
    "import matplotlib.pyplot as plt\n",
    "\n",
    "def f(x, y, ro):\n",
    "    return (1/(2*np.pi*np.sqrt(1-(ro**2))))*np.exp(-(1/(2*(1-ro**2)))*(x**2-2*ro*x*y+y**2))\n",
    "\n",
    "fig = plt.figure()\n",
    "ax = plt.axes(projection=\"3d\")\n",
    "\n",
    "x = np.linspace(-4, 4, 100)\n",
    "y = np.linspace(-4, 4, 100)\n",
    "\n",
    "X, Y = np.meshgrid(x, y)\n",
    "Z = f(X, Y, 0)\n",
    "\n",
    "\n",
    "ax.set_xlabel('x')\n",
    "ax.set_ylabel('y')\n",
    "ax.set_zlabel('z')\n",
    "\n",
    "ax = plt.axes(projection='3d')\n",
    "ax.plot_surface(X, Y, Z, rstride=3, cstride=3, linewidth=1, antialiased=True,\n",
    "                cmap='winter', edgecolor='none')\n",
    "ax.set_title('Gaussiana Bivariada Padrão');\n",
    "ax.set_zlim(0,0.15)\n",
    "\n",
    "plt.show()\n",
    "\n",
    "fig, ax = plt.subplots()\n",
    "ax.contour(X, Y, Z)\n",
    "ax.set_title('Contorno Gaussiana Bivariada Padrão')\n",
    "plt.show()"
   ]
  },
  {
   "cell_type": "markdown",
   "metadata": {},
   "source": [
    "## Problema em equipe 6\n",
    "O código a seguir define a função $$f_{X,Y}(x,y)=x+y$$. <br>\n",
    "Substituir para definir a função $$f_{X,Y}(x,y)=e^{-\\frac{(4x+y)}{2}}$$.<br>\n",
    "Copiar o gráfico gerado para o documento Problemas em equipe 6.doc"
   ]
  },
  {
   "cell_type": "code",
   "execution_count": null,
   "metadata": {},
   "outputs": [],
   "source": [
    "#################################################################\n",
    "def f(x, y):\n",
    "    return x+y   # substituir pela definição correta da função\n",
    "##################################################################\n",
    "\n",
    "fig = plt.figure()\n",
    "ax = plt.axes(projection=\"3d\")\n",
    "\n",
    "\n",
    "x = np.linspace(0, 3, 30)\n",
    "y = np.linspace(0, 3, 30)\n",
    "X, Y = np.meshgrid(x, y)\n",
    "Z = f(X, Y)\n",
    "\n",
    "ax.set_xlabel('x')\n",
    "ax.set_ylabel('y')\n",
    "ax.set_zlabel('z')\n",
    "\n",
    "ax = plt.axes(projection='3d')\n",
    "ax.plot_surface(X, Y, Z, rstride=1, cstride=1,\n",
    "                cmap='winter', edgecolor='none')\n",
    "ax.set_title('Exemplo 1');\n",
    "\n",
    "plt.show()"
   ]
  },
  {
   "cell_type": "code",
   "execution_count": null,
   "metadata": {},
   "outputs": [],
   "source": []
  }
 ],
 "metadata": {
  "kernelspec": {
   "display_name": "Python 3",
   "language": "python",
   "name": "python3"
  },
  "language_info": {
   "codemirror_mode": {
    "name": "ipython",
    "version": 3
   },
   "file_extension": ".py",
   "mimetype": "text/x-python",
   "name": "python",
   "nbconvert_exporter": "python",
   "pygments_lexer": "ipython3",
   "version": "3.8.3"
  }
 },
 "nbformat": 4,
 "nbformat_minor": 4
}
