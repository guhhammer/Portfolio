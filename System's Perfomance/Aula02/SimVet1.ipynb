{
 "cells": [
  {
   "cell_type": "markdown",
   "metadata": {},
   "source": [
    "## Simulação vetorial\n",
    "\n",
    "Consiste em utilizar operações com matrizes e vetores para o cálculo da simulação. <br>\n",
    "Armazena-se em vetores e/ou matrizes os dados da simulação. <br>\n",
    "O resultado é obtido realizando operações lógicas e matemáticas com os mesmos. <br>\n",
    "A simulação vetorial permite um ganho de desempenho considerável.\n",
    "\n",
    "Vamos usar as bibliotecas $numpy$ e $time$."
   ]
  },
  {
   "cell_type": "code",
   "execution_count": 1,
   "metadata": {},
   "outputs": [],
   "source": [
    "import numpy as np\n",
    "import time"
   ]
  },
  {
   "cell_type": "markdown",
   "metadata": {},
   "source": [
    "### Simulação 1 - Dado\n",
    "#### Simulação Interativa\n",
    "A função Dado simula interativamente o lançamento de dois dados e o calculo da probabilidade de observarmos os valores 3 e 6."
   ]
  },
  {
   "cell_type": "code",
   "execution_count": 2,
   "metadata": {},
   "outputs": [],
   "source": [
    "# Simulacao iterativa\n",
    "def Dado(n):\n",
    "    deuCerto = 0\n",
    "    for i in range(n):\n",
    "        d1 = np.random.randint(1, 7, 1)\n",
    "        d2 = np.random.randint(1, 7, 1)\n",
    "        if ((d1 == 3) & (d2 == 6)) | ((d1 == 6) & (d2 == 3)):\n",
    "            deuCerto = deuCerto + 1\n",
    "    return deuCerto/n"
   ]
  },
  {
   "cell_type": "markdown",
   "metadata": {},
   "source": [
    "Os comandos abaixos simulam 10000 lançamentos de dois dados.<br>\n",
    "Imprime a proporção de vezes que o par (3,6) foi observado (probabilidade simulada).<br>\n",
    "Imprime o valor previsto pela teoria (probabilidade teórica).<br>\n",
    "Imprime o tempo de simulação (em segundos)."
   ]
  },
  {
   "cell_type": "code",
   "execution_count": 3,
   "metadata": {},
   "outputs": [
    {
     "name": "stdout",
     "output_type": "stream",
     "text": [
      "Probabilidade simulada:  0.0572\n",
      "Probabilidade teórica: 0.0556\n",
      "Tempo de simulação: 0.2389\n"
     ]
    }
   ],
   "source": [
    "t1 = time.perf_counter()\n",
    "probS = Dado(10000)\n",
    "t2 = time.perf_counter()\n",
    "print('Probabilidade simulada:  {:.4f}'.format(probS))\n",
    "print('Probabilidade teórica: {:.4f}'.format(2/36))\n",
    "print('Tempo de simulação: {:.4f}'.format(t2-t1))"
   ]
  },
  {
   "cell_type": "markdown",
   "metadata": {},
   "source": [
    "#### Simulação vetorial\n",
    "A função DadoV simula o experimento do dado com um algoritmo vetorial. <br>\n",
    "Sorteia cada dado n vezes em um array. <br>\n",
    "Registra no array deuCerto os lançamentos que obtiveram 3 e 6 ou 6 e 3. <br>\n",
    "Probabilidade simulada é a proporção entre a quatidade de vezes que deu certo em n experimentos."
   ]
  },
  {
   "cell_type": "code",
   "execution_count": 4,
   "metadata": {},
   "outputs": [],
   "source": [
    "# Simulacao vetorial\n",
    "def DadoV(n):\n",
    "    # sorteia n vezes o primeiro dado\n",
    "    d1 = np.random.randint(1,7, n)\n",
    "    # sorteia n vezes o segundo dado\n",
    "    d2 = np.random.randint(1,7, n)\n",
    "    # calcula array booleano com valores verdadeiros nos lançamentos que apresentaram o vento desejado;\n",
    "    # (primeiro dado 3 e segundo 6) ou (primeiro dado 6 e segundo dado 3)\n",
    "    deuCerto = ((d1 == 3) & (d2 == 6)) | ((d1 == 6) & (d2 == 3))\n",
    "    return deuCerto.sum() / n"
   ]
  },
  {
   "cell_type": "code",
   "execution_count": 5,
   "metadata": {},
   "outputs": [
    {
     "name": "stdout",
     "output_type": "stream",
     "text": [
      "Probabilidade simulada:  0.0640\n",
      "Probabilidade teórica: 0.0556\n",
      "Tempo de simulação: 0.0007\n"
     ]
    }
   ],
   "source": [
    "import time\n",
    "t1 = time.perf_counter()\n",
    "probS = DadoV(1000)\n",
    "t2 = time.perf_counter()\n",
    "print('Probabilidade simulada:  {:.4f}'.format(probS))\n",
    "print('Probabilidade teórica: {:.4f}'.format(2/36))\n",
    "print('Tempo de simulação: {:.4f}'.format(t2-t1))"
   ]
  },
  {
   "cell_type": "markdown",
   "metadata": {},
   "source": [
    "### Simulação 2 - Moeda\n",
    "#### Simulação interativa\n",
    "Lançar uma moeda até sair a primeira cara. <br>\n",
    "Calcular a probabilidade do número de lançamentos necessários ser par."
   ]
  },
  {
   "cell_type": "code",
   "execution_count": 6,
   "metadata": {},
   "outputs": [],
   "source": [
    "# Simulacao interativa\n",
    "def Moeda(n):\n",
    "    deuCerto = 0\n",
    "    for i in range(n):\n",
    "        k = 0\n",
    "        moeda = 0\n",
    "        while (moeda != 1):\n",
    "            k = k+1\n",
    "            moeda = np.random.randint(0, 2, 1)\n",
    "        if (k % 2 == 0):\n",
    "            deuCerto = deuCerto + 1\n",
    "    return deuCerto/n"
   ]
  },
  {
   "cell_type": "markdown",
   "metadata": {},
   "source": [
    "Os comandos abaixos simulam 10000 o lançamento de uma moeda até sair a primeira cara.<br>\n",
    "Imprime a proporção de vezes que foram necessários um número par de lançamentos (probabilidade simulada).<br>\n",
    "Imprime o valor previsto pela teoria (probabilidade teórica).<br>\n",
    "Imprime o tempo de simulação (em segundos)."
   ]
  },
  {
   "cell_type": "code",
   "execution_count": 7,
   "metadata": {},
   "outputs": [
    {
     "name": "stdout",
     "output_type": "stream",
     "text": [
      "Probabilidade simulada:  0.3336\n",
      "Probabilidade teórica: 0.3333\n",
      "Tempo de simulação: 0.2338\n"
     ]
    }
   ],
   "source": [
    "import time\n",
    "t1 = time.perf_counter()\n",
    "probS = Moeda(10000)\n",
    "t2 = time.perf_counter()\n",
    "print('Probabilidade simulada:  {:.4f}'.format(probS))\n",
    "print('Probabilidade teórica: {:.4f}'.format(1/3))\n",
    "print('Tempo de simulação: {:.4f}'.format(t2-t1))"
   ]
  },
  {
   "cell_type": "markdown",
   "metadata": {},
   "source": [
    "#### Simulação vetorial\n",
    "Programar a função Moeda para simular o experimento da moeda com um algoritmo vetorial. <br><br>\n",
    "<b>Passo 1:</b> Sortear um array bi-dimensional com $n$ linhas ($n$ é a quantidade de simulações) e $m$ colunas, de modo que cada linha contenha uma sequência de ($m$) lançamentos da moeda. <br>\n",
    "Dica: <br>\n",
    "Em cada experimento precisamos lançar a moeda até sair a primeira cara. como não sabemos quantas vezes serã necessárias, vamos lançar uma quantidade de vezes onde a probabilidade de não sair nehuma cara seja muito baixa (0.999). Para isso vamos usar a função inversa da cdf (geom.ppf) e salvar o valor na variável m.<br>\n",
    "Como serão realizadas $n$ simulações, vamos realizar $n$ sorteios de cada experimento com $m$ lançamentos de moeda e colocar o resultado em um array bidimensional ($n$ linhas e $m$ colunas). Utilizar o comando np.random.randint para sortear 0s e 1s, sendo que 0 significa coroa e 1 significa cara. <br><br>\n",
    "<b>Passo 2:</b> Encontrar em cada sequência de lançamentos a primeira ocorrência de $cara$ (o primeiro valor igual a 1). <br>\n",
    "Dica: <br>\n",
    "A função np.argmax retorna o índice do primeiro valor máximo ao longo de uma dimensão. Podemos usá-la para encontrar o indice do primeiro valor 1 em cada linha (primeira cara de cada sequência). Precisa somar 1 nesse índice porque em numpy os indices iniciam em zero. <br><br>\n",
    "<b>Passo 3:</b> Contar quantas vezes a primeira cara saiu em um lançamento de número de ordem par e dividir pela quantidade de simulações. <br>\n",
    "Dica: <br>\n",
    "Para testar se x é par, o resto da divisão por 2 tem que ser zero. Usar $x\\% 2$ para calcular o resto da divisão e np.sum para contar a quantidade de pares.<br><br>"
   ]
  },
  {
   "cell_type": "code",
   "execution_count": 9,
   "metadata": {},
   "outputs": [],
   "source": [
    "import scipy.stats as st\n",
    "\n",
    "def MoedaV(n):\n",
    "    # Passo 1\n",
    "    # Calcular o valo de m\n",
    "    m = int(st.geom.ppf(0.9999, 0.5))\n",
    "    # sortear n simulacoes do lancamento de uma moeda m vezes\n",
    "    # 0 - coroa      1 - cara\n",
    "    \n",
    "    \n",
    "    # Passo 2\n",
    "    # Usar np.argmax para encontrar um vetor com as posições da primeira cara sorteada em cada linha\n",
    "    \n",
    "    \n",
    "    # Passo 3 Passo 3\n",
    "    # Contar quantas vezes a primeira cara saiu em um lançamento de número de ordem par e dividir pela quantidade de simulações.\n",
    "    return np.sum(x % 2 == 0)/n"
   ]
  },
  {
   "cell_type": "markdown",
   "metadata": {},
   "source": [
    "Os comandos abaixos simulam 10000 o lançamento de uma moeda até sair a primeira cara.<br>\n",
    "Imprime a proporção de vezes que foram necessários um número par de lançamentos (probabilidade simulada).<br>\n",
    "Imprime o valor previsto pela teoria (probabilidade teórica).<br>\n",
    "Imprime o tempo de simulação (em segundos)."
   ]
  },
  {
   "cell_type": "code",
   "execution_count": 10,
   "metadata": {},
   "outputs": [
    {
     "name": "stdout",
     "output_type": "stream",
     "text": [
      "Probabilidade simulada:  0.3266\n",
      "Probabilidade teórica: 0.3333\n",
      "Tempo de simulação: 0.0031\n"
     ]
    }
   ],
   "source": [
    "t1 = time.perf_counter()\n",
    "probS = MoedaV(10000)\n",
    "t2 = time.perf_counter()\n",
    "print('Probabilidade simulada:  {:.4f}'.format(probS))\n",
    "print('Probabilidade teórica: {:.4f}'.format(1/3))\n",
    "print('Tempo de simulação: {:.4f}'.format(t2-t1))"
   ]
  },
  {
   "cell_type": "markdown",
   "metadata": {},
   "source": [
    "\\-----------------------------------------------------<br>\n",
    "Observe os tempos de simulação interativa e vetorial."
   ]
  }
 ],
 "metadata": {
  "kernelspec": {
   "display_name": "Python 3",
   "language": "python",
   "name": "python3"
  },
  "language_info": {
   "codemirror_mode": {
    "name": "ipython",
    "version": 3
   },
   "file_extension": ".py",
   "mimetype": "text/x-python",
   "name": "python",
   "nbconvert_exporter": "python",
   "pygments_lexer": "ipython3",
   "version": "3.8.3"
  }
 },
 "nbformat": 4,
 "nbformat_minor": 4
}
