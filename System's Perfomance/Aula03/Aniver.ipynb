{
 "cells": [
  {
   "cell_type": "markdown",
   "metadata": {},
   "source": [
    "## Problema do aniversário\n",
    "Deseja-se calcular a probabilidade de em um grupo com n pessoas, duas ou mais fazerem aniversário no mesmo dia e no mesmo mês, mas não necessariamente no mesmo ano."
   ]
  },
  {
   "cell_type": "markdown",
   "metadata": {},
   "source": [
    "Vamos usar as bibliotecas $numpy$ e $time$."
   ]
  },
  {
   "cell_type": "code",
   "execution_count": null,
   "metadata": {},
   "outputs": [],
   "source": [
    "import numpy as np\n",
    "import time"
   ]
  },
  {
   "cell_type": "markdown",
   "metadata": {},
   "source": [
    "### Cálculo teórico\n",
    "A probabilidade pode ser calculada pela seguinte expressão:\n",
    "\n",
    "$$ 1 -  \\frac{365\\cdot 364\\cdot \\cdots (365-n+1)}{365^{n}} $$\n",
    "\n",
    "A função aniverT calcula essa probabilidade."
   ]
  },
  {
   "cell_type": "code",
   "execution_count": null,
   "metadata": {},
   "outputs": [],
   "source": [
    "def aniverT(tGrupo):\n",
    "    x = np.arange(365, 365 - tGrupo, -1, dtype = float)\n",
    "    # print(x)\n",
    "    return(1 - np.prod(x)/(365**tGrupo))"
   ]
  },
  {
   "cell_type": "markdown",
   "metadata": {},
   "source": [
    "### Simulação iterativa\n",
    "A probabilidade pode ser calculada pelo seguinte algoritmo iterativo:<br>\n",
    "n = quantidade de pessoas no grupo<br>\n",
    "nSim = quantidade de simulações<br>\n",
    "deuCerto = 0<br>\n",
    "Realizar os seguintes passos nSim vezes<br>\n",
    "&emsp;Sortear n datas de aniversários (sortear n números inteiros aleatórios uniformemente distribuídos entre 1 e 365)<br>\n",
    "&emsp;Verificar se houve duas datas iguais<br>\n",
    "&emsp;Caso posititivo, somar 1 a deuCerto<br>\n",
    "Probabilidade simulada = deuCerto / nSim"
   ]
  },
  {
   "cell_type": "code",
   "execution_count": null,
   "metadata": {},
   "outputs": [],
   "source": [
    "def aniverS(tGrupo, nSim):\n",
    "    deuCerto = 0\n",
    "    for i in range(nSim):\n",
    "        # sorteia grupo com tGrupo pessoas\n",
    "        grupo = np.random.randint(1, 366, tGrupo)\n",
    "        # se duas ou mais pessoa fazem aniver na mesma data\n",
    "        if grupo.size > np.unique(grupo).size:\n",
    "            deuCerto = deuCerto + 1\n",
    "\n",
    "    return(deuCerto/nSim)"
   ]
  },
  {
   "cell_type": "markdown",
   "metadata": {},
   "source": [
    "Os comandos abaixos simulam 10000 grupos de 40 pessoas.<br>\n",
    "Imprime a proporção de vezes que duas ou mais pessoas do grupo fizeram aniversário no mesmo dia.<br>\n",
    "Imprime o valor previsto pela teoria (probabilidade teórica).<br>\n",
    "Imprime o tempo de simulação (em segundos)."
   ]
  },
  {
   "cell_type": "code",
   "execution_count": null,
   "metadata": {},
   "outputs": [],
   "source": [
    "probT = aniverT(40) \n",
    "t1 = time.perf_counter()\n",
    "probS = aniverS(40, 10000)\n",
    "t2 = time.perf_counter()\n",
    "print('Probabilidade simulada:  {:.4f}'.format(probS))\n",
    "print('Probabilidade teórica: {:.4f}'.format(probT))\n",
    "print('Tempo de simulação iterativa: {:.4f}'.format(t2-t1))"
   ]
  },
  {
   "cell_type": "markdown",
   "metadata": {},
   "source": [
    "### Simulação vetorial\n",
    "A probabilidade pode ser calculada pelo seguinte algoritmo vetorial:<br><br>\n",
    "Sortear uma matriz $grupos$ com $nSim$ linhas e $tGrupo$ colunas.<br>\n",
    "* Observação: Cada linha corresponde a uma simulação e contém as datas de aniversário de um grupo. <br>\n",
    "* Dica: sortear números inteiros uniformemente distribuídos entre 1 e 365.<br><br>\n",
    "\n",
    "Calcular a matriz $ordenada$ a partir da matriz $grupos$ onde as datas de aniversário de cada linha (de cada grupo estão ordenadas).<br><br>\n",
    "Calcular a matriz $diferenca$ a partir da matriz $ordenada$ onde cada linha contenha as diferenças entre duas datas adjacentes. <br>\n",
    "* Observação: Se alguma diferença de datas na linha (ou seja, no grupo) for zero significa que houve aniversário no mesmo dia.<br>\n",
    "* Dica: usar função np.diff.<br><br>\n",
    "\n",
    "Calcular o array mesmaData que contem $True$ ou $False$ para cada linha da matriz. Será $True$, se algum valor na linha for 0, $False$ caso contrário.<br>\n",
    "* Dica: usar o comando np.any(diferenca == 0, 1)<br>\n",
    "* Observação: O operador lógico \\\"==\\\" aplica a operação lógica igual a cada elemento retornando True ou False. O comando np.any retorna True se houver algum True na linha correspondete (grupo com pelo menos uas datas de aniversário iguais)<br><br>\n",
    "\n",
    "Retornar a quantidade de elementos no vetor com valor True dividido por $nSim$.<br>\n",
    "* Dica: usar a função np.count_nonzero para contar a quantidade de elementos com valor True."
   ]
  },
  {
   "cell_type": "code",
   "execution_count": null,
   "metadata": {},
   "outputs": [],
   "source": [
    "def aniverV(tGrupo, nSim):\n",
    "    # sortear nSim grupos de tamanho tGrupo\n",
    "    grupos = \n",
    "    # ordena\n",
    "    ordenada = np.sort(grupos, 1)\n",
    "    # calcula a diferenca entre as datas adjacentes\n",
    "    diferenca = \n",
    "    # se diferenca for zero tem aniver na mesma data\n",
    "    # mesmaData eh um array unidimensional com valor verdadeiro  \n",
    "    # para cada grupo que tiver dois ou mais aniversarios no mesmo dia\n",
    "    mesmaData = \n",
    "    # conta quantos grupos tiveram aniversario no mesmo dia, divide por nsim e retorna\n",
    "    return"
   ]
  },
  {
   "cell_type": "markdown",
   "metadata": {},
   "source": [
    "Os comandos abaixos simulam 10000 grupos de 40 pessoas.<br>\n",
    "Imprime a proporção de vezes que duas ou mais pessoas do grupo fizeram aniversário no mesmo dia.<br>\n",
    "Imprime o valor previsto pela teoria (probabilidade teórica).<br>\n",
    "Imprime o tempo de simulação (em segundos)."
   ]
  },
  {
   "cell_type": "code",
   "execution_count": null,
   "metadata": {},
   "outputs": [],
   "source": [
    "probT = aniverT(40) \n",
    "t1 = time.perf_counter()\n",
    "probS = aniverV(40, 10000)\n",
    "t2 = time.perf_counter()\n",
    "print('Probabilidade simulada:  {:.4f}'.format(probS))\n",
    "print('Probabilidade teórica: {:.4f}'.format(probT))\n",
    "print('Tempo de simulação vetorial: {:.4f}'.format(t2-t1))"
   ]
  }
 ],
 "metadata": {
  "kernelspec": {
   "display_name": "Python 3",
   "language": "python",
   "name": "python3"
  },
  "language_info": {
   "codemirror_mode": {
    "name": "ipython",
    "version": 3
   },
   "file_extension": ".py",
   "mimetype": "text/x-python",
   "name": "python",
   "nbconvert_exporter": "python",
   "pygments_lexer": "ipython3",
   "version": "3.8.3"
  }
 },
 "nbformat": 4,
 "nbformat_minor": 4
}
