{
 "cells": [
  {
   "cell_type": "markdown",
   "metadata": {},
   "source": [
    "# Confiabilidade"
   ]
  },
  {
   "cell_type": "markdown",
   "metadata": {},
   "source": [
    "Importar as bibliotecas que serão usadas."
   ]
  },
  {
   "cell_type": "code",
   "execution_count": 3,
   "metadata": {},
   "outputs": [],
   "source": [
    "import numpy as np"
   ]
  },
  {
   "cell_type": "markdown",
   "metadata": {},
   "source": [
    "## Exemplo 1\n",
    "Considere um sistema composto de 5 componentes, e suponha que ele funciona se e somente se os componentes 1 e 2 estejam ambos funcionando, e pelo menos dois dos componentes 3, 4, ou 5 estejam funcionando.<br>\n",
    "Temos 2 subsistemas: $s_{1}$ com componentes $c_{1}$ e $c_{2}$, e $s_{2}$ com componentes $c_{3}$, $c_{4}$, $c_{5}$.\n",
    "As variáveis $x_{1}$, $x_{2}$, $x_{3}$, $x_{4}$, $x_{5}$ representam os componentes $c_{1}$, $c_{2}$, $c_{3}$, $c_{4}$,$c_{5}$.<br>\n",
    "Vetor estado $\\boldsymbol{x} = \\begin{bmatrix} x_{1}&  x_{2}&  x_{3}& x_{4}\\end{bmatrix}$.<br>\n",
    "Representar cada subsistema por uma função estrutura: $s_{1}$ ($\\varphi_{1}$), $s_{2}$ ($\\varphi_{2}$)."
   ]
  },
  {
   "cell_type": "code",
   "execution_count": 17,
   "metadata": {},
   "outputs": [],
   "source": [
    "def fi_1(x):\n",
    "    return np.prod(x)\n",
    "\n",
    "def fi_2(x):\n",
    "    if np.sum(x)>=2:\n",
    "        return 1\n",
    "    return 0\n",
    "\n",
    "def FI(x):\n",
    "    return fi_1(x[0:2])*fi_2(x[2:5])"
   ]
  },
  {
   "cell_type": "code",
   "execution_count": 20,
   "metadata": {},
   "outputs": [
    {
     "name": "stdout",
     "output_type": "stream",
     "text": [
      "0.0\n",
      "0.0\n",
      "1.0\n"
     ]
    }
   ],
   "source": [
    "x = np.array([0, 1, 0, 1, 1], dtype=np.float64)\n",
    "print(FI(x))\n",
    "\n",
    "x = np.array([1, 1, 1, 0, 0], dtype=np.float64)\n",
    "print(FI(x))\n",
    "\n",
    "x = np.array([1, 1, 0, 1, 1], dtype=np.float64)\n",
    "print(FI(x))"
   ]
  },
  {
   "cell_type": "markdown",
   "metadata": {},
   "source": [
    "## Exemplo 5\n",
    "Função de confiabilidade de um sistema 2-de-3."
   ]
  },
  {
   "cell_type": "code",
   "execution_count": 29,
   "metadata": {},
   "outputs": [],
   "source": [
    "def r(p):\n",
    "    return np.prod(p[0:2]) + (p[0]*p[2]) + np.prod(p[1:3]) - 2*np.prod(p[0:3])"
   ]
  },
  {
   "cell_type": "code",
   "execution_count": 30,
   "metadata": {},
   "outputs": [
    {
     "name": "stdout",
     "output_type": "stream",
     "text": [
      "0.7500000000000001\n"
     ]
    }
   ],
   "source": [
    "p = np.array([0.5, 0.8, 0.7], dtype=np.float64)\n",
    "print(r(p))"
   ]
  },
  {
   "cell_type": "code",
   "execution_count": null,
   "metadata": {},
   "outputs": [],
   "source": []
  }
 ],
 "metadata": {
  "kernelspec": {
   "display_name": "Python 3",
   "language": "python",
   "name": "python3"
  },
  "language_info": {
   "codemirror_mode": {
    "name": "ipython",
    "version": 3
   },
   "file_extension": ".py",
   "mimetype": "text/x-python",
   "name": "python",
   "nbconvert_exporter": "python",
   "pygments_lexer": "ipython3",
   "version": "3.8.3"
  }
 },
 "nbformat": 4,
 "nbformat_minor": 4
}
