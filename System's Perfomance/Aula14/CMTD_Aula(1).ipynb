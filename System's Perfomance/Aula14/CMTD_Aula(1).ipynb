{
 "cells": [
  {
   "cell_type": "markdown",
   "metadata": {},
   "source": [
    "# Cadeias de Markov em tempo discreto"
   ]
  },
  {
   "cell_type": "markdown",
   "metadata": {},
   "source": [
    "Importar as bibliotecas que serão usadas."
   ]
  },
  {
   "cell_type": "code",
   "execution_count": 2,
   "metadata": {},
   "outputs": [],
   "source": [
    "import numpy as np"
   ]
  },
  {
   "cell_type": "markdown",
   "metadata": {},
   "source": [
    "## Exemplo 5\n",
    "Suponha que chover ou não chover amanhã dependa apenas do fato de chover ou não chover hoje, e que as seguintes probabilidades são conhecidas:<br>\n",
    "$p_{1,1}$ = probabilidade de chover hoje e chover amanhã = 0,7<br>\n",
    "$p_{1,2}$ = probabilidade de chover hoje e não chover amanhã = 0,3<br>\n",
    "$p_{2,1}$ = probabilidade de não chover hoje e chover amanhã = 0,4<br>\n",
    "$p_{2,2}$ = probabilidade de não chover hoje e na chover amanhã = 0,6<br><br>\n",
    "Calcular a probabilidade de chover hoje e chover daqui a 4 dias:<br>\n",
    "A probabilidade é o elemento $P^{4}[0,0]$ (primeira linha e primeira linha da matriz P elevada a quarta potência).\n",
    "$P=\\begin{bmatrix} 0.7 & 0.3 \\\\ 0.4 & 0.6 \\end{bmatrix}$<br>"
   ]
  },
  {
   "cell_type": "code",
   "execution_count": 3,
   "metadata": {},
   "outputs": [
    {
     "name": "stdout",
     "output_type": "stream",
     "text": [
      "[[0.5749 0.4251]\n",
      " [0.5668 0.4332]]\n",
      "Probabilidade de chover hoje e chover daqui a 4 dias:  0.5749\n"
     ]
    }
   ],
   "source": [
    "P = np.array([[0.7, 0.3],[0.4, 0.6]], dtype=np.float64)\n",
    "P4 = np.linalg.matrix_power(P,4)\n",
    "print(P4)\n",
    "print('Probabilidade de chover hoje e chover daqui a 4 dias:  {:.4f}'.format(P4[0,0]))"
   ]
  },
  {
   "cell_type": "markdown",
   "metadata": {},
   "source": [
    "## Exemplo 6\n",
    "Calcular as probabilidades no regime permanente da CMTD representada pela seguinte matriz de transições:\n",
    "\n",
    "$P=\\begin{bmatrix} 0.6 & 0.4 & 0.0\\\\ 0.2 & 0.6 & 0.2\\\\ 0.0 & 0.4 & 0.6\\end{bmatrix}$\n",
    "\n",
    "&nbsp; Como P é uma CMTD finita irredutível e não periódica temos:<br>\n",
    "&nbsp;&nbsp; $\\pi_{1} = 0.6\\pi_{1} + 0.2\\pi_{2} + 0.0\\pi_{3}$<br>\n",
    "&nbsp;&nbsp; $\\pi_{2} = 0.4\\pi_{1} + 0.6\\pi_{2} + 0.4\\pi_{3}$<br>\n",
    "&nbsp;&nbsp; $\\pi_{3} = 0.0\\pi_{1} + 0.2\\pi_{2} + 0.6\\pi_{3}$<br>\n",
    "&nbsp;&nbsp; $\\pi_{1} + \\pi_{2} + \\pi_{3} = 1$<br>\n",
    "\n",
    "&nbsp; Transformando as equações para forma canônica temos:<br><br>\n",
    "&nbsp;&nbsp; $-0.4\\pi_{1} + 0.2\\pi_{2} + 0.0\\pi_{3} = 0$<br>\n",
    "&nbsp;&nbsp; $0.4\\pi_{1} - 0.4\\pi_{2} + 0.4\\pi_{3} = 0$<br>\n",
    "&nbsp;&nbsp; $0.0\\pi_{1} + 0.2\\pi_{2} - 0.4= 0$<br>\n",
    "&nbsp;&nbsp; $\\pi_{1} + \\pi_{2} + \\pi_{3} = 1$<br>\n",
    "\n",
    "Escrevendo o sistema na foma matricial temos:<br><br>\n",
    "&nbsp;&nbsp; \n",
    "$\\mathbf{A} = \\begin{bmatrix}-0.4 & 0.2 & 0.0\\\\0.4 & -0.4 & 0.4\\\\0.0 & 0.2 & -0.4\\\\ 1.0 & 1.0 & 1.0 \\end{bmatrix}$\n",
    "&nbsp;&nbsp;&nbsp;&nbsp;&nbsp;&nbsp; \n",
    "$\\mathbf{B} =\\begin{bmatrix}0\\\\0\\\\0\\\\1\\end{bmatrix}$\n",
    "&nbsp;&nbsp;&nbsp;&nbsp;&nbsp;&nbsp; \n",
    "$\\mathbf{\\pi } =\\begin{bmatrix}\\pi_{1}\\\\\\pi_{2}\\\\\\pi_{3}\\end{bmatrix}$<br><br>\n",
    "&nbsp;&nbsp;\n",
    "$\\mathbf{\\pi } = \\mathbf{A}^{+}\\cdot\\mathbf{B}$\n",
    "&nbsp;&nbsp;&nbsp;&nbsp;&nbsp;&nbsp;\n",
    "$\\mathbf{\\pi } =\\begin{bmatrix}0.25\\\\0.5\\\\0.25\\end{bmatrix}$<br>\n",
    "* A pseudo inversa de uma matriz $\\mathbf{A}$, denotada por $\\mathbf{A}^{+}$, é a mais importante generalização da inversa de uma matriz. \n",
    "* $\\mathbf{A}^{+}$ é usada para calcular uma solução de \"melhor ajuste\" (pelo método dos mínimos quadrados) para um sistema de equações lineares."
   ]
  },
  {
   "cell_type": "code",
   "execution_count": 4,
   "metadata": {},
   "outputs": [
    {
     "name": "stdout",
     "output_type": "stream",
     "text": [
      "[0.25 0.5  0.25]\n"
     ]
    }
   ],
   "source": [
    "A = np.array([[-0.4, 0.2, 0], [0.4, -0.4, 0.4], [0, 0.2, -0.4], [1, 1, 1]], dtype=np.float64)\n",
    "B= np.array([0, 0, 0, 1] , dtype=np.float64)\n",
    "\n",
    "A_pinv = np.linalg.pinv(A)\n",
    "PI = np.dot(A_pinv,B)\n",
    "print(PI)"
   ]
  },
  {
   "cell_type": "code",
   "execution_count": null,
   "metadata": {},
   "outputs": [],
   "source": []
  }
 ],
 "metadata": {
  "kernelspec": {
   "display_name": "Python 3",
   "language": "python",
   "name": "python3"
  },
  "language_info": {
   "codemirror_mode": {
    "name": "ipython",
    "version": 3
   },
   "file_extension": ".py",
   "mimetype": "text/x-python",
   "name": "python",
   "nbconvert_exporter": "python",
   "pygments_lexer": "ipython3",
   "version": "3.8.3"
  }
 },
 "nbformat": 4,
 "nbformat_minor": 4
}
