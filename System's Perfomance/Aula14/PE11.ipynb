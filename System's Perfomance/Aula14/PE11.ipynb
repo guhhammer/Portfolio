{
 "cells": [
  {
   "cell_type": "markdown",
   "metadata": {},
   "source": [
    "## Problemas em Equipe 11"
   ]
  },
  {
   "cell_type": "markdown",
   "metadata": {},
   "source": [
    "Importar as bibliotecas que serão usadas."
   ]
  },
  {
   "cell_type": "code",
   "execution_count": 2,
   "metadata": {},
   "outputs": [],
   "source": [
    "import numpy as np"
   ]
  },
  {
   "cell_type": "markdown",
   "metadata": {},
   "source": [
    "### Exercício 1\n",
    "Paulo está de bom humor (BH), mais ou menos (MM) ou de mau humor (MH). Se ele está BH hoje, então estará BH, MM e MH amanhã, com as seguintes probabilidades: 0,5, 0,4, 0,1. Se ele está MM hoje, então estará BH, MM e MH amanhã com as seguintes probabilidades: 0,3, 0,4, 0,3. se ele está MH hoje, então ele estará BH, MM, e MH com as seguintes probabilidades: 0,2, 03, 0,5. O humor do Paulo pode ser modelado por uma CMTD com a seguinte matriz de transição: \n",
    "\n",
    "$\\mathbf{P} = \\begin{bmatrix}0.5 & 0.4 & 0.1\\\\0.3 & 0.4 & 0.3\\\\0.2 & 0.3 & 0.5\\end{bmatrix}$\n",
    "\n",
    "a) Calcule a probabilidade de Paulo estar de mau humor hoje e ficar de humor mais ou menos daqui a 3 dias<br>\n",
    "Dica: A probabilidade desejada estará será uma transição de mau humor (estado 3) para mais ou menos (estado 2) em 3 dias. O valor da probabilidade pode ser encontrado terceira linha da segunda coluna da matriz P elevada à terceira potência (usar np.linalg.matix_power)."
   ]
  },
  {
   "cell_type": "code",
   "execution_count": null,
   "metadata": {},
   "outputs": [],
   "source": [
    "# colocar o seu código aqui\n",
    "P = np.array([[0.5, 0.4, 0.1], [0.3, 0.4, 0.3], [0.2, 0.3, 0.5]], dtype=np.float64)"
   ]
  },
  {
   "cell_type": "markdown",
   "metadata": {},
   "source": [
    "b) Utilize a matriz A e o vetor B para calcular o vetor PI do regime permanente do humor do Paulo."
   ]
  },
  {
   "cell_type": "code",
   "execution_count": null,
   "metadata": {},
   "outputs": [],
   "source": [
    "# A\n",
    "A = np.array([[-0.5, 0.3, 0.2], [0.4, -0.6, 0.3], [0.1, 0.3, -0.5], [1, 1, 1]], dtype=np.float64)\n",
    "# B\n",
    "B= np.array([0, 0, 0, 1] , dtype=np.float64)\n",
    "\n",
    "# PI\n"
   ]
  },
  {
   "cell_type": "markdown",
   "metadata": {},
   "source": [
    "# Exercício 2\n",
    "Implementar uma função cmtdP no MatLab para calcular o estado permanente de uma cadeia de Markov em tempo discreto.<br>\n",
    "A função recebe como argumento a matriz de probabilidades de um passo (P)<br><br>\n",
    "Algoritmo:\n",
    "* Testar se a matriz P está corretamente construída<br>\n",
    "A matriz P tem que ser quadrada e as probabilidades de cada linha tem que somar 1\n",
    "* Calcula matriz A <br>\n",
    "n = dimensão de A<br>\n",
    "A = Transposta(P) - Identidade (usar np.transpose e np.identity) <br>\n",
    "A = A concatenada com vetor de 1s de tamanho n (usar np.vstack para concatenar)\n",
    "* Calcula vetor B <br>\n",
    "B = vetor de zeros de tamanho n concatenado com [1] (usar np.hstack para concatenar)\n",
    "* Calcular o vetor PI <br>\n",
    "Usar a função np.linalg.pinv para calcular PI<br><br>\n",
    "\n",
    "Utilizar matriz P do exercício anterior e a função cmtdP para calcular o vetor PI."
   ]
  },
  {
   "cell_type": "code",
   "execution_count": 4,
   "metadata": {},
   "outputs": [
    {
     "name": "stdout",
     "output_type": "stream",
     "text": [
      "[0. 0. 0.]\n"
     ]
    }
   ],
   "source": [
    "from cmtd import cmtdP\n",
    "\n",
    "P = np.array([[0.5, 0.4, 0.1], [0.3, 0.4, 0.3], [0.2, 0.3, 0.5]], dtype=np.float64)\n",
    "PI = cmtdP(P)\n",
    "print(PI)"
   ]
  },
  {
   "cell_type": "markdown",
   "metadata": {},
   "source": [
    "### Exercício 3\n",
    "Pedro e Natália formam o casal perfeito, com apenas um probleminha: quem lava a louça hoje? Na maior parte das vezes ambos são voluntários, mas de vez em quando a louça fica para o dia seguinte. A Natália observou que os fatos ocorrem, mais precisamente, da seguinte maneira: (i) Quando não há louça acumulada, Natália e Pedro se apresentam na mesma proporção, mas em uma a cada cinco vezes, a louça fica para o dia seguinte. (ii) Quando a louça está um dia acumulada, Natália se apresenta três vezes mais do que Pedro, mas em uma a cada cinco vezes, a louça fica para o dia seguinte. (iii) Quando a louça está dois dias acumulada, apenas Natália se apresenta, mas em uma a cada cinco vezes, a louça fica para o dia seguinte. (iv) Quando a louça está três dias acumuladas, a Natália sempre se apresenta.<br><br>\n",
    "Calcular a matriz P e usar a função cmtdP para calcular o vetor de probabilidades do regime permanente (PI)."
   ]
  },
  {
   "cell_type": "code",
   "execution_count": null,
   "metadata": {},
   "outputs": [],
   "source": [
    "# P = np.array(...)\n",
    "# PI = cmtdP(P)\n",
    "# print(PI)"
   ]
  }
 ],
 "metadata": {
  "kernelspec": {
   "display_name": "Python 3",
   "language": "python",
   "name": "python3"
  },
  "language_info": {
   "codemirror_mode": {
    "name": "ipython",
    "version": 3
   },
   "file_extension": ".py",
   "mimetype": "text/x-python",
   "name": "python",
   "nbconvert_exporter": "python",
   "pygments_lexer": "ipython3",
   "version": "3.8.3"
  }
 },
 "nbformat": 4,
 "nbformat_minor": 4
}
