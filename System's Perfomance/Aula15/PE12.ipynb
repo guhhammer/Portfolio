{
 "cells": [
  {
   "cell_type": "markdown",
   "metadata": {},
   "source": [
    "## Problemas em Equipe 12"
   ]
  },
  {
   "cell_type": "markdown",
   "metadata": {},
   "source": [
    "Importar as bibliotecas que serão usadas."
   ]
  },
  {
   "cell_type": "code",
   "execution_count": null,
   "metadata": {},
   "outputs": [],
   "source": [
    "import numpy as np"
   ]
  },
  {
   "cell_type": "markdown",
   "metadata": {},
   "source": [
    "### Exercício 1\n",
    "Um ateliê comporta duas máquinas idênticas, cada uma com taxa de falha de 0,25 falhas por dia. Quando uma máquina falha ela precisa passar por dois reparadores (r1 e r2), necessariamente nessa ordem, ou seja, primeiro pelo reparador r1 e depois pelo reparador r2. A taxa de reparação do reparador r1 é 0,5 reparações por dia e a taxa de reparação do reparador r2 é 0,75 reparações por dia. Os estados do sistema são representados por uma tripla de variáveis (n, r1, r2), onde n é a quantidade de máquinas em reparação, ou seja, n = 0, 1 ou 2; r1é igual a zero se o reparador 1 não está ocupado e igual a 1 se o reparador 1 está ocupado; r2é igual a zero se o reparador 2 não está ocupado e igual a 1 se o reparador 2 está ocupado. A cadeia de Markov que representa o processo de funcionamento do atelier terá então 6 estados:<br>\n",
    "Estado 1: (0, 0, 0) = nenhuma máquina com defeito e nenhum reparador trabalhando<br> \n",
    "Estado 2: (1, 1, 0) = uma máquina com defeito e reparador 1 trabalhando<br>\n",
    "Estado 3: (1, 0, 1) = uma máquina com defeito e reparador 2 trabalhando<br>\n",
    "Estado 4: (2, 1, 0) = duas máquinas com defeito e reparador 1 trabalhando<br> \n",
    "Estado 5: (2, 1, 1) = duas máquinas com defeito e reparadores 1 e 2 trabalhando<br>\n",
    "Estado 6: (2, 0, 1) = duas máquinas com defeito e reparador 2 trabalhando (a segunda máquina que falhou está aguardando o reparador 2 que ainda trabalha na primeira máquina que falhou)<br><br>\n",
    "Calcular as probabilidades do regime permanente."
   ]
  },
  {
   "cell_type": "code",
   "execution_count": null,
   "metadata": {},
   "outputs": [],
   "source": [
    "# Calcular a matriz Q\n",
    "# Colocar seu código aqui\n"
   ]
  },
  {
   "cell_type": "code",
   "execution_count": null,
   "metadata": {},
   "outputs": [],
   "source": [
    "# Calcular o vetor PI\n",
    "from cmtc import cmtcP\n"
   ]
  }
 ],
 "metadata": {
  "kernelspec": {
   "display_name": "Python 3",
   "language": "python",
   "name": "python3"
  },
  "language_info": {
   "codemirror_mode": {
    "name": "ipython",
    "version": 3
   },
   "file_extension": ".py",
   "mimetype": "text/x-python",
   "name": "python",
   "nbconvert_exporter": "python",
   "pygments_lexer": "ipython3",
   "version": "3.8.3"
  }
 },
 "nbformat": 4,
 "nbformat_minor": 4
}
