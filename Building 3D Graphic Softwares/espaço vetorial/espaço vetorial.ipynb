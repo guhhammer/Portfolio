{
 "cells": [
  {
   "cell_type": "markdown",
   "metadata": {},
   "source": [
    "Nomes:<br>\n",
    "Gustavo Hammerschmidt.<br>\n",
    "David Leal.<br>\n",
    "Cláudio Salles.<br>"
   ]
  },
  {
   "cell_type": "markdown",
   "metadata": {},
   "source": [
    "Objetivos Aula:<br>\n",
    "1. Histórico dos Espaços Vetoriais;\n",
    "2. Definição de Espaço Vetorial;\n",
    "  - Conceito\n",
    "  - Operações\n",
    "  - Propriedades das operações\n",
    "3. Exemplos de Espaços Vetoriais\n",
    "4. Aplicações de Espaços Vetoriais."
   ]
  },
  {
   "cell_type": "markdown",
   "metadata": {},
   "source": [
    "### 1) Histórico dos Espaços Vetoriais;"
   ]
  },
  {
   "cell_type": "markdown",
   "metadata": {},
   "source": [
    "- ***Os Espaços Vetoriais começaram pelos números complexos, que foram acidentalmente descobertos. Após a descoberta, o matemático Hamilton tentou agrupá-los em 3 dimensões, mas não bastava, ele precisava de 4 e com isso em uma caminhada em uma ponte perto de onde ele morava, teve uma ideia e inventou os quatérnios.***<br><br>\n",
    "\n",
    "     ***A história foi tão significativa que hoje a ponte onde Hamilton inventou os quatérnios se chama Quatérnion Bridge.***<br><br>\n",
    "\n",
    "     ***Os pragmáticos Gibbs e Heaviside pegaram os produtos escalares e vetoriais e criaram um sistema tridimensional que usamos até os dias de hoje***<br><br>\n",
    "\n",
    "     ***Posteriormente, Grassmann conseguiu desenvolver um produto geométrico bem simples. Com o aprimoramento desse produto por Clifford, ele agora permitiria a generalização dos complexos, quatérnios dos produtos do cálculo vetorial e de qualquer coisa para qualquer dimensão.***\n",
    "\n",
    "     ***Podemos concluir que, se os complexos e os quatérnios antecedem o sistema vetorial de Gibbs Heaviside, o sistema de Grassmann e Clifford são os sucessores, e quanto mais tempo se passa mais implementações virão, e devemos empregá-las mais ainda.***<br><br>\n",
    "\n",
    "     ***Caylei foi muito mais além do que todos, se inspirando nas ideias antigas de Vetores, inventou os Octônios cujo produto não se limitava aos complexos e quatérnios. Mesmo sendo produto matricial, não consegue reproduzir de forma direta o produto dos Octônios.***<br><br>\n",
    "\n",
    "     ***Dentre vários posteriores Matemáticos foi criado os vetores que até hoje é estudado, criando-se história até os dias de hoje*** <br><br>"
   ]
  },
  {
   "cell_type": "markdown",
   "metadata": {},
   "source": [
    "### 2) Definição do Espaço Vetorial;"
   ]
  },
  {
   "cell_type": "markdown",
   "metadata": {},
   "source": [
    "##### Conceito:\n",
    "  - A noção comum de vetores como objetos com tamanho, direção e sentido, juntamente com as operações de adição e multiplicação por números reais forma a ideia básica de um espaço vetorial.\n",
    "  - Um corpo $K$ , ou seja, um conjunto dotado de duas operações internas com propriedades distributivas, chamados de escalares. Os números reais, em relação à adição e multiplicação, são um exemplo de corpo."
   ]
  },
  {
   "cell_type": "markdown",
   "metadata": {},
   "source": [
    "##### Operações:\n",
    "- Seja um conjunto V, não-vazio, sobre o qual estão definidas as operações adição e multiplicação por escalar, isto é:<br><br>\n",
    "- Operação de adição:<br>\n",
    "$∀u,  v ∈ V, u + v ∈ V   $<br>\n",
    "\n",
    "- Operação de multiplicação:<br>\n",
    "$∀ \\alpha ∈ \\Re , ∀u ∈ V,  \\alpha u ∈ V$"
   ]
  },
  {
   "cell_type": "markdown",
   "metadata": {},
   "source": [
    "#### Propriedades das operações:<br>\n",
    "- Em relação à adição:<br>\n",
    "a1:$ u + (v + w) = (u + v) + w$  <br>\n",
    "a2:$ u + v = v + u $<br>\n",
    "a3:$ u + 0 = u $<br>\n",
    "a4:$ u + (-u) = 0 $<br><br>\n",
    "- Em relação à multiplicação: <br>\n",
    "m1: $\\alpha (\\beta*u) = (\\alpha *\\beta)*u$ <br>\n",
    "m2: $(\\alpha + \\beta)*u = \\alpha*u + \\beta*u $<br>\n",
    "m3: $\\alpha*(u+v) = \\alpha*u + \\alpha*v $<br>\n",
    "m4: $1 * (u) = u$ <br>\n",
    "\n"
   ]
  },
  {
   "cell_type": "markdown",
   "metadata": {},
   "source": [
    "### 3) Exemplos de Espaços Vetoriais;"
   ]
  },
  {
   "cell_type": "markdown",
   "metadata": {},
   "source": [
    "###### **Espaço vetorial, possui suas subdivisões que classificam seus tipos e suas aplicações:**\n",
    "\n",
    "- O espaço vetorial Euclidiano é aquele que qualquer espaço real possui um número finito de dimensões  e dispõem de um produto interno (função de dois vetores que satisfazem determinadas axiomas).\n",
    "- Espaço vetorial de Hilbert pode ser definida quando um determinado espaço possua uma métrica que foi gerada pelo produto interno, o tronado um espaço completo.\n",
    "- Espaço normado é aquele cuja o espaço vetorial possui uma norma definida, ou seja, que possui uma função que a cada vetor atribua um número real que não seja negativo.\n",
    "- Espaço de Banach é um espaço vetorial normado, na qual os numero reais e os números complexos formam a mesma, onde a norma é o seu próprio valor absoluto.\n",
    "- Espaço vetorial topológico é a combinação de conceitos como os de convergência, continuidade e conexidade, de forma que as operações sejam definidas no espaço vetorial de forma continua.  \n",
    "\n",
    "##### Observação: \n",
    "\n",
    "  - \n",
    "Os elementos de um espaço vetorial V são chamados de vetores, sejam eles polinômios, matrizes os numerais. Esses elementos possuem natureza distintas porem se comportam da mesma maneira nas operações de adição e de multiplicação escalar, da forma que pareça que estivéssemos trabalhando com os próprios vetores $\\Re ^2$ e $\\Re ^3$."
   ]
  },
  {
   "cell_type": "markdown",
   "metadata": {},
   "source": [
    "### 4) Aplicações de Espaços Vetoriais."
   ]
  },
  {
   "cell_type": "markdown",
   "metadata": {},
   "source": [
    "- o espaço espectral de cores é um espaço vetorial de dimensão 3 (correspondente às três cores primárias):\n",
    "  - Diferentes sistemas de coordenadas (conhecidos como sistemas de cores)  são considerados neste espaço, de acordo com a aplicação ou o dispositivo de saída gráfica (monitor, impressora, etc.).\n",
    "  - É muitas vezes necessário passar de um sistema de coordenadas para outro, e isso é feito através de uma matriz de mudança de coordenadas. Por exemplo, a matriz de mudança de coordenadas do sistema RGB para o sistema XYZ é uma matriz 3x3 obtida quando se considera a cor branca como um ponto fixo da transformação.\n",
    "<br><br>\n",
    "- Um exemplo de como podemos usar Vetores, seria fazer cálculos de um avião, expecificamente de uma turbina botando vetores de pressão, de entrada de ar e de saída, que é muito importante para uma organização e harmonia do conjunto em um todo.\n",
    "<br><br>\n",
    "- Também podemos usar para calcular a pressão exercida no avião a certa altitude, para que nao ocorra acidentes e despressurização e nada ocorra com os passageiros"
   ]
  }
 ],
 "metadata": {
  "kernelspec": {
   "display_name": "Python 3",
   "language": "python",
   "name": "python3"
  },
  "language_info": {
   "codemirror_mode": {
    "name": "ipython",
    "version": 3
   },
   "file_extension": ".py",
   "mimetype": "text/x-python",
   "name": "python",
   "nbconvert_exporter": "python",
   "pygments_lexer": "ipython3",
   "version": "3.6.4"
  }
 },
 "nbformat": 4,
 "nbformat_minor": 2
}
