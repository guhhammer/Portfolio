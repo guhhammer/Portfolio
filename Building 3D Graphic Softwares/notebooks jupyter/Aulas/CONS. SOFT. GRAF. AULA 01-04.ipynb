{
 "cells": [
  {
   "cell_type": "markdown",
   "metadata": {},
   "source": [
    "\n",
    "# Aula 1 (01/08/2018)"
   ]
  },
  {
   "cell_type": "markdown",
   "metadata": {},
   "source": [
    "###### Lista de comandos:"
   ]
  },
  {
   "cell_type": "markdown",
   "metadata": {},
   "source": [
    "1. ESC + M -> TURNS MARKDOWN MODE ON \n",
    "1. Esc + b (below): creates a new cell.\n",
    "1. italico Italic mode: * at the beginig and at the end of the sentence.\n",
    "1. To make negrite: use ** at the begining and at the end.\n",
    "1. Negrite + italic -> *** at the begining and at the end.\n"
   ]
  },
  {
   "cell_type": "markdown",
   "metadata": {},
   "source": [
    "\n",
    "###### Enumeração de items:\n",
    "\n",
    "1. Use 1. para enumerar (1. -> order a list)\n",
    "2. para fazer subitems, enter + 2 spaces + hifen -> subitem\n",
    "3. Para fazer sub-subitems, enter + 4 spaces + hifen -> sub-subitem\n",
    "\n"
   ]
  },
  {
   "cell_type": "markdown",
   "metadata": {},
   "source": [
    "###### Nivel2 -> 2 sustenidos (#); 3 - > (3#)....\n",
    "\n"
   ]
  },
  {
   "cell_type": "markdown",
   "metadata": {},
   "source": [
    "About titles' size: use # to define the level of each title's size."
   ]
  },
  {
   "cell_type": "markdown",
   "metadata": {},
   "source": [
    "#### Now lets write a mathmatic text: \n",
    "1. Math mode -> $a$ \n",
    "2. To make mathmatic: use $ at the begining and at the end as shown in the previous line.\n",
    " \n",
    " pitaghora's formula:  $a^2$ + $b^2$ = $c^2$\n",
    " to make square roots : $\\sqrt {x+y^2} $\n",
    " \n"
   ]
  },
  {
   "cell_type": "markdown",
   "metadata": {},
   "source": [
    "Aprender latec .\n"
   ]
  },
  {
   "cell_type": "code",
   "execution_count": 2,
   "metadata": {},
   "outputs": [
    {
     "name": "stdout",
     "output_type": "stream",
     "text": [
      "Digite x:4\n",
      "Digite y:2\n",
      "True\n"
     ]
    }
   ],
   "source": [
    "def sol(a,b):\n",
    "    return a > b\n",
    "\n",
    "x = int(input(\"Digite x:\"))\n",
    "y = int(input(\"Digite y:\"))\n",
    "print(sol(x,y))\n"
   ]
  },
  {
   "cell_type": "markdown",
   "metadata": {},
   "source": [
    "#### Dever de casa:\n",
    "\n",
    "###### What is Jupyter?\n",
    "\n",
    "1. A notebook integrates code and its output into a single document that combines visualisations, narrative text, mathematical equations, and other rich media. \n",
    "1. The Jupyter project is the successor to the earlier IPython Notebook, which was first published as a prototype in 2010.\n",
    "1. import time //\n",
    "   time.sleep(x)     #Makes the cell run x seconds later."
   ]
  },
  {
   "cell_type": "markdown",
   "metadata": {},
   "source": [
    "  # Aula 2 (08/08/2018)\n",
    "  "
   ]
  },
  {
   "cell_type": "markdown",
   "metadata": {},
   "source": [
    "\n",
    "  - Código sobre o número de euler utilizando fatoriais por meio de uma função recursiva."
   ]
  },
  {
   "cell_type": "code",
   "execution_count": 4,
   "metadata": {},
   "outputs": [
    {
     "name": "stdout",
     "output_type": "stream",
     "text": [
      "Digite um número: 10\n"
     ]
    }
   ],
   "source": [
    "n = int(input(\"Digite um número: \"))\n",
    "result = 0\n",
    "x = 0 \n",
    "def factorial(n):\n",
    "        if n == 0:\n",
    "            return 1\n",
    "        else:\n",
    "            return n * factorial(n-1)      #Função recursiva! loop    For -> É andar nos elementos de uma sequência\n",
    "        \n",
    "for i in range(n):   \n",
    "    x = factorial(i)\n",
    "    result += 1/x\n",
    "    \n"
   ]
  },
  {
   "cell_type": "code",
   "execution_count": 37,
   "metadata": {},
   "outputs": [
    {
     "name": "stdout",
     "output_type": "stream",
     "text": [
      "2.7182818284590455\n"
     ]
    }
   ],
   "source": [
    "print(result)   #Número de euler aproximado."
   ]
  },
  {
   "cell_type": "markdown",
   "metadata": {},
   "source": [
    "Procurar sobre recursividade de cauda (tail recursion),   o professor disse para usar o jupiter como notas de \n",
    " aula e de estudo em casa( escrever tudo aqui )\n"
   ]
  },
  {
   "cell_type": "code",
   "execution_count": 1,
   "metadata": {},
   "outputs": [
    {
     "data": {
      "text/plain": [
       "([1.0, 0.5, 0.3333333333333333], 1.8333333333333333, 0.16666666666666666)"
      ]
     },
     "execution_count": 1,
     "metadata": {},
     "output_type": "execute_result"
    }
   ],
   "source": [
    "import functools\n",
    "\n",
    "a = []\n",
    "m = 8\n",
    "\n",
    "def lista(m):\n",
    "    for i in range(1, m+1):\n",
    "        x = 1/i\n",
    "        a.append(x)\n",
    "        #print(\"1/\", i,\" =\", x)\n",
    "    return a  \n",
    "\n",
    "def soma(n):\n",
    "    n = sum(a)\n",
    "    return n\n",
    "                                                            #Usar mais soluções recursivas!!!\n",
    "def resposta(p):\n",
    "    x = lista(p)\n",
    "    y = soma(p)\n",
    "    calc = lambda x,y: x * y                 # soma = lambda x,y: x + y      # multiplicar = lambda x,y = x * y\n",
    "    z = functools.reduce(calc, a)            # calc <- stands for soma\n",
    "    return x, y, z\n",
    "\n",
    "resposta(3)\n",
    "\n"
   ]
  },
  {
   "cell_type": "code",
   "execution_count": 2,
   "metadata": {},
   "outputs": [
    {
     "data": {
      "text/plain": [
       "[1.0, 0.5, 0.3333333333333333, 0.25]"
      ]
     },
     "execution_count": 2,
     "metadata": {},
     "output_type": "execute_result"
    }
   ],
   "source": [
    "[1/f for f in range(1,10)]   #Ou dessa forma  ( comprehension <- need to know, é um modo de gerar listas  )\n",
    "[1/f for f in [1,2,3,4]] # Outra forma de realizar o mesmo objetivo de cima!"
   ]
  },
  {
   "cell_type": "code",
   "execution_count": 5,
   "metadata": {},
   "outputs": [
    {
     "data": {
      "text/plain": [
       "2.7182818284590455"
      ]
     },
     "execution_count": 5,
     "metadata": {},
     "output_type": "execute_result"
    }
   ],
   "source": [
    "result = 0\n",
    "def myeuler(s):    \n",
    "    i = 1\n",
    "    result= 0\n",
    "    for i in range(s):\n",
    "        x = factorial(i)\n",
    "        result += 1/x\n",
    "        \n",
    "    return result\n",
    "myeuler(50)"
   ]
  },
  {
   "cell_type": "markdown",
   "metadata": {},
   "source": [
    "1. https://en.wikipedia.org/wiki/Tail_call  <- tail recursion link\n",
    "1. https://medium.com/@osuissa/tudo-sobre-recurs%C3%A3o-ptc-tco-e-stc-em-javascript-58953a5a846a <- tail recursion link"
   ]
  },
  {
   "cell_type": "markdown",
   "metadata": {},
   "source": [
    "#### Dever de casa:\n",
    "1. Tópicos importantes lidos nos links acima:\n",
    "    - tail recursion(recurso de cauda) é uma ação feita em uma rotina que será chamada após o fim do processo\n",
    "    - Producing such code instead of a standard call sequence is called tail call elimination. Tail call elimination allows procedure calls in tail position to be implemented as efficiently as goto statements.\n",
    "    - Traditionally, tail call elimination is optional. However, in functional programming languages, tail call elimination is often guaranteed by the language standard, allowing tail recursion to use a similar amount of memory as an equivalent loop.\n",
    "    - When dealing with recursive or mutually recursive functions where recursion happens through tail calls, however, the stack space and the number of returns saved can grow to be very significant, since a function can call itself, directly or indirectly, creating a new call stack frame each time. <- consumo de memória, extrapolação pode levar a mal-desempenho e bugs na execução.\n",
    "    "
   ]
  },
  {
   "cell_type": "markdown",
   "metadata": {},
   "source": [
    "\n",
    "# Aula 03 (15/08/2018)"
   ]
  },
  {
   "cell_type": "markdown",
   "metadata": {},
   "source": []
  },
  {
   "cell_type": "code",
   "execution_count": 3,
   "metadata": {},
   "outputs": [],
   "source": [
    "vector = ('a','b','c')"
   ]
  },
  {
   "cell_type": "code",
   "execution_count": 5,
   "metadata": {},
   "outputs": [
    {
     "data": {
      "text/plain": [
       "tuple"
      ]
     },
     "execution_count": 5,
     "metadata": {},
     "output_type": "execute_result"
    }
   ],
   "source": [
    "type(vector)"
   ]
  },
  {
   "cell_type": "code",
   "execution_count": 7,
   "metadata": {},
   "outputs": [
    {
     "data": {
      "text/plain": [
       "('a', 'b', 'c')"
      ]
     },
     "execution_count": 7,
     "metadata": {},
     "output_type": "execute_result"
    }
   ],
   "source": [
    "vector"
   ]
  },
  {
   "cell_type": "code",
   "execution_count": 8,
   "metadata": {},
   "outputs": [
    {
     "data": {
      "text/plain": [
       "'b'"
      ]
     },
     "execution_count": 8,
     "metadata": {},
     "output_type": "execute_result"
    }
   ],
   "source": [
    "vector[1]"
   ]
  },
  {
   "cell_type": "markdown",
   "metadata": {},
   "source": [
    "### 1. Propriedades\n",
    "\n",
    "#### 1a.  Adição e subtração\n",
    "\n",
    "**a + b** = $(a_1, a_2,...,a_n) + (b_1,b_2,...,b_n)$\n",
    "\n",
    "\n",
    "#### 1b.  Multiplicação por escalar\n",
    "\n",
    "$Ka$ = $k(a_1,a_2,...,a_n) = (ka_1,ka_2,..,k_n)$\n",
    "\n",
    "#### 1c. Vetores especiais\n",
    "**rvetores especiais:**\n",
    "                                   **i** = (1,0,0)\n",
    "                                   **j** = (0,1,0)\n",
    "                                   **k** = (0,0,1)\n",
    "                                   \n",
    "$um\\ vetor\\ portanto\\ é\\ representado\\ por:$ \n",
    "    a = $(a_x)$**i** + $(a_y)$**j** + $(a_z)$**k**\n",
    "    \n",
    "#### 1d. As principais propriedades são comprimento e a direção.\n",
    "    \n",
    "   \n",
    "   \n",
    "|a| = $\\sqrt{a_x²+a_y²+a_z²}$  $\\longrightarrow$ $Fórmula\\ do\\ módulo\\ de\\ um\\ vetor$\n",
    "    "
   ]
  },
  {
   "cell_type": "code",
   "execution_count": 10,
   "metadata": {},
   "outputs": [],
   "source": [
    "v1 = (3,2,4)  \n",
    "v2 = (1,1,1)    #exemplos de v1, v2 e e\n",
    "e = 2    \n",
    "#Média aritmética entre os vetores: (len(v1)+len(v2)/2)\n",
    "\n",
    "def somaV(v1,v2):\n",
    "    con = (len(v1)+len(v2))/2\n",
    "    res = len(v1)\n",
    "    somaV = []\n",
    "    if con == res:\n",
    "        for i in range(0,len(v1),1):\n",
    "            j = v1[i]+v2[i]\n",
    "            somaV.append(j)\n",
    "        return tuple(somaV)\n",
    "    else:\n",
    "        return (\"error\")\n",
    "\n",
    "newvector = [None]*3\n",
    "def prodE(v1,e):\n",
    "    for i in range(0,len(v1),1):\n",
    "        newvector[i] = v1[i] * e\n",
    "    return newvector\n",
    "\n",
    "\n",
    "def moduloV(v1):\n",
    "    if type(v1) != tuple:\n",
    "        return \"error\"\n",
    "    else:\n",
    "        for i in range(0,len(v1),1):\n",
    "            newvector[i] = (v1[i])**2\n",
    "        x = (sum(newvector))**(1/2)\n",
    "        return x"
   ]
  },
  {
   "cell_type": "code",
   "execution_count": 3,
   "metadata": {},
   "outputs": [
    {
     "data": {
      "text/plain": [
       "[10, 20, 50]"
      ]
     },
     "execution_count": 3,
     "metadata": {},
     "output_type": "execute_result"
    }
   ],
   "source": [
    "# prodE(vetor, multi- escalar)\n",
    "prodE((1,2,5),10)"
   ]
  },
  {
   "cell_type": "code",
   "execution_count": 4,
   "metadata": {},
   "outputs": [
    {
     "data": {
      "text/plain": [
       "(2, 3, 5)"
      ]
     },
     "execution_count": 4,
     "metadata": {},
     "output_type": "execute_result"
    }
   ],
   "source": [
    "#somaV(vetor1, vetor2)\n",
    "somaV((1,2,3),(1,1,2))"
   ]
  },
  {
   "cell_type": "markdown",
   "metadata": {},
   "source": [
    "Search -> Design by contract "
   ]
  },
  {
   "cell_type": "code",
   "execution_count": 5,
   "metadata": {},
   "outputs": [
    {
     "data": {
      "text/plain": [
       "3.4641016151377544"
      ]
     },
     "execution_count": 5,
     "metadata": {},
     "output_type": "execute_result"
    }
   ],
   "source": [
    "moduloV((2,2,2))"
   ]
  },
  {
   "cell_type": "markdown",
   "metadata": {},
   "source": [
    "Aprender a escrever funções com lambda"
   ]
  },
  {
   "cell_type": "markdown",
   "metadata": {},
   "source": [
    "### Dever de casa:\n",
    "1. **\\\\# prints a pound sign:     #.**\n",
    "1. \\\\**\\$ prints a dollar sign: $.**\n",
    "1. **\\% prints a percent sign: %.**\n",
    "1. **\\& prints an ampersand: &.**\n",
    "1. **\\\\{ prints a curly left brace: {.**\n",
    "1. **\\\\| is k (math mode).**\n",
    "1. **\\\\} prints a curly right brace: }.**\n",
    "\n",
    "1. ** \\aleph is ($\\aleph$) **\n",
    "\n",
    "1. ** \\alpha is ($\\alpha$) **"
   ]
  },
  {
   "cell_type": "markdown",
   "metadata": {},
   "source": []
  },
  {
   "cell_type": "markdown",
   "metadata": {},
   "source": [
    "# Aula 04 (22/08/2018)"
   ]
  },
  {
   "cell_type": "markdown",
   "metadata": {},
   "source": [
    "Perguntar ao professor sobre a tail recursion e como funciona o outro modo de empilhar funções recursivas!!\n",
    "\n",
    "fazer um notebook  para cada aula.\n"
   ]
  },
  {
   "cell_type": "markdown",
   "metadata": {},
   "source": [
    "#### Sobre vetores:\n",
    "1. vetores unitários:  <br> <br>\n",
    "    . vetor unitário -> $â$:  é igual a $a  /  |A|$  (vetor dividido pelo seu môdulo). \n",
    "    <br>\n",
    "    . $a = (a_x, a_y, a_z)$\n",
    "    <br>\n",
    "    . $â = 1/|a| * (x,y,z)$\n",
    "    <br>\n",
    "    . $â_x = a_x / |a|  = cos(\\alpha)$ \n",
    "    <br>\n",
    "    . $â_y = a_y / |a| = cos(\\beta)$\n",
    "    <br>\n",
    "    . $â_z = a_z / |a| = cos(\\gamma)$\n",
    "    <br>\n",
    "    .   Produto escalar $-> a . b  = a_x * b_x + a_y * b_y + a_z * b_z $ \n",
    "    <br>\n",
    "    \n",
    "    <br>\n",
    "    . Propriedades:\n",
    "    <br>\n",
    "    1. $  a . b = |a| * |b|* cos(\\theta)  <- $  Importante pois dá o ângulo entre dois vetores \n",
    "    <br>\n",
    "    1. $ a . a = |a|²$\n",
    "    <br>\n",
    "    1. $ a . b = b . a  <-$ comulativa\n",
    "    <br>\n",
    "    1. $a . (b + c) = a . b + a . c  <- $ distributiva\n",
    "    <br>\n",
    "    1. $ (ka) . b = a. (kb) = k( a.b)  <- $ associativa\n",
    "    <br>\n",
    "    1.  se $a$ é perpendicular a $b$, então $a.b = 0$\n",
    "    \n",
    "    \n",
    "    O cientista tem que se importar com a assinatura do método. Ela deve respeitar as condiçôes em todos os casos do método.\n",
    "    "
   ]
  },
  {
   "cell_type": "code",
   "execution_count": null,
   "metadata": {},
   "outputs": [],
   "source": []
  },
  {
   "cell_type": "code",
   "execution_count": 57,
   "metadata": {},
   "outputs": [],
   "source": [
    "Newvectora1 = [None]*3\n",
    "Newvectora2 = [None]*3\n",
    "def vetor1modulo(v1):\n",
    "    if type(v1) != tuple:\n",
    "        return \"error: length is not big.\"\n",
    "    else:\n",
    "        for i in range(0, len(v1), 1):\n",
    "            Newvectora1[i] = (v1[i])**2\n",
    "        x = (sum(Newvectora1))**(1/2)\n",
    "        return x\n",
    "    \n",
    "def vetorunitario1(v1):\n",
    "    if type(v1) != tuple:\n",
    "        return \"error: length is not big.\"\n",
    "    else:\n",
    "        for i in range(0, len(v1),1):\n",
    "            Newvectora1[i] = (v1[i])**2\n",
    "        x = (sum(Newvectora1))**(1/2)\n",
    "        for i in range(0,len(v1),1):\n",
    "            Newvectora2[i] = (v1[i])/ x\n",
    "        return Newvectora2\n",
    "    \n",
    "    \n",
    "    \n",
    "Newvector2 = [None]*3    \n",
    "def vetor2modulo(v2):\n",
    "    if type(v2) != tuple: \n",
    "        return \"error: length is not big.\"\n",
    "    else:\n",
    "        for i in range(0, len(v2),1):\n",
    "            Newvector2[i] = (v2[i])**2\n",
    "        y = (sum(Newvector2))**(1/2)\n",
    "        return y\n"
   ]
  },
  {
   "cell_type": "code",
   "execution_count": 58,
   "metadata": {},
   "outputs": [
    {
     "data": {
      "text/plain": [
       "[0.5270462766947299, 0.4216370213557839, 0.7378647873726218]"
      ]
     },
     "execution_count": 58,
     "metadata": {},
     "output_type": "execute_result"
    }
   ],
   "source": [
    "a = (5,4,7)\n",
    "vetor1modulo(a)\n",
    "vetorunitario1(a)"
   ]
  },
  {
   "cell_type": "code",
   "execution_count": 49,
   "metadata": {},
   "outputs": [
    {
     "data": {
      "text/plain": [
       "18.33030277982336"
      ]
     },
     "execution_count": 49,
     "metadata": {},
     "output_type": "execute_result"
    }
   ],
   "source": [
    "vetor2modulo((8,4,16))"
   ]
  },
  {
   "cell_type": "code",
   "execution_count": null,
   "metadata": {},
   "outputs": [],
   "source": []
  },
  {
   "cell_type": "code",
   "execution_count": null,
   "metadata": {},
   "outputs": [],
   "source": [
    "# tuple x tuple  -> float"
   ]
  },
  {
   "cell_type": "code",
   "execution_count": 67,
   "metadata": {},
   "outputs": [],
   "source": [
    "def produtodot(v1,v2):\n",
    "    prod = 0\n",
    "    if type(v1) != tuple:\n",
    "        return error\n",
    "    elif type(v2) != tuple:\n",
    "        return error\n",
    "    elif len(v1) == len(v2):\n",
    "        for i in range(0, len(v1),1):\n",
    "            prod += v1[i]* v2[i]\n",
    "        return prod\n",
    "    else:\n",
    "        error\n"
   ]
  },
  {
   "cell_type": "code",
   "execution_count": 68,
   "metadata": {},
   "outputs": [
    {
     "data": {
      "text/plain": [
       "12"
      ]
     },
     "execution_count": 68,
     "metadata": {},
     "output_type": "execute_result"
    }
   ],
   "source": [
    "a = (1,2,2)\n",
    "b = (2,2,3)\n",
    "produtodot(a,b)"
   ]
  },
  {
   "cell_type": "code",
   "execution_count": 85,
   "metadata": {},
   "outputs": [],
   "source": [
    "def angulo(a,b):\n",
    "    prod = 0\n",
    "    moda = [None]*3\n",
    "    modb = [None]*3\n",
    "    MODA = 0\n",
    "    MODB = 0\n",
    "    if type(a) != tuple or type(b) != tuple:\n",
    "        return error\n",
    "    elif len(a) == len(b):\n",
    "        #modulo de a\n",
    "        for i in range(0, len(a), 1):\n",
    "            moda[i] = a[i]**2\n",
    "        MODA = (sum(moda))**(1/2)\n",
    "        \n",
    "        #modulo de b\n",
    "        for i in range(0, len(b),1):\n",
    "            modb[i] = b[i]**2\n",
    "        MODB = (sum(modb))**(1/2)\n",
    "        \n",
    "        #produto a * b\n",
    "        for i in range(0, len(a),1):\n",
    "            prod = a[i] * b[i]\n",
    "        \n",
    "        #cos theta = x\n",
    "        x = prod/ (MODA*MODB)\n",
    "        return \"Cos(Ô) = \",x\n",
    "    else:\n",
    "        error"
   ]
  },
  {
   "cell_type": "code",
   "execution_count": 86,
   "metadata": {},
   "outputs": [
    {
     "data": {
      "text/plain": [
       "('Cos(Ô) = ', 0.36244018814637496)"
      ]
     },
     "execution_count": 86,
     "metadata": {},
     "output_type": "execute_result"
    }
   ],
   "source": [
    "a = (8,4,5)\n",
    "b = (2,3,4)\n",
    "angulo(a,b)"
   ]
  },
  {
   "cell_type": "markdown",
   "metadata": {},
   "source": [
    "Produto vetorial:\n",
    "\n",
    "1. $ a X b = (a_y b_z - a_z b_y, \\quad   -|a_x b_z - a_z b_x|,\\quad a_x b_y - a_y b_X )  $\n",
    "<br>\n",
    "importante ressaltar que essa fórmula supõe que está em um plano 3D, então usar vetores de 3 elementos.\n",
    "<br>\n",
    ". $ b \\quad x \\quad a \\quad  =\\quad -(a \\quad x \\quad b)$"
   ]
  },
  {
   "cell_type": "markdown",
   "metadata": {},
   "source": [
    "def prodvetorial(a,b):\n",
    "    # a X b => W\n",
    "    #to do "
   ]
  },
  {
   "cell_type": "code",
   "execution_count": 87,
   "metadata": {},
   "outputs": [],
   "source": [
    "import matplotlib\n",
    "import matplotlib.pyplot as plt\n",
    "import numpy as np\n",
    "%matplotlib inline\n"
   ]
  },
  {
   "cell_type": "code",
   "execution_count": 174,
   "metadata": {},
   "outputs": [
    {
     "data": {
      "image/png": "[encoded data removed]",
      "text/plain": [
       "<matplotlib.figure.Figure at 0x5126d50>"
      ]
     },
     "metadata": {},
     "output_type": "display_data"
    }
   ],
   "source": [
    "\n",
    "t = np.arange(0.0,2.0,0.01)\n",
    "s = 1 + t**8/50 + np.sin(t*3)+ np.cos(t**8) - np.sin(-8*t)- np.cos(-20*t) +np.sin(t**t) +  1000/t**t+ np.sin(880**t)\n",
    "\n",
    "\n",
    "fig, ax = plt.subplots()\n",
    "ax.plot(t, s)\n",
    "\n",
    "ax.set(xlabel ='time (s)', ylabel= 'voltage', title='about as simple as it gets')\n",
    "ax.grid()\n",
    "\n",
    "fig.savefig(\"test.png\")\n",
    "plt.show()"
   ]
  },
  {
   "cell_type": "markdown",
   "metadata": {},
   "source": [
    "ler -> matplotlib\n",
    "baixar -> nbextensions"
   ]
  },
  {
   "cell_type": "markdown",
   "metadata": {},
   "source": [
    "Dever de casa:\n",
    "      <br>\n",
    "      1. https://matplotlib.org/2.2.3/tutorials/index.html#introductory\n",
    "   \n",
    "      2. https://github.com/ipython-contrib/jupyter_contrib_nbextensions"
   ]
  },
  {
   "cell_type": "code",
   "execution_count": null,
   "metadata": {},
   "outputs": [],
   "source": [
    "\n"
   ]
  },
  {
   "cell_type": "code",
   "execution_count": null,
   "metadata": {},
   "outputs": [],
   "source": []
  }
 ],
 "metadata": {
  "kernelspec": {
   "display_name": "Python 3",
   "language": "python",
   "name": "python3"
  },
  "language_info": {
   "codemirror_mode": {
    "name": "ipython",
    "version": 3
   },
   "file_extension": ".py",
   "mimetype": "text/x-python",
   "name": "python",
   "nbconvert_exporter": "python",
   "pygments_lexer": "ipython3",
   "version": "3.6.4"
  }
 },
 "nbformat": 4,
 "nbformat_minor": 2
}
