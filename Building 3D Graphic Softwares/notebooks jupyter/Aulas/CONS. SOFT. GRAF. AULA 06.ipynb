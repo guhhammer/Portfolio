{
 "cells": [
  {
   "cell_type": "markdown",
   "metadata": {},
   "source": [
    "###  AULA 06:"
   ]
  },
  {
   "cell_type": "markdown",
   "metadata": {},
   "source": []
  },
  {
   "cell_type": "code",
   "execution_count": 1,
   "metadata": {},
   "outputs": [],
   "source": [
    "import matplotlib \n",
    "import matplotlib.pyplot as plt\n",
    "import numpy as np\n",
    "from matplotlib.Figure import Figure\n",
    "%matplotlib inline\n"
   ]
  },
  {
   "cell_type": "code",
   "execution_count": 69,
   "metadata": {},
   "outputs": [],
   "source": [
    "def somaV(v1,v2):\n",
    "    somaV = []\n",
    "    if len(v1) != len(v2):\n",
    "        return \"vectors must have the same length\"\n",
    "    return tuple([v1[i]+v2[i] for i in range(0,len(v1))])\n",
    "\n",
    "def escalarV(k, v):\n",
    "    return tuple([ k * v[i] for i in range(len(v))])\n",
    "\n",
    "\n",
    "def mplot(v1,v2):\n",
    "    plt.plot((v1[0], v2[0]),( v1[1], v2[1]))\n",
    "    "
   ]
  },
  {
   "cell_type": "code",
   "execution_count": 70,
   "metadata": {
    "collapsed": true
   },
   "outputs": [
    {
     "data": {
      "image/png": "[encoded data removed]",
      "text/plain": [
       "<matplotlib.figure.Figure at 0x1820030>"
      ]
     },
     "metadata": {},
     "output_type": "display_data"
    }
   ],
   "source": [
    "fig, ax = plt.subplots()\n",
    "\n",
    "\n",
    "plt.xlim(-11,11)\n",
    "plt.ylim(-3.2,10.2)\n",
    "\n",
    "f  = lambda x: 4/np.sin(x/4)-6\n",
    "x1 = np.linspace(-10,10,100)\n",
    "\n",
    "for px in x1:\n",
    "    circle = plt.Circle((px, f(px)), radius = 0.1)\n",
    "    ax.add_patch(circle)\n",
    "\n",
    "    \n",
    "g = lambda x: x**2 - x**3 + 4 \n",
    "x2 = np.linspace(-10,10,100)\n",
    "\n",
    "for px in x2:\n",
    "    circle = plt.Circle((px, g(px)), radius = 0.2)\n",
    "    ax.add_patch(circle)\n",
    "plt.show()\n",
    "\n",
    "\n",
    "h = lambda x: np.sin(x)\n",
    "x3 = np.linspace(-10,10,100)\n",
    "\n",
    "\n",
    "for px in x3:\n",
    "        circle = plt.Circle((px, h(px)), radius = 0.2)\n",
    "        ax.add_patch(circle)\n",
    "plt.show()  #não sei porque essa plotagem não ocorre!!\n",
    "\n",
    "\n",
    "\n"
   ]
  },
  {
   "cell_type": "code",
   "execution_count": 82,
   "metadata": {
    "scrolled": true
   },
   "outputs": [
    {
     "data": {
      "image/png": "[encoded data removed]",
      "text/plain": [
       "<matplotlib.figure.Figure at 0x7984d10>"
      ]
     },
     "metadata": {},
     "output_type": "display_data"
    }
   ],
   "source": [
    "\n",
    "def retaPar(p0,t):\n",
    "    return (lambda u: somaV(p0, escalarV(u, t)))\n",
    "\n",
    "\n",
    "p0 =(1,4)\n",
    "t = (2,-1)\n",
    "valores_u =  np.arange(-1.0, 5.0, 0.1)\n",
    "\n",
    "retaPar((1,4),(2,-1))(4)\n",
    "\n",
    "\n",
    "retaP = retaPar(p0,t)\n",
    "\n",
    "retaPu = retaP(valores_u)\n",
    "\n",
    "fig, ax = plt.subplots()\n",
    "\n",
    "plt.xlim(-1.5, 5.5)\n",
    "plt.ylim(0, 5.5)\n",
    "\n",
    "# valores do escalar u: diferenças constantes entre os valores\n",
    "valores_u = np.arange(-1.0, 5.0, 0.1)\n",
    "\n",
    "for u in valores_u:\n",
    "    circle = plt.Circle(retaP(u), radius=0.1)\n",
    "    ax.add_patch(circle)\n",
    "\n",
    "# ax.axis('off')\n",
    "# ax.set_aspect('equal')\n",
    "\n",
    "fig.savefig(\"circulosSobreRetaParalela1.png\")\n",
    "plt.show()"
   ]
  },
  {
   "cell_type": "code",
   "execution_count": null,
   "metadata": {},
   "outputs": [],
   "source": []
  },
  {
   "cell_type": "code",
   "execution_count": null,
   "metadata": {},
   "outputs": [],
   "source": []
  },
  {
   "cell_type": "code",
   "execution_count": null,
   "metadata": {},
   "outputs": [],
   "source": []
  }
 ],
 "metadata": {
  "kernelspec": {
   "display_name": "Python 3",
   "language": "python",
   "name": "python3"
  },
  "language_info": {
   "codemirror_mode": {
    "name": "ipython",
    "version": 3
   },
   "file_extension": ".py",
   "mimetype": "text/x-python",
   "name": "python",
   "nbconvert_exporter": "python",
   "pygments_lexer": "ipython3",
   "version": "3.6.4"
  }
 },
 "nbformat": 4,
 "nbformat_minor": 2
}
