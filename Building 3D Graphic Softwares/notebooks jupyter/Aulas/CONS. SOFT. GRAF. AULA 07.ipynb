{
 "cells": [
  {
   "cell_type": "markdown",
   "metadata": {},
   "source": [
    "## Aula 07:\n"
   ]
  },
  {
   "cell_type": "markdown",
   "metadata": {},
   "source": [
    "etapa 1 -> desenhar uma figura composta.<br>\n",
    "etapa 2 -> escolher um ponto variável e definir/desenhar a figura em função dele.<br>\n",
    "etapa 3 -> encapsular a lógica do desenho dentro de uma função que recebe o pt variável como parâmetro.<br>\n",
    "etapa 4 -> situar a figura ao longo de uma curva dada, desenhando uma sequência dela.<br>\n"
   ]
  },
  {
   "cell_type": "code",
   "execution_count": 95,
   "metadata": {},
   "outputs": [],
   "source": [
    "import matplotlib \n",
    "import matplotlib.pyplot as plt\n",
    "import numpy as np\n",
    "import matplotlib.patches as mpatches\n",
    "import matplotlib.path as mpath\n",
    "%matplotlib inline\n"
   ]
  },
  {
   "cell_type": "code",
   "execution_count": 96,
   "metadata": {},
   "outputs": [],
   "source": [
    "x = np.linspace(0,10)"
   ]
  },
  {
   "cell_type": "code",
   "execution_count": 130,
   "metadata": {},
   "outputs": [],
   "source": [
    "x = 0 #int(input(\"Ponto A, x:\"))\n",
    "y = 0 #int(input(\"Ponto A, y:\"))\n",
    "\n",
    "PontoAn = (x,y)\n",
    "PontoB = (x+5,y)\n",
    "PontoC = (x+6,y+1.5)\n",
    "PontoD = (x-1,y+1.5)\n",
    "PontoF = (x+2.5,y+1.5)\n",
    "PontoG = (x+2.5,y+5.5)\n",
    "PontoH = (x,y+2.5)\n",
    "PontoI = (x+2.5,y+1.5)\n",
    "PontoJ = (x+2.5,y+2.5)\n",
    "PontoK = (x+5,y+2.5)\n",
    "\n",
    "\n",
    "\n",
    "def plotag(PontoA, ax):\n",
    "    barco = plt.Polygon([(PontoA[0],PontoB[1]),\n",
    "                         (PontoA[0]+5,PontoA[1]),\n",
    "                         (PontoA[0]+6,PontoA[1]+1.5),\n",
    "                         (PontoA[0]-1,PontoA[1]+1.5),\n",
    "                         (PontoA[0],PontoA[1])],color = \"green\")\n",
    "    \n",
    "    vela1 = plt.Polygon([(PontoA[0]+2.5,PontoA[1]+1.5),\n",
    "                         (PontoA[0]+2.5,PontoA[1]+5.5),\n",
    "                         (PontoA[0],PontoA[1]+2.5),\n",
    "                         (PontoA[0]+2.5,PontoA[1]+2.5)],color = \"red\")\n",
    "    \n",
    "    vela2 = plt.Polygon([(PontoA[0]+2.5,PontoA[1]+1.5),\n",
    "                         (PontoA[0]+2.5,PontoA[1]+5.5),\n",
    "                         (PontoA[0]+5,PontoA[1]+2.5),\n",
    "                         (PontoA[0]+2.5,PontoA[1]+2.5)],color = \"yellow\")\n",
    "    ax.add_patch(barco)\n",
    "    ax.add_patch(vela1)\n",
    "    ax.add_patch(vela2)\n",
    "\n",
    "plotag((1,1),ax)\n",
    "x = np.linspace(0,10)\n",
    "\n"
   ]
  },
  {
   "cell_type": "code",
   "execution_count": 131,
   "metadata": {},
   "outputs": [
    {
     "data": {
      "image/png": "[encoded data removed]",
      "text/plain": [
       "<matplotlib.figure.Figure at 0xd94bd0>"
      ]
     },
     "metadata": {},
     "output_type": "display_data"
    },
    {
     "data": {
      "image/png": "[encoded data removed]",
      "text/plain": [
       "<matplotlib.figure.Figure at 0xeb2390>"
      ]
     },
     "metadata": {},
     "output_type": "display_data"
    }
   ],
   "source": [
    "fig, ax = plt.subplots()\n",
    "\n",
    "\n",
    "f = lambda x: np.sin(x/3)\n",
    "\n",
    "\n",
    "def mplot(p1,p2):\n",
    "    plt.plot((p1[0], p2[0]),( p1[1], p2[1]))\n",
    "    \n",
    "    \n",
    "plt.xlim(0,20)\n",
    "plt.ylim(-3.2,10.2)\n",
    "\n",
    "\n",
    "x1 = np.linspace(0,20,5)\n",
    "\n",
    "for px in x1:\n",
    "    plotag((px,f(px)),ax)\n",
    "\n",
    "\n",
    "\n",
    "\n",
    "def plotagem():\n",
    "    mplot(PontoAn,PontoB)\n",
    "    mplot(PontoB,PontoC)\n",
    "    mplot(PontoC,PontoD)\n",
    "    mplot(PontoD,PontoAn)\n",
    "\n",
    "    mplot(PontoF,PontoG)\n",
    "    mplot(PontoG,PontoI)\n",
    "    mplot(PontoI,PontoJ)\n",
    "\n",
    "    mplot(PontoF,PontoG)\n",
    "    mplot(PontoG,PontoH)\n",
    "    mplot(PontoH,PontoK)\n",
    "    plt.show()\n",
    "    \n",
    "    \n",
    "\n",
    "    \n",
    "    \n",
    "\n",
    "fig.savefig(\"test.png\")\n",
    "plt.show()\n",
    "\n",
    "plotagem()\n"
   ]
  },
  {
   "cell_type": "markdown",
   "metadata": {},
   "source": [
    "dica do professor: comentar cada função e o que elas fazem para lembrar futuramente cada parte do processo; tambem desbagunçar o código, colocar cada etapa no seu lugar."
   ]
  },
  {
   "cell_type": "code",
   "execution_count": null,
   "metadata": {},
   "outputs": [],
   "source": []
  }
 ],
 "metadata": {
  "kernelspec": {
   "display_name": "Python 3",
   "language": "python",
   "name": "python3"
  },
  "language_info": {
   "codemirror_mode": {
    "name": "ipython",
    "version": 3
   },
   "file_extension": ".py",
   "mimetype": "text/x-python",
   "name": "python",
   "nbconvert_exporter": "python",
   "pygments_lexer": "ipython3",
   "version": "3.6.4"
  }
 },
 "nbformat": 4,
 "nbformat_minor": 2
}
