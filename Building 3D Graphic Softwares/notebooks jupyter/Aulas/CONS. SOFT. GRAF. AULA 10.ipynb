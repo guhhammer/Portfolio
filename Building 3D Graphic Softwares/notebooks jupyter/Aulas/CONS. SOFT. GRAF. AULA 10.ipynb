{
 "cells": [
  {
   "cell_type": "markdown",
   "metadata": {},
   "source": [
    "Nome: Gustavo Hammerschmidt."
   ]
  },
  {
   "cell_type": "markdown",
   "metadata": {},
   "source": [
    "### Aula 10:"
   ]
  },
  {
   "cell_type": "markdown",
   "metadata": {},
   "source": [
    "1. Efetue a adição ou subtração dos seguintes hipernúmeros:\n",
    "  - (6,4,1)+(1,−3,0)\n",
    "  - (9,−8)−(2,−2)\n",
    "  - (a,b)+(c,d)\n",
    "  - (5,9,1,12)+(5,−3,6,−1)\n",
    "  - (0,0,8)−(4,1,8)"
   ]
  },
  {
   "cell_type": "code",
   "execution_count": 1,
   "metadata": {},
   "outputs": [],
   "source": [
    "### Começo Exercicio1:\n",
    "\n",
    "def exercicio1(v1,v2):\n",
    "    if len(v1) == 2:\n",
    "        return ((v1[0]+v2[0]),(v1[1]+v2[1]))\n",
    "    elif len(v1) == 3:\n",
    "        return ((v1[0]+v2[0]),(v1[1]+v2[1]),(v1[2]+v2[2]))\n",
    "    elif len(v1) == 4:\n",
    "        return ((v1[0]+v2[0]),(v1[1]+v2[1]),(v1[2]+v2[2]),(v1[3]+v2[3]))\n",
    "    "
   ]
  },
  {
   "cell_type": "code",
   "execution_count": 2,
   "metadata": {},
   "outputs": [
    {
     "data": {
      "text/plain": [
       "(7, 1, 1)"
      ]
     },
     "execution_count": 2,
     "metadata": {},
     "output_type": "execute_result"
    }
   ],
   "source": [
    "exercicio1((6,4,1),(1,-3,0))"
   ]
  },
  {
   "cell_type": "code",
   "execution_count": 3,
   "metadata": {},
   "outputs": [
    {
     "data": {
      "text/plain": [
       "(11, -10)"
      ]
     },
     "execution_count": 3,
     "metadata": {},
     "output_type": "execute_result"
    }
   ],
   "source": [
    "exercicio1((9,-8),(2,-2))"
   ]
  },
  {
   "cell_type": "code",
   "execution_count": 51,
   "metadata": {},
   "outputs": [
    {
     "name": "stdout",
     "output_type": "stream",
     "text": [
      "Digite a:1\n",
      "Digite b:4\n",
      "Digite c:5\n",
      "Digite d:1\n"
     ]
    },
    {
     "data": {
      "text/plain": [
       "(6, 5)"
      ]
     },
     "execution_count": 51,
     "metadata": {},
     "output_type": "execute_result"
    }
   ],
   "source": [
    "# (a,b) + (c,d) => ((a+c),(b+d))\n",
    "a = int(input(\"Digite a:\"))\n",
    "b = int(input(\"Digite b:\"))\n",
    "c = int(input(\"Digite c:\"))\n",
    "d = int(input(\"Digite d:\"))\n",
    "exercicio1((a,b),(c,d))"
   ]
  },
  {
   "cell_type": "code",
   "execution_count": 5,
   "metadata": {},
   "outputs": [
    {
     "data": {
      "text/plain": [
       "(10, 6, 7, 11)"
      ]
     },
     "execution_count": 5,
     "metadata": {},
     "output_type": "execute_result"
    }
   ],
   "source": [
    "exercicio1((5,9,1,12),(5,-3,6,-1))"
   ]
  },
  {
   "cell_type": "code",
   "execution_count": 6,
   "metadata": {},
   "outputs": [
    {
     "data": {
      "text/plain": [
       "(-4, -1, 0)"
      ]
     },
     "execution_count": 6,
     "metadata": {},
     "output_type": "execute_result"
    }
   ],
   "source": [
    "exercicio1((0,0,8),(-4,-1,-8))"
   ]
  },
  {
   "cell_type": "code",
   "execution_count": 7,
   "metadata": {},
   "outputs": [],
   "source": [
    "# Fim Exercicio1."
   ]
  },
  {
   "cell_type": "markdown",
   "metadata": {},
   "source": [
    "######################################################"
   ]
  },
  {
   "cell_type": "markdown",
   "metadata": {},
   "source": [
    "2) Represente graficamente e determine os comprimentos e os cossenos das direções dos seguintes vetores:\n",
    "  - a=(5,6)\n",
    "  - b=(5,−5)\n",
    "  - c=(0,7)\n",
    "  - d=(−7,0)\n",
    "  - e=(−5,3)"
   ]
  },
  {
   "cell_type": "code",
   "execution_count": 8,
   "metadata": {},
   "outputs": [],
   "source": [
    "# Começo Exercicio2:\n",
    "\n",
    "import matplotlib \n",
    "import matplotlib.pyplot as plt\n",
    "import numpy as np\n",
    "import matplotlib.patches as mpatches\n",
    "import matplotlib.path as mpath\n",
    "%matplotlib inline\n",
    "  \n",
    "def plotEixoX(v1,ax):    \n",
    "    linha = plt.Polygon([(0,0),(v1[0],v1[1])], color = \"blue\")\n",
    "    ax.add_patch(linha)\n",
    "\n",
    "def plotEixoY(v1,ax):\n",
    "    linha = plt.Polygon([(0,0),(v1[0],v1[1])], color = \"blue\")\n",
    "    ax.add_patch(linha)\n",
    "\n",
    "def plotEx2(v1, ax):\n",
    "    linha = plt.Polygon([(0,0),(v1[0],v1[1])], color = \"red\")\n",
    "    ax.add_patch(linha)\n",
    "\n",
    "def callplotEx2(v1):\n",
    "    fig, ax = plt.subplots()\n",
    "    plt.xlim(-10,20)\n",
    "    plt.ylim(-10,10)  \n",
    "    plotEx2((v1[0],v1[1]),ax)\n",
    "    plotEixoX((0,20),ax)\n",
    "    plotEixoY((20,0),ax)\n",
    "    plotEx2((v1[0],v1[1]),ax)\n",
    "\n",
    "def comprimentoEx2(v1):\n",
    "    return ((v1[0])**2+(v1[1])**2)**(1/2)\n",
    "\n",
    "def cossenoEixoX(v1):\n",
    "    return ((v1[0]*20) + (v1[1]*0))/(comprimentoEx2((v1[0],v1[1]))*comprimentoEx2((20,0)))         #u.v/ |u||v| \n",
    "\n",
    "def cossenoEixoY(v1):\n",
    "    return ((v1[0]*0) + (v1[1]*20))/(comprimentoEx2((v1[0],v1[1]))*comprimentoEx2((0,20)))         #u.v/ |u||v| "
   ]
  },
  {
   "cell_type": "code",
   "execution_count": 9,
   "metadata": {},
   "outputs": [
    {
     "name": "stdout",
     "output_type": "stream",
     "text": [
      "Esse é o comprimento do vetor(5,6): 7.810249675906654\n",
      "Esse é o cosseno do vetor(5,6) com o eixo X: 0.6401843996644799\n",
      "Esse é o cosseno do vetor(5,6) com o eixo Y: 0.7682212795973759\n"
     ]
    },
    {
     "data": {
      "image/png": "[encoded data removed]",
      "text/plain": [
       "<matplotlib.figure.Figure at 0x13364f0>"
      ]
     },
     "metadata": {},
     "output_type": "display_data"
    }
   ],
   "source": [
    "# EX. 2a:\n",
    "a = (5, 6)\n",
    "callplotEx2((a[0],a[1]))\n",
    "print(\"Esse é o comprimento do vetor({},{}):\".format(a[0],a[1]), comprimentoEx2((a[0],a[1])))\n",
    "print(\"Esse é o cosseno do vetor({},{}) com o eixo X:\".format(a[0],a[1]), cossenoEixoX((a[0],a[1])))\n",
    "print(\"Esse é o cosseno do vetor({},{}) com o eixo Y:\".format(a[0],a[1]), cossenoEixoY((a[0],a[1])))"
   ]
  },
  {
   "cell_type": "code",
   "execution_count": 10,
   "metadata": {},
   "outputs": [
    {
     "name": "stdout",
     "output_type": "stream",
     "text": [
      "Esse é o comprimento do vetor(5,-5): 7.0710678118654755\n",
      "Esse é o cosseno do vetor(5,-5) com o eixo X: 0.7071067811865475\n",
      "Esse é o cosseno do vetor(5,-5) com o eixo Y: -0.7071067811865475\n"
     ]
    },
    {
     "data": {
      "image/png": "[encoded data removed]",
      "text/plain": [
       "<matplotlib.figure.Figure at 0x6e2a490>"
      ]
     },
     "metadata": {},
     "output_type": "display_data"
    }
   ],
   "source": [
    "# EX. 2b:\n",
    "a = (5, -5)\n",
    "callplotEx2((a[0],a[1]))\n",
    "print(\"Esse é o comprimento do vetor({},{}):\".format(a[0],a[1]), comprimentoEx2((a[0],a[1])))\n",
    "print(\"Esse é o cosseno do vetor({},{}) com o eixo X:\".format(a[0],a[1]), cossenoEixoX((a[0],a[1])))\n",
    "print(\"Esse é o cosseno do vetor({},{}) com o eixo Y:\".format(a[0],a[1]), cossenoEixoY((a[0],a[1])))"
   ]
  },
  {
   "cell_type": "code",
   "execution_count": 11,
   "metadata": {},
   "outputs": [
    {
     "name": "stdout",
     "output_type": "stream",
     "text": [
      "Esse é o comprimento do vetor(0,7): 7.0\n",
      "Esse é o cosseno do vetor(0,7) com o eixo X: 0.0\n",
      "Esse é o cosseno do vetor(0,7) com o eixo Y: 1.0\n"
     ]
    },
    {
     "data": {
      "image/png": "[encoded data removed]",
      "text/plain": [
       "<matplotlib.figure.Figure at 0x7c69d30>"
      ]
     },
     "metadata": {},
     "output_type": "display_data"
    }
   ],
   "source": [
    "# EX. 2c:\n",
    "a = (0, 7)\n",
    "callplotEx2((a[0],a[1]))\n",
    "print(\"Esse é o comprimento do vetor({},{}):\".format(a[0],a[1]), comprimentoEx2((a[0],a[1])))\n",
    "print(\"Esse é o cosseno do vetor({},{}) com o eixo X:\".format(a[0],a[1]), cossenoEixoX((a[0],a[1])))\n",
    "print(\"Esse é o cosseno do vetor({},{}) com o eixo Y:\".format(a[0],a[1]), cossenoEixoY((a[0],a[1])))"
   ]
  },
  {
   "cell_type": "code",
   "execution_count": 12,
   "metadata": {},
   "outputs": [
    {
     "name": "stdout",
     "output_type": "stream",
     "text": [
      "Esse é o comprimento do vetor(-7,0): 7.0\n",
      "Esse é o cosseno do vetor(-7,0) com o eixo X: -1.0\n",
      "Esse é o cosseno do vetor(-7,0) com o eixo Y: 0.0\n"
     ]
    },
    {
     "data": {
      "image/png": "[encoded data removed]",
      "text/plain": [
       "<matplotlib.figure.Figure at 0x7ca1990>"
      ]
     },
     "metadata": {},
     "output_type": "display_data"
    }
   ],
   "source": [
    "# EX. 2d:\n",
    "a = (-7, 0)\n",
    "callplotEx2((a[0],a[1]))\n",
    "print(\"Esse é o comprimento do vetor({},{}):\".format(a[0],a[1]), comprimentoEx2((a[0],a[1])))\n",
    "print(\"Esse é o cosseno do vetor({},{}) com o eixo X:\".format(a[0],a[1]), cossenoEixoX((a[0],a[1])))\n",
    "print(\"Esse é o cosseno do vetor({},{}) com o eixo Y:\".format(a[0],a[1]), cossenoEixoY((a[0],a[1])))"
   ]
  },
  {
   "cell_type": "code",
   "execution_count": 13,
   "metadata": {},
   "outputs": [
    {
     "name": "stdout",
     "output_type": "stream",
     "text": [
      "Esse é o comprimento do vetor(-5,3): 5.830951894845301\n",
      "Esse é o cosseno do vetor(-5,3) com o eixo X: -0.8574929257125442\n",
      "Esse é o cosseno do vetor(-5,3) com o eixo Y: 0.5144957554275266\n"
     ]
    },
    {
     "data": {
      "image/png": "[encoded data removed]",
      "text/plain": [
       "<matplotlib.figure.Figure at 0x7c2fe70>"
      ]
     },
     "metadata": {},
     "output_type": "display_data"
    }
   ],
   "source": [
    "# EX. 2e:\n",
    "a = (-5, 3)\n",
    "callplotEx2((a[0],a[1]))\n",
    "print(\"Esse é o comprimento do vetor({},{}):\".format(a[0],a[1]), comprimentoEx2((a[0],a[1])))\n",
    "print(\"Esse é o cosseno do vetor({},{}) com o eixo X:\".format(a[0],a[1]), cossenoEixoX((a[0],a[1])))\n",
    "print(\"Esse é o cosseno do vetor({},{}) com o eixo Y:\".format(a[0],a[1]), cossenoEixoY((a[0],a[1])))"
   ]
  },
  {
   "cell_type": "code",
   "execution_count": 14,
   "metadata": {},
   "outputs": [],
   "source": [
    "# Fim Exercicio2."
   ]
  },
  {
   "cell_type": "markdown",
   "metadata": {},
   "source": [
    "########################################"
   ]
  },
  {
   "cell_type": "markdown",
   "metadata": {},
   "source": [
    "####### Começo Exercicio3: <br>\n",
    "3) Dados três vetores a, b, c, escreva a equação ax+by=c:\n",
    "  - Em forma matricial\n",
    "  - Em forma de equações algébricas comuns"
   ]
  },
  {
   "cell_type": "markdown",
   "metadata": {},
   "source": [
    "1) Em Forma Matricial:\n",
    "\n",
    "\\begin{equation*}\n",
    "\\begin{vmatrix}\n",
    "\\mathbf{a_x} & \\mathbf{b_x} \\\\\n",
    "\\mathbf{a_y} & \\mathbf{b_y} \\\\\n",
    "\\mathbf{a_Z} & \\mathbf{b_z}\n",
    "\\end{vmatrix} = \n",
    "\\begin{vmatrix}\n",
    "\\mathbf{c_x} \\\\\n",
    "\\mathbf{c_y} \\\\\n",
    "\\mathbf{c_z} \\\\\n",
    "\\end{vmatrix}\n",
    "\\end{equation*}"
   ]
  },
  {
   "cell_type": "markdown",
   "metadata": {},
   "source": [
    "2) equações algébricas comuns:\n",
    "  - $a_x$*x + $b_x$*y = $c_x$  \n",
    "  - $a_y$*x + $b_y$*y = $c_y$  \n",
    "  - $a_z$*x + $b_z$*y = $c_z$  \n",
    "\n",
    "####### Fim Exercicio3."
   ]
  },
  {
   "cell_type": "markdown",
   "metadata": {},
   "source": [
    "#####################################"
   ]
  },
  {
   "cell_type": "markdown",
   "metadata": {},
   "source": [
    "4) Dados a=(−2,0,7) e b=(4,1,3), determine:\n",
    "  - â\n",
    "  - b^\n",
    "  - |a|\n",
    "  - |b|\n",
    "  - c=a−2b\n",
    "  - d=3a\n",
    "  - e=2a+3b"
   ]
  },
  {
   "cell_type": "code",
   "execution_count": 15,
   "metadata": {},
   "outputs": [],
   "source": [
    "# Começo Exercicio4:\n",
    "\n",
    "def comprimentoEx4(v1):\n",
    "    return ((v1[0])**2+(v1[1])**2+(v1[2])**2)**(1/2)\n",
    "\n",
    "def vetUniEx4(v1):\n",
    "    return ((v1[0]/comprimentoEx4(v1)),(v1[1]/comprimentoEx4(v1)),(v1[2]/comprimentoEx4(v1)))\n",
    "\n",
    "def prodEscalarEx4(v1, k):\n",
    "    return ((k*v1[0]),(k*v1[1]),(k*v1[2]))\n",
    "\n",
    "def subtrairEx4(v1, v2):\n",
    "    return ((v1[0]-v2[0]),(v1[1]-v2[1]), (v1[2]-v2[2]))\n",
    "\n",
    "def somarEx4(v1, v2):\n",
    "    return((v1[0]+v2[0]),(v1[1]+v2[1]),(v1[2]+v2[2]))"
   ]
  },
  {
   "cell_type": "code",
   "execution_count": 16,
   "metadata": {},
   "outputs": [
    {
     "name": "stdout",
     "output_type": "stream",
     "text": [
      "O vetor unitário de a(-2,0,7) é:  â = (-0.27472112789737807, 0.0, 0.9615239476408232)\n"
     ]
    }
   ],
   "source": [
    "# Ex 4a:\n",
    "a = (-2,0,7)\n",
    "print(\"O vetor unitário de a({},{},{}) é:  â =\".format(a[0],a[1],a[2]),vetUniEx4((a[0],a[1],a[2])))\n"
   ]
  },
  {
   "cell_type": "code",
   "execution_count": 17,
   "metadata": {},
   "outputs": [
    {
     "name": "stdout",
     "output_type": "stream",
     "text": [
      "O vetor unitário de b(4,1,3) é:  ^b = (0.7844645405527362, 0.19611613513818404, 0.5883484054145521)\n"
     ]
    }
   ],
   "source": [
    "# Ex 4b:\n",
    "b = (4,1,3)\n",
    "print(\"O vetor unitário de b({},{},{}) é:  ^b =\".format(b[0],b[1],b[2]),vetUniEx4((b[0],b[1],b[2])))"
   ]
  },
  {
   "cell_type": "code",
   "execution_count": 18,
   "metadata": {},
   "outputs": [
    {
     "name": "stdout",
     "output_type": "stream",
     "text": [
      "O módulo de a é:  |a| =  7.280109889280518\n"
     ]
    }
   ],
   "source": [
    "# EX 4c:\n",
    "a = (-2,0,7)\n",
    "print(\"O módulo de a é:  |a| = \",comprimentoEx4((a[0],a[1],a[2])))"
   ]
  },
  {
   "cell_type": "code",
   "execution_count": 19,
   "metadata": {},
   "outputs": [
    {
     "name": "stdout",
     "output_type": "stream",
     "text": [
      "O módulo de b é:  |b| =  5.0990195135927845\n"
     ]
    }
   ],
   "source": [
    "# EX 4d:\n",
    "b = (4,1,3)\n",
    "print(\"O módulo de b é:  |b| = \",comprimentoEx4((b[0],b[1],b[2])))"
   ]
  },
  {
   "cell_type": "code",
   "execution_count": 20,
   "metadata": {},
   "outputs": [
    {
     "name": "stdout",
     "output_type": "stream",
     "text": [
      "O vetor c é igual a:  c = (-10, -2, 1)\n"
     ]
    }
   ],
   "source": [
    "# Ex 4e:   c = a - 2b\n",
    "a = (-2,0,7)\n",
    "b = (4,1,3)\n",
    "\n",
    "# h = 2b:\n",
    "h = prodEscalarEx4((b[0],b[1],b[2]),2)\n",
    "\n",
    "print(\"O vetor c é igual a:  c =\", subtrairEx4((a[0],a[1],a[2]),(h[0],h[1],h[2])))"
   ]
  },
  {
   "cell_type": "code",
   "execution_count": 21,
   "metadata": {},
   "outputs": [
    {
     "name": "stdout",
     "output_type": "stream",
     "text": [
      "O vetor d é igual a:  d = (-6, 0, 21)\n"
     ]
    }
   ],
   "source": [
    "# Ex 4f :     d = 3a\n",
    "a = (-2,0,7)\n",
    "\n",
    "print(\"O vetor d é igual a:  d =\", prodEscalarEx4((a[0],a[1],a[2]),3))"
   ]
  },
  {
   "cell_type": "code",
   "execution_count": 22,
   "metadata": {},
   "outputs": [
    {
     "name": "stdout",
     "output_type": "stream",
     "text": [
      "O vetor e é igual a:   e = (8, 3, 23)\n"
     ]
    }
   ],
   "source": [
    "# Ex 4g : e = 2a + 3b\n",
    "a = (-2,0,7)\n",
    "b = (4,1,3)\n",
    "\n",
    "# m = 2a:\n",
    "m = prodEscalarEx4((a[0],a[1],a[2]),2)\n",
    "\n",
    "# n = 3b:\n",
    "n = prodEscalarEx4((b[0],b[1],b[2]),3)\n",
    "\n",
    "print(\"O vetor e é igual a:   e =\", somarEx4((m[0],m[1],m[2]),(n[0],n[1],n[2])))\n"
   ]
  },
  {
   "cell_type": "code",
   "execution_count": 23,
   "metadata": {},
   "outputs": [],
   "source": [
    "# Fim Exercicio4."
   ]
  },
  {
   "cell_type": "markdown",
   "metadata": {},
   "source": [
    "###########################################"
   ]
  },
  {
   "cell_type": "markdown",
   "metadata": {},
   "source": [
    "5) Dados a=(6,2,−5) e b=2a, compare os vetores unitários â e b^."
   ]
  },
  {
   "cell_type": "code",
   "execution_count": 24,
   "metadata": {},
   "outputs": [],
   "source": [
    "# Começo Exercicio5:\n",
    "\n",
    "def comprimentoEx5(v1):\n",
    "    return ((v1[0])**2+(v1[1])**2+(v1[2])**2)**(1/2)\n",
    "\n",
    "def prodEscalarEx5(v1, k):\n",
    "    return ((k*v1[0]),(k*v1[1]),(k*v1[2]))"
   ]
  },
  {
   "cell_type": "code",
   "execution_count": 25,
   "metadata": {},
   "outputs": [
    {
     "name": "stdout",
     "output_type": "stream",
     "text": [
      "O vetor unitário de a é:  â = (0.7442084075352507, 0.24806946917841693, -0.6201736729460423)\n"
     ]
    }
   ],
   "source": [
    "a = (6,2,-5)\n",
    "\n",
    "h = comprimentoEx5((a[0],a[1],a[2]))\n",
    "i = ((a[0]/h),(a[1]/h),(a[2]/h))\n",
    "\n",
    "print(\"O vetor unitário de a é:  â =\", i)"
   ]
  },
  {
   "cell_type": "code",
   "execution_count": 26,
   "metadata": {},
   "outputs": [
    {
     "name": "stdout",
     "output_type": "stream",
     "text": [
      "O vetor unitário de b é:  ^b = (0.7442084075352507, 0.24806946917841693, -0.6201736729460423)\n"
     ]
    }
   ],
   "source": [
    "# b = 2a:\n",
    "a = (6,2,-5)\n",
    "b = prodEscalarEx5((a[0],a[1],a[2]),2)\n",
    "\n",
    "m = comprimentoEx5((b[0],b[1],b[2]))\n",
    "n = ((b[0]/m),(b[1]/m),(b[2]/m))\n",
    "\n",
    "print(\"O vetor unitário de b é:  ^b =\", n)"
   ]
  },
  {
   "cell_type": "code",
   "execution_count": 27,
   "metadata": {},
   "outputs": [
    {
     "name": "stdout",
     "output_type": "stream",
     "text": [
      "Os vetores unitários â(0.7442084075352507,0.24806946917841693,-0.6201736729460423)  e  ^b(0.74420840753525070.24806946917841693-0.6201736729460423) são iguais.\n"
     ]
    }
   ],
   "source": [
    "if i == n:\n",
    "    print(\"Os vetores unitários â({},{},{})  e  ^b({}{}{}) são iguais.\".format(i[0],i[1],i[2],n[0],n[1],n[2]))\n",
    "else:\n",
    "    print(\"Os vetores unitários â({},{},{})  e  ^b({}{}{}) não são iguais.\".format(i[0],i[1],i[2],n[0],n[1],n[2]))\n"
   ]
  },
  {
   "cell_type": "code",
   "execution_count": 28,
   "metadata": {},
   "outputs": [],
   "source": [
    "# Fim exercicio5."
   ]
  },
  {
   "cell_type": "markdown",
   "metadata": {},
   "source": [
    "###################################"
   ]
  },
  {
   "cell_type": "markdown",
   "metadata": {},
   "source": [
    "6) Compute os produtos escalares seguintes:\n",
    "  - i⋅i\n",
    "  - i⋅j\n",
    "  - i⋅k\n",
    "  - j⋅j\n",
    "  - j⋅k\n",
    "  - k⋅k"
   ]
  },
  {
   "cell_type": "code",
   "execution_count": 29,
   "metadata": {},
   "outputs": [],
   "source": [
    "# Começo Exercicio6\n",
    "def prodEscalarEx6(v1,v2):\n",
    "    return ((v1[0]*v2[0])+(v1[1]*v2[1])+(v1[2]*v2[2]))"
   ]
  },
  {
   "cell_type": "code",
   "execution_count": 30,
   "metadata": {},
   "outputs": [
    {
     "name": "stdout",
     "output_type": "stream",
     "text": [
      "O produto de i vezes i é:  1\n"
     ]
    }
   ],
   "source": [
    "# Ex 6a:    i * i \n",
    "Elem1 = 'i'\n",
    "Elem2 = 'i'\n",
    "i = (1,0,0)\n",
    "print(\"O produto de {} vezes {} é: \".format(Elem1,Elem2),prodEscalarEx6(i,i))"
   ]
  },
  {
   "cell_type": "code",
   "execution_count": 31,
   "metadata": {},
   "outputs": [
    {
     "name": "stdout",
     "output_type": "stream",
     "text": [
      "O produto de i vezes j é:  0\n"
     ]
    }
   ],
   "source": [
    "# Ex 6b:    i * j \n",
    "Elem1 = 'i'\n",
    "Elem2 = 'j'\n",
    "i = (1,0,0)\n",
    "j = (0,1,0)\n",
    "print(\"O produto de {} vezes {} é: \".format(Elem1,Elem2),prodEscalarEx6(i,j))"
   ]
  },
  {
   "cell_type": "code",
   "execution_count": 32,
   "metadata": {},
   "outputs": [
    {
     "name": "stdout",
     "output_type": "stream",
     "text": [
      "O produto de i vezes k é:  0\n"
     ]
    }
   ],
   "source": [
    "# Ex 6c:    i * k \n",
    "Elem1 = 'i'\n",
    "Elem2 = 'k'\n",
    "i = (1,0,0)\n",
    "k = (0,0,1)\n",
    "print(\"O produto de {} vezes {} é: \".format(Elem1,Elem2),prodEscalarEx6(i,k))"
   ]
  },
  {
   "cell_type": "code",
   "execution_count": 33,
   "metadata": {},
   "outputs": [
    {
     "name": "stdout",
     "output_type": "stream",
     "text": [
      "O produto de j vezes j é:  1\n"
     ]
    }
   ],
   "source": [
    "# Ex 6d:    j * j\n",
    "Elem1 = 'j'\n",
    "Elem2 = 'j'\n",
    "j = (0,1,0)\n",
    "print(\"O produto de {} vezes {} é: \".format(Elem1,Elem2),prodEscalarEx6(j,j))"
   ]
  },
  {
   "cell_type": "code",
   "execution_count": 34,
   "metadata": {},
   "outputs": [
    {
     "name": "stdout",
     "output_type": "stream",
     "text": [
      "O produto de j vezes k é:  0\n"
     ]
    }
   ],
   "source": [
    "# Ex 6e:    j * k \n",
    "Elem1 = 'j'\n",
    "Elem2 = 'k'\n",
    "j = (0,1,0)\n",
    "k = (0,0,1)\n",
    "print(\"O produto de {} vezes {} é: \".format(Elem1,Elem2),prodEscalarEx6(j,k))"
   ]
  },
  {
   "cell_type": "code",
   "execution_count": 35,
   "metadata": {},
   "outputs": [
    {
     "name": "stdout",
     "output_type": "stream",
     "text": [
      "O produto de k vezes k é:  1\n"
     ]
    }
   ],
   "source": [
    "# Ex 6f:    k * k \n",
    "Elem1 = 'k'\n",
    "Elem2 = 'k'\n",
    "k = (0,0,1)\n",
    "print(\"O produto de {} vezes {} é: \".format(Elem1,Elem2),prodEscalarEx6(k,k))"
   ]
  },
  {
   "cell_type": "code",
   "execution_count": 36,
   "metadata": {},
   "outputs": [],
   "source": [
    "# Fim Exercicio6."
   ]
  },
  {
   "cell_type": "markdown",
   "metadata": {},
   "source": [
    "#####################################"
   ]
  },
  {
   "cell_type": "markdown",
   "metadata": {},
   "source": [
    "7) Dados a=(2,0,5), b=(−1,3,1) e c=(6,−2,−4), compute:\n",
    "  - a⋅a\n",
    "  - a⋅b\n",
    "  - c⋅b\n",
    "  - â⋅â\n",
    "  - â⋅b^"
   ]
  },
  {
   "cell_type": "code",
   "execution_count": 37,
   "metadata": {},
   "outputs": [],
   "source": [
    "# Começo Exercici\n",
    "def prodEscalarEx7(v1,v2):\n",
    "    return ((v1[0]*v2[0])+(v1[1]*v2[1])+(v1[2]*v2[2]))\n",
    "\n",
    "def comprimentoEx7(v1):\n",
    "    return ((v1[0])**2+(v1[1])**2+(v1[2])**2)**(1/2)\n",
    "\n",
    "def vetUni(v1, x):\n",
    "    return ((v1[0]/x),(v1[1]/x),(v1[2]/x))\n",
    "    "
   ]
  },
  {
   "cell_type": "code",
   "execution_count": 38,
   "metadata": {},
   "outputs": [
    {
     "name": "stdout",
     "output_type": "stream",
     "text": [
      "O produto de a*a é =  29\n"
     ]
    }
   ],
   "source": [
    "# Ex 7a:            a*a\n",
    "a = (2,0,5)\n",
    "print(\"O produto de {}*{} é = \".format('a','a'), prodEscalarEx7((a[0],a[1],a[2]),(a[0],a[1],a[2])))"
   ]
  },
  {
   "cell_type": "code",
   "execution_count": 39,
   "metadata": {},
   "outputs": [
    {
     "name": "stdout",
     "output_type": "stream",
     "text": [
      "O produto de a*b é =  3\n"
     ]
    }
   ],
   "source": [
    "# Ex 7b:     a*b\n",
    "a = (2,0,5)\n",
    "b = (-1,3,1)\n",
    "print(\"O produto de {}*{} é = \".format('a','b'), prodEscalarEx7((a[0],a[1],a[2]),(b[0],b[1],b[2])))"
   ]
  },
  {
   "cell_type": "code",
   "execution_count": 40,
   "metadata": {},
   "outputs": [
    {
     "name": "stdout",
     "output_type": "stream",
     "text": [
      "O produto de c*b é =  -16\n"
     ]
    }
   ],
   "source": [
    "# Ex 7c:     c*b\n",
    "c = (6,-2,-4) \n",
    "b = (-1,3,1)\n",
    "print(\"O produto de {}*{} é = \".format('c','b'), prodEscalarEx7((c[0],c[1],c[2]),(b[0],b[1],b[2])))"
   ]
  },
  {
   "cell_type": "code",
   "execution_count": 41,
   "metadata": {},
   "outputs": [
    {
     "name": "stdout",
     "output_type": "stream",
     "text": [
      "O produto de â*â é =  1.0000000000000002\n"
     ]
    }
   ],
   "source": [
    "# Ex 7d:    â* â\n",
    "a = (2,0,5)\n",
    "\n",
    "modulo = comprimentoEx7((a[0],a[1],a[2]))               \n",
    "aUni = vetUni((a[0],a[1],a[2]),modulo)\n",
    "\n",
    "print(\"O produto de {}*{} é = \".format('â','â'), prodEscalarEx7((aUni[0],aUni[1],aUni[2]),(aUni[0],aUni[1],aUni[2])))"
   ]
  },
  {
   "cell_type": "code",
   "execution_count": 42,
   "metadata": {},
   "outputs": [
    {
     "name": "stdout",
     "output_type": "stream",
     "text": [
      "O produto de â*^b é =  0.1679677532867563\n"
     ]
    }
   ],
   "source": [
    "# Ex 7e:     â*^b\n",
    "\n",
    "a = (2,0,5)\n",
    "b = (-1,3,1)\n",
    "\n",
    "moduloA = comprimentoEx7((a[0],a[1],a[2]))   \n",
    "aUni = vetUni((a[0],a[1],a[2]),moduloA)\n",
    "\n",
    "moduloB = comprimentoEx7((b[0],b[1],b[2]))   \n",
    "bUni = vetUni((b[0],b[1],b[2]),moduloB)\n",
    "\n",
    "print(\"O produto de {}*{} é = \".format('â','^b'), prodEscalarEx7((aUni[0],aUni[1],aUni[2]),(bUni[0],bUni[1],bUni[2])))"
   ]
  },
  {
   "cell_type": "code",
   "execution_count": 43,
   "metadata": {},
   "outputs": [],
   "source": [
    "# Fim Exercicio7."
   ]
  },
  {
   "cell_type": "markdown",
   "metadata": {},
   "source": [
    "###########################################"
   ]
  },
  {
   "cell_type": "markdown",
   "metadata": {},
   "source": [
    "8) Determine as magnitudes (comprimento) e os cossenos da direção dos seguintes vetores:\n",
    "  - a=(3,4)\n",
    "  - b=(0,−2)\n",
    "  - c=(−3,−5,0)\n",
    "  - d=(1,4,−3)\n",
    "  - e=(x,y,z)"
   ]
  },
  {
   "cell_type": "code",
   "execution_count": 44,
   "metadata": {},
   "outputs": [],
   "source": [
    "# Começo Exercicio8:\n",
    "\n",
    "def magnitudeEx8(v1):\n",
    "    if len(v1) == 2:\n",
    "        return ((v1[0])**2+(v1[1])**2)**(1/2)\n",
    "    elif len(v1) == 3:\n",
    "        return ((v1[0])**2+(v1[1])**2+(v1[2])**2)**(1/2)\n",
    "\n",
    "def cossenoEixoX(v1):\n",
    "    if len(v1) == 2:\n",
    "        return ((v1[0]*20) + (v1[1]*0))/(magnitudeEx8((v1[0],v1[1]))*magnitudeEx8((20,0)))\n",
    "    elif len(v1) == 3:\n",
    "        return ((v1[0]*20) + (v1[1]*0) + (v1[2]*0))/(magnitudeEx8((v1[0],v1[1],v1[2]))*magnitudeEx8((20,0,0)))\n",
    "\n",
    "def cossenoEixoY(v1):\n",
    "    if len(v1) == 2:\n",
    "        return ((v1[0]*0) + (v1[1]*20))/(magnitudeEx8((v1[0],v1[1]))*magnitudeEx8((0,20)))\n",
    "    elif len(v1) == 3:\n",
    "        return ((v1[0]*0) + (v1[1]*20) + (v1[2]*0))/(magnitudeEx8((v1[0],v1[1],v1[2]))*magnitudeEx8((0,20,0)))\n",
    "\n",
    "def cossenoEixoZ(v1):\n",
    "    return ((v1[0]*0) + (v1[1]*0) + (v1[2]*20))/(magnitudeEx8((v1[0],v1[1],v1[2]))*magnitudeEx8((0,0,20)))"
   ]
  },
  {
   "cell_type": "code",
   "execution_count": 45,
   "metadata": {},
   "outputs": [
    {
     "name": "stdout",
     "output_type": "stream",
     "text": [
      "A magnitude de a é: a = 5.0\n",
      "O cosseno com o eixo X de a é: a = 0.6\n",
      "O cosseno com o eixo Y de a é: a = 0.8\n"
     ]
    }
   ],
   "source": [
    "# Ex 8a:            \n",
    "a = (3,4)\n",
    "x = 'a'\n",
    "print(\"A magnitude de {} é: {} =\".format(x,x), magnitudeEx8(a))\n",
    "print(\"O cosseno com o eixo X de {} é: {} =\".format(x,x), cossenoEixoX(a))\n",
    "print(\"O cosseno com o eixo Y de {} é: {} =\".format(x,x), cossenoEixoY(a))"
   ]
  },
  {
   "cell_type": "code",
   "execution_count": 46,
   "metadata": {},
   "outputs": [
    {
     "name": "stdout",
     "output_type": "stream",
     "text": [
      "A magnitude de b é: b = 2.0\n",
      "O cosseno com o eixo X de b é: b = 0.0\n",
      "O cosseno com o eixo Y de b é: b = -1.0\n"
     ]
    }
   ],
   "source": [
    "# Ex 8b:            \n",
    "b = (0,-2)\n",
    "x = 'b'\n",
    "print(\"A magnitude de {} é: {} =\".format(x,x), magnitudeEx8(b))\n",
    "print(\"O cosseno com o eixo X de {} é: {} =\".format(x,x), cossenoEixoX(b))\n",
    "print(\"O cosseno com o eixo Y de {} é: {} =\".format(x,x), cossenoEixoY(b))"
   ]
  },
  {
   "cell_type": "code",
   "execution_count": 47,
   "metadata": {},
   "outputs": [
    {
     "name": "stdout",
     "output_type": "stream",
     "text": [
      "A magnitude de c é: c = 5.830951894845301\n",
      "O cosseno com o eixo X de c é: c = -0.5144957554275266\n",
      "O cosseno com o eixo Y de c é: c = -0.8574929257125442\n",
      "O cosseno com o eixo Z de c é: c = 0.0\n"
     ]
    }
   ],
   "source": [
    "# Ex 8c:        \n",
    "c = (-3,-5,0)\n",
    "x = 'c'\n",
    "print(\"A magnitude de {} é: {} =\".format(x,x), magnitudeEx8(c))\n",
    "print(\"O cosseno com o eixo X de {} é: {} =\".format(x,x), cossenoEixoX(c))\n",
    "print(\"O cosseno com o eixo Y de {} é: {} =\".format(x,x), cossenoEixoY(c))\n",
    "print(\"O cosseno com o eixo Z de {} é: {} =\".format(x,x), cossenoEixoZ(c))"
   ]
  },
  {
   "cell_type": "code",
   "execution_count": 48,
   "metadata": {},
   "outputs": [
    {
     "name": "stdout",
     "output_type": "stream",
     "text": [
      "A magnitude de d é: d = 5.0990195135927845\n",
      "O cosseno com o eixo X de d é: d = 0.19611613513818404\n",
      "O cosseno com o eixo Y de d é: d = 0.7844645405527362\n",
      "O cosseno com o eixo Z de d é: d = -0.5883484054145521\n"
     ]
    }
   ],
   "source": [
    "# Ex 8d:        \n",
    "d = (1,4,-3)\n",
    "x = 'd'\n",
    "print(\"A magnitude de {} é: {} =\".format(x,x), magnitudeEx8(d))\n",
    "print(\"O cosseno com o eixo X de {} é: {} =\".format(x,x), cossenoEixoX(d))\n",
    "print(\"O cosseno com o eixo Y de {} é: {} =\".format(x,x), cossenoEixoY(d))\n",
    "print(\"O cosseno com o eixo Z de {} é: {} =\".format(x,x), cossenoEixoZ(d))"
   ]
  },
  {
   "cell_type": "markdown",
   "metadata": {},
   "source": [
    "#Ex 8e:\n",
    " \n",
    "  - A magnitude de e é:  $|e|$ = $\\sqrt {x^2 + y^2 + z^2} $   <br>\n",
    "  - O cosseno com o eixo X de e é:  \\begin{equation*} \\cos {X} = \\frac{ \\mathbf{e} \\times \\mathbf{i} }{\\mathbf{|e|} \\times \\mathbf{|i|} } \\end{equation*}\n",
    "  - O cosseno com o eixo Y de e é:  \\begin{equation*} \\cos {Y} = \\frac{ \\mathbf{e} \\times \\mathbf{j} }{\\mathbf{|e|} \\times \\mathbf{|j|} } \\end{equation*}\n",
    "  - O cosseno com o eixo Z de e é:  \\begin{equation*} \\cos {Z} = \\frac{ \\mathbf{e} \\times \\mathbf{k} }{\\mathbf{|e|} \\times \\mathbf{|k|} } \\end{equation*}"
   ]
  },
  {
   "cell_type": "code",
   "execution_count": 52,
   "metadata": {},
   "outputs": [
    {
     "name": "stdout",
     "output_type": "stream",
     "text": [
      "Defina x:1\n",
      "Defina y:4\n",
      "Defina z:5\n",
      "A magnitude de e é: e = 6.48074069840786\n",
      "O cosseno com o eixo X de e é: e = 0.1543033499620919\n",
      "O cosseno com o eixo Y de e é: e = 0.6172133998483676\n",
      "O cosseno com o eixo Z de e é: e = 0.7715167498104596\n"
     ]
    }
   ],
   "source": [
    "x = int(input(\"Defina x:\"))\n",
    "y = int(input(\"Defina y:\"))\n",
    "z = int(input(\"Defina z:\"))\n",
    "\n",
    "e = (x,y,z)\n",
    "s = 'e'\n",
    "print(\"A magnitude de {} é: {} =\".format(s,s), magnitudeEx8(e))\n",
    "print(\"O cosseno com o eixo X de {} é: {} =\".format(s,s), cossenoEixoX(e))\n",
    "print(\"O cosseno com o eixo Y de {} é: {} =\".format(s,s), cossenoEixoY(e))\n",
    "print(\"O cosseno com o eixo Z de {} é: {} =\".format(s,s), cossenoEixoZ(e))"
   ]
  },
  {
   "cell_type": "code",
   "execution_count": 50,
   "metadata": {},
   "outputs": [],
   "source": [
    "# Fim do Exercicio8."
   ]
  },
  {
   "cell_type": "markdown",
   "metadata": {},
   "source": [
    "##################################"
   ]
  },
  {
   "cell_type": "markdown",
   "metadata": {},
   "source": [
    "9) Compute os produtos escalares dos seguintes pares de vetores:\n",
    "  - a=(0,−2), b=(1,3)\n",
    "  - a=(1,0), b=(0,4)\n",
    "  - a=(5,1,7), b=(−2,4,1)"
   ]
  },
  {
   "cell_type": "code",
   "execution_count": 13,
   "metadata": {},
   "outputs": [],
   "source": [
    "#Começo Exercicio9:\n",
    "def prodEscalarEx9(v1,v2):\n",
    "    if len(v1) == 2:\n",
    "        return ((v1[0]*v2[0])+(v1[1]*v2[1]))\n",
    "    elif len(v1) == 3:\n",
    "        return ((v1[0]*v2[0])+(v1[1]*v2[1])+(v1[2]*v2[2]))"
   ]
  },
  {
   "cell_type": "code",
   "execution_count": 19,
   "metadata": {},
   "outputs": [
    {
     "name": "stdout",
     "output_type": "stream",
     "text": [
      "O produto escalar dos vetores a e b é igual a:  -6\n"
     ]
    }
   ],
   "source": [
    "# Ex 9a:      \n",
    "a = (0,-2)\n",
    "b = (1,3)\n",
    "\n",
    "print(\"O produto escalar dos vetores {} e {} é igual a: \".format('a','b'), prodEscalarEx9(a,b))"
   ]
  },
  {
   "cell_type": "code",
   "execution_count": 16,
   "metadata": {},
   "outputs": [
    {
     "name": "stdout",
     "output_type": "stream",
     "text": [
      "O produto escalar dos vetores a e b é igual a:  0\n"
     ]
    }
   ],
   "source": [
    "# Ex 9b:      \n",
    "a = (1,0)\n",
    "b = (0,4)\n",
    "\n",
    "print(\"O produto escalar dos vetores {} e {} é igual a: \".format('a','b'), prodEscalarEx9(a,b))"
   ]
  },
  {
   "cell_type": "code",
   "execution_count": 18,
   "metadata": {},
   "outputs": [
    {
     "name": "stdout",
     "output_type": "stream",
     "text": [
      "O produto escalar dos vetores a e b é igual a:  1\n"
     ]
    }
   ],
   "source": [
    "# Ex 9c:      \n",
    "a = (5,1,7)\n",
    "b = (-2,4,1)\n",
    "\n",
    "print(\"O produto escalar dos vetores {} e {} é igual a: \".format('a','b'), prodEscalarEx9(a,b))"
   ]
  },
  {
   "cell_type": "code",
   "execution_count": 20,
   "metadata": {},
   "outputs": [],
   "source": [
    "# Fim Exercicio9."
   ]
  },
  {
   "cell_type": "markdown",
   "metadata": {},
   "source": [
    "#####################################"
   ]
  },
  {
   "cell_type": "markdown",
   "metadata": {},
   "source": [
    "10) Calcule os seguintes produtos vetoriais:\n",
    "  - i×i\n",
    "  - j×j\n",
    "  - k×k\n",
    "  - i×j\n",
    "  - j×k\n",
    "  - k×i\n",
    "  - j×i\n",
    "  - k×j\n",
    "  - i×k"
   ]
  },
  {
   "cell_type": "code",
   "execution_count": 66,
   "metadata": {},
   "outputs": [],
   "source": [
    "def prodVetorialEx10(v1,v2):\n",
    "    return ((v1[1]*v2[2] - v1[2]*v2[1]),(v1[2]*v2[0] - v1[0]*v2[2]),(v1[0]*v2[1] - v1[1]*v2[0]))"
   ]
  },
  {
   "cell_type": "code",
   "execution_count": 67,
   "metadata": {},
   "outputs": [
    {
     "name": "stdout",
     "output_type": "stream",
     "text": [
      "O produto vetorial de iXi é igual a:  (0, 0, 0)\n"
     ]
    }
   ],
   "source": [
    "# Ex 10a:\n",
    "i = (1,0,0)\n",
    "\n",
    "print(\"O produto vetorial de {}X{} é igual a: \".format('i','i'), prodVetorialEx10(i,i))"
   ]
  },
  {
   "cell_type": "code",
   "execution_count": 68,
   "metadata": {},
   "outputs": [
    {
     "name": "stdout",
     "output_type": "stream",
     "text": [
      "O produto vetorial de jXj é igual a:  (0, 0, 0)\n"
     ]
    }
   ],
   "source": [
    "# Ex 10b:\n",
    "j = (0,1,0)\n",
    "\n",
    "print(\"O produto vetorial de {}X{} é igual a: \".format('j','j'), prodVetorialEx10(j,j))"
   ]
  },
  {
   "cell_type": "code",
   "execution_count": 69,
   "metadata": {},
   "outputs": [
    {
     "name": "stdout",
     "output_type": "stream",
     "text": [
      "O produto vetorial de kXk é igual a:  (0, 0, 0)\n"
     ]
    }
   ],
   "source": [
    "# Ex 10c:\n",
    "k = (0,0,1)\n",
    "\n",
    "print(\"O produto vetorial de {}X{} é igual a: \".format('k','k'), prodVetorialEx10(k,k))"
   ]
  },
  {
   "cell_type": "code",
   "execution_count": 70,
   "metadata": {},
   "outputs": [
    {
     "name": "stdout",
     "output_type": "stream",
     "text": [
      "O produto vetorial de iXj é igual a:  (0, 0, 1)\n"
     ]
    }
   ],
   "source": [
    "# Ex 10d:\n",
    "i = (1,0,0)\n",
    "j = (0,1,0)\n",
    "\n",
    "print(\"O produto vetorial de {}X{} é igual a: \".format('i','j'), prodVetorialEx10(i,j))"
   ]
  },
  {
   "cell_type": "code",
   "execution_count": 71,
   "metadata": {},
   "outputs": [
    {
     "name": "stdout",
     "output_type": "stream",
     "text": [
      "O produto vetorial de jXk é igual a:  (1, 0, 0)\n"
     ]
    }
   ],
   "source": [
    "# Ex 10e:\n",
    "j = (0,1,0)\n",
    "k = (0,0,1)\n",
    "\n",
    "print(\"O produto vetorial de {}X{} é igual a: \".format('j','k'), prodVetorialEx10(j,k))"
   ]
  },
  {
   "cell_type": "code",
   "execution_count": 72,
   "metadata": {},
   "outputs": [
    {
     "name": "stdout",
     "output_type": "stream",
     "text": [
      "O produto vetorial de kXi é igual a:  (0, 1, 0)\n"
     ]
    }
   ],
   "source": [
    "# Ex 10f:\n",
    "k = (0,0,1)\n",
    "i = (1,0,0)\n",
    "\n",
    "print(\"O produto vetorial de {}X{} é igual a: \".format('k','i'), prodVetorialEx10(k,i))"
   ]
  },
  {
   "cell_type": "code",
   "execution_count": 73,
   "metadata": {},
   "outputs": [
    {
     "name": "stdout",
     "output_type": "stream",
     "text": [
      "O produto vetorial de jXi é igual a:  (0, 0, -1)\n"
     ]
    }
   ],
   "source": [
    "# Ex 10g:\n",
    "j = (0,1,0)\n",
    "i = (1,0,0)\n",
    "\n",
    "print(\"O produto vetorial de {}X{} é igual a: \".format('j','i'), prodVetorialEx10(j,i))"
   ]
  },
  {
   "cell_type": "code",
   "execution_count": 74,
   "metadata": {},
   "outputs": [
    {
     "name": "stdout",
     "output_type": "stream",
     "text": [
      "O produto vetorial de kXj é igual a:  (-1, 0, 0)\n"
     ]
    }
   ],
   "source": [
    "# Ex 10h:\n",
    "k = (0,0,1)\n",
    "j = (0,1,0)\n",
    "\n",
    "print(\"O produto vetorial de {}X{} é igual a: \".format('k','j'), prodVetorialEx10(k,j))"
   ]
  },
  {
   "cell_type": "code",
   "execution_count": 75,
   "metadata": {},
   "outputs": [
    {
     "name": "stdout",
     "output_type": "stream",
     "text": [
      "O produto vetorial de iXk é igual a:  (0, -1, 0)\n"
     ]
    }
   ],
   "source": [
    "# Ex 10i:\n",
    "i = (1,0,0)\n",
    "k = (0,0,1)\n",
    "\n",
    "print(\"O produto vetorial de {}X{} é igual a: \".format('i','k'), prodVetorialEx10(i,k))"
   ]
  },
  {
   "cell_type": "code",
   "execution_count": 76,
   "metadata": {},
   "outputs": [],
   "source": [
    "# Fim Exercicio10."
   ]
  },
  {
   "cell_type": "markdown",
   "metadata": {},
   "source": [
    "########################################"
   ]
  },
  {
   "cell_type": "markdown",
   "metadata": {},
   "source": [
    "11) Mostre que b×a=−(a×b)."
   ]
  },
  {
   "cell_type": "code",
   "execution_count": 53,
   "metadata": {},
   "outputs": [],
   "source": [
    "# Começo Exercicio11:"
   ]
  },
  {
   "cell_type": "markdown",
   "metadata": {},
   "source": [
    "Etapa 1: <br>\n",
    "\\begin{equation*} \\mathbf{a} \\times \\mathbf{b} = \\ det \\ \\begin{vmatrix}\n",
    "\\mathbf{i} & \\mathbf{j} & \\mathbf{k} \\\\\n",
    "\\mathbf{a_1} & \\mathbf{a_2} & \\mathbf{a_3} \\\\\n",
    "\\mathbf{b_1} & \\mathbf{b_2} & \\mathbf{b_3}\n",
    "\\end{vmatrix}\n",
    "\\end{equation*}\n",
    "<br>\n",
    "\n",
    "Etapa 2: <br>\n",
    "\\begin{equation*} \\mathbf{a} \\times \\mathbf{b} = i(\\mathbf{a_2} * \\mathbf{b_3}) + j(\\mathbf{a_3} * \\mathbf{b_1}) +\n",
    "k(\\mathbf{a_1} * \\mathbf{b_2}) - i(\\mathbf{a_3} * \\mathbf{b_2}) - j(\\mathbf{a_1} * \\mathbf{b_3}) - \n",
    "k(\\mathbf{a_2} * \\mathbf{b_1})  \\end{equation*}\n",
    "<br>\n",
    "\n",
    "Etapa 3: <br>\n",
    "$Agora \\ multiplicamos \\ ambos \\ os \\ lados \\ da \\ igualdade \\ acima(etapa 2) \\ por \\ -1:$\n",
    "<br><br>\n",
    "\\begin{equation*} -1 * (\\mathbf{a} \\times \\mathbf{b}) = -1 * (i(\\mathbf{a_2} * \\mathbf{b_3}) + j(\\mathbf{a_3} * \\mathbf{b_1}) +\n",
    "k(\\mathbf{a_1} * \\mathbf{b_2}) - i(\\mathbf{a_3} * \\mathbf{b_2}) - j(\\mathbf{a_1} * \\mathbf{b_3}) - \n",
    "k(\\mathbf{a_2} * \\mathbf{b_1}) ) \\end{equation*}\n",
    "<br>\n",
    "\\begin{equation*} -(\\mathbf{a} \\times \\mathbf{b}) =  -i(\\mathbf{a_2} * \\mathbf{b_3}) - j(\\mathbf{a_3} * \\mathbf{b_1}) -\n",
    "k(\\mathbf{a_1} * \\mathbf{b_2}) + i(\\mathbf{a_3} * \\mathbf{b_2}) + j(\\mathbf{a_1} * \\mathbf{b_3}) +\n",
    "k(\\mathbf{a_2} * \\mathbf{b_1}) \\end{equation*}\n",
    "<br>\n",
    "\\begin{equation*} -(\\mathbf{a} \\times \\mathbf{b}) = i(\\mathbf{a_3} * \\mathbf{b_2}) + j(\\mathbf{a_1} * \\mathbf{b_3}) +\n",
    "k(\\mathbf{a_2} * \\mathbf{b_1}) -i(\\mathbf{a_2} * \\mathbf{b_3}) - j(\\mathbf{a_3} * \\mathbf{b_1}) -\n",
    "k(\\mathbf{a_1} * \\mathbf{b_2}) \\end{equation*}\n",
    "<br>\n",
    "\n",
    "Etapa 4: <br>\n",
    "\\begin{equation*} \\mathbf{b} \\times \\mathbf{a} = \\ det \\ \\begin{vmatrix}\n",
    "\\mathbf{i} & \\mathbf{j} & \\mathbf{k} \\\\\n",
    "\\mathbf{b_1} & \\mathbf{b_2} & \\mathbf{b_3} \\\\\n",
    "\\mathbf{a_1} & \\mathbf{a_2} & \\mathbf{a_3}\n",
    "\\end{vmatrix}\n",
    "\\end{equation*}\n",
    "<br>\n",
    "\n",
    "Etapa 5: <br>\n",
    "\\begin{equation*} \\mathbf{b} \\times \\mathbf{a} = i(\\mathbf{b_2} * \\mathbf{a_3}) + j(\\mathbf{b_3} * \\mathbf{a_1}) +\n",
    "k(\\mathbf{b_1} * \\mathbf{a_2}) - i(\\mathbf{b_3} * \\mathbf{a_2}) - j(\\mathbf{b_1} * \\mathbf{a_3}) - \n",
    "k(\\mathbf{b_2} * \\mathbf{a_1})  \\end{equation*}\n",
    "<br>\n",
    "\n",
    "Etapa 6:<br>\n",
    "$Note \\ que \\ o \\ lado \\ direito \\ das \\ igualdades \\ nas \\ etapas \\ 3 \\ e \\ 5 \\ coincidem, \\ são \\ igualmente \\ iguais. \\ Portanto: $<br>\n",
    "\n",
    "\\begin{equation*} -(\\mathbf{a} \\times \\mathbf{b}) = i(\\mathbf{a_3} * \\mathbf{b_2}) + j(\\mathbf{a_1} * \\mathbf{b_3}) +\n",
    "k(\\mathbf{a_2} * \\mathbf{b_1}) -i(\\mathbf{a_2} * \\mathbf{b_3}) - j(\\mathbf{a_3} * \\mathbf{b_1}) -\n",
    "k(\\mathbf{a_1} * \\mathbf{b_2}) \\end{equation*}<br>\n",
    "\n",
    "\\begin{equation*} \\mathbf{b} \\times \\mathbf{a} = i(\\mathbf{b_2} * \\mathbf{a_3}) + j(\\mathbf{b_3} * \\mathbf{a_1}) +\n",
    "k(\\mathbf{b_1} * \\mathbf{a_2}) - i(\\mathbf{b_3} * \\mathbf{a_2}) - j(\\mathbf{b_1} * \\mathbf{a_3}) - \n",
    "k(\\mathbf{b_2} * \\mathbf{a_1})  \\end{equation*}<br>\n",
    "\n",
    "$\\ Logo: $<br>\n",
    "\\begin{equation*}  \\mathbf{b} \\times \\mathbf{a} = -(\\mathbf{a} \\times \\mathbf{b})  \\end{equation*}\n",
    "<br>"
   ]
  },
  {
   "cell_type": "code",
   "execution_count": 79,
   "metadata": {},
   "outputs": [],
   "source": [
    "def prodVetorialEx11(v1,v2):\n",
    "    return ((v1[1]*v2[2] - v1[2]*v2[1]),(v1[2]*v2[0] - v1[0]*v2[2]),(v1[0]*v2[1] - v1[1]*v2[0]))\n",
    "\n",
    "def reversaProdVetorialEx11(v1, v2):\n",
    "    return ((-(v1[1]*v2[2]) + v1[2]*v2[1]),(-(v1[2]*v2[0]) + v1[0]*v2[2]),(-(v1[0]*v2[1]) + v1[1]*v2[0]))"
   ]
  },
  {
   "cell_type": "code",
   "execution_count": 87,
   "metadata": {},
   "outputs": [
    {
     "name": "stdout",
     "output_type": "stream",
     "text": [
      "Defina a1: 1\n",
      "Defina a2: 4\n",
      "Defina a3: 2\n",
      "Defina b1: 2\n",
      "Defina b2: 1\n",
      "Defina b3: 1\n",
      "\n",
      "\n",
      "O produto escalar de b por a é igual a menos o produto escalar de a por b!\n",
      "O produto escalar de b por a é:  (-2, -3, 7)\n",
      "O negativo do produto escalar de a por b:  (-2, -3, 7) \n",
      "\n"
     ]
    }
   ],
   "source": [
    "a1 = int(input(\"Defina a1: \"))\n",
    "a2 = int(input(\"Defina a2: \"))\n",
    "a3 = int(input(\"Defina a3: \"))\n",
    "a = (a1,a2,a3)\n",
    "\n",
    "b1 = int(input(\"Defina b1: \"))\n",
    "b2 = int(input(\"Defina b2: \"))\n",
    "b3 = int(input(\"Defina b3: \"))\n",
    "b = (b1,b2,b3)\n",
    "\n",
    "print(\"\\n\")\n",
    "\n",
    "if prodVetorialEx11(b, a) == reversaProdVetorialEx11(a, b):\n",
    "    print(\"O produto escalar de b por a é igual a menos o produto escalar de a por b!\")\n",
    "    print(\"O produto escalar de b por a é: \", prodVetorialEx11(b, a))\n",
    "    print(\"O negativo do produto escalar de a por b: \", reversaProdVetorialEx11(a, b),\"\\n\")\n",
    "\n",
    "else:\n",
    "    print(\"O produto escalar de b por a NÃO é igual a menos o produto escalar de a por b!\")"
   ]
  },
  {
   "cell_type": "code",
   "execution_count": 85,
   "metadata": {},
   "outputs": [],
   "source": [
    "# Fim Exercicio11."
   ]
  },
  {
   "cell_type": "markdown",
   "metadata": {},
   "source": [
    "#####################################"
   ]
  },
  {
   "cell_type": "markdown",
   "metadata": {},
   "source": [
    "12) Dados a=(1,0,−2), b=(3,1,4) e c=(−1,6,2), calcule:\n",
    "  - a×a\n",
    "  - a×b\n",
    "  - b×a\n",
    "  - b×c\n",
    "  - c×a"
   ]
  },
  {
   "cell_type": "code",
   "execution_count": 34,
   "metadata": {},
   "outputs": [],
   "source": [
    "def prodVetorialEx12(v1,v2):\n",
    "    return ((v1[1]*v2[2] - v1[2]*v2[1]),(v1[2]*v2[0] - v1[0]*v2[2]),(v1[0]*v2[1] - v1[1]*v2[0]))"
   ]
  },
  {
   "cell_type": "code",
   "execution_count": 35,
   "metadata": {},
   "outputs": [
    {
     "name": "stdout",
     "output_type": "stream",
     "text": [
      "O produto vetorial de aXa é igual a:  (0, 0, 0)\n"
     ]
    }
   ],
   "source": [
    "# Ex 12a:\n",
    "a = (1,0,-2)\n",
    "\n",
    "print(\"O produto vetorial de {}X{} é igual a: \".format('a','a'), prodVetorialEx10(a,a))"
   ]
  },
  {
   "cell_type": "code",
   "execution_count": 36,
   "metadata": {},
   "outputs": [
    {
     "name": "stdout",
     "output_type": "stream",
     "text": [
      "O produto vetorial de aXb é igual a:  (2, -10, 1)\n"
     ]
    }
   ],
   "source": [
    "# Ex 12b:\n",
    "a = (1,0,-2)\n",
    "b = (3,1,4)\n",
    "\n",
    "print(\"O produto vetorial de {}X{} é igual a: \".format('a','b'), prodVetorialEx10(a,b))"
   ]
  },
  {
   "cell_type": "code",
   "execution_count": 37,
   "metadata": {},
   "outputs": [
    {
     "name": "stdout",
     "output_type": "stream",
     "text": [
      "O produto vetorial de bXa é igual a:  (-2, 10, -1)\n"
     ]
    }
   ],
   "source": [
    "# Ex 12c:\n",
    "b = (3,1,4) \n",
    "a = (1,0,-2)\n",
    "\n",
    "print(\"O produto vetorial de {}X{} é igual a: \".format('b','a'), prodVetorialEx10(b,a))"
   ]
  },
  {
   "cell_type": "code",
   "execution_count": 38,
   "metadata": {},
   "outputs": [
    {
     "name": "stdout",
     "output_type": "stream",
     "text": [
      "O produto vetorial de bXc é igual a:  (-22, -10, 19)\n"
     ]
    }
   ],
   "source": [
    "# Ex 12d:\n",
    "b = (3,1,4)\n",
    "c = (-1,6,2)\n",
    "\n",
    "print(\"O produto vetorial de {}X{} é igual a: \".format('b','c'), prodVetorialEx10(b,c))"
   ]
  },
  {
   "cell_type": "code",
   "execution_count": 39,
   "metadata": {},
   "outputs": [
    {
     "name": "stdout",
     "output_type": "stream",
     "text": [
      "O produto vetorial de cXa é igual a:  (-12, 0, -6)\n"
     ]
    }
   ],
   "source": [
    "# Ex 12e:\n",
    "c = (-1,6,2)\n",
    "a = (1,0,-2)\n",
    "\n",
    "print(\"O produto vetorial de {}X{} é igual a: \".format('c','a'), prodVetorialEx10(c,a))"
   ]
  },
  {
   "cell_type": "code",
   "execution_count": 40,
   "metadata": {},
   "outputs": [],
   "source": [
    "# Fim Exercicio12."
   ]
  },
  {
   "cell_type": "markdown",
   "metadata": {},
   "source": [
    "###################################"
   ]
  },
  {
   "cell_type": "markdown",
   "metadata": {},
   "source": [
    "13) Determine os ângulos entre seguintes pares de vetores:\n",
    "  - a=(0,−2), b=(1,3)\n",
    "  - a=(1,0), b=(0,4)\n",
    "  - a=(5,1,7), b=(−2,4,1)"
   ]
  },
  {
   "cell_type": "code",
   "execution_count": 54,
   "metadata": {},
   "outputs": [],
   "source": [
    "def magnitudeEx13(v1):\n",
    "    if len(v1) == 2:\n",
    "        return ((v1[0])**2+(v1[1])**2)**(1/2)\n",
    "    elif len(v1) == 3:\n",
    "        return ((v1[0])**2+(v1[1])**2+(v1[2])**2)**(1/2)\n",
    "\n",
    "def cossenoEntreV1eV2(v1,v2):\n",
    "    if len(v1) == 2:\n",
    "        return ((v1[0]*v2[0]) + (v1[1]*v2[1]))/(magnitudeEx13((v1[0],v1[1]))*magnitudeEx13((v2[0],v2[1])))\n",
    "    elif len(v1) == 3:\n",
    "        return ((v1[0]*v2[0]) + (v1[1]*v2[1]) + (v1[2]*v2[2]))/(magnitudeEx13((v1[0],v1[1],v1[2]))*magnitudeEx13((v2[0],v2[1],v2[2])))\n",
    "    \n",
    "def cossenoEixoXEx13(v1, v2):\n",
    "    i = (1,0,0)\n",
    "    if len(v1) == 2:\n",
    "        return ((v1[0]*v2[0]*i[0]) + (v1[1]*v2[1]*i[1]))/(magnitudeEx13((v1[0],v1[1]))*magnitudeEx13((v2[0],v2[1])))\n",
    "    elif len(v1) == 3:\n",
    "        return ((v1[0]*v2[0]*i[0]) + (v1[1]*v2[1]*i[1]) + (v1[2]*v2[2]*i[2]))/(magnitudeEx13((v1[0],v1[1],v1[2]))*magnitudeEx13((v2[0],v2[1],v2[2])))\n",
    "\n",
    "def cossenoEixoYEx13(v1, v2):\n",
    "    j = (0,1,0)\n",
    "    if len(v1) == 2:\n",
    "        return ((v1[0]*v2[0]*j[0]) + (v1[1]*v2[1]*j[1]))/(magnitudeEx13((v1[0],v1[1]))*magnitudeEx13((v2[0],v2[1])))\n",
    "    elif len(v1) == 3:\n",
    "        return ((v1[0]*v2[0]*j[0]) + (v1[1]*v2[1]*j[1]) + (v1[2]*v2[2]*j[2]))/(magnitudeEx13((v1[0],v1[1],v1[2]))*magnitudeEx13((v2[0],v2[1],v2[2])))\n",
    "\n",
    "def cossenoEixoZEx13(v1, v2):\n",
    "    k = (0,0,1)\n",
    "    return ((v1[0]*v2[0]*k[0]) + (v1[1]*v2[1]*k[1]) + (v1[2]*v2[2]*k[2]))/(magnitudeEx13((v1[0],v1[1],v1[2]))*magnitudeEx13((v2[0],v2[1],v2[2])))"
   ]
  },
  {
   "cell_type": "code",
   "execution_count": 55,
   "metadata": {},
   "outputs": [
    {
     "name": "stdout",
     "output_type": "stream",
     "text": [
      "O cosseno entre o vetor a e b é:  -0.9486832980505138\n",
      "O cosseno em relação ao eixo X do ângulo entre a e b é:  0.0\n",
      "O cosseno em relação ao eixo Y do ângulo entre a e b é:  -0.9486832980505138\n"
     ]
    }
   ],
   "source": [
    "# Ex 13a:\n",
    "a = (0,-2)\n",
    "b = (1,3)\n",
    "\n",
    "print(\"O cosseno entre o vetor {} e {} é: \".format('a','b'), cossenoEntreV1eV2(a,b))\n",
    "print(\"O cosseno em relação ao eixo X do ângulo entre {} e {} é: \".format('a','b'), cossenoEixoXEx13(a,b))\n",
    "print(\"O cosseno em relação ao eixo Y do ângulo entre {} e {} é: \".format('a','b'), cossenoEixoYEx13(a,b))"
   ]
  },
  {
   "cell_type": "code",
   "execution_count": 54,
   "metadata": {},
   "outputs": [
    {
     "name": "stdout",
     "output_type": "stream",
     "text": [
      "O cosseno entre o vetor a e b é:  0.0\n",
      "O cosseno em relação ao eixo X do ângulo entre a e b é:  0.0\n",
      "O cosseno em relação ao eixo Y do ângulo entre a e b é:  0.0\n"
     ]
    }
   ],
   "source": [
    "# Ex 13b:\n",
    "a = (1,0)\n",
    "b = (0,4)\n",
    "\n",
    "print(\"O cosseno entre o vetor {} e {} é: \".format('a','b'), cossenoEntreV1eV2(a,b))\n",
    "print(\"O cosseno em relação ao eixo X do ângulo entre {} e {} é: \".format('a','b'), cossenoEixoXEx13(a,b))\n",
    "print(\"O cosseno em relação ao eixo Y do ângulo entre {} e {} é: \".format('a','b'), cossenoEixoYEx13(a,b))"
   ]
  },
  {
   "cell_type": "code",
   "execution_count": 55,
   "metadata": {},
   "outputs": [
    {
     "name": "stdout",
     "output_type": "stream",
     "text": [
      "O cosseno entre o vetor a e b é:  0.02519763153394848\n",
      "O cosseno em relação ao eixo X do ângulo entre a e b é:  -0.25197631533948484\n",
      "O cosseno em relação ao eixo Y do ângulo entre a e b é:  0.10079052613579392\n",
      "O cosseno em relação ao eixo Z do ângulo entre a e b é:  0.17638342073763938\n"
     ]
    }
   ],
   "source": [
    "# Ex 13c:\n",
    "a = (5,1,7)\n",
    "b = (-2,4,1)\n",
    "\n",
    "print(\"O cosseno entre o vetor {} e {} é: \".format('a','b'), cossenoEntreV1eV2(a,b))\n",
    "print(\"O cosseno em relação ao eixo X do ângulo entre {} e {} é: \".format('a','b'), cossenoEixoXEx13(a,b))\n",
    "print(\"O cosseno em relação ao eixo Y do ângulo entre {} e {} é: \".format('a','b'), cossenoEixoYEx13(a,b))\n",
    "print(\"O cosseno em relação ao eixo Z do ângulo entre {} e {} é: \".format('a','b'), cossenoEixoZEx13(a,b))"
   ]
  },
  {
   "cell_type": "code",
   "execution_count": 56,
   "metadata": {},
   "outputs": [],
   "source": [
    "# Fim Exercicio13."
   ]
  },
  {
   "cell_type": "markdown",
   "metadata": {},
   "source": [
    "#########################################"
   ]
  },
  {
   "cell_type": "markdown",
   "metadata": {},
   "source": [
    "14) Compute o produto vetorial para cada um dos seguintes pares de vetores:\n",
    "  - a=(3,−1,2), b=(2,0,2)\n",
    "  - a=(4,1,−5), b=(3,6,2)\n",
    "  - a=(0,1,0), b=(1,0,0)"
   ]
  },
  {
   "cell_type": "code",
   "execution_count": 57,
   "metadata": {},
   "outputs": [],
   "source": [
    "def prodVetorialEx14(v1,v2):\n",
    "    return ((v1[1]*v2[2] - v1[2]*v2[1]),(v1[2]*v2[0] - v1[0]*v2[2]),(v1[0]*v2[1] - v1[1]*v2[0]))"
   ]
  },
  {
   "cell_type": "code",
   "execution_count": 58,
   "metadata": {},
   "outputs": [
    {
     "name": "stdout",
     "output_type": "stream",
     "text": [
      "O produto vetorial de aXb é igual a:  (-2, -2, 2)\n"
     ]
    }
   ],
   "source": [
    "# Ex 14a:\n",
    "a = (3,-1,2)\n",
    "b = (2,0,2)\n",
    "\n",
    "print(\"O produto vetorial de {}X{} é igual a: \".format('a','b'), prodVetorialEx14(a,b))"
   ]
  },
  {
   "cell_type": "code",
   "execution_count": 59,
   "metadata": {},
   "outputs": [
    {
     "name": "stdout",
     "output_type": "stream",
     "text": [
      "O produto vetorial de aXb é igual a:  (32, -23, 21)\n"
     ]
    }
   ],
   "source": [
    "# Ex 14b:\n",
    "a = (4,1,-5)\n",
    "b = (3,6,2)\n",
    "\n",
    "print(\"O produto vetorial de {}X{} é igual a: \".format('a','b'), prodVetorialEx14(a,b))"
   ]
  },
  {
   "cell_type": "code",
   "execution_count": 60,
   "metadata": {},
   "outputs": [
    {
     "name": "stdout",
     "output_type": "stream",
     "text": [
      "O produto vetorial de aXb é igual a:  (0, 0, -1)\n"
     ]
    }
   ],
   "source": [
    "# Ex 14c:\n",
    "a = (0,1,0)\n",
    "b = (1,0,0)\n",
    "\n",
    "print(\"O produto vetorial de {}X{} é igual a: \".format('a','b'), prodVetorialEx14(a,b))"
   ]
  },
  {
   "cell_type": "code",
   "execution_count": 61,
   "metadata": {},
   "outputs": [],
   "source": [
    "# Fim Exercicio14."
   ]
  },
  {
   "cell_type": "markdown",
   "metadata": {},
   "source": [
    "#######################################"
   ]
  },
  {
   "cell_type": "markdown",
   "metadata": {},
   "source": [
    "15) Mostre que os vetores a seguir são mutuamente perpendiculares:\n",
    "\\begin{equation*} \\mathbf{a} = ( \\frac{−1}{3},\\frac{2}{3},\\frac{2}{3}),\\ \\mathbf{b} = ( \\frac{2}{3},\\frac{−1}{3},\\frac{2}{3})\\ e \\\n",
    "\\mathbf{c} = ( \\frac{−2}{3},\\frac{−2}{3},\\frac{1}{3}) \\end{equation*}"
   ]
  },
  {
   "cell_type": "code",
   "execution_count": 51,
   "metadata": {},
   "outputs": [],
   "source": [
    "# Começo Exercicio15:"
   ]
  },
  {
   "cell_type": "code",
   "execution_count": 10,
   "metadata": {},
   "outputs": [],
   "source": [
    "def prodVetorialEx15(v1,v2):\n",
    "    return ((v1[1]*v2[2] - v1[2]*v2[1]),(v1[2]*v2[0] - v1[0]*v2[2]),(v1[0]*v2[1] - v1[1]*v2[0]))\n",
    "\n",
    "def prodEscalarEx15(v1,v2):\n",
    "    return ((v1[0]*v2[0]) + (v1[1]*v2[1]) + (v1[2]*v2[2]))\n",
    "\n",
    "def magnitudeEx15(v1):\n",
    "    if len(v1) == 2:\n",
    "        return ((v1[0])**2+(v1[1])**2)**(1/2)\n",
    "    elif len(v1) == 3:\n",
    "        return ((v1[0])**2+(v1[1])**2+(v1[2])**2)**(1/2)\n"
   ]
  },
  {
   "cell_type": "code",
   "execution_count": 20,
   "metadata": {},
   "outputs": [
    {
     "data": {
      "image/png": "[encoded data removed]",
      "text/plain": [
       "<matplotlib.figure.Figure at 0x8389890>"
      ]
     },
     "metadata": {},
     "output_type": "display_data"
    },
    {
     "name": "stdout",
     "output_type": "stream",
     "text": [
      "Os vetores a e b são mutuamente perpendiculares. O produto escalar entre eles: 0.0; e o cosseno entre eles: 0.0\n",
      "Os vetores a e c são mutuamente perpendiculares. O produto escalar entre eles: 0.0; e o cosseno entre eles: 0.0\n",
      "Os vetores b e c são mutuamente perpendiculares. O produto escalar entre eles: 0.0; e o cosseno entre eles: 0.0\n"
     ]
    }
   ],
   "source": [
    "import matplotlib.pyplot as plt\n",
    "from mpl_toolkits.mplot3d import Axes3D\n",
    "import numpy as np\n",
    "\n",
    "a = (-(1/3),(2/3),(2/3))\n",
    "b = ((2/3),-(1/3),(2/3))\n",
    "c = (-(2/3),-(2/3),(1/3))\n",
    "\n",
    "soa = np.array([[0, 0, 0,-(1/3),(2/3),(2/3)], [0, 0, 0, (2/3),-(1/3),(2/3)],\n",
    "                [0, 0, 0,-(2/3),-(2/3),(1/3)]])\n",
    "\n",
    "X, Y, Z, U, V, W = zip(*soa)\n",
    "\n",
    "fig = plt.figure()\n",
    "ax = fig.add_subplot(111, projection='3d')\n",
    "ax.quiver(X, Y, Z, U, V, W)\n",
    "\n",
    "ax.set_xlim([-1, 2])\n",
    "ax.set_ylim([-1, 2])\n",
    "ax.set_zlim([-1, 4])\n",
    "\n",
    "ax.view_init(40, 80)\n",
    "plt.show()\n",
    "\n",
    "#Mutuamente Perpendiculares:\n",
    "# aXb, aXc, bXc\n",
    "\n",
    "x = prodEscalarEx15(a,b)\n",
    "xcos = prodEscalarEx15(a,b)/magnitudeEx15(a)*magnitudeEx15(b)\n",
    "\n",
    "y = prodEscalarEx15(a,c)\n",
    "ycos = prodEscalarEx15(a,c)/magnitudeEx15(a)*magnitudeEx15(c)\n",
    "\n",
    "z = prodEscalarEx15(b,c)\n",
    "zcos = prodEscalarEx15(b,c)/magnitudeEx15(b)*magnitudeEx15(c)\n",
    "\n",
    "print(\"Os vetores {} e {} são mutuamente perpendiculares. O produto escalar entre eles: {}; e \"\n",
    "      \"o cosseno entre eles: {}\".format('a','b', x, xcos))\n",
    "print(\"Os vetores {} e {} são mutuamente perpendiculares. O produto escalar entre eles: {}; e \"\n",
    "      \"o cosseno entre eles: {}\".format('a','c', y, ycos))\n",
    "print(\"Os vetores {} e {} são mutuamente perpendiculares. O produto escalar entre eles: {}; e \"\n",
    "      \"o cosseno entre eles: {}\".format('b','c', z, zcos))"
   ]
  },
  {
   "cell_type": "code",
   "execution_count": 18,
   "metadata": {},
   "outputs": [],
   "source": [
    "# Fim Exercicio15."
   ]
  },
  {
   "cell_type": "markdown",
   "metadata": {},
   "source": [
    "######################################"
   ]
  },
  {
   "cell_type": "markdown",
   "metadata": {},
   "source": [
    "16) Dados a=(6,−1,−2), b=(3,2,4) e c=(7,0,2), escreva as equações vetoriais das retas que:\n",
    "  - passa pela extremidade de a e é paralela a b\n",
    "  - passa pela extremidade de b e é paralela a c\n",
    "  - passa pela extremidade de a e é paralela a a"
   ]
  },
  {
   "cell_type": "code",
   "execution_count": 5,
   "metadata": {},
   "outputs": [],
   "source": [
    "# Começo Exercicio16:"
   ]
  },
  {
   "cell_type": "code",
   "execution_count": 6,
   "metadata": {},
   "outputs": [],
   "source": [
    "from mpl_toolkits import mplot3d\n",
    "\n",
    "%matplotlib inline\n",
    "import numpy as np\n",
    "import matplotlib.pyplot as plt"
   ]
  },
  {
   "cell_type": "code",
   "execution_count": 7,
   "metadata": {},
   "outputs": [],
   "source": [
    "def mplot(v1,v2):\n",
    "    plt.plot((v1[0], v2[0]),( v1[1], v2[1]),(v1[2],v2[2]))\n",
    "    \n",
    "def plotAux(p0, vb):\n",
    "    origem = (0,0,0)\n",
    "    mplot(origem, p0)\n",
    "    mplot(origem, vb)"
   ]
  },
  {
   "cell_type": "markdown",
   "metadata": {},
   "source": [
    "Ex 16a:<br>\n",
    "1) vetor v = passa pela extremidade de a e é paralela a b <br>\n",
    "\\begin{equation*} \\begin{vmatrix} \\ \\mathbf{x} \\ \\\\ \\ \\mathbf{y} \\ \\\\ \\ \\mathbf{z} \\ \\end{vmatrix} = \n",
    "\\begin{vmatrix} \\ \\mathbf{6} \\ \\\\ \\ \\mathbf{-1} \\ \\\\ \\ \\mathbf{-2} \\ \\end{vmatrix} \\ + \\ u \\ * \\\n",
    "\\begin{vmatrix} \\ \\mathbf{3} \\ \\\\ \\ \\mathbf{2} \\ \\\\ \\ \\mathbf{4} \\ \\end{vmatrix}\n",
    "\\end{equation*}<br>\n",
    "\\begin{equation*} \\mathbf{vetor} \\ \\mathbf{v} = (\\ \\mathbf{x},\\ \\mathbf{y},\\ \\mathbf{z}) \\end{equation*}\n",
    "<br>\n",
    "\\begin{equation*} \\ \\mathbf{x} \\ = \\ \\mathbf{6} \\ + \\ \\mathbf{u} \\ * \\ \\mathbf{3} \\ \\end{equation*}\n",
    "\\begin{equation*} \\ \\mathbf{y} \\ = \\ \\mathbf{-1} \\ + \\ \\mathbf{u} \\ * \\ \\mathbf{2} \\ \\end{equation*}\n",
    "\\begin{equation*} \\ \\mathbf{z} \\ = \\ \\mathbf{-2} \\ + \\ \\mathbf{u} \\ * \\ \\mathbf{4} \\ \\end{equation*}\n",
    "<br>\n",
    "\\begin{equation*} \\ \\mathbf{vetor} \\ \\mathbf{v} = ( \\ (\\ \\mathbf{6} \\ + \\ \\mathbf{u} \\ * \\ \\mathbf{3} ), \\ \n",
    "(\\ \\mathbf{-1} \\ + \\ \\mathbf{u} \\ * \\ \\mathbf{2} ), \\ (\\ \\mathbf{-2} \\ + \\ \\mathbf{u} \\ * \\ \\mathbf{4} ) \\ ) \n",
    "\\end{equation*}"
   ]
  },
  {
   "cell_type": "code",
   "execution_count": 156,
   "metadata": {},
   "outputs": [
    {
     "name": "stdout",
     "output_type": "stream",
     "text": [
      "Vetor verde: (3, 2, 4) \n"
     ]
    },
    {
     "data": {
      "image/png": "[encoded data removed]",
      "text/plain": [
       "<matplotlib.figure.Figure at 0x14fc910>"
      ]
     },
     "metadata": {},
     "output_type": "display_data"
    }
   ],
   "source": [
    "# Ex 16a:\n",
    "\n",
    "ax = plt.axes(projection = '3d')\n",
    "\n",
    "p0 = (6,-1,2)\n",
    "vb = (3,2,4)\n",
    "\n",
    "x0, y0, z0 = p0[0], p0[1], p0[2]\n",
    "vbx, vby, vbz = vb[0], vb[1], vb[2]\n",
    "\n",
    "dots = []\n",
    "for u in range(-2,5,3):    \n",
    "    \n",
    "    x = x0 + u*vbx\n",
    "    y = y0 + u*vby\n",
    "    z = z0 + u*vbz\n",
    "    \n",
    "    dots.append((x,y,z))\n",
    "\n",
    "print(\"Vetor verde: {} \".format(vb))\n",
    "\n",
    "mplot(dots[0],dots[1])\n",
    "plotAux(p0,vb)\n",
    "ax.view_init(40, -70)\n",
    "plt.show()"
   ]
  },
  {
   "cell_type": "markdown",
   "metadata": {},
   "source": [
    "Ex 16b: <br>\n",
    "1) vetor v = passa pela extremidade de b e é paralela a c <br>\n",
    "\\begin{equation*} \\begin{vmatrix} \\ \\mathbf{x} \\ \\\\ \\ \\mathbf{y} \\ \\\\ \\ \\mathbf{z} \\ \\end{vmatrix} = \n",
    "\\begin{vmatrix} \\ \\mathbf{3} \\ \\\\ \\ \\mathbf{2} \\ \\\\ \\ \\mathbf{4} \\ \\end{vmatrix} \\ + \\ u \\ * \\\n",
    "\\begin{vmatrix} \\ \\mathbf{7} \\ \\\\ \\ \\mathbf{0} \\ \\\\ \\ \\mathbf{2} \\ \\end{vmatrix}\n",
    "\\end{equation*}<br>\n",
    "\\begin{equation*} \\mathbf{vetor} \\ \\mathbf{v} = (\\ \\mathbf{x},\\ \\mathbf{y},\\ \\mathbf{z}) \\end{equation*}\n",
    "<br>\n",
    "\\begin{equation*} \\ \\mathbf{x} \\ = \\ \\mathbf{3} \\ + \\ \\mathbf{u} \\ * \\ \\mathbf{7} \\ \\end{equation*}\n",
    "\\begin{equation*} \\ \\mathbf{y} \\ = \\ \\mathbf{2} \\ + \\ \\mathbf{u} \\ * \\ \\mathbf{0} \\ \\end{equation*}\n",
    "\\begin{equation*} \\ \\mathbf{z} \\ = \\ \\mathbf{4} \\ + \\ \\mathbf{u} \\ * \\ \\mathbf{2} \\ \\end{equation*}\n",
    "<br>\n",
    "\\begin{equation*} \\ \\mathbf{vetor} \\ \\mathbf{v} = ( \\ (\\ \\mathbf{3} \\ + \\ \\mathbf{u} \\ * \\ \\mathbf{7} ), \\ \n",
    "(\\ \\mathbf{2} \\ + \\ \\mathbf{u} \\ * \\ \\mathbf{0} ), \\ (\\ \\mathbf{4} \\ + \\ \\mathbf{u} \\ * \\ \\mathbf{2} ) \\ ) \n",
    "\\end{equation*}\n"
   ]
  },
  {
   "cell_type": "code",
   "execution_count": 157,
   "metadata": {},
   "outputs": [
    {
     "name": "stdout",
     "output_type": "stream",
     "text": [
      "Vetor verde: (7, 0, 2) \n"
     ]
    },
    {
     "data": {
      "image/png": "[encoded data removed]",
      "text/plain": [
       "<matplotlib.figure.Figure at 0x1341f10>"
      ]
     },
     "metadata": {},
     "output_type": "display_data"
    }
   ],
   "source": [
    "# Ex 16b:\n",
    "\n",
    "ax = plt.axes(projection = '3d')\n",
    "\n",
    "p0 = (3,2,4)\n",
    "vb = (7,0,2)\n",
    "\n",
    "x0, y0, z0 = p0[0], p0[1], p0[2]\n",
    "vbx, vby, vbz = vb[0], vb[1], vb[2]\n",
    "\n",
    "dots = []\n",
    "for u in range(-2,5,3):    \n",
    "    \n",
    "    x = x0 + u*vbx\n",
    "    y = y0 + u*vby\n",
    "    z = z0 + u*vbz\n",
    "    \n",
    "    dots.append((x,y,z))\n",
    "\n",
    "print(\"Vetor verde: {} \".format(vb))\n",
    "\n",
    "mplot(dots[0],dots[1])\n",
    "plotAux(p0,vb)\n",
    "ax.view_init(40, -60)\n",
    "plt.show()"
   ]
  },
  {
   "cell_type": "markdown",
   "metadata": {},
   "source": [
    "Ex 16c:<br>\n",
    "1) vetor v = passa pela extremidade de a e é paralela a a <br>\n",
    "\\begin{equation*} \\begin{vmatrix} \\ \\mathbf{x} \\ \\\\ \\ \\mathbf{y} \\ \\\\ \\ \\mathbf{z} \\ \\end{vmatrix} = \n",
    "\\begin{vmatrix} \\ \\mathbf{6} \\ \\\\ \\ \\mathbf{-1} \\ \\\\ \\ \\mathbf{-2} \\ \\end{vmatrix} \\ + \\ u \\ * \\\n",
    "\\begin{vmatrix} \\ \\mathbf{6} \\ \\\\ \\ \\mathbf{-1} \\ \\\\ \\ \\mathbf{-2} \\ \\end{vmatrix}\n",
    "\\end{equation*}<br>\n",
    "\\begin{equation*} \\mathbf{vetor} \\ \\mathbf{v} = (\\ \\mathbf{x},\\ \\mathbf{y},\\ \\mathbf{z}) \\end{equation*}\n",
    "<br>\n",
    "\\begin{equation*} \\ \\mathbf{x} \\ = \\ \\mathbf{6} \\ + \\ \\mathbf{u} \\ * \\ \\mathbf{6} \\ \\end{equation*}\n",
    "\\begin{equation*} \\ \\mathbf{y} \\ = \\ \\mathbf{-1} \\ + \\ \\mathbf{u} \\ * \\ \\mathbf{-1} \\ \\end{equation*}\n",
    "\\begin{equation*} \\ \\mathbf{z} \\ = \\ \\mathbf{-2} \\ + \\ \\mathbf{u} \\ * \\ \\mathbf{-2} \\ \\end{equation*}\n",
    "<br>\n",
    "\\begin{equation*} \\ \\mathbf{vetor} \\ \\mathbf{v} = ( \\ (\\ \\mathbf{6} \\ + \\ \\mathbf{u} \\ * \\ \\mathbf{6} ), \\ \n",
    "(\\ \\mathbf{-1} \\ + \\ \\mathbf{u} \\ * \\ \\mathbf{-1} ), \\ (\\ \\mathbf{-2} \\ + \\ \\mathbf{u} \\ * \\ \\mathbf{-2} ) \\ ) \n",
    "\\end{equation*}"
   ]
  },
  {
   "cell_type": "code",
   "execution_count": 8,
   "metadata": {},
   "outputs": [
    {
     "name": "stdout",
     "output_type": "stream",
     "text": [
      "Vetor verde: (6, -1, 2) \n"
     ]
    },
    {
     "data": {
      "image/png": "[encoded data removed]",
      "text/plain": [
       "<matplotlib.figure.Figure at 0x834d5f0>"
      ]
     },
     "metadata": {},
     "output_type": "display_data"
    }
   ],
   "source": [
    "# Ex 16c:\n",
    "\n",
    "ax = plt.axes(projection = '3d')\n",
    "\n",
    "p0 = (6,-1,2)\n",
    "vb = (6,-1,2)\n",
    "\n",
    "x0, y0, z0 = p0[0], p0[1], p0[2]\n",
    "vbx, vby, vbz = vb[0], vb[1], vb[2]\n",
    "\n",
    "dots = [(0,0,0)]\n",
    "for u in range(7,16,8):    \n",
    "    \n",
    "    x = x0 + u*vbx\n",
    "    y = y0 + u*vby\n",
    "    z = z0 + u*vbz\n",
    "    \n",
    "    dots.append((x,y,z))\n",
    "\n",
    "print(\"Vetor verde: {} \".format(vb))\n",
    "\n",
    "mplot(dots[0],dots[1])\n",
    "plotAux(p0,vb)\n",
    "ax.view_init(60, 50)\n",
    "plt.show()"
   ]
  },
  {
   "cell_type": "code",
   "execution_count": 141,
   "metadata": {},
   "outputs": [],
   "source": [
    "# Fim Exercicio16."
   ]
  },
  {
   "cell_type": "markdown",
   "metadata": {},
   "source": [
    "######################################"
   ]
  }
 ],
 "metadata": {
  "kernelspec": {
   "display_name": "Python 3",
   "language": "python",
   "name": "python3"
  },
  "language_info": {
   "codemirror_mode": {
    "name": "ipython",
    "version": 3
   },
   "file_extension": ".py",
   "mimetype": "text/x-python",
   "name": "python",
   "nbconvert_exporter": "python",
   "pygments_lexer": "ipython3",
   "version": "3.6.4"
  }
 },
 "nbformat": 4,
 "nbformat_minor": 2
}
