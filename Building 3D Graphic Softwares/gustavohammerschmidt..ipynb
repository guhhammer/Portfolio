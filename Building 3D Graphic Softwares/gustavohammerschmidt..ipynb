{
 "cells": [
  {
   "cell_type": "markdown",
   "metadata": {},
   "source": [
    "Nome: Gustavo Hammerschmidt"
   ]
  },
  {
   "cell_type": "code",
   "execution_count": 101,
   "metadata": {},
   "outputs": [],
   "source": [
    "import matplotlib \n",
    "import matplotlib.pyplot as plt\n",
    "import numpy as np\n",
    "import matplotlib.patches as mpatches\n",
    "import matplotlib.path as mpath\n",
    "%matplotlib inline"
   ]
  },
  {
   "cell_type": "markdown",
   "metadata": {},
   "source": [
    "Etapas:\n",
    "1. desenhar uma figura composta por pelo menos outras 3 figuras (diferentes entre si) utilizando as bibliotecas gráficas.\n",
    "2. escolher um ponto variável (ponto âncora) e plotar a figura como função desse ponto.\n",
    "3. encapsular a lógica do desenho assim definido dentro de uma função que recebe o ponto âncora como parâmetro.\n",
    "4. situar ao longo de, ao menos, duas curvas dadas cópias da figura plotada pela função definida acima:\n",
    "        - Uma das curvas dadas deve ser o gráfico de uma função cúbica (ax³+ bx²+ cx + d);\n",
    "        - Outra curva dada deve ser a reta paralela ao vetor(1, -1) e que passe pela extremidade do vetor(2, 2).        \n",
    "        "
   ]
  },
  {
   "cell_type": "code",
   "execution_count": 102,
   "metadata": {},
   "outputs": [
    {
     "data": {
      "text/plain": [
       "(-3.2, 10.2)"
      ]
     },
     "execution_count": 102,
     "metadata": {},
     "output_type": "execute_result"
    },
    {
     "data": {
      "image/png": "[encoded data removed]",
      "text/plain": [
       "<matplotlib.figure.Figure at 0x1541210>"
      ]
     },
     "metadata": {},
     "output_type": "display_data"
    },
    {
     "data": {
      "image/png": "[encoded data removed]",
      "text/plain": [
       "<matplotlib.figure.Figure at 0x182af70>"
      ]
     },
     "metadata": {},
     "output_type": "display_data"
    }
   ],
   "source": [
    "#Etapas 1 e 2:    \n",
    "\n",
    "\n",
    "def plotEtapa1(ponto1, ponto2, ax):\n",
    "    linha = plt.Polygon([(ponto1[0], ponto1[1]),\n",
    "                         (ponto2[0], ponto2[1])], color = \"red\")\n",
    "    ax.add_patch(linha)\n",
    "\n",
    "\n",
    "#Quadrado\n",
    "x = 5 \n",
    "y = 5\n",
    "pontoAn = (x, y)\n",
    "pontoB = (x+3, y)\n",
    "pontoC = (x+3, y+3)\n",
    "pontoD = (x, y+3)\n",
    "pontoE = (x, y)\n",
    "#Quadrado\n",
    "\n",
    "#Triângulo\n",
    "pontoF = (x,y+3)\n",
    "pontoG = (x+1.5,y+4.5)\n",
    "pontoH = (x+3, y+3)\n",
    "pontoI = (x, y+3)\n",
    "#Triângulo\n",
    "\n",
    "#Pentâgono\n",
    "pontoJ = (x, y)\n",
    "pontoK = (x+3, y)\n",
    "pontoL = (x+3.5,y-2)\n",
    "pontoM = (x+1.5, y-3)\n",
    "pontoN = (x-0.5, y-2)\n",
    "pontoO = (x, y) \n",
    "#Pentâgono\n",
    "\n",
    "fig, ax = plt.subplots()    \n",
    "plotEtapa1(pontoAn, pontoB, ax)\n",
    "plotEtapa1(pontoB, pontoC, ax)\n",
    "plotEtapa1(pontoC, pontoD, ax)               #### Plot: Quadrado\n",
    "plotEtapa1(pontoD, pontoE, ax)\n",
    "plotEtapa1(pontoE, pontoAn, ax)\n",
    "\n",
    "plotEtapa1(pontoF, pontoG, ax)\n",
    "plotEtapa1(pontoG, pontoH, ax)             ##### Plot: Triângulo\n",
    "plotEtapa1(pontoH, pontoI, ax)\n",
    "plotEtapa1(pontoI, pontoF, ax)\n",
    "\n",
    "plotEtapa1(pontoJ, pontoK, ax)\n",
    "plotEtapa1(pontoK, pontoL, ax)\n",
    "plotEtapa1(pontoL, pontoM, ax)\n",
    "plotEtapa1(pontoM, pontoN, ax)          ### Plot: Pentâgono\n",
    "plotEtapa1(pontoN, pontoO, ax)\n",
    "plotEtapa1(pontoO, pontoJ, ax)\n",
    "plt.xlim(0,20)\n",
    "plt.ylim(-3.2,10.2)   \n",
    "\n",
    "#Fim: etapas 1 e 2\n",
    "\n",
    "\n",
    "\n",
    "\n",
    "\n",
    "#Etapa 3:\n",
    "\n",
    "def plotag(PontoAn, ax):\n",
    "    quad = plt.Polygon([(PontoAn[0],PontoAn[1]),\n",
    "                        (PontoAn[0]+3,PontoAn[1]),\n",
    "                        (PontoAn[0]+3,PontoAn[1]+3),\n",
    "                        (PontoAn[0],PontoAn[1]+3),\n",
    "                        (PontoAn[0],PontoAn[1])], color = \"green\")\n",
    "    \n",
    "    tri = plt.Polygon([(PontoAn[0],PontoAn[1]+3),\n",
    "                       (PontoAn[0]+1.5,PontoAn[1]+4.5),\n",
    "                       (PontoAn[0]+3,PontoAn[1]+3),\n",
    "                       (PontoAn[0],PontoAn[1]+3)], color = \"red\")\n",
    "    \n",
    "    penta = plt.Polygon([(PontoAn[0],PontoAn[1]),\n",
    "                         (PontoAn[0]+3,PontoAn[1]),\n",
    "                         (PontoAn[0]+3.5,PontoAn[1]-2),\n",
    "                         (PontoAn[0]+1.5,PontoAn[1]-3),\n",
    "                         (PontoAn[0]-0.5,PontoAn[1]-2),\n",
    "                         (PontoAn[0],PontoAn[1])], color = \"yellow\")\n",
    "    ax.add_patch(quad)\n",
    "    ax.add_patch(tri)\n",
    "    ax.add_patch(penta)\n",
    "\n",
    "\n",
    "    \n",
    "\n",
    "fig, ax = plt.subplots()    \n",
    "plotag((1,1),ax)\n",
    "plt.xlim(0,20)\n",
    "plt.ylim(-3.2,10.2)    \n",
    "\n",
    "#Fim: etapa 3\n"
   ]
  },
  {
   "cell_type": "code",
   "execution_count": 103,
   "metadata": {},
   "outputs": [
    {
     "data": {
      "image/png": "[encoded data removed]",
      "text/plain": [
       "<matplotlib.figure.Figure at 0x15de4b0>"
      ]
     },
     "metadata": {},
     "output_type": "display_data"
    }
   ],
   "source": [
    "#Etapa 4 (função cúbica):\n",
    "\n",
    "fig, ax = plt.subplots()\n",
    "\n",
    "f = lambda x: -4*(x**3) - 8*(x**2) + 2*(x) + 10   ## Função cúbica.\n",
    "\n",
    "plt.xlim(-10,10)                  ##Limite do gráfico\n",
    "plt.ylim(-100,100)\n",
    "\n",
    "x1 = np.linspace(-10,20,90)  ## valores de x\n",
    "\n",
    "for px in x1:\n",
    "    plotag((px,f(px)),ax)      ## Usei a mesma função da etapa 3. \n",
    "\n",
    "#Fim: etapa 4(função cúbica)."
   ]
  },
  {
   "cell_type": "code",
   "execution_count": 105,
   "metadata": {},
   "outputs": [
    {
     "data": {
      "image/png": "[encoded data removed]",
      "text/plain": [
       "<matplotlib.figure.Figure at 0x16e6fb0>"
      ]
     },
     "metadata": {},
     "output_type": "display_data"
    }
   ],
   "source": [
    "#Etapa 4 (reta paralela a vetor):\n",
    "\n",
    "fig, ax = plt.subplots()\n",
    "\n",
    "def mplot(v1,v2):\n",
    "    plt.plot((v1[0], v2[0]),( v1[1], v2[1]))   # plotagem de linha\n",
    "    \n",
    "def linhaPlot(x, y):\n",
    "    return plotag((x,y),ax)  ## função da etapa 3\n",
    "\n",
    "origem = (0, 0)   ## Origem do plano\n",
    "vetorV = (1, -1)   ## vetor \n",
    "pontoReta = (2, 2) ##Extremidade do vetor (2, 2)\n",
    "\n",
    "u = np.linspace(-1,8,6)  ##limite de plotagem\n",
    "\n",
    "#Valores do vetor e do ponto:\n",
    "x0 = pontoReta[0]\n",
    "y0 = pontoReta[1]\n",
    "Vx = vetorV[0]\n",
    "Vy = vetorV[1]\n",
    "\n",
    "\n",
    "for u in valores_u:    ##loop para plotagem da figura\n",
    "    x = x0 + u*Vx\n",
    "    y = y0 + u*Vy\n",
    "    linhaPlot(x,y)\n",
    "    \n",
    "mplot(origem, pontoReta)  ## plotagem do vetor paralelo e do vetor extremidade\n",
    "mplot(origem, vetorV)\n",
    "\n",
    "plt.show()\n",
    "#Fim: Etapa 4 (reta paralela a vetor)."
   ]
  },
  {
   "cell_type": "markdown",
   "metadata": {},
   "source": []
  }
 ],
 "metadata": {
  "kernelspec": {
   "display_name": "Python 3",
   "language": "python",
   "name": "python3"
  },
  "language_info": {
   "codemirror_mode": {
    "name": "ipython",
    "version": 3
   },
   "file_extension": ".py",
   "mimetype": "text/x-python",
   "name": "python",
   "nbconvert_exporter": "python",
   "pygments_lexer": "ipython3",
   "version": "3.6.4"
  }
 },
 "nbformat": 4,
 "nbformat_minor": 2
}
