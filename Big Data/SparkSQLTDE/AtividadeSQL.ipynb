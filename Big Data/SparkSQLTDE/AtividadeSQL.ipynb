{
 "cells": [
  {
   "cell_type": "markdown",
   "metadata": {},
   "source": [
    "# Atividade Spark SQL\n",
    "\n",
    "Considerando o dataset detalhado a seguir, extraia o conjunto de informações solicitadas.\n",
    "\n",
    "### Dataset dados da BOVESPA\n",
    "\n",
    "- Arquivo disponível em /home/dados/bovespa/bovespa.csv\n",
    "- Dados relativos a bovespa, a bolsa de valores no Brasil\n",
    "- ~1.3GB\n",
    "- 8.1M de instâncias\n",
    "\n",
    "\n",
    "| #  \t| Nome do campo                                                             \t| Descrição                                                                        \t|\n",
    "|----\t|---------------------------------------------------------------------------\t|----------------------------------------------------------------------------------\t|\n",
    "| 0  \t| RegisterType                                                             \t| Fixo '1'                                                                                 \t|\n",
    "| 1  \t| TradingDate                                                              \t| Data do pregão                                                                   \t|\n",
    "| 2  \t| BDICode                                                                  \t| Utilizado para classificar os papéis na emissão do boletim diário de informações \t|\n",
    "| 3  \t| NegociationCode                                                          \t| Codigo de negociação do papel                                                    \t|\n",
    "| 4  \t| MarketType                                                               \t| Cód. Do mercado em que o papel está cadastrado                                   \t|\n",
    "| 5  \t| TradeName                                                                \t| Nome resumido da empresa emissora do papel                                       \t|\n",
    "| 6  \t| Specification                                                             \t| Especificação do Papel                                                           \t|\n",
    "| 7  \t| ForwardMarketTermInDays                                               \t| Prazo em dias do mercado a termo                                                 \t|\n",
    "| 8  \t| Currency                                                                  \t| Moeda de referência                                                              \t|\n",
    "| 9  \t| OpeningPrice                                                             \t| Preço de abertura do papel no pregão                                             \t|\n",
    "| 10 \t| MaxPrice                                                                \t| Preço máximo do papel no pregão                                                  \t|\n",
    "| 11 \t| MinPrice                                                                \t| Preço mínimo do papel no pregão                                                  \t|\n",
    "| 12 \t| MeanPrice                                                                \t| Preço médio do papel no pregão                                                   \t|\n",
    "| 13 \t| LastTradePrice                                                          \t| Preço do último negócio do papel no pregão                                       \t|\n",
    "| 14 \t| BestPurshaseOrderPrice                                                 \t| Preço da melhor oferta de compra do papel no mercado                             \t|\n",
    "| 15 \t| BestPurshaseSalePrice                                                  \t| Preço da melhor oferta de venda do papel no mercado                              \t|\n",
    "| 16 \t| NumborOfTrades                                                          \t| Número de negócios efetuados com o papel no pregão                               \t|\n",
    "| 17 \t| NumberOfTradedStocks                                                   \t| Quantidade total de títulos negociados neste papel                               \t|\n",
    "| 18 \t| VolumeOfTradedStocks                                                   \t| Volume total de títulos negociados neste papel                                   \t|\n",
    "| 19 \t| PriceForOptionsMarketOrSecondaryTermMarket                         \t| Preço de exercício para o mercado de opções ou valor do contrato para o mercado  \t|\n",
    "| 20 \t| PriceCorrectionsForOptionsMarketOrSecondaryTermMarket             \t| Indicador de correção de preços de exercícios ou valores de contrato             \t|\n",
    "| 21 \t| DueDateForOptionsMarketOrSecondaryTermMarket                      \t| Data do vencimento para os mercados de opções                                    \t|\n",
    "| 22 \t| FactorOfPaperQuotatuion                                                \t| Fator de cotação do papel                                                        \t|\n",
    "| 23 \t| PointsInPriceForOptionsMarketReferencedInDollarOrSecondaryTerm \t| Preço de exercício em pontos para opções referenciadas em dólar                  \t|\n",
    "| 24 \t| ISINOrInternCode                                                       \t| Código do papel no sistema ISIN                                                  \t|\n",
    "| 25 \t| DistributionNumber                                                       \t| Número de distribuição do papel                                                  \t|\n",
    "\n",
    "Informações a serem extraídas:\n",
    "\n",
    "1. Quantidade de dias com operações da PETR4 (NegociationCode)\n",
    "2. Maior valor (MaxPrice) histórico por ação (NegociationCode)\n",
    "3. Maior valor (MaxPrice) histórico da PETR4 (NegociationCode)\n",
    "4. Dia ('TradingDate') com a maior quantidade de papeis (NegociationCode) operados\n",
    "5. Dia ('TradingDate') da semana com a maior quantidade de papeis (NegociationCode) operados\n",
    "6. Maior lucro histórico de um papel (NegociationCode) na bovespa (MaxPrice - OpeningPrice)\n",
    "7. Maior prejuizo histórico de um papel (NegociationCode) na bovespa (OpeningPrice - LastTradePrice)\n",
    "8. Moeda (Currency) com mais operações\n",
    "9. Papel (NegociationCode) operado em CZ (Currency) com maior quantidade de operações\n",
    "10. Papel (NegociationCode) operado em CZ (Currency) com maior valor médio das operações (MeanPrice)\n",
    "11. Media do preço médio (MeanPrice), mínimo (MinPrice) e máximo (MaxPrice) anual (TradingDate) das ações da PETR4 (NegociationCode)\n",
    "12. Preço médio (MeanPrice) anual (TradingDate) das ações da PETR4 (NegociationCode)\n",
    "13. Preço médio (MeanPrice) anual (TradingDate) das 10 ações (NegociationCode) com mais operações na bovespa\n",
    "14. Desvio Padrão anual do preço médio (MeanPrice) da ação da PETR4 (NegociationCode)\n",
    "15. Desvio Padrão anual do preço médio (MeanPrice) das 10 ações (NegociationCode) com mais operações na bovespa\n",
    "16. Preço médio (MeanPrice) anual (TradingDate) das ações (NegociationCode) com a maior quantidade de operações de acordo com a moeda (Currency)\n",
    "\n",
    "\n",
    "**Dicas:**\n",
    "- *Crie uma célula (Insert -> Insert Cell Below) para cada informação solicitada*\n",
    "- *A análise deve ser feita sobre os dados do HDFS*\n",
    "- *Inicialize o seu cluster executando o script em: Desktop/ambientes/spark/inicializar.sh*\n",
    "- *Acesse o seu cluster executando o script em: Desktop/ambientes/spark/abrir_navegador.sh*"
   ]
  },
  {
   "cell_type": "code",
   "execution_count": 1,
   "metadata": {},
   "outputs": [],
   "source": [
    "import os\n",
    "os.environ['PYSPARK_PYTHON'] = '/usr/bin/python3'\n",
    "\n",
    "from pyspark.sql import SparkSession\n",
    "\n",
    "sc = SparkSession \\\n",
    "    .builder \\\n",
    "    .master('spark://spark-master:7077') \\\n",
    "    .config('spark.executor.memory', '1g') \\\n",
    "    .getOrCreate()"
   ]
  },
  {
   "cell_type": "code",
   "execution_count": 2,
   "metadata": {},
   "outputs": [],
   "source": [
    "df = sc.read \\\n",
    "    .option('delimiter', ',') \\\n",
    "    .option('header', 'true') \\\n",
    "    .option('inferschema', 'true') \\\n",
    "    .csv('hdfs://namenode:9000/bovespa.csv')"
   ]
  },
  {
   "cell_type": "code",
   "execution_count": 3,
   "metadata": {},
   "outputs": [
    {
     "name": "stdout",
     "output_type": "stream",
     "text": [
      "root\n",
      " |-- RegisterType: integer (nullable = true)\n",
      " |-- TradingDate: integer (nullable = true)\n",
      " |-- BDICode: double (nullable = true)\n",
      " |-- NegociationCode: string (nullable = true)\n",
      " |-- MarketType: integer (nullable = true)\n",
      " |-- TradeName: string (nullable = true)\n",
      " |-- Specification: string (nullable = true)\n",
      " |-- ForwardMarketTermInDays: string (nullable = true)\n",
      " |-- Currency: string (nullable = true)\n",
      " |-- OpeningPrice: double (nullable = true)\n",
      " |-- MaxPrice: double (nullable = true)\n",
      " |-- MinPrice: double (nullable = true)\n",
      " |-- MeanPrice: double (nullable = true)\n",
      " |-- LastTradePrice: double (nullable = true)\n",
      " |-- BestPurshaseOrderPrice: double (nullable = true)\n",
      " |-- BestPurshaseSalePrice: double (nullable = true)\n",
      " |-- NumborOfTrades: double (nullable = true)\n",
      " |-- NumberOfTradedStocks: double (nullable = true)\n",
      " |-- VolumeOfTradedStocks: double (nullable = true)\n",
      " |-- PriceForOptionsMarketOrSecondaryTermMarket: double (nullable = true)\n",
      " |-- PriceCorrectionsForOptionsMarketOrSecondaryTermMarket: double (nullable = true)\n",
      " |-- DueDateForOptionsMarketOrSecondaryTermMarket: double (nullable = true)\n",
      " |-- FactorOfPaperQuotatuion: double (nullable = true)\n",
      " |-- PointsInPriceForOptionsMarketReferencedInDollarOrSecondaryTerm: double (nullable = true)\n",
      " |-- ISINOrInternCode: string (nullable = true)\n",
      " |-- DistributionNumber: double (nullable = true)\n",
      "\n"
     ]
    }
   ],
   "source": [
    "df.printSchema()"
   ]
  },
  {
   "cell_type": "code",
   "execution_count": 4,
   "metadata": {},
   "outputs": [],
   "source": [
    "df.createOrReplaceTempView('bovespa')"
   ]
  },
  {
   "cell_type": "code",
   "execution_count": 5,
   "metadata": {},
   "outputs": [
    {
     "name": "stdout",
     "output_type": "stream",
     "text": [
      "+---------------+\n",
      "|NegociationCode|\n",
      "+---------------+\n",
      "|          ACE 2|\n",
      "|          AVI 2|\n",
      "|          CRA 2|\n",
      "|         AGR 11|\n",
      "+---------------+\n",
      "only showing top 4 rows\n",
      "\n"
     ]
    }
   ],
   "source": [
    "sc.sql('select NegociationCode from Bovespa').show(4)"
   ]
  },
  {
   "cell_type": "code",
   "execution_count": 6,
   "metadata": {},
   "outputs": [
    {
     "name": "stdout",
     "output_type": "stream",
     "text": [
      "+---------------+---------+\n",
      "|NegociationCode|   maximo|\n",
      "+---------------+---------+\n",
      "|          FGO 4| 240000.0|\n",
      "|          VAG 3|5395600.0|\n",
      "|          SUL 4| 310000.0|\n",
      "|         OPM 82|     64.0|\n",
      "|          OTC 6|1000000.0|\n",
      "|          VSP 4|    106.0|\n",
      "|          ROS 3|  40000.0|\n",
      "|         OTV 85|  19791.0|\n",
      "|         OTC 93|  15000.0|\n",
      "|         OTC 96|  10100.0|\n",
      "+---------------+---------+\n",
      "only showing top 10 rows\n",
      "\n"
     ]
    }
   ],
   "source": [
    "sc.sql('select NegociationCode, max(MaxPrice) as maximo from bovespa group by NegociationCode').show(10)"
   ]
  },
  {
   "cell_type": "code",
   "execution_count": 7,
   "metadata": {},
   "outputs": [
    {
     "name": "stdout",
     "output_type": "stream",
     "text": [
      "+-----------+---------------+--------+\n",
      "|TradingDate|NegociationCode|MaxPrice|\n",
      "+-----------+---------------+--------+\n",
      "|   19980316|          PETR4| 27600.0|\n",
      "|   19980317|          PETR4| 27800.0|\n",
      "|   19980318|          PETR4| 27900.0|\n",
      "|   19980319|          PETR4| 27700.0|\n",
      "|   19980320|          PETR4| 28000.0|\n",
      "+-----------+---------------+--------+\n",
      "only showing top 5 rows\n",
      "\n"
     ]
    }
   ],
   "source": [
    "sc.sql('select TradingDate, NegociationCode, MaxPrice from bovespa where NegociationCode == \\'PETR4\\'').show(5)"
   ]
  },
  {
   "cell_type": "code",
   "execution_count": 8,
   "metadata": {},
   "outputs": [
    {
     "name": "stdout",
     "output_type": "stream",
     "text": [
      "+-----------+---------------+--------+\n",
      "|TradingDate|NegociationCode|MaxPrice|\n",
      "+-----------+---------------+--------+\n",
      "|   20160211|          PETR4|   427.0|\n",
      "|   20160126|          PETR4|   431.0|\n",
      "|   20160210|          PETR4|   441.0|\n",
      "|   20160120|          PETR4|   450.0|\n",
      "|   20160212|          PETR4|   451.0|\n",
      "+-----------+---------------+--------+\n",
      "only showing top 5 rows\n",
      "\n"
     ]
    }
   ],
   "source": [
    "df.select('TradingDate', 'NegociationCode', 'MaxPrice')\\\n",
    "    .filter(df.NegociationCode == 'PETR4')\\\n",
    "    .orderBy(df.MaxPrice)\\\n",
    "    .show(5)"
   ]
  },
  {
   "cell_type": "code",
   "execution_count": 9,
   "metadata": {},
   "outputs": [
    {
     "name": "stdout",
     "output_type": "stream",
     "text": [
      "+---------------+-----------+-----------------------+------------+\n",
      "|NegociationCode|ValorMaximo|count(MaxPrice AS `qt`)|negociation2|\n",
      "+---------------+-----------+-----------------------+------------+\n",
      "|          PETR4|    52100.0|                   5391|  PETR4PETR4|\n",
      "+---------------+-----------+-----------------------+------------+\n",
      "\n"
     ]
    }
   ],
   "source": [
    "import pyspark.sql.functions as func\n",
    "from pyspark.sql.functions import udf\n",
    "from pyspark.sql.types import StringType\n",
    "\n",
    "udfNegociation2 = udf(lambda negociation: negociation + negociation, StringType())\n",
    "\n",
    "df.select(func.col('NegociationCode'), func.col('MaxPrice'))\\\n",
    "    .filter(func.col('NegociationCode')=='PETR4')\\\n",
    "    .groupBy(func.col('NegociationCode'))\\\n",
    "    .agg(func.max(func.col('MaxPrice')).alias('ValorMaximo'),\n",
    "         func.count(func.col('MaxPrice').alias('qt')))\\\n",
    "    .withColumn('negociation2', udfNegociation2('NegociationCode'))\\\n",
    "    .show(3)\n"
   ]
  },
  {
   "cell_type": "code",
   "execution_count": null,
   "metadata": {},
   "outputs": [],
   "source": []
  },
  {
   "cell_type": "code",
   "execution_count": 10,
   "metadata": {},
   "outputs": [
    {
     "name": "stdout",
     "output_type": "stream",
     "text": [
      "+--------+\n",
      "|QNTDdias|\n",
      "+--------+\n",
      "|    5391|\n",
      "+--------+\n",
      "\n"
     ]
    }
   ],
   "source": [
    "#informacao 1\n",
    "sc.sql('select Count(NegociationCode) as QNTDdias  from bovespa where NegociationCode==\\'PETR4\\' ').show(5)"
   ]
  },
  {
   "cell_type": "code",
   "execution_count": 11,
   "metadata": {},
   "outputs": [
    {
     "name": "stdout",
     "output_type": "stream",
     "text": [
      "+---------------+-----------+\n",
      "|NegociationCode|PrecoMaximo|\n",
      "+---------------+-----------+\n",
      "|         A1LX34|    22597.0|\n",
      "|        A1LX34F|    22597.0|\n",
      "|        AALC11B|     3717.0|\n",
      "|         AALC34|    10058.0|\n",
      "|        AALC34F|    10058.0|\n",
      "|         AALL34|    18737.0|\n",
      "|        AALL34F|    19389.0|\n",
      "|          AALR3|     1976.0|\n",
      "|         AALR3F|     1999.0|\n",
      "|         AALR3T|     1956.0|\n",
      "+---------------+-----------+\n",
      "only showing top 10 rows\n",
      "\n"
     ]
    }
   ],
   "source": [
    "#informacao 2\n",
    "sc.sql('select NegociationCode, max(MaxPrice) as PrecoMaximo from bovespa group by NegociationCode order by Negociationcode').show(10)"
   ]
  },
  {
   "cell_type": "code",
   "execution_count": 12,
   "metadata": {},
   "outputs": [
    {
     "name": "stdout",
     "output_type": "stream",
     "text": [
      "+---------------+-----------+\n",
      "|NegociationCode|PrecoMaximo|\n",
      "+---------------+-----------+\n",
      "|          PETR4|    52100.0|\n",
      "+---------------+-----------+\n",
      "\n"
     ]
    }
   ],
   "source": [
    "#informacao 3\n",
    "sc.sql('select NegociationCode, max(MaxPrice) as PrecoMaximo from bovespa  where NegociationCode==\\'PETR4\\' group by NegociationCode').show()"
   ]
  },
  {
   "cell_type": "code",
   "execution_count": 13,
   "metadata": {},
   "outputs": [
    {
     "name": "stdout",
     "output_type": "stream",
     "text": [
      "+-----------+-------+\n",
      "|TradingDate|NPapers|\n",
      "+-----------+-------+\n",
      "|   20191216|   4652|\n",
      "|   20191212|   4241|\n",
      "|   20191213|   4223|\n",
      "|   20191118|   4208|\n",
      "|   20190819|   4135|\n",
      "|   20191114|   4131|\n",
      "|   20191021|   3975|\n",
      "|   20190916|   3954|\n",
      "|   20191113|   3930|\n",
      "|   20190715|   3916|\n",
      "+-----------+-------+\n",
      "only showing top 10 rows\n",
      "\n"
     ]
    }
   ],
   "source": [
    "#informacao 4\n",
    "sc.sql('select TradingDate, count(NegociationCode) as NPapers from bovespa group by TradingDate order by NPapers desc').show(10)"
   ]
  },
  {
   "cell_type": "code",
   "execution_count": 14,
   "metadata": {},
   "outputs": [
    {
     "name": "stdout",
     "output_type": "stream",
     "text": [
      "+---------+-------+\n",
      "|diaSemana|  count|\n",
      "+---------+-------+\n",
      "|        3|1597353|\n",
      "|        0|1626494|\n",
      "|        5|      3|\n",
      "|        1|1613747|\n",
      "|        4|1599650|\n",
      "|        2|1688444|\n",
      "+---------+-------+\n",
      "\n"
     ]
    }
   ],
   "source": [
    "#informacao 5\n",
    "import datetime\n",
    "from pyspark.sql.functions import udf\n",
    "from pyspark.sql.types import StringType\n",
    "\n",
    "def pegaDiaSemana(x):\n",
    "    try:\n",
    "        data = str(x)\n",
    "        ano, mes, dia = data[0:4], data[4:6], data[6:8]\n",
    "        return datetime.datetime(int(ano), int(mes), int(dia)).weekday()\n",
    "    except:\n",
    "        return '0'\n",
    "\n",
    "udfPegaDiaSemana = udf(pegaDiaSemana, StringType())\n",
    "\n",
    "df.select('TradingDate')\\\n",
    "    .withColumn('diaSemana', udfPegaDiaSemana('TradingDate'))\\\n",
    "    .groupBy(func.col('diaSemana'))\\\n",
    "    .count()\\\n",
    "    .show()\n"
   ]
  },
  {
   "cell_type": "code",
   "execution_count": 15,
   "metadata": {},
   "outputs": [
    {
     "name": "stdout",
     "output_type": "stream",
     "text": [
      "+---------------+-----------+\n",
      "|NegociationCode|      lucro|\n",
      "+---------------+-----------+\n",
      "|          ANT 3|    4.411E8|\n",
      "|          ARN 2|      1.5E8|\n",
      "|          TEL 4|1.0000008E8|\n",
      "|          RHE 4|      1.0E8|\n",
      "|          ARN 4|      9.0E7|\n",
      "|        LIGH11F|    8.005E7|\n",
      "|          BDL 4|      5.0E7|\n",
      "|          ANT 4|      4.0E7|\n",
      "|          CCC 2|    3.322E7|\n",
      "|          POL 3|      3.0E7|\n",
      "+---------------+-----------+\n",
      "only showing top 10 rows\n",
      "\n"
     ]
    }
   ],
   "source": [
    "#informacao 6\n",
    "sc.sql('select NegociationCode, max(MaxPrice - OpeningPrice) as lucro from bovespa group by NegociationCode order by lucro desc').show(10)"
   ]
  },
  {
   "cell_type": "code",
   "execution_count": 16,
   "metadata": {},
   "outputs": [
    {
     "name": "stdout",
     "output_type": "stream",
     "text": [
      "+---------------+-----------+\n",
      "|NegociationCode|   prejuizo|\n",
      "+---------------+-----------+\n",
      "|          ANT 3|     1.45E8|\n",
      "|          SLE 2|      1.0E8|\n",
      "|          RHE 4|      5.0E7|\n",
      "|          ARN 4|      4.0E7|\n",
      "|          ANT 4|      3.5E7|\n",
      "|          BDL 4|      3.0E7|\n",
      "|          LAM 3|      2.7E7|\n",
      "|          CCC 2|      2.5E7|\n",
      "|          BDL 2|      2.2E7|\n",
      "|          BMK 3|1.9999999E7|\n",
      "+---------------+-----------+\n",
      "only showing top 10 rows\n",
      "\n"
     ]
    }
   ],
   "source": [
    "#informacao 7\n",
    "sc.sql('select NegociationCode, max(OpeningPrice - LastTradePrice) as prejuizo from bovespa group by NegociationCode order by prejuizo desc').show(10)"
   ]
  },
  {
   "cell_type": "code",
   "execution_count": 17,
   "metadata": {},
   "outputs": [
    {
     "name": "stdout",
     "output_type": "stream",
     "text": [
      "+--------+-------+\n",
      "|Currency|   QNTD|\n",
      "+--------+-------+\n",
      "|     CZ$| 458842|\n",
      "|    NCZ$| 172625|\n",
      "|      R$|6995662|\n",
      "|     CR$| 498562|\n",
      "+--------+-------+\n",
      "\n"
     ]
    }
   ],
   "source": [
    "#informacao 8\n",
    "sc.sql('select Currency, Count(Currency) as QNTD from bovespa group by Currency').show()"
   ]
  },
  {
   "cell_type": "code",
   "execution_count": 18,
   "metadata": {},
   "outputs": [
    {
     "name": "stdout",
     "output_type": "stream",
     "text": [
      "+--------+---------------+----+\n",
      "|Currency|NegociationCode|QNTD|\n",
      "+--------+---------------+----+\n",
      "|     CZ$|          PMA 2|2002|\n",
      "|     CZ$|          PET 2|1993|\n",
      "|     CZ$|          SHA 2|1755|\n",
      "|     CZ$|          BB  2|1751|\n",
      "|     CZ$|          BES 2|1749|\n",
      "|     CZ$|          FNV 6|1730|\n",
      "|     CZ$|          BBD 4|1720|\n",
      "|     CZ$|          TRB 2|1679|\n",
      "|     CZ$|          AVI 2|1648|\n",
      "|     CZ$|          VAG 2|1643|\n",
      "+--------+---------------+----+\n",
      "only showing top 10 rows\n",
      "\n"
     ]
    }
   ],
   "source": [
    "#informacao 9\n",
    "sc.sql('select Currency, NegociationCode, Count(NegociationCode) as QNTD from bovespa where Currency==\\'CZ$\\' group by Currency, NegociationCode order by QNTD desc').show(10)"
   ]
  },
  {
   "cell_type": "code",
   "execution_count": 19,
   "metadata": {},
   "outputs": [
    {
     "name": "stdout",
     "output_type": "stream",
     "text": [
      "+--------+---------------+---------------+\n",
      "|Currency|NegociationCode|MaiorValorMedio|\n",
      "+--------+---------------+---------------+\n",
      "|     CZ$|          TLS 6|       3.7975E7|\n",
      "|     CZ$|          LOB 2|      8000000.0|\n",
      "|     CZ$|          ARN 2|      8000000.0|\n",
      "|     CZ$|          CCC 2|      7000000.0|\n",
      "|     CZ$|          RHE 4|      6902439.0|\n",
      "|     CZ$|          EBC 4|      6500000.0|\n",
      "|     CZ$|          CON 2|      6500000.0|\n",
      "|     CZ$|          AHE 3|      4000000.0|\n",
      "|     CZ$|          ARN 4|      4000000.0|\n",
      "|     CZ$|          MES 1|      3500000.0|\n",
      "+--------+---------------+---------------+\n",
      "only showing top 10 rows\n",
      "\n"
     ]
    }
   ],
   "source": [
    "#informacao 10\n",
    "sc.sql('select Currency, NegociationCode, max(MeanPrice) as MaiorValorMedio from bovespa where Currency==\\'CZ$\\' group by Currency, NegociationCode order by MaiorValorMedio desc').show(10)"
   ]
  },
  {
   "cell_type": "code",
   "execution_count": 20,
   "metadata": {},
   "outputs": [
    {
     "name": "stdout",
     "output_type": "stream",
     "text": [
      "+---------------+----+------------------+------------------+------------------+\n",
      "|NegociationCode|Year|     avg(MinPrice)|    avg(MeanPrice)|     avg(MaxPrice)|\n",
      "+---------------+----+------------------+------------------+------------------+\n",
      "|          PETR4|2019|2693.6169354838707|            2724.5|2755.3669354838707|\n",
      "|          PETR4|2018| 2065.718367346939|2102.4489795918366| 2140.804081632653|\n",
      "|          PETR4|2017|1441.2032520325204| 1459.060975609756|1477.7642276422764|\n",
      "|          PETR4|2016|1054.2610441767067|1077.4939759036145| 1101.140562248996|\n",
      "|          PETR4|2015| 957.8373983739838| 980.4349593495934| 1004.719512195122|\n",
      "|          PETR4|2014|1636.7701612903227|1669.7298387096773|1704.1370967741937|\n",
      "|          PETR4|2013|1800.5725806451612|1825.3064516129032|1852.4879032258063|\n",
      "|          PETR4|2012|2106.9065040650407| 2134.691056910569|2163.5040650406504|\n",
      "|          PETR4|2011| 2344.152610441767|2369.9236947791164| 2396.610441767068|\n",
      "|          PETR4|2010| 2940.068825910931| 2975.072874493927| 3011.076923076923|\n",
      "|          PETR4|2009|3141.5853658536585| 3183.650406504065|3225.0243902439024|\n",
      "|          PETR4|2008| 4705.016064257028| 4806.373493975903| 4906.417670682731|\n",
      "|          PETR4|2007| 5357.355102040817| 5442.975510204082| 5522.302040816327|\n",
      "|          PETR4|2006| 4285.987804878048|4344.0609756097565| 4400.654471544715|\n",
      "|          PETR4|2005| 7993.024096385542| 8094.469879518072| 8192.240963855422|\n",
      "|          PETR4|2004| 8279.132530120482| 8383.638554216868| 8488.269076305221|\n",
      "|          PETR4|2003|          5547.004|          5613.908|           5681.28|\n",
      "|          PETR4|2002|4727.7389558232935|4796.7389558232935|  4871.04016064257|\n",
      "|          PETR4|2001| 5216.276422764227|  5297.70325203252| 5383.422764227642|\n",
      "|          PETR4|2000|23769.959677419356|24186.137096774193|  24586.6935483871|\n",
      "+---------------+----+------------------+------------------+------------------+\n",
      "only showing top 20 rows\n",
      "\n"
     ]
    }
   ],
   "source": [
    "#informacao 11\n",
    "sc.sql('select NegociationCode, SUBSTRING(TradingDate, 1, 4) as Year, Avg(MinPrice), Avg(MeanPrice), Avg(MaxPrice) from bovespa where NegociationCode==\\'PETR4\\' group by NegociationCode, Year order by Year desc').show(20)"
   ]
  },
  {
   "cell_type": "code",
   "execution_count": 21,
   "metadata": {},
   "outputs": [
    {
     "name": "stdout",
     "output_type": "stream",
     "text": [
      "+---------------+----+------------------+\n",
      "|NegociationCode|Year|    avg(MeanPrice)|\n",
      "+---------------+----+------------------+\n",
      "|          PETR4|2019|            2724.5|\n",
      "|          PETR4|2018|2102.4489795918366|\n",
      "|          PETR4|2017| 1459.060975609756|\n",
      "|          PETR4|2016|1077.4939759036145|\n",
      "|          PETR4|2015| 980.4349593495934|\n",
      "|          PETR4|2014|1669.7298387096773|\n",
      "|          PETR4|2013|1825.3064516129032|\n",
      "|          PETR4|2012| 2134.691056910569|\n",
      "|          PETR4|2011|2369.9236947791164|\n",
      "|          PETR4|2010| 2975.072874493927|\n",
      "|          PETR4|2009| 3183.650406504065|\n",
      "|          PETR4|2008| 4806.373493975903|\n",
      "|          PETR4|2007| 5442.975510204082|\n",
      "|          PETR4|2006|4344.0609756097565|\n",
      "|          PETR4|2005| 8094.469879518072|\n",
      "|          PETR4|2004| 8383.638554216868|\n",
      "|          PETR4|2003|          5613.908|\n",
      "|          PETR4|2002|4796.7389558232935|\n",
      "|          PETR4|2001|  5297.70325203252|\n",
      "|          PETR4|2000|24186.137096774193|\n",
      "+---------------+----+------------------+\n",
      "only showing top 20 rows\n",
      "\n"
     ]
    }
   ],
   "source": [
    "#informacao 12\n",
    "# Preço médio (MeanPrice) anual (TradingDate) das ações da PETR4 (NegociationCode)\n",
    "\n",
    "# Vou fazer a média das entradas de PETR4, por exemplo, no ano 2019,\n",
    "# como [PETR4 AN0 Média] para diminuir o número de instâncias Year na tabela.\n",
    "# Não ficou claro na informação se eu poderia fazer AVG() dos Mean Prices; caso não seja essa \n",
    "# a intenção, basta remover Avg() da query e dar group by no mean price também.\n",
    "\n",
    "sc.sql('select NegociationCode, SUBSTRING(TradingDate, 1, 4) as Year, Avg(MeanPrice) from bovespa where NegociationCode=\\'PETR4\\' group by NegociationCode, Year order by Year desc').show(20)\n"
   ]
  },
  {
   "cell_type": "code",
   "execution_count": 23,
   "metadata": {},
   "outputs": [
    {
     "name": "stdout",
     "output_type": "stream",
     "text": [
      "Top 10 ações mais negociadas:  ['PETR4T', 'VALE5T', 'USIM5T', 'BBAS3T', 'CSNA3T', 'GGBR4T', 'BBDC4T', 'ITSA4T', 'CMIG4T', 'BRKM5T']\n",
      "+---------------+----+------------------+\n",
      "|NegociationCode|Year|    avg(MeanPrice)|\n",
      "+---------------+----+------------------+\n",
      "|         BBAS3T|2019| 4924.428455284553|\n",
      "|         BBDC4T|2019|3643.7828054298643|\n",
      "|         BRKM5T|2019|3683.0973630831645|\n",
      "|         CMIG4T|2019|1408.9468302658486|\n",
      "|         CSNA3T|2019| 1400.867403314917|\n",
      "|         GGBR4T|2019|1466.2689873417721|\n",
      "|         ITSA4T|2019|1282.3934426229507|\n",
      "|         PETR4T|2019| 2763.943482224248|\n",
      "|         USIM5T|2019| 880.4004995836802|\n",
      "|         BBAS3T|2018|3565.7605004468273|\n",
      "|         BBDC4T|2018| 3330.918144611187|\n",
      "|         BRKM5T|2018| 5014.777493606138|\n",
      "|         CMIG4T|2018| 871.8730684326711|\n",
      "|         CSNA3T|2018| 920.0129107981221|\n",
      "|         GGBR4T|2018|1586.2538569424964|\n",
      "|         ITSA4T|2018|1139.4112820512821|\n",
      "|         PETR4T|2018|2152.8916467780427|\n",
      "|         USIM5T|2018| 964.6364551863041|\n",
      "|         BBAS3T|2017|3176.4322508398654|\n",
      "|         BBDC4T|2017|3229.6673684210527|\n",
      "|         BRKM5T|2017|3974.2268907563025|\n",
      "|         CMIG4T|2017| 849.0871670702179|\n",
      "|         CSNA3T|2017| 873.8371794871795|\n",
      "|         GGBR4T|2017|1135.5294117647059|\n",
      "|         ITSA4T|2017|1007.6398713826367|\n",
      "|         PETR4T|2017|1487.8120950323973|\n",
      "|         USIM5T|2017| 646.1754601226994|\n",
      "|         VALE5T|2017| 2822.725641025641|\n",
      "|         BBAS3T|2016|2036.5633561643835|\n",
      "|         BBDC4T|2016| 2585.122832369942|\n",
      "|         BRKM5T|2016|2440.7130044843047|\n",
      "|         CMIG4T|2016| 742.6992084432718|\n",
      "|         CSNA3T|2016| 879.3611738148984|\n",
      "|         GGBR4T|2016| 799.6191819464034|\n",
      "|         ITSA4T|2016| 806.4554896142433|\n",
      "|         PETR4T|2016|1090.7854609929077|\n",
      "|         USIM5T|2016| 292.8732212160414|\n",
      "|         VALE5T|2016|1441.6931738212527|\n",
      "|         BBAS3T|2015|  2082.96618852459|\n",
      "|         BBDC4T|2015|2705.7417893544734|\n",
      "|         BRKM5T|2015|1378.9717514124293|\n",
      "|         CMIG4T|2015|1002.3052805280528|\n",
      "|         CSNA3T|2015| 519.1433823529412|\n",
      "|         GGBR4T|2015| 767.9319371727748|\n",
      "|         ITSA4T|2015| 842.9115044247787|\n",
      "|         PETR4T|2015|1002.3142565150741|\n",
      "|         USIM5T|2015|398.92831105710815|\n",
      "|         VALE5T|2015|1626.9178841309824|\n",
      "|         BBAS3T|2014| 2474.987542468856|\n",
      "|         BBDC4T|2014|3285.2131147540986|\n",
      "+---------------+----+------------------+\n",
      "only showing top 50 rows\n",
      "\n"
     ]
    }
   ],
   "source": [
    "#informacao 13\n",
    "# Preço médio (MeanPrice) anual (TradingDate) das 10 ações (NegociationCode) com mais operações na bovespa\n",
    "\n",
    "# Vou fazer a média das entradas de PETR4, por exemplo, no ano 2019,\n",
    "# como [PETR4 AN0 Média] para diminuir o número de instâncias Year na tabela.\n",
    "# Não ficou claro na informação se eu poderia fazer AVG() dos Mean Prices; caso não seja essa \n",
    "# a intenção, basta remover Avg() da query e dar group by no mean price também.\n",
    "\n",
    "\n",
    "top10Acoes = df.select('NegociationCode', 'MeanPrice', 'TradingDate')\\\n",
    "    .groupBy('NegociationCode')\\\n",
    "    .agg(func.count('NegociationCode').alias('qt'))\\\n",
    "    .orderBy(func.desc('qt'))\\\n",
    "    .limit(10)\\\n",
    "    .select('Negociationcode').collect()\n",
    "\n",
    "top10Acoes = [str(i).split('=\\'')[1].split('\\'')[0] for i in top10Acoes] # filtrando.\n",
    "\n",
    "# Criando uma cláusula where com o array top10:\n",
    "mywhere3 = ' where '\n",
    "for i in range(0, len(top10Acoes)):\n",
    "    mywhere3 += f' NegociationCode==\\'{top10Acoes[i]}\\' '\n",
    "    if i < len(top10Acoes)-1:\n",
    "        mywhere3 += ' or '\n",
    "\n",
    "print(\"Top 10 ações mais negociadas: \", top10Acoes)\n",
    "\n",
    "sc.sql('select NegociationCode, SUBSTRING(TradingDate, 1, 4) as Year, Avg(MeanPrice) from bovespa'+mywhere3+' group by NegociationCode, Year order by Year desc, NegociationCode').show(50)\n"
   ]
  },
  {
   "cell_type": "code",
   "execution_count": 24,
   "metadata": {},
   "outputs": [
    {
     "name": "stdout",
     "output_type": "stream",
     "text": [
      "+---------------+----+----------------------+\n",
      "|NegociationCode|Year|stddev_samp(MeanPrice)|\n",
      "+---------------+----+----------------------+\n",
      "|          PETR4|2019|    164.42760488118657|\n",
      "|          PETR4|2018|    322.32991837509013|\n",
      "|          PETR4|2017|    131.33322761191312|\n",
      "|          PETR4|2016|       379.52406656319|\n",
      "|          PETR4|2015|    212.59195810379663|\n",
      "|          PETR4|2014|     319.8401226321017|\n",
      "|          PETR4|2013|     136.1536508448088|\n",
      "|          PETR4|2012|    202.65900303596553|\n",
      "|          PETR4|2011|    304.10310718438325|\n",
      "|          PETR4|2010|    392.22804616214563|\n",
      "|          PETR4|2009|     414.3029746894998|\n",
      "|          PETR4|2008|     2311.364312465641|\n",
      "|          PETR4|2007|     1200.445391820076|\n",
      "|          PETR4|2006|    242.19193000733335|\n",
      "|          PETR4|2005|     3377.068887998981|\n",
      "|          PETR4|2004|     757.8230426632923|\n",
      "|          PETR4|2003|     863.8748535443933|\n",
      "|          PETR4|2002|     613.8605232990916|\n",
      "|          PETR4|2001|     333.4576639125791|\n",
      "|          PETR4|2000|    20189.956356803512|\n",
      "+---------------+----+----------------------+\n",
      "only showing top 20 rows\n",
      "\n"
     ]
    }
   ],
   "source": [
    "#informacao 14\n",
    "\n",
    "#Desvio Padrão anual do preço médio (MeanPrice) da ação da PETR4 (NegociationCode)\n",
    "sc.sql('select NegociationCode, SUBSTRING(TradingDate, 1, 4) as Year, stddev(MeanPrice) from bovespa where NegociationCode==\\'PETR4\\' group by NegociationCode, Year order by Year desc').show(20)"
   ]
  },
  {
   "cell_type": "code",
   "execution_count": 25,
   "metadata": {},
   "outputs": [
    {
     "name": "stdout",
     "output_type": "stream",
     "text": [
      "['PETR4T', 'VALE5T', 'USIM5T', 'BBAS3T', 'CSNA3T', 'GGBR4T', 'BBDC4T', 'ITSA4T', 'CMIG4T', 'BRKM5T']\n",
      "+---------------+----+----------------------+\n",
      "|NegociationCode|Year|stddev_samp(MeanPrice)|\n",
      "+---------------+----+----------------------+\n",
      "|         BBAS3T|2019|     278.4108910417547|\n",
      "|         BBDC4T|2019|    364.69206520223213|\n",
      "|         BRKM5T|2019|     889.9095240917367|\n",
      "|         CMIG4T|2019|     68.05303214710867|\n",
      "|         CSNA3T|2019|    219.22622899260105|\n",
      "|         GGBR4T|2019|    143.76969001819543|\n",
      "|         ITSA4T|2019|     73.34035510641367|\n",
      "|         PETR4T|2019|    176.76398173897732|\n",
      "|         USIM5T|2019|     92.63891532765003|\n",
      "|         BBAS3T|2018|      575.051063933194|\n",
      "|         BBDC4T|2018|    432.14526038986867|\n",
      "|         BRKM5T|2018|    443.11194870134796|\n",
      "|         CMIG4T|2018|    186.25904376536047|\n",
      "|         CSNA3T|2018|     83.84440052496272|\n",
      "|         GGBR4T|2018|     99.04875552857983|\n",
      "|         ITSA4T|2018|     151.4470044266044|\n",
      "|         PETR4T|2018|    338.21257536293416|\n",
      "|         USIM5T|2018|    139.37531194931884|\n",
      "|         BBAS3T|2017|      273.274782356005|\n",
      "|         BBDC4T|2017|     269.9457573432429|\n",
      "|         BRKM5T|2017|     597.6399056312631|\n",
      "|         CMIG4T|2017|    124.77845445317237|\n",
      "|         CSNA3T|2017|     163.8048806476733|\n",
      "|         GGBR4T|2017|    112.53931672173698|\n",
      "|         ITSA4T|2017|     79.64024718269013|\n",
      "|         PETR4T|2017|     135.1036271323912|\n",
      "|         USIM5T|2017|    217.04459485048557|\n",
      "|         VALE5T|2017|    243.00362994900908|\n",
      "|         BBAS3T|2016|     470.8910488349438|\n",
      "|         BBDC4T|2016|    433.04996245749703|\n",
      "|         BRKM5T|2016|     421.8264748924745|\n",
      "|         CMIG4T|2016|    147.42872993037642|\n",
      "|         CSNA3T|2016|    236.72543717725782|\n",
      "|         GGBR4T|2016|    276.12371126963797|\n",
      "|         ITSA4T|2016|     81.81346489527289|\n",
      "|         PETR4T|2016|     400.1555589906185|\n",
      "|         USIM5T|2016|    117.55224599489586|\n",
      "|         VALE5T|2016|      510.606044374684|\n",
      "|         BBAS3T|2015|    346.33333266832733|\n",
      "|         BBDC4T|2015|     535.9770520944436|\n",
      "|         BRKM5T|2015|    295.61541026880235|\n",
      "|         CMIG4T|2015|     288.8073638718649|\n",
      "|         CSNA3T|2015|    116.06609547866248|\n",
      "|         GGBR4T|2015|    193.91744668436476|\n",
      "|         ITSA4T|2015|    111.20937042147659|\n",
      "|         PETR4T|2015|    213.90144240157417|\n",
      "|         USIM5T|2015|    118.93182722037069|\n",
      "|         VALE5T|2015|      282.324250940134|\n",
      "|         BBAS3T|2014|    381.27948287617266|\n",
      "|         BBDC4T|2014|    436.68139891996293|\n",
      "+---------------+----+----------------------+\n",
      "only showing top 50 rows\n",
      "\n"
     ]
    }
   ],
   "source": [
    "#informacao 15\n",
    "# Desvio Padrão anual do preço médio (MeanPrice) das 10 ações (NegociationCode) com mais operações na bovespa\n",
    "\n",
    "top10 = df.select('NegociationCode', 'MeanPrice', 'TradingDate')\\\n",
    "    .groupBy('NegociationCode')\\\n",
    "    .agg(func.count('NegociationCode').alias('qt'))\\\n",
    "    .orderBy(func.desc('qt'))\\\n",
    "    .limit(10)\\\n",
    "    .select('Negociationcode').collect()\n",
    "\n",
    "top10 = [str(i).split('=\\'')[1].split('\\'')[0] for i in top10] # filtrando.\n",
    "\n",
    "# Criando uma cláusula where com o array top10:\n",
    "mywhere = ' where '\n",
    "for i in range(0, len(top10)):\n",
    "    mywhere += f' NegociationCode==\\'{top10[i]}\\' '\n",
    "    if i < len(top10)-1:\n",
    "        mywhere += ' or '\n",
    "\n",
    "print(top10)\n",
    "\n",
    "sc.sql('select NegociationCode, SUBSTRING(TradingDate, 1, 4) as Year, stddev(MeanPrice) from bovespa'+mywhere+' group by NegociationCode, Year order by Year desc, NegociationCode').show(50)\n"
   ]
  },
  {
   "cell_type": "code",
   "execution_count": 26,
   "metadata": {},
   "outputs": [
    {
     "name": "stdout",
     "output_type": "stream",
     "text": [
      "Top Most By Currency:  [['CR$', 'BBD 4'], ['CZ$', 'PMA 2'], ['NCZ$', 'PET 2'], ['R$', 'PETR4T']]\n",
      "+---------------+----+--------------------+\n",
      "|NegociationCode|Year|           MeanPrice|\n",
      "+---------------+----+--------------------+\n",
      "|         PETR4T|2019|   2763.943482224248|\n",
      "|         PETR4T|2018|  2152.8916467780427|\n",
      "|         PETR4T|2017|  1487.8120950323973|\n",
      "|         PETR4T|2016|  1090.7854609929077|\n",
      "|         PETR4T|2015|  1002.3142565150741|\n",
      "|         PETR4T|2014|  1671.9566591422122|\n",
      "|         PETR4T|2013|  1849.2040432534086|\n",
      "|         PETR4T|2012|    2154.13648409894|\n",
      "|         PETR4T|2011|   2456.218079493493|\n",
      "|         PETR4T|2010|   2983.363447559709|\n",
      "|         PETR4T|2009|  3264.6164483260554|\n",
      "|         PETR4T|2008|   4897.825913089842|\n",
      "|         PETR4T|2007|   5544.564305500594|\n",
      "|         PETR4T|2006|   4412.334102445778|\n",
      "|         PETR4T|2005|   7806.432778489117|\n",
      "|         PETR4T|2004|   8550.459595959595|\n",
      "|         PETR4T|2003|  5838.4639278557115|\n",
      "|         PETR4T|2002|   4834.294193548387|\n",
      "|         PETR4T|2001|   5357.148730350665|\n",
      "|         PETR4T|1999|  26129.480662983424|\n",
      "|         PETR4T|1998|   20028.90404040404|\n",
      "|          BBD 4|1998|   923.0672268907563|\n",
      "|          BBD 4|1997|   940.3768115942029|\n",
      "|          BBD 4|1996|    908.142378559464|\n",
      "|          BBD 4|1995|   776.3051724137931|\n",
      "|          BBD 4|1994|  1010.6907020872866|\n",
      "|          BBD 4|1993|   62409.33536585366|\n",
      "|          BBD 4|1992|  16516.576846307384|\n",
      "|          PET 2|1991|   122792.3268206039|\n",
      "|          BBD 4|1991|   48068.76091081594|\n",
      "|          PET 2|1990|1.1893549348230913E7|\n",
      "|          BBD 4|1990|  122173.04329896907|\n",
      "|          PMA 2|1990|   68709.10914454277|\n",
      "|          PET 2|1989|   815575.5820895522|\n",
      "|          PMA 2|1989|  40317.880952380954|\n",
      "|          BBD 4|1989|  23985.135396518373|\n",
      "|          PET 2|1988|   68248.84666666666|\n",
      "|          BBD 4|1988|    5856.22385321101|\n",
      "|          PMA 2|1988|   4754.275229357798|\n",
      "|          PET 2|1987|   32823.77319587629|\n",
      "|          PMA 2|1987|  1507.8791018998272|\n",
      "|          BBD 4|1987|   1498.091836734694|\n",
      "|          PET 2|1986|  133676.46993318485|\n",
      "|          BBD 4|1986|   1859.125322997416|\n",
      "|          PMA 2|1986|  1800.8725961538462|\n",
      "+---------------+----+--------------------+\n",
      "\n"
     ]
    }
   ],
   "source": [
    "#informacao 16\n",
    "#Preço médio (MeanPrice) anual (TradingDate) das ações (NegociationCode) com a maior\n",
    "#quantidade de operações de acordo com a moeda (Currency)\n",
    "\n",
    "# Vou fazer a média das entradas de PETR4, por exemplo, no ano 2019,\n",
    "# como PETR4 AN0 Média para diminuir o tamanho da tabela. \n",
    "\n",
    "\n",
    "# Pegando os tickers com mais ocorrências:\n",
    "topByCurrency = df.select('NegociationCode', 'Currency')\\\n",
    "    .groupBy('Currency', 'NegociationCode')\\\n",
    "    .agg(func.count('NegociationCode').alias('qt'))\\\n",
    "    .orderBy(func.col('Currency'), func.desc('qt'))\\\n",
    "    .collect()\n",
    "\n",
    "\n",
    "# Filtrando:\n",
    "topByCurrency = [[str(i).split('=\\'')[1].split('\\'')[0], str(i).split('=\\'')[2].split('\\'')[0]] for i in topByCurrency]\n",
    "\n",
    "\n",
    "curr_, topMost = [],[]\n",
    "for i in range(0, len(topByCurrency)):\n",
    "    if topByCurrency[i][0] not in curr_:\n",
    "        curr_.append(topByCurrency[i][0])\n",
    "        topMost.append(topByCurrency[i])\n",
    "\n",
    "print(\"Top Most By Currency: \", topMost)\n",
    "        \n",
    "# Criando minha cláusula where:\n",
    "mywhere2 = ' where '\n",
    "for i in range(0, len(topMost)):\n",
    "    mywhere2 += f' NegociationCode=\\'{topMost[i][1]}\\' '\n",
    "    if i < len(topMost)-1:\n",
    "        mywhere2 += ' or '\n",
    "\n",
    "sc.sql('select NegociationCode, SUBSTRING(TradingDate, 1, 4) as Year, Avg(MeanPrice) as MeanPrice from bovespa'+mywhere2+' group by NegociationCode, Year order by Year desc, MeanPrice desc').show(50)\n"
   ]
  },
  {
   "cell_type": "code",
   "execution_count": null,
   "metadata": {},
   "outputs": [],
   "source": []
  },
  {
   "cell_type": "code",
   "execution_count": null,
   "metadata": {},
   "outputs": [],
   "source": []
  }
 ],
 "metadata": {
  "kernelspec": {
   "display_name": "Python 3",
   "language": "python",
   "name": "python3"
  },
  "language_info": {
   "codemirror_mode": {
    "name": "ipython",
    "version": 3
   },
   "file_extension": ".py",
   "mimetype": "text/x-python",
   "name": "python",
   "nbconvert_exporter": "python",
   "pygments_lexer": "ipython3",
   "version": "3.7.4"
  }
 },
 "nbformat": 4,
 "nbformat_minor": 4
}
