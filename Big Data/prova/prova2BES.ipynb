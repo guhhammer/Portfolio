{
 "cells": [
  {
   "cell_type": "markdown",
   "metadata": {},
   "source": [
    "# Prova 2 - Big Data\n",
    "\n",
    "Considerando o dataset detalhado a seguir, extraia o conjunto de informações solicitadas.\n",
    "\n",
    "### Dataset dados de ataques de rede\n",
    "\n",
    "- Arquivo disponível em /home/dados/ddos/prova.csv\n",
    "- Dados relativos a ataques em nível de rede em uma rede de computadores\n",
    "- ~1GB\n",
    "- ~2M de instâncias\n",
    "\n",
    "| #  \t| Nome                       \t| Descrição                                                                                                 \t|\n",
    "|----\t|----------------------------\t|-----------------------------------------------------------------------------------------------------------\t|\n",
    "| 0  \t| Number                     \t| Numero                                                                                                    \t|\n",
    "| 1  \t| Flow ID                    \t| Identificador                                                                                             \t|\n",
    "| 2  \t| Src IP                     \t| IP de origem                                                                                              \t|\n",
    "| 3  \t| Src Port                   \t| Porta de origem                                                                                           \t|\n",
    "| 4  \t| Dst IP                     \t| Ip de destino                                                                                             \t|\n",
    "| 5  \t| Dst Port                   \t| Porta de destino                                                                                          \t|\n",
    "| 6  \t| Protocol                   \t| Protocolo                                                                                                 \t|\n",
    "| 7  \t| Timestamp                  \t| Timestamp                                                                                                 \t|\n",
    "| 8  \t| Flow duration              \t| Duração do fluxo em microssegundos                                                                        \t|\n",
    "| 9 \t| total Fwd Packet           \t| Pacotes totais na direção para servidor                                                                   \t|\n",
    "| 10 \t| total Bwd packets          \t| Pacotes totais na direção para cliente                                                                    \t|\n",
    "| 11 \t| total Length of Fwd Packet \t| Tamanho total do pacote na direção para servidor                                                          \t|\n",
    "| 12 \t| total Length of Bwd Packet \t| Tamanho total do pacote na direção para cliente                                                           \t|\n",
    "| 13 \t| Fwd Packet Length Min      \t| Tamanho mínimo do pacote na direção para servidor                                                         \t|\n",
    "| 14 \t| Fwd Packet Length Max      \t| Tamanho máximo do pacote na direção para servidor                                                         \t|\n",
    "| 15 \t| Fwd Packet Length Mean     \t| Tamanho médio do pacote na direção para servidor                                                          \t|\n",
    "| 16 \t| Fwd Packet Length Std      \t| Tamanho do desvio padrão do pacote na direção para servidor                                               \t|\n",
    "| 17 \t| Bwd Packet Length Min      \t| Tamanho mínimo do pacote na direção para cliente                                                          \t|\n",
    "| 18 \t| Bwd Packet Length Max      \t| Tamanho máximo do pacote na direção para cliente                                                          \t|\n",
    "| 19 \t| Bwd Packet Length Mean     \t| Tamanho médio do pacote na direção para cliente                                                           \t|\n",
    "| 20 \t| Bwd Packet Length Std      \t| Tamanho do desvio padrão do pacote na direção para cliente                                                \t|\n",
    "| 21 \t| Flow Bytes/s               \t| Número de bytes de fluxo por segundo                                                                      \t|\n",
    "| 22 \t| Flow Packets/s             \t| Número de pacotes de fluxo por segundo                                                                    \t|\n",
    "| 23 \t| Flow IAT Mean              \t| Tempo médio entre dois pacotes enviados no fluxo                                                          \t|\n",
    "| 24 \t| Flow IAT Std               \t| Tempo de desvio padrão entre dois pacotes enviados no fluxo                                               \t|\n",
    "| 25 \t| Flow IAT Max               \t| Tempo máximo entre dois pacotes enviados no fluxo                                                         \t|\n",
    "| 26 \t| Flow IAT Min               \t| Tempo mínimo entre dois pacotes enviados no fluxo                                                         \t|\n",
    "| 27 \t| Fwd IAT Min                \t| Tempo mínimo entre dois pacotes enviados na direção para servidor                                         \t|\n",
    "| 28 \t| Fwd IAT Max                \t| Tempo máximo entre dois pacotes enviados na direção para servidor                                         \t|\n",
    "| 29 \t| Fwd IAT Mean               \t| Tempo médio entre dois pacotes enviados na direção para servidor                                          \t|\n",
    "| 30 \t| Fwd IAT Std                \t| Tempo de desvio padrão entre dois pacotes enviados na direção para   servidor                             \t|\n",
    "| 31 \t| Fwd IAT Total              \t| Tempo total entre dois pacotes enviados na direção para servidor                                          \t|\n",
    "| 32 \t| Bwd IAT Min                \t| Tempo mínimo entre dois pacotes enviados no sentido inverso                                               \t|\n",
    "| 33 \t| Bwd IAT Max                \t| Tempo máximo entre dois pacotes enviados no sentido inverso                                               \t|\n",
    "| 34 \t| Bwd IAT Mean               \t| Tempo médio entre dois pacotes enviados na direção para cliente                                           \t|\n",
    "| 35 \t| Bwd IAT Std                \t| Tempo de desvio padrão entre dois pacotes enviados na direção para   cliente                              \t|\n",
    "| 36 \t| Bwd IAT Total              \t| Tempo total entre dois pacotes enviados na direção para cliente                                           \t|\n",
    "| 37 \t| Fwd PSH flags              \t| Número de vezes que a flag PSH foi definida em pacotes que viajam na   direção para servidor (0 para UDP) \t|\n",
    "| 38 \t| Bwd PSH Flags              \t| Número de vezes que a flag PSH foi definida em pacotes que viajam na   direção para cliente (0 para UDP)  \t|\n",
    "| 39 \t| Fwd URG Flags              \t| Número de vezes que a flag URG foi definida em pacotes que viajam na   direção para servidor (0 para UDP) \t|\n",
    "| 40 \t| Bwd URG Flags              \t| Número de vezes que a flag URG foi definida em pacotes que viajam na   direção para cliente (0 para UDP)  \t|\n",
    "| 41 \t| Fwd Header Length          \t| Total de bytes usados para cabeçalhos na direção para servidor                                            \t|\n",
    "| 42 \t| Bwd Header Length          \t| Total de bytes usados para cabeçalhos no sentido inverso                                                  \t|\n",
    "| 43 \t| FWD Packets/s              \t| Número de pacotes encaminhados por segundo                                                                \t|\n",
    "| 44 \t| Bwd Packets/s              \t| Número de pacotes para trás por segundo                                                                   \t|\n",
    "| 45 \t| Packet Length Min          \t| Comprimento mínimo de um pacote                                                                           \t|\n",
    "| 46 \t| Packet Length Max          \t| Comprimento máximo de um pacote                                                                           \t|\n",
    "| 47 \t| Packet Length Mean         \t| Comprimento médio de um pacote                                                                            \t|\n",
    "| 48 \t| Packet Length Std          \t| Comprimento do desvio padrão de um pacote                                                                 \t|\n",
    "| 49 \t| Packet Length Variance     \t| Comprimento de variância de um pacote                                                                     \t|\n",
    "| 50 \t| FIN Flag Count             \t| Número de pacotes com FIN                                                                                 \t|\n",
    "| 51 \t| SYN Flag Count             \t| Número de pacotes com SYN                                                                                 \t|\n",
    "| 52 \t| RST Flag Count             \t| Número de pacotes com RST                                                                                 \t|\n",
    "| 53 \t| PSH Flag Count             \t| Número de pacotes com PUSH                                                                                \t|\n",
    "| 54 \t| ACK Flag Count             \t| Número de pacotes com ACK                                                                                 \t|\n",
    "| 55 \t| URG Flag Count             \t| Número de pacotes com URG                                                                                 \t|\n",
    "| 56 \t| CWR Flag Count             \t| Número de pacotes com CWR                                                                                 \t|\n",
    "| 57 \t| ECE Flag Count             \t| Número de pacotes com ECE                                                                                 \t|\n",
    "| 58 \t| down/Up Ratio              \t| Taxa de download e upload                                                                                 \t|\n",
    "| 59 \t| Average Packet Size        \t| Tamanho médio do pacote                                                                                   \t|\n",
    "| 60 \t| Fwd Segment Size Avg       \t| Tamanho médio observado na direção para servidor                                                          \t|\n",
    "| 61 \t| Bwd Segment Size Avg       \t| Taxa média do número de bytes em massa no sentido para cliente                                            \t|\n",
    "| 62 \t| Fwd Bytes/Bulk Avg         \t| Taxa média do número de bytes em massa na direção para servidor                                           \t|\n",
    "| 63 \t| Fwd Packet/Bulk Avg        \t| Taxa média do número de pacotes em massa na direção para servidor                                         \t|\n",
    "| 64 \t| Fwd Bulk Rate Avg          \t| Número médio de taxa em massa na direção para servidor                                                    \t|\n",
    "| 65 \t| Bwd Bytes/Bulk Avg         \t| Taxa média do número de bytes em massa no sentido para cliente                                            \t|\n",
    "| 66 \t| Bwd Packet/Bulk Avg        \t| Taxa média do número de pacotes em massa na direção para cliente                                          \t|\n",
    "| 67 \t| Bwd Bulk Rate Avg          \t| Número médio de taxa em massa na direção para cliente                                                     \t|\n",
    "| 68 \t| Subflow Fwd Packets        \t| O número médio de pacotes em um subfluxo na direção para servidor                                         \t|\n",
    "| 69 \t| Subflow Fwd Bytes          \t| O número médio de bytes em um subfluxo na direção para servidor                                           \t|\n",
    "| 70 \t| Subflow Bwd Packets        \t| O número médio de pacotes em um subfluxo na direção para cliente                                          \t|\n",
    "| 71 \t| Subflow Bwd Bytes          \t| O número médio de bytes em um subfluxo na direção para cliente                                            \t|\n",
    "| 72 \t| Fwd Init Win bytes         \t| O número total de bytes enviados na janela inicial na direção para   servidor                             \t|\n",
    "| 73 \t| Bwd Init Win bytes         \t| O número total de bytes enviados na janela inicial na direção cliente                                     \t|\n",
    "| 74 \t| Fwd Act Data Pkts          \t| Contagem de pacotes com pelo menos 1 byte de carga útil de dados TCP na   direção para servidor           \t|\n",
    "| 75 \t| Fwd Seg Size Min           \t| Tamanho mínimo do segmento observado na direção para servidor                                             \t|\n",
    "| 76 \t| Active Min                 \t| Tempo mínimo em que um fluxo esteve ativo antes de se tornar ocioso                                       \t|\n",
    "| 77 \t| Active Mean                \t| Tempo médio em que um fluxo estava ativo antes de ficar ocioso                                            \t|\n",
    "| 78 \t| Active Max                 \t| Tempo máximo em que um fluxo ficou ativo antes de se tornar ocioso                                        \t|\n",
    "| 79 \t| Active Std                 \t| Tempo de desvio padrão em que um fluxo estava ativo antes de ficar ocioso                                 \t|\n",
    "| 80 \t| Idle Min                   \t| Tempo mínimo em que um fluxo ficou ocioso antes de se tornar ativo                                        \t|\n",
    "| 81 \t| Idle Mean                  \t| Tempo médio em que um fluxo ficou ocioso antes de se tornar ativo                                         \t|\n",
    "| 82 \t| Idle Max                   \t| Tempo máximo em que um fluxo ficou ocioso antes de se tornar ativo                                        \t|\n",
    "| 83 \t| Idle Std                   \t| Tempo de desvio padrão em que um fluxo estava ocioso antes de se tornar   ativo                           \t|\n",
    "| 84 \t| Label                      \t| Classe do fluxo                                                                                           \t|\n",
    "\n",
    "\n",
    "## Extraia as informações solicitadas no PDF entregue, lembre-se de mencionar a informação extraida na célula"
   ]
  },
  {
   "cell_type": "code",
   "execution_count": 1,
   "metadata": {},
   "outputs": [],
   "source": [
    "# abre sessão no spark\n",
    "import os\n",
    "os.environ['PYSPARK_PYTHON'] = '/usr/bin/python3'\n",
    "\n",
    "import pyspark\n",
    "conf = pyspark.SparkConf()\n",
    "\n",
    "conf.setMaster('spark://spark-master:7077')\n",
    "\n",
    "sc = pyspark.SparkContext.getOrCreate()\n",
    "sc.stop()\n",
    "sc = pyspark.SparkContext(conf = conf)"
   ]
  },
  {
   "cell_type": "code",
   "execution_count": 2,
   "metadata": {},
   "outputs": [],
   "source": [
    "#carrega arquivo do HDFS em um RDD\n",
    "arquivoRDD = sc.textFile('hdfs://namenode:9000/prova.csv')"
   ]
  },
  {
   "cell_type": "markdown",
   "metadata": {},
   "source": [
    "### Informação PYSPARK 1"
   ]
  },
  {
   "cell_type": "code",
   "execution_count": 3,
   "metadata": {},
   "outputs": [
    {
     "data": {
      "text/plain": [
       "[('20/02/2018', 773676),\n",
       " ('16/02/2018', 723196),\n",
       " ('22/02/2018', 253894),\n",
       " ('21/02/2018', 180242),\n",
       " ('03/07/2017', 39505)]"
      ]
     },
     "execution_count": 3,
     "metadata": {},
     "output_type": "execute_result"
    }
   ],
   "source": [
    "# Quais são os 5 dias com mais conexões na base\n",
    "# TIMESTAMP\n",
    "arquivoRDD.map(lambda l: l.split(',')[7])\\\n",
    "          .map(lambda l: [(l.split(' ')[0]), 1])\\\n",
    "          .filter(lambda l: l[0] != 'Timestamp')\\\n",
    "          .reduceByKey(lambda x,y: x+y)\\\n",
    "          .sortBy(lambda c: c[1], False)\\\n",
    "          .take(5)"
   ]
  },
  {
   "cell_type": "code",
   "execution_count": null,
   "metadata": {},
   "outputs": [],
   "source": []
  },
  {
   "cell_type": "code",
   "execution_count": null,
   "metadata": {},
   "outputs": [],
   "source": []
  },
  {
   "cell_type": "markdown",
   "metadata": {},
   "source": [
    "### Informação PYSPARK 2"
   ]
  },
  {
   "cell_type": "code",
   "execution_count": 4,
   "metadata": {},
   "outputs": [],
   "source": [
    "# Qual a quantidade de conexões com duração maior que 100 segundos e \n",
    "# menor que 200 segundos de acordo com seu label"
   ]
  },
  {
   "cell_type": "code",
   "execution_count": 5,
   "metadata": {},
   "outputs": [
    {
     "data": {
      "text/plain": [
       "[('ddos', 3986), ('Benign', 22217)]"
      ]
     },
     "execution_count": 5,
     "metadata": {},
     "output_type": "execute_result"
    }
   ],
   "source": [
    "def limite(x):\n",
    "    try:\n",
    "        x = int(x)\n",
    "        if x < 200 and x > 100:\n",
    "            return 1\n",
    "        else: \n",
    "            return 0\n",
    "    except:\n",
    "        return 0\n",
    "    \n",
    "arquivoRDD.map(lambda l: [l.split(',')[84], l.split(',')[8]])\\\n",
    "        .map(lambda l: [l[0],limite(l[1])])\\\n",
    "        .reduceByKey(lambda x,y: x+y)\\\n",
    "        .filter(lambda l: l[0]!='Label')\\\n",
    "        .collect()"
   ]
  },
  {
   "cell_type": "code",
   "execution_count": null,
   "metadata": {},
   "outputs": [],
   "source": []
  },
  {
   "cell_type": "markdown",
   "metadata": {},
   "source": [
    "### Informação PYSPARK 3"
   ]
  },
  {
   "cell_type": "code",
   "execution_count": 6,
   "metadata": {},
   "outputs": [
    {
     "data": {
      "text/plain": [
       "[('ddos', 1294529), ('Benign', 705470)]"
      ]
     },
     "execution_count": 6,
     "metadata": {},
     "output_type": "execute_result"
    }
   ],
   "source": [
    "# Qual a ocorrência de cada label\n",
    "arquivoRDD.map(lambda l: [l.split(',')[84], 1])\\\n",
    "    .filter(lambda l: l[0] != 'Label')\\\n",
    "    .reduceByKey(lambda x,y: x+y)\\\n",
    "    .collect()"
   ]
  },
  {
   "cell_type": "code",
   "execution_count": null,
   "metadata": {},
   "outputs": [],
   "source": []
  },
  {
   "cell_type": "code",
   "execution_count": null,
   "metadata": {},
   "outputs": [],
   "source": []
  },
  {
   "cell_type": "markdown",
   "metadata": {},
   "source": [
    "### Informação PYSPARK 4"
   ]
  },
  {
   "cell_type": "code",
   "execution_count": 7,
   "metadata": {},
   "outputs": [],
   "source": [
    "# Quais os 5 IPs com maior ocorrência como origem de fluxo da conexão"
   ]
  },
  {
   "cell_type": "code",
   "execution_count": 8,
   "metadata": {},
   "outputs": [
    {
     "data": {
      "text/plain": [
       "[('172.31.69.25', 353151),\n",
       " ('18.219.193.20', 348970),\n",
       " ('172.31.69.28', 185081),\n",
       " ('18.218.229.235', 37035),\n",
       " ('18.216.200.189', 36992)]"
      ]
     },
     "execution_count": 8,
     "metadata": {},
     "output_type": "execute_result"
    }
   ],
   "source": [
    "arquivoRDD.map(lambda l: [l.split(',')[2], 1])\\\n",
    "        .filter(lambda l: l[0] != 'Src IP')\\\n",
    "        .reduceByKey(lambda x,y: x+y)\\\n",
    "        .sortBy(lambda l: l[1], False)\\\n",
    "        .take(5)"
   ]
  },
  {
   "cell_type": "code",
   "execution_count": null,
   "metadata": {},
   "outputs": [],
   "source": []
  },
  {
   "cell_type": "markdown",
   "metadata": {},
   "source": [
    "### Informação PYSPARK 5"
   ]
  },
  {
   "cell_type": "code",
   "execution_count": 9,
   "metadata": {},
   "outputs": [],
   "source": [
    "# Qual o fluxo com maior duração para cada label de acordo com seu protocolo"
   ]
  },
  {
   "cell_type": "code",
   "execution_count": 10,
   "metadata": {},
   "outputs": [
    {
     "data": {
      "text/plain": [
       "[('Label-Protocol', 'Flow Duration'),\n",
       " ('ddos-6', '99999947'),\n",
       " ('Benign-0', '99999990'),\n",
       " ('Benign-6', '999999'),\n",
       " ('Benign-17', '99992'),\n",
       " ('ddos-17', '99999830')]"
      ]
     },
     "execution_count": 10,
     "metadata": {},
     "output_type": "execute_result"
    }
   ],
   "source": [
    "# Para comparar valores string muito grandes e difíceis de representar como int.\n",
    "def compare(x, y):\n",
    "    arr = [x,y]\n",
    "    arr.sort()\n",
    "    return arr[1]\n",
    "\n",
    "arquivoRDD.map(lambda l: [str(l.split(',')[84])+\"-\"+str(l.split(',')[6]), l.split(',')[8]])\\\n",
    "       .reduceByKey(lambda x,y: compare(x,y))\\\n",
    "       .collect()"
   ]
  },
  {
   "cell_type": "code",
   "execution_count": null,
   "metadata": {},
   "outputs": [],
   "source": []
  },
  {
   "cell_type": "markdown",
   "metadata": {},
   "source": [
    "### Informação PYSPARK 6"
   ]
  },
  {
   "cell_type": "code",
   "execution_count": 11,
   "metadata": {},
   "outputs": [],
   "source": [
    "# Sabendo que um IP é caracterizado por 4 bytes no formato BYTE1.BYTE.BYTE3.BYTE4\n",
    "# Determine quais os 5 valores que ocorrem com maior frequência no BYTE1 do ip de destino."
   ]
  },
  {
   "cell_type": "code",
   "execution_count": 12,
   "metadata": {},
   "outputs": [
    {
     "data": {
      "text/plain": [
       "[('172', 1182960),\n",
       " ('18', 518799),\n",
       " ('169', 49418),\n",
       " ('52', 32581),\n",
       " ('192', 31510)]"
      ]
     },
     "execution_count": 12,
     "metadata": {},
     "output_type": "execute_result"
    }
   ],
   "source": [
    "arquivoRDD.map(lambda l: [l.split(',')[4].split('.')[0], 1])\\\n",
    "        .reduceByKey(lambda x,y: x+y)\\\n",
    "        .sortBy(lambda l: l[1], False)\\\n",
    "        .take(5)"
   ]
  },
  {
   "cell_type": "code",
   "execution_count": null,
   "metadata": {},
   "outputs": [],
   "source": []
  },
  {
   "cell_type": "markdown",
   "metadata": {},
   "source": [
    "### Informação PYSPARK 7"
   ]
  },
  {
   "cell_type": "code",
   "execution_count": 13,
   "metadata": {},
   "outputs": [],
   "source": [
    "# Sabendo que um serviço é caracterizado pelo campo IP de destino e porta de destino, quais são os 5 serviços \n",
    "# mais acessados."
   ]
  },
  {
   "cell_type": "code",
   "execution_count": 14,
   "metadata": {},
   "outputs": [
    {
     "data": {
      "text/plain": [
       "[('172.31.69.25::80', 475265),\n",
       " ('172.31.69.28::80', 250274),\n",
       " ('172.31.0.2::53', 218991),\n",
       " ('169.254.169.254::80', 48885),\n",
       " ('172.31.69.25::21', 21245)]"
      ]
     },
     "execution_count": 14,
     "metadata": {},
     "output_type": "execute_result"
    }
   ],
   "source": [
    "arquivoRDD.map(lambda l: [l.split(',')[4]+\"::\"+l.split(',')[5], 1])\\\n",
    "        .reduceByKey(lambda x,y: x+y)\\\n",
    "        .sortBy(lambda l: l[1], False)\\\n",
    "        .take(5)"
   ]
  },
  {
   "cell_type": "code",
   "execution_count": 15,
   "metadata": {},
   "outputs": [],
   "source": [
    "# \" ... :: ... \" = \" IP :: Port\""
   ]
  },
  {
   "cell_type": "markdown",
   "metadata": {},
   "source": [
    "### Informação PYSPARK 8"
   ]
  },
  {
   "cell_type": "code",
   "execution_count": 16,
   "metadata": {},
   "outputs": [],
   "source": [
    "# Qual a quantidade de conexões para cada tipo considerado(Flow Duration)\n"
   ]
  },
  {
   "cell_type": "code",
   "execution_count": 17,
   "metadata": {},
   "outputs": [
    {
     "data": {
      "text/plain": [
       "[('pequena', 112337),\n",
       " ('media', 226615),\n",
       " ('jumbo', 1232358),\n",
       " ('grande', 428689)]"
      ]
     },
     "execution_count": 17,
     "metadata": {},
     "output_type": "execute_result"
    }
   ],
   "source": [
    "def tipo(x):\n",
    "    try:\n",
    "        x = int(x)\n",
    "        \n",
    "        if x < 101 and x > 0:\n",
    "            return 'pequena'\n",
    "        elif x < 1001:\n",
    "            return 'media'\n",
    "        elif x < 10001:\n",
    "            return 'grande'\n",
    "        else:\n",
    "            return 'jumbo'\n",
    "    except:\n",
    "        return 'erro'\n",
    "        \n",
    "arquivoRDD.map(lambda l: l.split(',')[8])\\\n",
    "        .map(lambda l: [tipo(l), 1])\\\n",
    "        .reduceByKey(lambda x,y: x+y)\\\n",
    "        .filter(lambda l: l[0]!='erro')\\\n",
    "        .take(5)"
   ]
  },
  {
   "cell_type": "code",
   "execution_count": null,
   "metadata": {},
   "outputs": [],
   "source": []
  }
 ],
 "metadata": {
  "kernelspec": {
   "display_name": "Python 3",
   "language": "python",
   "name": "python3"
  },
  "language_info": {
   "codemirror_mode": {
    "name": "ipython",
    "version": 3
   },
   "file_extension": ".py",
   "mimetype": "text/x-python",
   "name": "python",
   "nbconvert_exporter": "python",
   "pygments_lexer": "ipython3",
   "version": "3.7.4"
  }
 },
 "nbformat": 4,
 "nbformat_minor": 4
}
