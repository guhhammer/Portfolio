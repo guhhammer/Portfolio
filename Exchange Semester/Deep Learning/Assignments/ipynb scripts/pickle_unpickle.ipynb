{
  "nbformat": 4,
  "nbformat_minor": 0,
  "metadata": {
    "colab": {
      "name": "pickle-unpickle.ipynb",
      "provenance": [],
      "collapsed_sections": []
    },
    "kernelspec": {
      "name": "python3",
      "display_name": "Python 3"
    }
  },
  "cells": [
    {
      "cell_type": "markdown",
      "metadata": {
        "id": "chtuIfbjvLA3",
        "colab_type": "text"
      },
      "source": [
        "Python Pickle is used to serialize and deserialize a python object structure. \n",
        "Any object on python can be pickled so that it can be saved on disk."
      ]
    },
    {
      "cell_type": "code",
      "metadata": {
        "id": "5LeWaLu3t1PT",
        "colab_type": "code",
        "colab": {}
      },
      "source": [
        "import pickle\n",
        "\n",
        "# take user input to take the amount of data\n",
        "data = [2, 3, 5, 7, 11, 13, 17, 19, 23, 29, 31, 37, 41, 43, 47, 53, 59, 61, 67, 71, 73, 79, 83, 89,97]\n",
        "\n",
        "\n",
        "# open a file, where you ant to store the data\n",
        "file = open('mydata.dat', 'wb')\n",
        "\n",
        "# dump information to that file\n",
        "pickle.dump(data, file)\n",
        "\n",
        "# close the file\n",
        "file.close()"
      ],
      "execution_count": 0,
      "outputs": []
    },
    {
      "cell_type": "code",
      "metadata": {
        "id": "oXKq020ouerM",
        "colab_type": "code",
        "colab": {
          "base_uri": "https://localhost:8080/",
          "height": 120
        },
        "outputId": "af59cc32-c40f-4ae0-abeb-0f462e13d40c"
      },
      "source": [
        "!ls -al"
      ],
      "execution_count": 4,
      "outputs": [
        {
          "output_type": "stream",
          "text": [
            "total 20\n",
            "drwxr-xr-x 1 root root 4096 Nov 16 05:39 .\n",
            "drwxr-xr-x 1 root root 4096 Nov 16 05:38 ..\n",
            "drwxr-xr-x 1 root root 4096 Nov 12 16:16 .config\n",
            "-rw-r--r-- 1 root root   58 Nov 16 05:39 mydata.dat\n",
            "drwxr-xr-x 1 root root 4096 Nov  6 16:17 sample_data\n"
          ],
          "name": "stdout"
        }
      ]
    },
    {
      "cell_type": "code",
      "metadata": {
        "id": "bRbqICDauuI0",
        "colab_type": "code",
        "colab": {
          "base_uri": "https://localhost:8080/",
          "height": 34
        },
        "outputId": "8df7cbc3-bfa3-4884-9626-7c53c635eb05"
      },
      "source": [
        "data=[]\n",
        "print(data)"
      ],
      "execution_count": 6,
      "outputs": [
        {
          "output_type": "stream",
          "text": [
            "[]\n"
          ],
          "name": "stdout"
        }
      ]
    },
    {
      "cell_type": "code",
      "metadata": {
        "id": "20Nl8pwau1lN",
        "colab_type": "code",
        "colab": {}
      },
      "source": [
        "import pickle\n",
        "\n",
        "# open a file, where you stored the pickled data\n",
        "file = open('mydata.dat', 'rb')\n",
        "\n",
        "# dump information to that file\n",
        "data = pickle.load(file)\n",
        "\n",
        "# close the file\n",
        "file.close()\n"
      ],
      "execution_count": 0,
      "outputs": []
    },
    {
      "cell_type": "code",
      "metadata": {
        "id": "DOsyk-mnvCrw",
        "colab_type": "code",
        "colab": {
          "base_uri": "https://localhost:8080/",
          "height": 54
        },
        "outputId": "6c6e762a-735c-4ab1-c41c-e287587d1825"
      },
      "source": [
        "print(data)"
      ],
      "execution_count": 8,
      "outputs": [
        {
          "output_type": "stream",
          "text": [
            "[2, 3, 5, 7, 11, 13, 17, 19, 23, 29, 31, 37, 41, 43, 47, 53, 59, 61, 67, 71, 73, 79, 83, 89, 97]\n"
          ],
          "name": "stdout"
        }
      ]
    },
    {
      "cell_type": "markdown",
      "metadata": {
        "id": "EdmoyxtcuTuy",
        "colab_type": "text"
      },
      "source": [
        ""
      ]
    }
  ]
}