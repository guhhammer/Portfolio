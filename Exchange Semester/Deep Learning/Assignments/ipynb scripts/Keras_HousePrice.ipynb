{
  "nbformat": 4,
  "nbformat_minor": 0,
  "metadata": {
    "colab": {
      "name": "Keras_HousePrice.ipynb",
      "provenance": [],
      "collapsed_sections": []
    },
    "kernelspec": {
      "name": "python3",
      "display_name": "Python 3"
    }
  },
  "cells": [
    {
      "cell_type": "markdown",
      "metadata": {
        "id": "OvZALFEJ5MzB",
        "colab_type": "text"
      },
      "source": [
        "A house costs 50k + 50k per bedroom, so that a 1 bedroom house costs 100k, a 2 bedroom house costs 150k "
      ]
    },
    {
      "cell_type": "code",
      "metadata": {
        "id": "UJrRt6ok5CYy",
        "colab_type": "code",
        "colab": {}
      },
      "source": [
        "import tensorflow as tf\n",
        "import numpy as np\n",
        "from tensorflow import keras"
      ],
      "execution_count": 0,
      "outputs": []
    },
    {
      "cell_type": "code",
      "metadata": {
        "id": "rLT-krtB5S4e",
        "colab_type": "code",
        "colab": {}
      },
      "source": [
        "#y = 50k + number_of_bedroom * 50k\n",
        "def house_model(y_new):\n",
        "    xs = np.array([1.0, 2.0,5.0, 6.0, 8.0,10.0], dtype=float)\n",
        "    ys = np.array([1.0, 1.5,3.0, 3.5, 4.5,5.5], dtype=float) \n",
        "    model = tf.keras.Sequential([keras.layers.Dense(units=1, input_shape=[1])])\n",
        "    model.compile(optimizer='sgd', loss='mean_squared_error')\n",
        "    model.fit(xs, ys, epochs=50, batch_size=32)\n",
        "    model.save('houseprice_model.h5')\n",
        "    return model.predict(y_new)[0]"
      ],
      "execution_count": 0,
      "outputs": []
    },
    {
      "cell_type": "code",
      "metadata": {
        "id": "J4HHBV195bWn",
        "colab_type": "code",
        "outputId": "fed6d57c-ba4a-450b-dd66-5753c8e765d1",
        "colab": {
          "base_uri": "https://localhost:8080/",
          "height": 1000
        }
      },
      "source": [
        "prediction = house_model([9.0])[0]\n",
        "print(prediction * 100, \"k\")"
      ],
      "execution_count": 14,
      "outputs": [
        {
          "output_type": "stream",
          "text": [
            "Train on 6 samples\n",
            "Epoch 1/50\n",
            "6/6 [==============================] - 0s 15ms/sample - loss: 35.8662\n",
            "Epoch 2/50\n",
            "6/6 [==============================] - 0s 368us/sample - loss: 1.8080\n",
            "Epoch 3/50\n",
            "6/6 [==============================] - 0s 557us/sample - loss: 0.1826\n",
            "Epoch 4/50\n",
            "6/6 [==============================] - 0s 304us/sample - loss: 0.1041\n",
            "Epoch 5/50\n",
            "6/6 [==============================] - 0s 324us/sample - loss: 0.0994\n",
            "Epoch 6/50\n",
            "6/6 [==============================] - 0s 533us/sample - loss: 0.0982\n",
            "Epoch 7/50\n",
            "6/6 [==============================] - 0s 525us/sample - loss: 0.0972\n",
            "Epoch 8/50\n",
            "6/6 [==============================] - 0s 368us/sample - loss: 0.0962\n",
            "Epoch 9/50\n",
            "6/6 [==============================] - 0s 385us/sample - loss: 0.0952\n",
            "Epoch 10/50\n",
            "6/6 [==============================] - 0s 331us/sample - loss: 0.0943\n",
            "Epoch 11/50\n",
            "6/6 [==============================] - 0s 311us/sample - loss: 0.0933\n",
            "Epoch 12/50\n",
            "6/6 [==============================] - 0s 332us/sample - loss: 0.0924\n",
            "Epoch 13/50\n",
            "6/6 [==============================] - 0s 342us/sample - loss: 0.0914\n",
            "Epoch 14/50\n",
            "6/6 [==============================] - 0s 532us/sample - loss: 0.0905\n",
            "Epoch 15/50\n",
            "6/6 [==============================] - 0s 507us/sample - loss: 0.0896\n",
            "Epoch 16/50\n",
            "6/6 [==============================] - 0s 697us/sample - loss: 0.0887\n",
            "Epoch 17/50\n",
            "6/6 [==============================] - 0s 456us/sample - loss: 0.0878\n",
            "Epoch 18/50\n",
            "6/6 [==============================] - 0s 413us/sample - loss: 0.0869\n",
            "Epoch 19/50\n",
            "6/6 [==============================] - 0s 545us/sample - loss: 0.0860\n",
            "Epoch 20/50\n",
            "6/6 [==============================] - 0s 477us/sample - loss: 0.0852\n",
            "Epoch 21/50\n",
            "6/6 [==============================] - 0s 494us/sample - loss: 0.0843\n",
            "Epoch 22/50\n",
            "6/6 [==============================] - 0s 494us/sample - loss: 0.0835\n",
            "Epoch 23/50\n",
            "6/6 [==============================] - 0s 557us/sample - loss: 0.0826\n",
            "Epoch 24/50\n",
            "6/6 [==============================] - 0s 665us/sample - loss: 0.0818\n",
            "Epoch 25/50\n",
            "6/6 [==============================] - 0s 533us/sample - loss: 0.0810\n",
            "Epoch 26/50\n",
            "6/6 [==============================] - 0s 432us/sample - loss: 0.0801\n",
            "Epoch 27/50\n",
            "6/6 [==============================] - 0s 730us/sample - loss: 0.0793\n",
            "Epoch 28/50\n",
            "6/6 [==============================] - 0s 560us/sample - loss: 0.0785\n",
            "Epoch 29/50\n",
            "6/6 [==============================] - 0s 428us/sample - loss: 0.0777\n",
            "Epoch 30/50\n",
            "6/6 [==============================] - 0s 560us/sample - loss: 0.0769\n",
            "Epoch 31/50\n",
            "6/6 [==============================] - 0s 417us/sample - loss: 0.0762\n",
            "Epoch 32/50\n",
            "6/6 [==============================] - 0s 354us/sample - loss: 0.0754\n",
            "Epoch 33/50\n",
            "6/6 [==============================] - 0s 352us/sample - loss: 0.0746\n",
            "Epoch 34/50\n",
            "6/6 [==============================] - 0s 370us/sample - loss: 0.0739\n",
            "Epoch 35/50\n",
            "6/6 [==============================] - 0s 359us/sample - loss: 0.0731\n",
            "Epoch 36/50\n",
            "6/6 [==============================] - 0s 347us/sample - loss: 0.0724\n",
            "Epoch 37/50\n",
            "6/6 [==============================] - 0s 354us/sample - loss: 0.0717\n",
            "Epoch 38/50\n",
            "6/6 [==============================] - 0s 331us/sample - loss: 0.0709\n",
            "Epoch 39/50\n",
            "6/6 [==============================] - 0s 316us/sample - loss: 0.0702\n",
            "Epoch 40/50\n",
            "6/6 [==============================] - 0s 305us/sample - loss: 0.0695\n",
            "Epoch 41/50\n",
            "6/6 [==============================] - 0s 341us/sample - loss: 0.0688\n",
            "Epoch 42/50\n",
            "6/6 [==============================] - 0s 307us/sample - loss: 0.0681\n",
            "Epoch 43/50\n",
            "6/6 [==============================] - 0s 308us/sample - loss: 0.0674\n",
            "Epoch 44/50\n",
            "6/6 [==============================] - 0s 304us/sample - loss: 0.0668\n",
            "Epoch 45/50\n",
            "6/6 [==============================] - 0s 336us/sample - loss: 0.0661\n",
            "Epoch 46/50\n",
            "6/6 [==============================] - 0s 444us/sample - loss: 0.0654\n",
            "Epoch 47/50\n",
            "6/6 [==============================] - 0s 325us/sample - loss: 0.0648\n",
            "Epoch 48/50\n",
            "6/6 [==============================] - 0s 344us/sample - loss: 0.0641\n",
            "Epoch 49/50\n",
            "6/6 [==============================] - 0s 332us/sample - loss: 0.0635\n",
            "Epoch 50/50\n",
            "6/6 [==============================] - 0s 347us/sample - loss: 0.0628\n",
            "512.7882480621338 k\n"
          ],
          "name": "stdout"
        }
      ]
    },
    {
      "cell_type": "code",
      "metadata": {
        "id": "4GALOXM5abSd",
        "colab_type": "code",
        "colab": {}
      },
      "source": [
        "from google.colab import files\n",
        "files.download('houseprice_model.h5')"
      ],
      "execution_count": 0,
      "outputs": []
    }
  ]
}