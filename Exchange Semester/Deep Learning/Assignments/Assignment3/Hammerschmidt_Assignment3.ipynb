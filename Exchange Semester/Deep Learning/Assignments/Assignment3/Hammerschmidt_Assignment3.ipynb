{
  "nbformat": 4,
  "nbformat_minor": 0,
  "metadata": {
    "colab": {
      "name": "Hammerschmidt_Assignment3.ipynb",
      "provenance": [],
      "collapsed_sections": []
    },
    "kernelspec": {
      "name": "python3",
      "display_name": "Python 3"
    }
  },
  "cells": [
    {
      "cell_type": "markdown",
      "metadata": {
        "id": "NU2LXtQJSGrF",
        "colab_type": "text"
      },
      "source": [
        "## Name: Gustavo Hammerschmidt\n",
        "\n",
        "### Assignment 3\n",
        "\n",
        "1.\tBy utilizing Python language, relevant libraries and Google Colab, please create the following data analysis code Lastname_Assignment3.ipynb. Your answer (implementation) for each of the following functionality shall use one cell of your notebook."
      ]
    },
    {
      "cell_type": "markdown",
      "metadata": {
        "id": "crQyuhj2Sn3Y",
        "colab_type": "text"
      },
      "source": [
        "A.\tRead the health insurance data from URL: https://raw.githubusercontent.com/stedy/Machine-Learning-with-R-datasets/master/insurance.csv \n",
        "As you notice, this data contains 1339 lines. The first line is header information which includes the feature names. Each of the other lines consists of several variables, including age, sex, children, smoker, region, and insurance charges.\n",
        "\n"
      ]
    },
    {
      "cell_type": "code",
      "metadata": {
        "id": "YorV5KQGSqjw",
        "colab_type": "code",
        "colab": {
          "base_uri": "https://localhost:8080/",
          "height": 336
        },
        "outputId": "89c15d53-829c-4d26-93d1-8c205e1b6f10"
      },
      "source": [
        "# Imports:\n",
        "import urllib\n",
        "import pandas as pd\n",
        "import numpy as np\n",
        "import matplotlib.pyplot as plt\n",
        "from sklearn.tree import DecisionTreeClassifier # Import Decision Tree Classifier\n",
        "from sklearn.metrics import accuracy_score, precision_score, recall_score\n",
        "\n",
        "# Health Insurance Data:\n",
        "data = pd.read_csv(\"https://raw.githubusercontent.com/stedy/Machine-Learning-with-R-datasets/master/insurance.csv\")\n",
        "\n",
        "print(data)\n",
        "\n",
        "# Transforming data string fields and displaying its header:\n",
        "def transform_values():\n",
        "    return {'female' : 0.0, 'male' : 1.0}, {'no' : 0.0, 'yes' : 1.0}\n",
        "\n",
        "print(\"\\n\\tData header: \", list(data),\"\\n\\n\\tSex: \", transform_values()[0],\",\\tSmoker: \", transform_values()[1], end='\\n\\n')\n"
      ],
      "execution_count": 1,
      "outputs": [
        {
          "output_type": "stream",
          "text": [
            "      age     sex     bmi  children smoker     region      charges\n",
            "0      19  female  27.900         0    yes  southwest  16884.92400\n",
            "1      18    male  33.770         1     no  southeast   1725.55230\n",
            "2      28    male  33.000         3     no  southeast   4449.46200\n",
            "3      33    male  22.705         0     no  northwest  21984.47061\n",
            "4      32    male  28.880         0     no  northwest   3866.85520\n",
            "...   ...     ...     ...       ...    ...        ...          ...\n",
            "1333   50    male  30.970         3     no  northwest  10600.54830\n",
            "1334   18  female  31.920         0     no  northeast   2205.98080\n",
            "1335   18  female  36.850         0     no  southeast   1629.83350\n",
            "1336   21  female  25.800         0     no  southwest   2007.94500\n",
            "1337   61  female  29.070         0    yes  northwest  29141.36030\n",
            "\n",
            "[1338 rows x 7 columns]\n",
            "\n",
            "\tData header:  ['age', 'sex', 'bmi', 'children', 'smoker', 'region', 'charges'] \n",
            "\n",
            "\tSex:  {'female': 0.0, 'male': 1.0} ,\tSmoker:  {'no': 0.0, 'yes': 1.0}\n",
            "\n"
          ],
          "name": "stdout"
        }
      ]
    },
    {
      "cell_type": "markdown",
      "metadata": {
        "id": "ODC3E4sDSU8l",
        "colab_type": "text"
      },
      "source": [
        "---"
      ]
    },
    {
      "cell_type": "markdown",
      "metadata": {
        "id": "rozrapjrSX4F",
        "colab_type": "text"
      },
      "source": [
        "B.\tPlease use the following 5 independent variables and create a Machine Learning Model for predicting the insurance charge.\n",
        "\n",
        "age,sex,bmi,children,smoker\n"
      ]
    },
    {
      "cell_type": "code",
      "metadata": {
        "id": "FoKBk-PuSaCk",
        "colab_type": "code",
        "colab": {}
      },
      "source": [
        "# Transforming the data header values into numpy arrays:\n",
        "# data header -> ['age', 'sex', 'bmi', 'children', 'smoker', 'region', 'charges']\n",
        "def transformed_data(data):\n",
        "    return ([float(i) for i in data.loc[:, \"age\"].to_numpy()], \n",
        "            [transform_values()[0][i] for i in data.loc[:, \"sex\"].to_numpy()],          \n",
        "            [float(i) for i in data.loc[:, \"bmi\"].to_numpy()],\n",
        "            [float(i) for i in data.loc[:, \"children\"].to_numpy()],\n",
        "            [transform_values()[1][i] for i in data.loc[:, \"smoker\"].to_numpy()],\n",
        "            [float(i) for i in data.loc[:, \"charges\"].to_numpy()],\n",
        "    ) # Returns the Age, Sex, Bmi, Children, Smoker and Charges numpy arrays.\n",
        "\n",
        "\n",
        "# Defining the data input and output variables:\n",
        "def variables_x_and_y(data):\n",
        "\n",
        "    td = transformed_data(data)\n",
        "\n",
        "              # array( [ [Age,     Sex,      Bmi,     Children,  Smoker], [...], ... ]) | X or input variables.\n",
        "    return ( np.array( [[td[0][i], td[1][i], td[2][i], td[3][i], td[4][i]] for i in range(0, len(td[0])) ], dtype=float),\n",
        "        \n",
        "              # array ( [ Charge, Charge, ... ] ) | Y or output variable.\n",
        "             np.array( [td[5][i] for i in range(0, len(td[5]))], dtype=float))\n",
        "\n",
        "\n",
        "\n",
        "# Making a Tree-Decision Model:\n",
        "model = DecisionTreeClassifier()\n",
        "\n",
        "\n",
        "# Fitting the model:\n",
        "x, y = variables_x_and_y(data)\n",
        "y = np.array(y, int)\n",
        "\n",
        "model = model.fit(x, y)\n"
      ],
      "execution_count": 0,
      "outputs": []
    },
    {
      "cell_type": "markdown",
      "metadata": {
        "id": "yTe9FiHgSf9u",
        "colab_type": "text"
      },
      "source": [
        "---"
      ]
    },
    {
      "cell_type": "markdown",
      "metadata": {
        "id": "JFD74zlZE0C_",
        "colab_type": "text"
      },
      "source": [
        "\n",
        "C.\tPlease provide accuracy of your model. \n"
      ]
    },
    {
      "cell_type": "code",
      "metadata": {
        "id": "P-jPfp4CFEHR",
        "colab_type": "code",
        "colab": {
          "base_uri": "https://localhost:8080/",
          "height": 50
        },
        "outputId": "4032775d-09a7-45b3-c872-8303b3da85b9"
      },
      "source": [
        "predicted_values = model.predict(x)\n",
        "true_values = np.array(y, int)\n",
        "\n",
        "print(\"Model's Accuracy: \", accuracy_score(true_values, predicted_values))\n",
        "print(\"Model's Accuracy(Percentage): {:.2f}% \".format(accuracy_score(true_values, predicted_values)*100))\n"
      ],
      "execution_count": 5,
      "outputs": [
        {
          "output_type": "stream",
          "text": [
            "Model's Accuracy:  0.9985052316890882\n",
            "Model's Accuracy(Percentage): 99.85% \n"
          ],
          "name": "stdout"
        }
      ]
    },
    {
      "cell_type": "markdown",
      "metadata": {
        "id": "i_ysV87OFfIF",
        "colab_type": "text"
      },
      "source": [
        "---"
      ]
    },
    {
      "cell_type": "markdown",
      "metadata": {
        "id": "chJ9VWrTFfUe",
        "colab_type": "text"
      },
      "source": [
        "D.\tUsing your model predict insurance charge for the following two person:\n",
        "\n",
        "Age =24 ,sex = male, bmi = 36, children = 1, smoker = yes\n",
        "\n",
        "Age=56, sex =female, bmi =33, children = 0, smoker = no \n"
      ]
    },
    {
      "cell_type": "code",
      "metadata": {
        "id": "zIxy8rc4FpvN",
        "colab_type": "code",
        "colab": {
          "base_uri": "https://localhost:8080/",
          "height": 252
        },
        "outputId": "643494ca-4b3f-4757-8de6-49ecaaf42d94"
      },
      "source": [
        "# Input handler: returns the prediction.\n",
        "def charges(age, sex, bmi, children, smoker):\n",
        "    # Sex:  {'female': 0.0, 'male': 1.0} ,\tSmoker:  {'no': 0.0, 'yes': 1.0}\n",
        "    sex_ = 1 if sex.lower() == \"male\" else 0\n",
        "    smoker_ = 1 if smoker.lower() == \"yes\" else 0\n",
        "    return model.predict(np.array([[age, sex_, bmi, children, smoker_]], dtype=float))[0]\n",
        "\n",
        "# Prints the charges of a person.\n",
        "def result(age, sex, bmi, children, smoker):\n",
        "    result_ = charges(age, sex, bmi, children, smoker)\n",
        "    print(\"\\nCharges Prediction for a person with the following characteristics:\",end='')\n",
        "    print(\"\\nAge: \"+str(age)+\", Sex: \"+sex+\", Bmi: \"+ str(bmi)+\", Children: \"+str(children)+ \", Smoker: \"+ smoker)\n",
        "    print(\"\\nPredicted Charges: \"+str(result_)+\"\\n\")\n",
        "    print(\"-\"*60)\n",
        "\n",
        "\n",
        "#Age =24 ,sex = male, bmi = 36, children = 1, smoker = yes\n",
        "result(24, \"male\", 36, 1,\"yes\")\n",
        "\n",
        "#Age=56, sex =female, bmi =33, children = 0, smoker = no\n",
        "result(56, \"female\",33, 0, \"no\")\n"
      ],
      "execution_count": 4,
      "outputs": [
        {
          "output_type": "stream",
          "text": [
            "\n",
            "Charges Prediction for a person with the following characteristics:\n",
            "Age: 24, Sex: male, Bmi: 36, Children: 1, Smoker: yes\n",
            "\n",
            "Predicted Charges: 51194\n",
            "\n",
            "------------------------------------------------------------\n",
            "\n",
            "Charges Prediction for a person with the following characteristics:\n",
            "Age: 56, Sex: female, Bmi: 33, Children: 0, Smoker: no\n",
            "\n",
            "Predicted Charges: 11090\n",
            "\n",
            "------------------------------------------------------------\n"
          ],
          "name": "stdout"
        }
      ]
    },
    {
      "cell_type": "markdown",
      "metadata": {
        "id": "y0ekh1E7H1iq",
        "colab_type": "text"
      },
      "source": [
        "----"
      ]
    }
  ]
}