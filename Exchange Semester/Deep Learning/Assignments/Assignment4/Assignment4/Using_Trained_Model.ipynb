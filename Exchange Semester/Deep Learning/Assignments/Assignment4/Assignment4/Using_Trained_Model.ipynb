{
  "nbformat": 4,
  "nbformat_minor": 0,
  "metadata": {
    "colab": {
      "name": "Using_Trained_Model.ipynb",
      "provenance": [],
      "collapsed_sections": []
    },
    "kernelspec": {
      "name": "python3",
      "display_name": "Python 3"
    }
  },
  "cells": [
    {
      "cell_type": "code",
      "metadata": {
        "id": "X3YbdmjDP1I7",
        "colab_type": "code",
        "outputId": "7d636f83-b605-43ab-c759-f29f94a81d68",
        "colab": {
          "base_uri": "https://localhost:8080/",
          "height": 206
        }
      },
      "source": [
        "#let's download the dataset \n",
        "!wget --no-check-certificate \\\n",
        "    https://storage.googleapis.com/mledu-datasets/cats_and_dogs_filtered.zip \\\n",
        "    -O /tmp/cats_and_dogs_filtered.zip"
      ],
      "execution_count": 9,
      "outputs": [
        {
          "output_type": "stream",
          "text": [
            "--2020-04-23 21:08:44--  https://storage.googleapis.com/mledu-datasets/cats_and_dogs_filtered.zip\n",
            "Resolving storage.googleapis.com (storage.googleapis.com)... 172.217.203.128, 2607:f8b0:400c:c15::80\n",
            "Connecting to storage.googleapis.com (storage.googleapis.com)|172.217.203.128|:443... connected.\n",
            "HTTP request sent, awaiting response... 200 OK\n",
            "Length: 68606236 (65M) [application/zip]\n",
            "Saving to: ‘/tmp/cats_and_dogs_filtered.zip’\n",
            "\n",
            "/tmp/cats_and_dogs_ 100%[===================>]  65.43M   150MB/s    in 0.4s    \n",
            "\n",
            "2020-04-23 21:08:45 (150 MB/s) - ‘/tmp/cats_and_dogs_filtered.zip’ saved [68606236/68606236]\n",
            "\n"
          ],
          "name": "stdout"
        }
      ]
    },
    {
      "cell_type": "code",
      "metadata": {
        "id": "seILooujP9Wd",
        "colab_type": "code",
        "outputId": "23ebf8c6-fc34-4326-e215-13ff707f4b05",
        "colab": {
          "base_uri": "https://localhost:8080/",
          "height": 34
        }
      },
      "source": [
        "!ls /tmp/"
      ],
      "execution_count": 19,
      "outputs": [
        {
          "output_type": "stream",
          "text": [
            "cats_and_dogs_filtered\tcats_and_dogs_filtered.zip\n"
          ],
          "name": "stdout"
        }
      ]
    },
    {
      "cell_type": "code",
      "metadata": {
        "id": "2hcLJltt_bsR",
        "colab_type": "code",
        "colab": {}
      },
      "source": [
        ""
      ],
      "execution_count": 0,
      "outputs": []
    },
    {
      "cell_type": "code",
      "metadata": {
        "id": "wVXLmz9UQFJ5",
        "colab_type": "code",
        "colab": {}
      },
      "source": [
        "#let's unzip the dataset\n",
        "import os\n",
        "import zipfile\n",
        "\n",
        "local_zip = '/tmp/cats_and_dogs_filtered.zip'\n",
        "zip_ref = zipfile.ZipFile(local_zip, 'r')\n",
        "zip_ref.extractall('/tmp')\n",
        "zip_ref.close()"
      ],
      "execution_count": 0,
      "outputs": []
    },
    {
      "cell_type": "code",
      "metadata": {
        "id": "rYrcu7-f_c5l",
        "colab_type": "code",
        "colab": {}
      },
      "source": [
        "!ls /tmp/cats_and_dogs_filtered/validation/cats/"
      ],
      "execution_count": 0,
      "outputs": []
    },
    {
      "cell_type": "code",
      "metadata": {
        "id": "3yNvMC93MX9a",
        "colab_type": "code",
        "outputId": "eccf5a49-6195-4254-9dd3-bc219c69db61",
        "colab": {
          "base_uri": "https://localhost:8080/",
          "height": 806
        }
      },
      "source": [
        "from keras.applications import VGG16\n",
        "\n",
        "conv_base = VGG16(weights='imagenet',\n",
        "                  include_top=False,\n",
        "                  input_shape=(150, 150, 3))\n",
        "\n",
        "conv_base.summary()"
      ],
      "execution_count": 25,
      "outputs": [
        {
          "output_type": "stream",
          "text": [
            "Model: \"vgg16\"\n",
            "_________________________________________________________________\n",
            "Layer (type)                 Output Shape              Param #   \n",
            "=================================================================\n",
            "input_3 (InputLayer)         (None, 150, 150, 3)       0         \n",
            "_________________________________________________________________\n",
            "block1_conv1 (Conv2D)        (None, 150, 150, 64)      1792      \n",
            "_________________________________________________________________\n",
            "block1_conv2 (Conv2D)        (None, 150, 150, 64)      36928     \n",
            "_________________________________________________________________\n",
            "block1_pool (MaxPooling2D)   (None, 75, 75, 64)        0         \n",
            "_________________________________________________________________\n",
            "block2_conv1 (Conv2D)        (None, 75, 75, 128)       73856     \n",
            "_________________________________________________________________\n",
            "block2_conv2 (Conv2D)        (None, 75, 75, 128)       147584    \n",
            "_________________________________________________________________\n",
            "block2_pool (MaxPooling2D)   (None, 37, 37, 128)       0         \n",
            "_________________________________________________________________\n",
            "block3_conv1 (Conv2D)        (None, 37, 37, 256)       295168    \n",
            "_________________________________________________________________\n",
            "block3_conv2 (Conv2D)        (None, 37, 37, 256)       590080    \n",
            "_________________________________________________________________\n",
            "block3_conv3 (Conv2D)        (None, 37, 37, 256)       590080    \n",
            "_________________________________________________________________\n",
            "block3_pool (MaxPooling2D)   (None, 18, 18, 256)       0         \n",
            "_________________________________________________________________\n",
            "block4_conv1 (Conv2D)        (None, 18, 18, 512)       1180160   \n",
            "_________________________________________________________________\n",
            "block4_conv2 (Conv2D)        (None, 18, 18, 512)       2359808   \n",
            "_________________________________________________________________\n",
            "block4_conv3 (Conv2D)        (None, 18, 18, 512)       2359808   \n",
            "_________________________________________________________________\n",
            "block4_pool (MaxPooling2D)   (None, 9, 9, 512)         0         \n",
            "_________________________________________________________________\n",
            "block5_conv1 (Conv2D)        (None, 9, 9, 512)         2359808   \n",
            "_________________________________________________________________\n",
            "block5_conv2 (Conv2D)        (None, 9, 9, 512)         2359808   \n",
            "_________________________________________________________________\n",
            "block5_conv3 (Conv2D)        (None, 9, 9, 512)         2359808   \n",
            "_________________________________________________________________\n",
            "block5_pool (MaxPooling2D)   (None, 4, 4, 512)         0         \n",
            "=================================================================\n",
            "Total params: 14,714,688\n",
            "Trainable params: 14,714,688\n",
            "Non-trainable params: 0\n",
            "_________________________________________________________________\n"
          ],
          "name": "stdout"
        }
      ]
    },
    {
      "cell_type": "code",
      "metadata": {
        "id": "Sh4rbCa5SwF3",
        "colab_type": "code",
        "outputId": "ddc7faf3-3771-4efb-a8b2-4b3df9643a29",
        "colab": {
          "base_uri": "https://localhost:8080/",
          "height": 51
        }
      },
      "source": [
        "!ls /tmp/cats_and_dogs_filtered/train/\n",
        "!ls /tmp/cats_and_dogs_filtered/validation/"
      ],
      "execution_count": 26,
      "outputs": [
        {
          "output_type": "stream",
          "text": [
            "cats  dogs\n",
            "cats  dogs\n"
          ],
          "name": "stdout"
        }
      ]
    },
    {
      "cell_type": "code",
      "metadata": {
        "id": "ytR9e9NVOEhf",
        "colab_type": "code",
        "outputId": "7582ce3b-06e9-4aab-d531-a173f715c6fe",
        "colab": {
          "base_uri": "https://localhost:8080/",
          "height": 51
        }
      },
      "source": [
        "import os\n",
        "import numpy as np\n",
        "from keras.preprocessing.image import ImageDataGenerator\n",
        "\n",
        "base_dir = '/tmp/cats_and_dogs_filtered'\n",
        "\n",
        "train_dir = os.path.join(base_dir, 'train')\n",
        "validation_dir = os.path.join(base_dir, 'validation')\n",
        "#test_dir = os.path.join(base_dir, 'test')\n",
        "\n",
        "datagen = ImageDataGenerator(rescale=1./255)\n",
        "batch_size = 20\n",
        "\n",
        "def extract_features(directory, sample_count):\n",
        "    features = np.zeros(shape=(sample_count, 4, 4, 512))\n",
        "    labels = np.zeros(shape=(sample_count))\n",
        "    generator = datagen.flow_from_directory(\n",
        "        directory,\n",
        "        target_size=(150, 150),\n",
        "        batch_size=batch_size,\n",
        "        class_mode='binary')\n",
        "    i = 0\n",
        "    for inputs_batch, labels_batch in generator:\n",
        "        features_batch = conv_base.predict(inputs_batch)\n",
        "        features[i * batch_size : (i + 1) * batch_size] = features_batch\n",
        "        labels[i * batch_size : (i + 1) * batch_size] = labels_batch\n",
        "        i += 1\n",
        "        if i * batch_size >= sample_count:\n",
        "            # Note that since generators yield data indefinitely in a loop,\n",
        "            # we must `break` after every image has been seen once.\n",
        "            break\n",
        "    return features, labels\n",
        "\n",
        "train_features, train_labels = extract_features(train_dir, 2000)\n",
        "validation_features, validation_labels = extract_features(validation_dir, 1000)\n",
        "#test_features, test_labels = extract_features(test_dir, 1000)"
      ],
      "execution_count": 27,
      "outputs": [
        {
          "output_type": "stream",
          "text": [
            "Found 2000 images belonging to 2 classes.\n",
            "Found 1000 images belonging to 2 classes.\n"
          ],
          "name": "stdout"
        }
      ]
    },
    {
      "cell_type": "code",
      "metadata": {
        "id": "B-AqsghtYPik",
        "colab_type": "code",
        "colab": {}
      },
      "source": [
        "train_features = np.reshape(train_features, (2000, 4 * 4 * 512))\n",
        "validation_features = np.reshape(validation_features, (1000, 4 * 4 * 512))\n",
        "#test_features = np.reshape(test_features, (1000, 4 * 4 * 512))"
      ],
      "execution_count": 0,
      "outputs": []
    },
    {
      "cell_type": "code",
      "metadata": {
        "id": "PRyREcoBYhM_",
        "colab_type": "code",
        "colab": {
          "base_uri": "https://localhost:8080/",
          "height": 1000
        },
        "outputId": "04cccd9f-f729-4cf3-ad60-611538b6c7a8"
      },
      "source": [
        "from keras import models\n",
        "from keras import layers\n",
        "from keras import optimizers\n",
        "\n",
        "model = models.Sequential()\n",
        "model.add(layers.Dense(256, activation='relu', input_dim=4 * 4 * 512))\n",
        "model.add(layers.Dropout(0.5))\n",
        "model.add(layers.Dense(1, activation='sigmoid'))\n",
        "\n",
        "model.compile(optimizer=optimizers.RMSprop(lr=2e-5),\n",
        "              loss='binary_crossentropy',\n",
        "              metrics=['acc'])\n",
        "\n",
        "history = model.fit(train_features, train_labels,\n",
        "                    epochs=30,\n",
        "                    batch_size=20,\n",
        "                    validation_data=(validation_features, validation_labels))"
      ],
      "execution_count": 17,
      "outputs": [
        {
          "output_type": "stream",
          "text": [
            "Train on 2000 samples, validate on 1000 samples\n",
            "Epoch 1/30\n",
            "2000/2000 [==============================] - 3s 1ms/step - loss: 0.6104 - acc: 0.6555 - val_loss: 0.4381 - val_acc: 0.8300\n",
            "Epoch 2/30\n",
            "2000/2000 [==============================] - 3s 1ms/step - loss: 0.4321 - acc: 0.8015 - val_loss: 0.3631 - val_acc: 0.8490\n",
            "Epoch 3/30\n",
            "2000/2000 [==============================] - 3s 1ms/step - loss: 0.3542 - acc: 0.8445 - val_loss: 0.3478 - val_acc: 0.8470\n",
            "Epoch 4/30\n",
            "2000/2000 [==============================] - 3s 1ms/step - loss: 0.3129 - acc: 0.8710 - val_loss: 0.3131 - val_acc: 0.8640\n",
            "Epoch 5/30\n",
            "2000/2000 [==============================] - 3s 1ms/step - loss: 0.2815 - acc: 0.8860 - val_loss: 0.2954 - val_acc: 0.8730\n",
            "Epoch 6/30\n",
            "2000/2000 [==============================] - 3s 1ms/step - loss: 0.2654 - acc: 0.8910 - val_loss: 0.2869 - val_acc: 0.8770\n",
            "Epoch 7/30\n",
            "2000/2000 [==============================] - 3s 1ms/step - loss: 0.2501 - acc: 0.9045 - val_loss: 0.2894 - val_acc: 0.8730\n",
            "Epoch 8/30\n",
            "2000/2000 [==============================] - 3s 1ms/step - loss: 0.2298 - acc: 0.9150 - val_loss: 0.2757 - val_acc: 0.8830\n",
            "Epoch 9/30\n",
            "2000/2000 [==============================] - 2s 1ms/step - loss: 0.2193 - acc: 0.9105 - val_loss: 0.2707 - val_acc: 0.8850\n",
            "Epoch 10/30\n",
            "2000/2000 [==============================] - 3s 1ms/step - loss: 0.2087 - acc: 0.9235 - val_loss: 0.2747 - val_acc: 0.8800\n",
            "Epoch 11/30\n",
            "2000/2000 [==============================] - 3s 1ms/step - loss: 0.1983 - acc: 0.9275 - val_loss: 0.2664 - val_acc: 0.8890\n",
            "Epoch 12/30\n",
            "2000/2000 [==============================] - 3s 1ms/step - loss: 0.1897 - acc: 0.9285 - val_loss: 0.2647 - val_acc: 0.8890\n",
            "Epoch 13/30\n",
            "2000/2000 [==============================] - 3s 1ms/step - loss: 0.1771 - acc: 0.9395 - val_loss: 0.2687 - val_acc: 0.8830\n",
            "Epoch 14/30\n",
            "2000/2000 [==============================] - 3s 1ms/step - loss: 0.1685 - acc: 0.9425 - val_loss: 0.2644 - val_acc: 0.8870\n",
            "Epoch 15/30\n",
            "2000/2000 [==============================] - 3s 1ms/step - loss: 0.1614 - acc: 0.9410 - val_loss: 0.2620 - val_acc: 0.8860\n",
            "Epoch 16/30\n",
            "2000/2000 [==============================] - 2s 1ms/step - loss: 0.1527 - acc: 0.9465 - val_loss: 0.2630 - val_acc: 0.8830\n",
            "Epoch 17/30\n",
            "2000/2000 [==============================] - 3s 1ms/step - loss: 0.1453 - acc: 0.9560 - val_loss: 0.2613 - val_acc: 0.8840\n",
            "Epoch 18/30\n",
            "2000/2000 [==============================] - 3s 1ms/step - loss: 0.1441 - acc: 0.9475 - val_loss: 0.2621 - val_acc: 0.8860\n",
            "Epoch 19/30\n",
            "2000/2000 [==============================] - 3s 1ms/step - loss: 0.1446 - acc: 0.9475 - val_loss: 0.2626 - val_acc: 0.8830\n",
            "Epoch 20/30\n",
            "2000/2000 [==============================] - 3s 1ms/step - loss: 0.1296 - acc: 0.9550 - val_loss: 0.2613 - val_acc: 0.8860\n",
            "Epoch 21/30\n",
            "2000/2000 [==============================] - 3s 1ms/step - loss: 0.1281 - acc: 0.9580 - val_loss: 0.2613 - val_acc: 0.8850\n",
            "Epoch 22/30\n",
            "2000/2000 [==============================] - 3s 1ms/step - loss: 0.1266 - acc: 0.9550 - val_loss: 0.2608 - val_acc: 0.8840\n",
            "Epoch 23/30\n",
            "2000/2000 [==============================] - 3s 1ms/step - loss: 0.1167 - acc: 0.9635 - val_loss: 0.2614 - val_acc: 0.8900\n",
            "Epoch 24/30\n",
            "2000/2000 [==============================] - 3s 1ms/step - loss: 0.1129 - acc: 0.9615 - val_loss: 0.2620 - val_acc: 0.8870\n",
            "Epoch 25/30\n",
            "2000/2000 [==============================] - 3s 1ms/step - loss: 0.1067 - acc: 0.9685 - val_loss: 0.2624 - val_acc: 0.8840\n",
            "Epoch 26/30\n",
            "2000/2000 [==============================] - 3s 1ms/step - loss: 0.1069 - acc: 0.9620 - val_loss: 0.2627 - val_acc: 0.8890\n",
            "Epoch 27/30\n",
            "2000/2000 [==============================] - 3s 1ms/step - loss: 0.1008 - acc: 0.9675 - val_loss: 0.2620 - val_acc: 0.8850\n",
            "Epoch 28/30\n",
            "2000/2000 [==============================] - 2s 1ms/step - loss: 0.0961 - acc: 0.9675 - val_loss: 0.2635 - val_acc: 0.8840\n",
            "Epoch 29/30\n",
            "2000/2000 [==============================] - 2s 1ms/step - loss: 0.0905 - acc: 0.9725 - val_loss: 0.2687 - val_acc: 0.8850\n",
            "Epoch 30/30\n",
            "2000/2000 [==============================] - 3s 1ms/step - loss: 0.0874 - acc: 0.9750 - val_loss: 0.2636 - val_acc: 0.8880\n"
          ],
          "name": "stdout"
        }
      ]
    },
    {
      "cell_type": "code",
      "metadata": {
        "id": "hIcwCpnbY00d",
        "colab_type": "code",
        "colab": {
          "base_uri": "https://localhost:8080/",
          "height": 545
        },
        "outputId": "587be061-41ea-4504-a9b6-9926340357a9"
      },
      "source": [
        "import matplotlib.pyplot as plt\n",
        "\n",
        "acc = history.history['acc']\n",
        "val_acc = history.history['val_acc']\n",
        "loss = history.history['loss']\n",
        "val_loss = history.history['val_loss']\n",
        "\n",
        "epochs = range(len(acc))\n",
        "\n",
        "plt.plot(epochs, acc, 'bo', label='Training acc')\n",
        "plt.plot(epochs, val_acc, 'b', label='Validation acc')\n",
        "plt.title('Training and validation accuracy')\n",
        "plt.legend()\n",
        "\n",
        "plt.figure()\n",
        "\n",
        "plt.plot(epochs, loss, 'bo', label='Training loss')\n",
        "plt.plot(epochs, val_loss, 'b', label='Validation loss')\n",
        "plt.title('Training and validation loss')\n",
        "plt.legend()\n",
        "\n",
        "plt.show()"
      ],
      "execution_count": 18,
      "outputs": [
        {
          "output_type": "display_data",
          "data": {
            "image/png": "[encoded data removed]",
            "text/plain": [
              "<Figure size 432x288 with 1 Axes>"
            ]
          },
          "metadata": {
            "tags": [],
            "needs_background": "light"
          }
        },
        {
          "output_type": "display_data",
          "data": {
            "image/png": "[encoded data removed]",
            "text/plain": [
              "<Figure size 432x288 with 1 Axes>"
            ]
          },
          "metadata": {
            "tags": [],
            "needs_background": "light"
          }
        }
      ]
    },
    {
      "cell_type": "code",
      "metadata": {
        "id": "L7qN3wZFPrAN",
        "colab_type": "code",
        "colab": {}
      },
      "source": [
        "!ls /tmp/"
      ],
      "execution_count": 0,
      "outputs": []
    }
  ]
}