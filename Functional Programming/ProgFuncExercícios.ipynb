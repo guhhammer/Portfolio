{
 "cells": [
  {
   "cell_type": "markdown",
   "metadata": {},
   "source": [
    "# Lista de Exercícios"
   ]
  },
  {
   "cell_type": "markdown",
   "metadata": {},
   "source": [
    "***Q1:***$\\quad$ Escreva, em notação de somatório, as somas dos termos a seguir:\n",
    "  \n",
    "  - $1 + {1 \\over 2} + {1 \\over 3} + {1 \\over 4} + {1 \\over 5} + {1 \\over 6}+ \\cdots,\n",
    "  {1 \\over n}$\n",
    "  - $1 + {1 \\over 3} + {1 \\over 5} + {1 \\over 7} + {1 \\over 9} \\cdots,\n",
    "  {1 \\over n}$\n",
    "  - $1 + {1 \\over 1!}+ {1 \\over 2!}+ {1 \\over 3!} + {1 \\over 4!} + {1 \\over 5!}\n",
    "  + \\cdots, {1 \\over n}$\n",
    "  - $1 + 1 + {1 \\over 2} + {1 \\over 4} + {1 \\over 8} + {1 \\over 16} + \\cdots,\n",
    "  {1 \\over n}$"
   ]
  },
  {
   "cell_type": "markdown",
   "metadata": {},
   "source": [
    "***Q2:***$\\quad$ Utilizando a função `map` e `filter`, gere cada uma das listas a\n",
    "seguir, para um número $n$ de parcelas dado:\n",
    "  - $[ 1, {1 \\over 2}, {1 \\over 3}, {1 \\over 4}, {1 \\over 5}, {1 \\over 6}, \\cdots,\n",
    "  {1 \\over n}] $\n",
    "  - $[ 1, {1 \\over 3}, {1 \\over 5}, {1 \\over 7}, {1 \\over 9} \\cdots,\n",
    "  {1 \\over n}] $\n",
    "  - $1, {1 \\over 1!}, {1 \\over 2!}, {1 \\over 3!}, {1 \\over 4!}, {1 \\over 5!}, \\cdots,\n",
    "  {1 \\over n}$\n",
    "  - $1, {1}, {1 \\over 2}, {1 \\over 4}, {1 \\over 8}, {1 \\over 16}, \\cdots,\n",
    "  {1 \\over n}$"
   ]
  },
  {
   "cell_type": "markdown",
   "metadata": {},
   "source": [
    "***Q3:***$\\quad$ Implemente os itens acima por meio de *list comprehension*."
   ]
  },
  {
   "cell_type": "markdown",
   "metadata": {},
   "source": [
    "***Q4:***$\\quad$ Escreva um programa que calcule $n!$, o fatorial de um número $n$ dado, segundo:\n",
    "  - (a) o *Paradigma Imperativo de Programação*;\n",
    "  - (b) o *Paradigma Funcional* com uma função recursiva dotada de um único parâmetro;\n",
    "  - (c) o *Paradigma Funcional* com recursividade de cauda."
   ]
  },
  {
   "cell_type": "markdown",
   "metadata": {},
   "source": [
    "***Q5:***$\\quad$ Utilizando os mesmos paradigmas de programação da questão\n",
    "anterior, escreva funções que, dado o número $n$ de parcelas, calcule o valor do somatório\n",
    "$$\\sum_{k = 1}^{n} {1 \\over 2^k}$$"
   ]
  },
  {
   "cell_type": "markdown",
   "metadata": {},
   "source": [
    "***Q6:***$\\quad$ Considerando as duas questões anteriores e utilizando o\n",
    "***console da linguagem Julia*** (ou seja, fora do ambiente *Jupyter*):\n",
    "  - Realize medições de performance para as funções implementadas, tabulando o\n",
    "  *tempo de execução* dos métodos à medida em que se aumenta o número $n$\n",
    "  de parcelas ou fatores.\n",
    "  - Verifique qual é o maior valor de $n$ com que você consegue executar cada função,\n",
    "  antes que ocorra algum tipo de parada de execução."
   ]
  },
  {
   "cell_type": "markdown",
   "metadata": {},
   "source": [
    "***Q7:***$\\quad$ Para cada uma das expressões da ***Q1***, escreva um programa\n",
    "recursivo que compute o somatório indicado, para um número $n$ de parcelas dado."
   ]
  },
  {
   "cell_type": "markdown",
   "metadata": {},
   "source": [
    "***Q8:***$\\quad$ Escreva um programa recursivo que calcule o comprimento de uma lista\n",
    "dada. Faça o mesmo cálculo utilizando *recursividade de cauda*."
   ]
  },
  {
   "cell_type": "markdown",
   "metadata": {},
   "source": [
    "***Q9:***$\\quad$  Calcule o número $e$ (*número de Euler*, a base dos *logaritmos neperianos*), dada a quantidade $n$ de\n",
    "  parcelas\n",
    "  $$ e = 1 + {1 \\over 1!} + {1 \\over 2!} + {1 \\over 3!} + {1 \\over 4!} + \n",
    "  \\cdots + {1 \\over n!} + \\cdots $$"
   ]
  },
  {
   "cell_type": "markdown",
   "metadata": {},
   "source": [
    "***Q10:***$\\quad$ Implemente recursivamente as funções `map`, `filter` e `reduce`."
   ]
  },
  {
   "cell_type": "markdown",
   "metadata": {},
   "source": [
    "***Q11:***$\\quad$ Utilizando o combinador U, escreva uma função recursiva que calcule o\n",
    "*Número de Euler* para uma quantidade $n$ de parcelas."
   ]
  },
  {
   "cell_type": "markdown",
   "metadata": {},
   "source": [
    "***Q12:***$\\quad$ Utilizando o combinador Z, escreva uma função recursiva que calcule o\n",
    "*Número de Euler* para uma quantidade $n$ de parcelas."
   ]
  },
  {
   "cell_type": "code",
   "execution_count": null,
   "metadata": {},
   "outputs": [],
   "source": []
  }
 ],
 "metadata": {
  "kernelspec": {
   "display_name": "Julia 1.1.0",
   "language": "julia",
   "name": "julia-1.1"
  },
  "language_info": {
   "file_extension": ".jl",
   "mimetype": "application/julia",
   "name": "julia",
   "version": "1.1.0"
  }
 },
 "nbformat": 4,
 "nbformat_minor": 2
}
