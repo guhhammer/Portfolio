{
  "nbformat": 4,
  "nbformat_minor": 0,
  "metadata": {
    "accelerator": "GPU",
    "colab": {
      "name": "DS_project_template.ipynb",
      "provenance": [],
      "collapsed_sections": [
        "WwufnHfvfSwv",
        "68-F6cD9VL-J",
        "kTP1pmiPgDY_",
        "xX9sOXW1gOCU",
        "ppgWSV5qFoq9",
        "oGKkBqGFFeCH",
        "UQxlJdheEu6B",
        "6cjxuCsx4Sqd",
        "VcEG73D94sWN",
        "bO7Di69h1-dK",
        "XT44gKHL2UiI",
        "MFOUfRgu2fBn",
        "M46T0A8k3uOd",
        "14OmTLhg6Z5H",
        "2Kxts6_28rBc",
        "b0Q3xjRF-3dq",
        "sZlnw4ve_U49",
        "fDuUUoKM_vx8",
        "bEWczaeUAGun",
        "ImJ8DiPhAxpg",
        "tO8JpYt6BQbn",
        "eVLXEfeZBlwc",
        "aWVxaVM6CFyH",
        "mHs6283iCxMh",
        "bPcQneboDVlj",
        "rVwP9b3DDrrp",
        "k_TU15YQEKnm",
        "cAVrOW1tgQU7",
        "jD7VaU40z_sN",
        "ehWz8rAcgZ0c",
        "Ua7B5nTmgbN7",
        "8fLxDWdYSDl1",
        "nXeToQbygdNh",
        "_CaFQEil1F6Q"
      ]
    },
    "kernelspec": {
      "display_name": "Python 3",
      "language": "python",
      "name": "python3"
    },
    "language_info": {
      "codemirror_mode": {
        "name": "ipython",
        "version": 3
      },
      "file_extension": ".py",
      "mimetype": "text/x-python",
      "name": "python",
      "nbconvert_exporter": "python",
      "pygments_lexer": "ipython3",
      "version": "3.7.6"
    }
  },
  "cells": [
    {
      "cell_type": "markdown",
      "metadata": {
        "colab_type": "text",
        "id": "WwufnHfvfSwv"
      },
      "source": [
        "# Final Report - Data Science \n",
        "## Bachelor in Computer Science / PUCPR\n",
        "\n",
        "Professor Jean Paul Barddal\n",
        "\n",
        "`Bruno Thuma` - `bruno.thuma@hotmail.com`\n",
        "\n",
        "`Gustavo Hammerschmidt` - `gustavocrazy@yahoo.com`\n",
        "\n",
        "`Leonardo Cleyton` - `leo_cleyton@hotmail.com`\n",
        "\n",
        "`Lucas Lourenço Dall Agnol` - `lucas_ppl@live.com`\n",
        "\n",
        "`Victor Marcel Vieira` - `e255270@outlook.com`\n",
        "\n",
        "`2020`"
      ]
    },
    {
      "cell_type": "markdown",
      "metadata": {
        "colab_type": "text",
        "id": "68-F6cD9VL-J"
      },
      "source": [
        "# Import the libs you need"
      ]
    },
    {
      "cell_type": "code",
      "metadata": {
        "colab_type": "code",
        "id": "itrIGnaaVQnH",
        "colab": {}
      },
      "source": [
        "# Standard libraries:\n",
        "import numpy as np\n",
        "import pandas as pd\n",
        "import matplotlib.pyplot as plt\n",
        "import seaborn as sns\n",
        "from scipy import stats # Statistics measurements.\n",
        "from statsmodels.stats.outliers_influence import variance_inflation_factor # Statistics measurements.\n",
        "\n",
        "#########################################################\n",
        "#########################################################\n",
        "\n",
        "# Drive Authentication libraries used to connect to the database:\n",
        "!pip install -U -q PyDrive\n",
        "from pydrive.auth import GoogleAuth\n",
        "from pydrive.drive import GoogleDrive\n",
        "from google.colab import auth\n",
        "from oauth2client.client import GoogleCredentials"
      ],
      "execution_count": 158,
      "outputs": []
    },
    {
      "cell_type": "markdown",
      "metadata": {
        "colab_type": "text",
        "id": "kTP1pmiPgDY_"
      },
      "source": [
        "# Loading your data"
      ]
    },
    {
      "cell_type": "markdown",
      "metadata": {
        "colab_type": "text",
        "id": "DIRXQ53th3am"
      },
      "source": [
        "Below, load the data using pandas and make all the necessary data cleansing so that all data types are correct for posterior analysis."
      ]
    },
    {
      "cell_type": "code",
      "metadata": {
        "colab_type": "code",
        "id": "-VCzmIHcgA2P",
        "colab": {}
      },
      "source": [
        "# LOAD YOUR DATA HERE:\n",
        "\n",
        "#########################################################\n",
        "#########################################################\n",
        "\n",
        "# Authenticate and create the PyDrive client.\n",
        "auth.authenticate_user()\n",
        "gauth = GoogleAuth()\n",
        "gauth.credentials = GoogleCredentials.get_application_default()\n",
        "drive = GoogleDrive(gauth)\n",
        "\n",
        "#########################################################\n",
        "#########################################################\n",
        "\n",
        "# LINKS TO THE DATABASE TRAINING, TESTING AND DESCRIPTION FILES:\n",
        "CSV_TRAIN_FILE_LINK = \"https://drive.google.com/file/d/1yyev_-wV1KCuflo71nsPXkrAQCPj2teB/view?usp=sharing\"\n",
        "id_train_set = CSV_TRAIN_FILE_LINK.split('/')[-2]\n",
        "\n",
        "CSV_TEST_FILE_LINK = \"https://drive.google.com/file/d/1TWbp7bYhU5BwjReZEIHt018BBeG043cC/view?usp=sharing\"\n",
        "id_test_set = CSV_TEST_FILE_LINK.split(\"/\")[-2]\n",
        "\n",
        "DESCRIPTION_FILE_LINK = \"https://drive.google.com/file/d/1qblVwABXSrtSolBMAUkCucZ0i5UKyvak/view?usp=sharing\"\n",
        "id_description = DESCRIPTION_FILE_LINK.split(\"/\")[-2]\n",
        "\n",
        "#########################################################\n",
        "#########################################################\n",
        "\n",
        "# DOWNLOADING THE TRAIN FILE ON MEMORY AND OPENING IT WITH PANDAS:\n",
        "downloaded = drive.CreateFile({'id':id_train_set})\n",
        "downloaded.GetContentFile('train_file.csv')  \n",
        "\n",
        "df = pd.read_csv('train_file.csv', na_values=-9999.0, sep=',', error_bad_lines=False)\n",
        "df[\"SAFRA\"] = \"TRAIN\"\n",
        "\n",
        "#########################################################\n",
        "#########################################################\n",
        "\n",
        "# DOWNLOADING THE TEST FILE ON MEMORY AND OPENING IT WITH PANDAS:\n",
        "downloaded_t = drive.CreateFile({'id':id_test_set})\n",
        "downloaded_t.GetContentFile('test_file.csv')  \n",
        "\n",
        "df_test = pd.read_csv('test_file.csv', na_values=-9999.0, sep=',', error_bad_lines=False)\n",
        "df_test[\"SAFRA\"] = \"TEST\"\n",
        "\n",
        "#########################################################\n",
        "#########################################################\n",
        "\n",
        "# DOWNLOADING THE DESCRIPTION FILE ON MEMORY AND OPENING IT WITH PANDAS:\n",
        "downloaded = drive.CreateFile({'id':id_description})\n",
        "downloaded.GetContentFile('description_file.xlsx') \n",
        "\n",
        "df_description = pd.DataFrame(pd.read_excel(\"description_file.xlsx\")) \n",
        "\n",
        "#########################################################\n",
        "#########################################################"
      ],
      "execution_count": 159,
      "outputs": []
    },
    {
      "cell_type": "code",
      "metadata": {
        "id": "HYnis2AvfnFr",
        "colab_type": "code",
        "colab": {}
      },
      "source": [
        "# CLEAN AND TREAT THE DATA HERE:"
      ],
      "execution_count": 160,
      "outputs": []
    },
    {
      "cell_type": "code",
      "metadata": {
        "id": "WjdrQmwpfrHT",
        "colab_type": "code",
        "colab": {}
      },
      "source": [
        "# SETTING ASSESSMENT FUNCTIONS TO CHECK THE DATABASE STATUS THROUGHOUT EXECUTION ON THE FLY:\n",
        "\n",
        "#########################################################\n",
        "#########################################################\n",
        "\n",
        "# GRAB THE COLUMNS' NAME:\n",
        "col_names = lambda x: \"\\n\".join([\"Coluna \"+str(i)+\": \"+str(x.columns[i]) for i in range(0, len(x.columns))])\n",
        "\n",
        "#########################################################\n",
        "#########################################################\n",
        "\n",
        "# NUMBER OF LINES IN DATAFRAME:\n",
        "n_lines = lambda x: x.shape[0]\n",
        "\n",
        "# NUMBER OF COLUMNS IN DATAFRAME:\n",
        "n_columns = lambda x: x.shape[1]\n",
        "\n",
        "#########################################################\n",
        "#########################################################\n",
        "\n",
        "# REMOVE COLUMNS FROM DATAFRAME:\n",
        "remove_columns = lambda x, columns: x.drop(labels=columns, axis=1, inplace=True)\n",
        "\n",
        "def remove_from_dataframe(df, columns):\n",
        "    for i in [col_names(df).find(x) for x in columns]:\n",
        "        if i == -1:\n",
        "            return \"Columns weren't found!\" \n",
        "    remove_columns(df, columns)\n",
        "    return \"Columns removed!\"\n",
        "\n",
        "#########################################################\n",
        "#########################################################\n",
        "\n",
        "# SPECIFICATIONS ON COLUMNS WITH NON MULTIVALUES:\n",
        "def specifications(df, multivalue=False):\n",
        "    names, values_of_name = [x for x in df.columns], [df[x].unique() for x in df.columns]\n",
        "    n_values = [ (str(x) if len(x) < 15 else 'multivalue') for x in values_of_name] \n",
        "    ret, ret2 = [ (\"Name: \"+names[x]+\", values = \"+n_values[x] if n_values[x]!='multivalue' else \"\") for x in range(0, len(names))], [ (\"Name: \"+names[x]+\", values = \"+n_values[x]) for x in range(0, len(names))]\n",
        "    return (\"\\n\".join(filter(lambda x : x != \"\", ret)) if not multivalue else \"\\n\".join(ret2))\n",
        "\n",
        "#########################################################\n",
        "#########################################################\n",
        "\n",
        "# Number of missing values by column:\n",
        "missing_values = lambda x: pd.DataFrame(np.array([x[i].isna().sum() for i in df.columns]),index=df.columns).T\n",
        "\n",
        "#########################################################\n",
        "#########################################################\n",
        "\n",
        "#Column name description:\n",
        "description = lambda name: df_description[df_description[\"FINALNOME\"] == str(name)].T.iloc[1, 0]\n",
        "\n",
        "#########################################################\n",
        "#########################################################\n"
      ],
      "execution_count": 161,
      "outputs": []
    },
    {
      "cell_type": "code",
      "metadata": {
        "colab_type": "code",
        "id": "Zpe46g9NiAy5",
        "colab": {}
      },
      "source": [
        "# REMOÇÃO DE COLUNAS:\n",
        "remove_from_dataframe(df, {\"ORIENTACAO_SEXUAL\", \"RELIGIAO\"})\n",
        "remove_from_dataframe(df_description, {'Unnamed: 2'})\n",
        "\n",
        "# Remoção de valores descritivos iguais a na:\n",
        "df_description = df_description[df_description['DESCRIÇÃO'].notna()]"
      ],
      "execution_count": 162,
      "outputs": []
    },
    {
      "cell_type": "code",
      "metadata": {
        "colab_type": "code",
        "id": "Y7WshR3nmZkL",
        "colab": {}
      },
      "source": [
        "# use as many code and text cells you wish"
      ],
      "execution_count": 163,
      "outputs": []
    },
    {
      "cell_type": "markdown",
      "metadata": {
        "colab_type": "text",
        "id": "xX9sOXW1gOCU"
      },
      "source": [
        "# Univariate data analysis"
      ]
    },
    {
      "cell_type": "markdown",
      "metadata": {
        "colab_type": "text",
        "id": "EQljrblLzQQz"
      },
      "source": [
        "In this section, you should perform univariate data analysis on at least 20 variables. \n",
        "\n",
        "In the end, you should describe the main variables that are of your interest, and these should be accounted for in the next sections of the report.\n",
        "The definition of each variable chosen should be clarified, so arbitrary selections are **not** accepted at this point.\n",
        "\n",
        "For each variable plotted, make sure you determine the following:\n",
        "1. The distribution of the data (gaussian, binomial, exponential, etc)\n",
        "2. Skew\n",
        "3. Kurtosis\n",
        "4. Mean, standard deviation, and what they stand for in the context of the dataset\n",
        "\n",
        "Regardless of the type of the variable being analyzed, make sure you plot it correctly. For instance, make sure scatterplots are not used for categorical data and so forth."
      ]
    },
    {
      "cell_type": "code",
      "metadata": {
        "colab_type": "code",
        "id": "BWS2-FMfgWJR",
        "colab": {}
      },
      "source": [
        "# place as many cells to plot the visualizations, \n",
        "# as well as to describe the main findings."
      ],
      "execution_count": 164,
      "outputs": []
    },
    {
      "cell_type": "markdown",
      "metadata": {
        "id": "ppgWSV5qFoq9",
        "colab_type": "text"
      },
      "source": [
        "## Univariate - Funções"
      ]
    },
    {
      "cell_type": "code",
      "metadata": {
        "id": "OBdFCBzdvD7d",
        "colab_type": "code",
        "colab": {}
      },
      "source": [
        "# SETTING ASSESSMENT FUNCTIONS TO CHECK THE DATABASE THROUGHOUT EXECUTION ON THE FLY:\n",
        "\n",
        "#########################################################\n",
        "#########################################################\n",
        "\n",
        "# GET REPARTITION OF DATAFRAME BY DIVISION AS MENCIONED ON DICTIONARY.XLSX:\n",
        "# WARNING: 'SAFRA' COLUMN WAS NOT FOUND IN DATAFRAME, THEREFORE, WAS REMOVED. \n",
        "#    -> USE THE FOLLOWING CODE TO CHECK THE INEXISTANCE:  print(col_names(df).find(\"SAFRA\"))\n",
        "#    -> OUR TEAM HAS CHECKED THE DICTIONARY FOR EXPLANANTION: APPARENTLY, SAFRA REFERS TO THE SAMPLE SET IT WAS OBTAINED:\n",
        "#    -> IN THIS CASE, MEANING THAT THE SET IS EITHER 'TRAIN' OR 'TEST'.\n",
        "def splitted_df_block(df, block_index):\n",
        "    names = dict()\n",
        "    names[\"basicas\"], names[\"renda\"], names[\"empresarial\"], names[\"familiar\"], names[\"regional\"] = 0,1,2,3,4\n",
        "    indexes = [[\"HS_CPF\",\"SAFRA\",\"TEMPOCPF\", \"DISTCENTROCIDADE\", \"DISTZONARISCO\",\"QTDENDERECO\", \"QTDEMAIL\", \"QTDCELULAR\",\n",
        "                \"CELULARPROCON\", \"QTDFONEFIXO\", \"TELFIXOPROCON\", \"TARGET\"],  # Colunas básicas;\n",
        "                [\"ESTIMATIVARENDA\",\"QTDDECLARACAOISENTA\",\"QTDDECLARACAO10\",\"QTDDECLARACAOREST10\",\"QTDDECLARACAOPAGAR10\",\n",
        "                  \"RESTITUICAOAGENCIAALTARENDA\",\"BOLSAFAMILIA\",\"ANOSULTIMARESTITUICAO\",\"ANOSULTIMADECLARACAO\",\"ANOSULTIMADECLARACAOPAGAR\"], # Renda;\n",
        "                [\"INDICEEMPREGO\", \"PORTEEMPREGADOR\", \"SOCIOEMPRESA\", \"FUNCIONARIOPUBLICO\", \"SEGMENTACAO\",\n",
        "                  \"SEGMENTACAOCOBRANCA\", \"SEGMENTACAOECOM\", \"SEGMENTACAOFIN\", \"SEGMENTACAOTELECOM\"], # Empresarial;\n",
        "                [\"QTDPESSOASCASA\",\"MENORRENDACASA\",\"MAIORRENDACASA\",\"SOMARENDACASA\",\"MEDIARENDACASA\",\"MAIORIDADECASA\",\n",
        "                  \"MENORIDADECASA\",\"MEDIAIDADECASA\",\"INDICMENORDEIDADE\",\"COBRANCABAIXOCASA\",\"COBRANCAMEDIOCASA\",\"COBRANCAALTACASA\",\n",
        "                  \"SEGMENTACAOFINBAIXACASA\",\"SEGMENTACAOFINMEDIACASA\",\"SEGMENTACAOALTACASA\",\"BOLSAFAMILIACASA\",\"FUNCIONARIOPUBLICOCASA\"], #Familiar;\n",
        "                [\n",
        "                  \"IDADEMEDIACEP\",\"PERCENTMASCCEP\",\"PERCENTFEMCEP\",\"PERCENTANALFABETOCEP\",\"PERCENTPRIMARIOCEP\",\"PERCENTFUNDAMENTALCEP\",\"PERCENTMEDIOCEP\",\n",
        "                  \"PERCENTSUPERIORCEP\",\"PERCENTMESTRADOCEP\",\"PERCENTDOUTORADOCEP\",\"PERCENTBOLSAFAMILIACEP\",\"PERCENTFUNCIONARIOPUBLICOCEP\",\"MEDIARENDACEP\",\"PIBMUNICIPIO\",\n",
        "                  \"QTDUTILITARIOMUNICIPIO\",\"QTDAUTOMOVELMUNICIPIO\",\"QTDCAMINHAOMUNICIPIO\",\"QTDCAMINHONETEMUNICIPIO\",\"QTDMOTOMUNICIPIO\",\"PERCENTPOPZONAURBANA\",\"IDHMUNICIPIO\" ] # Regional.\n",
        "    ]\n",
        "    return df[indexes[block_index]] if not isinstance(block_index, str) else df[indexes[names[block_index.lower()]]]\n",
        "\n",
        "#########################################################\n",
        "#########################################################\n",
        "\n",
        "# PLOT ANALYSIS FUNCTIONS:\n",
        "standard_plot_functions = [\n",
        "                           \n",
        "      ['distplot', lambda df, var, ignore: sns.distplot(df[var].dropna())],\n",
        "      ['countplot', lambda df, var, ignore: sns.countplot(df[var].dropna())],\n",
        "      ['boxplot', lambda df, var, var2: sns.boxplot(df[var].dropna()) if var2 == None else sns.boxplot(x=df[var].dropna(), y=df[var2].dropna())],\n",
        "      ['violinplot', lambda df, var, var2: sns.violinplot(df[var].dropna()) if var2 == None else sns.violinplot(x=df[var].dropna(), y=df[var2].dropna())],\n",
        "      ['hist', lambda df, var, ignore: df[var].hist()],\n",
        "      ['pizza', lambda df, var, ignore: df[var].dropna().value_counts().plot(kind='pie', autopct='%1.1f%%')],\n",
        "      ['distplot_kne', lambda df, var, ignore: sns.distplot(df[var].dropna(), kde=False, bins=10)],\n",
        "      ['describe', lambda df, ignore, ignore2: df.describe()], \n",
        "      ['corr', lambda df, ignore, ignore2: df.corr()], \n",
        "      ['head', lambda df, var, limit: df[var].head(limit)],\n",
        "      ['jointplot', lambda df, var, var2: sns.jointplot(df[var], df[var2], kind='kde')],\n",
        "      ['scatterplot', lambda df, var, var2: sns.scatterplot(df[var], df[var2])],\n",
        "      ['swarmplot',  lambda df, var, var2: sns.swarmplot(df[var], df[var2])],\n",
        "      ['bubbleplot', lambda df, var, var2: plt.scatter(df[var], df[var2], s=np.random.rand(n_lines(df))*1000, alpha=0.5)],\n",
        "      ['barplot', lambda df, var, var2: sns.barplot(df[var], df[var2], palette=\"Blues_d\")]\n",
        "\n",
        "]\n",
        "\n",
        "#########################################################\n",
        "#########################################################\n",
        "\n",
        "# PLOT ANALYSIS FUNCTIONS:\n",
        "additional_plot_functions = [\n",
        "                             \n",
        "    ['scatterplot_op', lambda df, var, var2, s_, alpha_: sns.scatterplot(df[var], df[var2], s=s_, alpha=alpha_)],\n",
        "    ['stripplot', lambda df, var, var2, jitter_, size_: sns.stripplot(df[var], df[var2], jitter=jitter_, size=size_)],\n",
        "    ['kdeplot', lambda df, var, var2, shade_, ignore: sns.kdeplot(df[var], df[var2], shade=shade_)]\n",
        "    \n",
        "]\n",
        "\n",
        "distribution_arr, skew_arr, kurtosis_arr = ['Gaussian', 'Binomial', 'Exponential', 'Beta'], ['Positive', 'Negative', 'Zero'], ['Platykurtic', 'Mesokurtic', 'Leptocurtic']\n",
        "\n",
        "def info_plot(df, name, distribution, skew, kurtosis, more):\n",
        "    global distribution_arr, skew_arr, kurtosis_arr   \n",
        "    print('\\nDistribution: {}\\nSkew: {}\\nKurtosis: {}\\nMean: {}\\nStd: {}\\nMore Info: {}'.format(distribution_arr[distribution],skew_arr[skew],kurtosis_arr[kurtosis],\n",
        "                                                                                                df[name].mean(), df[name].std(), more))\n",
        "\n",
        "#########################################################\n",
        "#########################################################\n",
        "\n",
        "# BRIDGE IN-BETWEEN NAME-FUNCTIONALITY CONNECTION:\n",
        "types = dict()\n",
        "for match in standard_plot_functions:\n",
        "    types[match[0]] = match[1]\n",
        "\n",
        "for match in additional_plot_functions:\n",
        "    types[match[0]] = match[1]\n",
        "\n",
        "#########################################################\n",
        "#########################################################\n",
        "\n",
        "\n",
        "# PLOT ANALYSIS FUNCTION:\n",
        "# Easy caller to plot in one line:\n",
        "def plot(df, type_, var1=None, var2=None, options=[], title=None, x_axis_name=None, y_axis_name=None, darkgrid=True, is_subplot=False,\n",
        "         subplot_index=(), final_subplot=False, info=(), show_info=False):\n",
        "    \n",
        "    global types, SUBPLOT_COUNTER\n",
        "    print(\"\\n\")\n",
        "    call_names = [i[0] for i in standard_plot_functions]\n",
        "    call_names.append(i[0] for i in additional_plot_functions)\n",
        "    \n",
        "    if darkgrid:\n",
        "        sns.set(style='darkgrid')\n",
        "    \n",
        "    if is_subplot:\n",
        "        plt.subplot(*subplot_index)\n",
        "    \n",
        "    if type_ in ['scatterplot_op', 'stripplot', 'kdeplot']:\n",
        "        types[type_](df, var1, var2, options[0], None) if type_ == 'kdeplot' else types[type_](df, var1, var2, options[0], options[1])\n",
        "\n",
        "    elif type_ in ['describe', 'corr']:\n",
        "        return types[type_](df, None, None)\n",
        "\n",
        "    elif type_ in [i[0] for i in standard_plot_functions]:\n",
        "        types[type_](df, var1, var2)\n",
        "\n",
        "    elif type_ not in call_names:\n",
        "        return 'Type not found!'\n",
        "\n",
        "    plt.xlabel(x_axis_name if x_axis_name else \"the X axis\")\n",
        "    plt.ylabel(y_axis_name if y_axis_name else \"the Y axis\")\n",
        "    plt.title(title if title else '', loc=\"left\")   \n",
        "\n",
        "    if final_subplot:\n",
        "        plt.show()\n",
        "        if show_info:\n",
        "            info_plot(df, *info)\n",
        "    else:\n",
        "        plt.show()\n",
        "        if show_info:\n",
        "            info_plot(df, *info)\n",
        "\n",
        "#########################################################\n",
        "#########################################################\n",
        "\n",
        "# GET ONLY 'SET-VALUED' COLUMN NAMES:\n",
        "non_multivalued_vars = lambda df: [x for x in df.columns if len(df[x].unique()) < 15]\n",
        "df_snippet = lambda df: pd.DataFrame(np.array([str(df[x].unique()) if len(df[x].unique()) < 15 else 'multivalue' for x in df.columns]),index=df.columns).T\n",
        "\n",
        "#########################################################\n",
        "#########################################################\n"
      ],
      "execution_count": 240,
      "outputs": []
    },
    {
      "cell_type": "markdown",
      "metadata": {
        "id": "oGKkBqGFFeCH",
        "colab_type": "text"
      },
      "source": [
        "## Univariate - Separação do df"
      ]
    },
    {
      "cell_type": "code",
      "metadata": {
        "colab_type": "code",
        "id": "zACQ5EROmhM5",
        "colab": {
          "base_uri": "https://localhost:8080/",
          "height": 106
        },
        "outputId": "700bb7ca-020a-4b1b-f2b0-6bcf13907702"
      },
      "source": [
        "# if you realize you need to further clean your data here, there is no problem, \n",
        "# yet, make sure you are describing the entire process and the rationale \n",
        "# behind your choices here\n",
        "\n",
        "# REPARTIONING OF THE DAFRAME BY BLOCKS RELATED TO DICTIONARY:\n",
        "df_basicas, df_renda = splitted_df_block(df, \"basicas\"), splitted_df_block(df, \"renda\")\n",
        "df_empresarial, df_familiar = splitted_df_block(df, \"empresarial\"), splitted_df_block(df, \"familiar\")\n",
        "df_regional = splitted_df_block(df, \"regional\")\n",
        "\n",
        "\n",
        "# CHECKING NUMBER OF NON-MULTIVALUED COLUMNS ON EACH PARTITION:\n",
        "occurrences = lambda df, df_block: len([x for x in non_multivalued_vars(df) if x in df_block.columns])\n",
        "\n",
        "print(\"Non-multivalued vars in df_basicas:\", occurrences(df, df_basicas), \n",
        "      \"\\nNon-multivalued vars in df_renda:\", occurrences(df, df_renda),\n",
        "      \"\\nNon-multivalued vars in df_empresarial:\", occurrences(df, df_empresarial),\n",
        "      \"\\nNon-multivalued vars in df_familiar:\", occurrences(df, df_familiar),\n",
        "      \"\\nNon-multivalued vars in df_regional:\", occurrences(df, df_regional))"
      ],
      "execution_count": 166,
      "outputs": [
        {
          "output_type": "stream",
          "text": [
            "Non-multivalued vars in df_basicas: 4 \n",
            "Non-multivalued vars in df_renda: 2 \n",
            "Non-multivalued vars in df_empresarial: 9 \n",
            "Non-multivalued vars in df_familiar: 10 \n",
            "Non-multivalued vars in df_regional: 1\n"
          ],
          "name": "stdout"
        }
      ]
    },
    {
      "cell_type": "markdown",
      "metadata": {
        "id": "UQxlJdheEu6B",
        "colab_type": "text"
      },
      "source": [
        "## Univariate - Display de colunas com sets de valores"
      ]
    },
    {
      "cell_type": "code",
      "metadata": {
        "id": "uWPB26upY6bs",
        "colab_type": "code",
        "colab": {
          "base_uri": "https://localhost:8080/",
          "height": 113
        },
        "outputId": "08ed40b0-06e0-40ec-8e0b-a9c28dc836cb"
      },
      "source": [
        "df_snippet(df)"
      ],
      "execution_count": 282,
      "outputs": [
        {
          "output_type": "execute_result",
          "data": {
            "text/html": [
              "<div>\n",
              "<style scoped>\n",
              "    .dataframe tbody tr th:only-of-type {\n",
              "        vertical-align: middle;\n",
              "    }\n",
              "\n",
              "    .dataframe tbody tr th {\n",
              "        vertical-align: top;\n",
              "    }\n",
              "\n",
              "    .dataframe thead th {\n",
              "        text-align: right;\n",
              "    }\n",
              "</style>\n",
              "<table border=\"1\" class=\"dataframe\">\n",
              "  <thead>\n",
              "    <tr style=\"text-align: right;\">\n",
              "      <th></th>\n",
              "      <th>HS_CPF</th>\n",
              "      <th>TEMPOCPF</th>\n",
              "      <th>DISTCENTROCIDADE</th>\n",
              "      <th>DISTZONARISCO</th>\n",
              "      <th>QTDENDERECO</th>\n",
              "      <th>QTDEMAIL</th>\n",
              "      <th>QTDCELULAR</th>\n",
              "      <th>CELULARPROCON</th>\n",
              "      <th>QTDFONEFIXO</th>\n",
              "      <th>TELFIXOPROCON</th>\n",
              "      <th>INDICEEMPREGO</th>\n",
              "      <th>PORTEEMPREGADOR</th>\n",
              "      <th>SOCIOEMPRESA</th>\n",
              "      <th>FUNCIONARIOPUBLICO</th>\n",
              "      <th>SEGMENTACAO</th>\n",
              "      <th>SEGMENTACAOCOBRANCA</th>\n",
              "      <th>SEGMENTACAOECOM</th>\n",
              "      <th>SEGMENTACAOFIN</th>\n",
              "      <th>SEGMENTACAOTELECOM</th>\n",
              "      <th>QTDPESSOASCASA</th>\n",
              "      <th>MENORRENDACASA</th>\n",
              "      <th>MAIORRENDACASA</th>\n",
              "      <th>SOMARENDACASA</th>\n",
              "      <th>MEDIARENDACASA</th>\n",
              "      <th>MAIORIDADECASA</th>\n",
              "      <th>MENORIDADECASA</th>\n",
              "      <th>MEDIAIDADECASA</th>\n",
              "      <th>INDICMENORDEIDADE</th>\n",
              "      <th>COBRANCABAIXOCASA</th>\n",
              "      <th>COBRANCAMEDIOCASA</th>\n",
              "      <th>COBRANCAALTACASA</th>\n",
              "      <th>SEGMENTACAOFINBAIXACASA</th>\n",
              "      <th>SEGMENTACAOFINMEDIACASA</th>\n",
              "      <th>SEGMENTACAOALTACASA</th>\n",
              "      <th>BOLSAFAMILIACASA</th>\n",
              "      <th>FUNCIONARIOPUBLICOCASA</th>\n",
              "      <th>IDADEMEDIACEP</th>\n",
              "      <th>PERCENTMASCCEP</th>\n",
              "      <th>PERCENTFEMCEP</th>\n",
              "      <th>PERCENTANALFABETOCEP</th>\n",
              "      <th>PERCENTPRIMARIOCEP</th>\n",
              "      <th>PERCENTFUNDAMENTALCEP</th>\n",
              "      <th>PERCENTMEDIOCEP</th>\n",
              "      <th>PERCENTSUPERIORCEP</th>\n",
              "      <th>PERCENTMESTRADOCEP</th>\n",
              "      <th>PERCENTDOUTORADOCEP</th>\n",
              "      <th>PERCENTBOLSAFAMILIACEP</th>\n",
              "      <th>PERCENTFUNCIONARIOPUBLICOCEP</th>\n",
              "      <th>MEDIARENDACEP</th>\n",
              "      <th>PIBMUNICIPIO</th>\n",
              "      <th>QTDUTILITARIOMUNICIPIO</th>\n",
              "      <th>QTDAUTOMOVELMUNICIPIO</th>\n",
              "      <th>QTDCAMINHAOMUNICIPIO</th>\n",
              "      <th>QTDCAMINHONETEMUNICIPIO</th>\n",
              "      <th>QTDMOTOMUNICIPIO</th>\n",
              "      <th>PERCENTPOPZONAURBANA</th>\n",
              "      <th>IDHMUNICIPIO</th>\n",
              "      <th>ESTIMATIVARENDA</th>\n",
              "      <th>QTDDECLARACAOISENTA</th>\n",
              "      <th>QTDDECLARACAO10</th>\n",
              "      <th>QTDDECLARACAOREST10</th>\n",
              "      <th>QTDDECLARACAOPAGAR10</th>\n",
              "      <th>RESTITUICAOAGENCIAALTARENDA</th>\n",
              "      <th>BOLSAFAMILIA</th>\n",
              "      <th>ANOSULTIMARESTITUICAO</th>\n",
              "      <th>ANOSULTIMADECLARACAO</th>\n",
              "      <th>ANOSULTIMADECLARACAOPAGAR</th>\n",
              "      <th>TARGET</th>\n",
              "      <th>SAFRA</th>\n",
              "    </tr>\n",
              "  </thead>\n",
              "  <tbody>\n",
              "    <tr>\n",
              "      <th>0</th>\n",
              "      <td>multivalue</td>\n",
              "      <td>multivalue</td>\n",
              "      <td>multivalue</td>\n",
              "      <td>multivalue</td>\n",
              "      <td>multivalue</td>\n",
              "      <td>multivalue</td>\n",
              "      <td>multivalue</td>\n",
              "      <td>[ 0.  1. nan]</td>\n",
              "      <td>multivalue</td>\n",
              "      <td>[ 0.  1. nan]</td>\n",
              "      <td>[ 0.  4.  6.  1.  5.  3.  2. nan]</td>\n",
              "      <td>[ 0.  1.  2.  3.  4. nan]</td>\n",
              "      <td>[ 0.  1. nan]</td>\n",
              "      <td>[ 0.  1. nan]</td>\n",
              "      <td>[ 0.  1.  3.  2.  4.  5. nan]</td>\n",
              "      <td>[ 0.  3.  1.  4. nan  2.  5.]</td>\n",
              "      <td>[ 0.  1. nan  5.  2.  4.  3.]</td>\n",
              "      <td>[ 0.  1.  2. nan  3.  4.  5.]</td>\n",
              "      <td>[ 0.  3.  1.  2.  4. nan  5.]</td>\n",
              "      <td>[ 2. nan  3.  4.  5.  6.  9.  7.  8. 10.]</td>\n",
              "      <td>multivalue</td>\n",
              "      <td>multivalue</td>\n",
              "      <td>multivalue</td>\n",
              "      <td>multivalue</td>\n",
              "      <td>multivalue</td>\n",
              "      <td>multivalue</td>\n",
              "      <td>multivalue</td>\n",
              "      <td>[ 0. nan  1.]</td>\n",
              "      <td>[ 0. nan  1.]</td>\n",
              "      <td>[ 0. nan  1.]</td>\n",
              "      <td>[ 0. nan  1.]</td>\n",
              "      <td>[ 0. nan  1.]</td>\n",
              "      <td>[ 0. nan  1.]</td>\n",
              "      <td>[ 0. nan  1.]</td>\n",
              "      <td>[ 1. nan  0.]</td>\n",
              "      <td>[ 0. nan  1.]</td>\n",
              "      <td>multivalue</td>\n",
              "      <td>multivalue</td>\n",
              "      <td>multivalue</td>\n",
              "      <td>multivalue</td>\n",
              "      <td>multivalue</td>\n",
              "      <td>multivalue</td>\n",
              "      <td>multivalue</td>\n",
              "      <td>multivalue</td>\n",
              "      <td>[ 0. nan  1.  2.  3.  7.  5.  4.  6.  8.]</td>\n",
              "      <td>multivalue</td>\n",
              "      <td>multivalue</td>\n",
              "      <td>multivalue</td>\n",
              "      <td>multivalue</td>\n",
              "      <td>multivalue</td>\n",
              "      <td>multivalue</td>\n",
              "      <td>multivalue</td>\n",
              "      <td>multivalue</td>\n",
              "      <td>multivalue</td>\n",
              "      <td>multivalue</td>\n",
              "      <td>multivalue</td>\n",
              "      <td>multivalue</td>\n",
              "      <td>multivalue</td>\n",
              "      <td>multivalue</td>\n",
              "      <td>multivalue</td>\n",
              "      <td>multivalue</td>\n",
              "      <td>multivalue</td>\n",
              "      <td>[ 0.  1. nan]</td>\n",
              "      <td>[ 0.  1. nan]</td>\n",
              "      <td>multivalue</td>\n",
              "      <td>multivalue</td>\n",
              "      <td>multivalue</td>\n",
              "      <td>[0. 1.]</td>\n",
              "      <td>['TRAIN']</td>\n",
              "    </tr>\n",
              "  </tbody>\n",
              "</table>\n",
              "</div>"
            ],
            "text/plain": [
              "       HS_CPF    TEMPOCPF  ...   TARGET      SAFRA\n",
              "0  multivalue  multivalue  ...  [0. 1.]  ['TRAIN']\n",
              "\n",
              "[1 rows x 69 columns]"
            ]
          },
          "metadata": {
            "tags": []
          },
          "execution_count": 282
        }
      ]
    },
    {
      "cell_type": "markdown",
      "metadata": {
        "id": "6cjxuCsx4Sqd",
        "colab_type": "text"
      },
      "source": [
        "## Univariate - Variável 1"
      ]
    },
    {
      "cell_type": "code",
      "metadata": {
        "id": "cQhK1DQoY9gg",
        "colab_type": "code",
        "colab": {
          "base_uri": "https://localhost:8080/",
          "height": 497
        },
        "outputId": "c386b23a-df68-4f93-c526-52f952f13b1f"
      },
      "source": [
        "why = '\\n\\t\\t\"\"A informação foi selecionada como indicativo de pessoas por casa.\"\"\\n'\n",
        "plot(df, 'countplot', 'QTDPESSOASCASA', title='Número de casas com X pessoas', info=('QTDPESSOASCASA', 0,0,1,why), show_info=True)"
      ],
      "execution_count": 228,
      "outputs": [
        {
          "output_type": "stream",
          "text": [
            "\n",
            "\n"
          ],
          "name": "stdout"
        },
        {
          "output_type": "display_data",
          "data": {
            "image/png": "[encoded data removed]",
            "text/plain": [
              "<Figure size 432x288 with 1 Axes>"
            ]
          },
          "metadata": {
            "tags": []
          }
        },
        {
          "output_type": "stream",
          "text": [
            "\n",
            "Distribution: Gaussian\n",
            "Skew: Positive\n",
            "Kurtosis: Mesokurtic\n",
            "Mean: 2.994602250645571\n",
            "Std: 1.2306877807879248\n",
            "More Info: \n",
            "\t\t\"\"A informação foi selecionada como indicativo de pessoas por casa.\"\"\n",
            "\n"
          ],
          "name": "stdout"
        }
      ]
    },
    {
      "cell_type": "markdown",
      "metadata": {
        "id": "VcEG73D94sWN",
        "colab_type": "text"
      },
      "source": [
        "## Univariate - Variável 2"
      ]
    },
    {
      "cell_type": "code",
      "metadata": {
        "id": "h6kkWjSDqrM8",
        "colab_type": "code",
        "colab": {
          "base_uri": "https://localhost:8080/",
          "height": 497
        },
        "outputId": "165c4d32-9276-4b79-bd09-213e26de314e"
      },
      "source": [
        "why = '\\n\\t\\t\"\"A informação foi selecionada como indicativo de possibilidade de demissão ou segurança de recebimento de uma renda \"fixa\".\"\"\\n'\n",
        "plot(df, 'countplot', \"INDICEEMPREGO\", title=description('INDICEEMPREGO'), y_axis_name=' ', x_axis_name=' ', info=('INDICEEMPREGO', 0,0,2,why), show_info=True) "
      ],
      "execution_count": 230,
      "outputs": [
        {
          "output_type": "stream",
          "text": [
            "\n",
            "\n"
          ],
          "name": "stdout"
        },
        {
          "output_type": "display_data",
          "data": {
            "image/png": "[encoded data removed]",
            "text/plain": [
              "<Figure size 432x288 with 1 Axes>"
            ]
          },
          "metadata": {
            "tags": []
          }
        },
        {
          "output_type": "stream",
          "text": [
            "\n",
            "Distribution: Gaussian\n",
            "Skew: Positive\n",
            "Kurtosis: Leptocurtic\n",
            "Mean: 1.4945635689889358\n",
            "Std: 2.1520671583443103\n",
            "More Info: \n",
            "\t\t\"\"A informação foi selecionada como indicativo de possibilidade de demissão ou segurança de uma renda \"fixa\".\"\"\n",
            "\n"
          ],
          "name": "stdout"
        }
      ]
    },
    {
      "cell_type": "markdown",
      "metadata": {
        "id": "bO7Di69h1-dK",
        "colab_type": "text"
      },
      "source": [
        "## Univariate - Variável 3"
      ]
    },
    {
      "cell_type": "code",
      "metadata": {
        "id": "s68ijJVBqsEv",
        "colab_type": "code",
        "colab": {
          "base_uri": "https://localhost:8080/",
          "height": 543
        },
        "outputId": "2a1d1ab4-c4a7-47fb-b69b-aa7a804681d6"
      },
      "source": [
        "why = '\\n\\t\\t\"\"A informação foi selecionada como um indício de que há um integrante na família que não gera renda possivelmente.\"\"\\n'\n",
        "plot(df, 'pizza', 'INDICMENORDEIDADE', is_subplot=True, subplot_index=(2,1,1), y_axis_name=' ', x_axis_name=' ') \n",
        "plot(df, 'countplot', 'INDICMENORDEIDADE', title=description('INDICMENORDEIDADE'), is_subplot=True, subplot_index=(2,1,2), final_subplot=True, info=('INDICMENORDEIDADE', 1,0,1,why), show_info=True)"
      ],
      "execution_count": 223,
      "outputs": [
        {
          "output_type": "stream",
          "text": [
            "\n",
            "\n"
          ],
          "name": "stdout"
        },
        {
          "output_type": "display_data",
          "data": {
            "image/png": "[encoded data removed]",
            "text/plain": [
              "<Figure size 432x288 with 1 Axes>"
            ]
          },
          "metadata": {
            "tags": []
          }
        },
        {
          "output_type": "stream",
          "text": [
            "\n",
            "\n"
          ],
          "name": "stdout"
        },
        {
          "output_type": "display_data",
          "data": {
            "image/png": "[encoded data removed]",
            "text/plain": [
              "<Figure size 432x288 with 1 Axes>"
            ]
          },
          "metadata": {
            "tags": []
          }
        },
        {
          "output_type": "stream",
          "text": [
            "\n",
            "Distribution: Binomial\n",
            "Skew: Positive\n",
            "Kurtosis: Mesokurtic\n",
            "Mean: 0.06496299303042603\n",
            "Std: 0.24646161399000016\n",
            "More Info: \n",
            "\t\t\"\"A informação foi selecionada como um indício de que há um integrante na família que não gera renda possivelmente.\"\"\n",
            "\n"
          ],
          "name": "stdout"
        }
      ]
    },
    {
      "cell_type": "markdown",
      "metadata": {
        "id": "XT44gKHL2UiI",
        "colab_type": "text"
      },
      "source": [
        "## Univariate - Variável 4"
      ]
    },
    {
      "cell_type": "code",
      "metadata": {
        "id": "y27PeeKBqsHG",
        "colab_type": "code",
        "colab": {
          "base_uri": "https://localhost:8080/",
          "height": 543
        },
        "outputId": "3a219ca8-65eb-46e8-b251-23258ab9799b"
      },
      "source": [
        "why = '\\n\\t\\t\"\"O gráfico foi selecionado devido ao plano Bolsa Família ser um indicativo de baixa renda e número de pessoas por caso alto.\"\"\\n'\n",
        "plot(df, 'pizza', 'BOLSAFAMILIACASA', is_subplot=True, subplot_index=(2,1,1), y_axis_name=' ', x_axis_name=' ') \n",
        "plot(df, 'countplot', 'BOLSAFAMILIACASA', title=description('BOLSAFAMILIACASA'), is_subplot=True, subplot_index=(2,1,2), final_subplot=True, info=('BOLSAFAMILIACASA', 1,0,1,why), show_info=True)"
      ],
      "execution_count": 231,
      "outputs": [
        {
          "output_type": "stream",
          "text": [
            "\n",
            "\n"
          ],
          "name": "stdout"
        },
        {
          "output_type": "display_data",
          "data": {
            "image/png": "[encoded data removed]",
            "text/plain": [
              "<Figure size 432x288 with 1 Axes>"
            ]
          },
          "metadata": {
            "tags": []
          }
        },
        {
          "output_type": "stream",
          "text": [
            "\n",
            "\n"
          ],
          "name": "stdout"
        },
        {
          "output_type": "display_data",
          "data": {
            "image/png": "[encoded data removed]",
            "text/plain": [
              "<Figure size 432x288 with 1 Axes>"
            ]
          },
          "metadata": {
            "tags": []
          }
        },
        {
          "output_type": "stream",
          "text": [
            "\n",
            "Distribution: Binomial\n",
            "Skew: Positive\n",
            "Kurtosis: Mesokurtic\n",
            "Mean: 0.20632357132370088\n",
            "Std: 0.40466723304277713\n",
            "More Info: \n",
            "\t\t\"\"O gráfico foi selecionado devido ao plano Bolsa Família ser um indicativo de baixa renda e número de pessoas por caso alto.\"\"\n",
            "\n"
          ],
          "name": "stdout"
        }
      ]
    },
    {
      "cell_type": "markdown",
      "metadata": {
        "id": "MFOUfRgu2fBn",
        "colab_type": "text"
      },
      "source": [
        "## Univariate - Variável 5"
      ]
    },
    {
      "cell_type": "code",
      "metadata": {
        "id": "Q9g6AUW0qsKS",
        "colab_type": "code",
        "colab": {
          "base_uri": "https://localhost:8080/",
          "height": 497
        },
        "outputId": "c8b13e15-703e-4dc6-bd3f-baafad94d17b"
      },
      "source": [
        "why = '\\n\\t\\t\"\"A informação foi selecionada como indicativo de renda média por household.\"\"\\n'\n",
        "plot(df, 'distplot', \"MEDIARENDACASA\", title=description('MEDIARENDACASA'), y_axis_name=' ', x_axis_name=' ', info=('MEDIARENDACASA', 0,0,2,why), show_info=True) "
      ],
      "execution_count": 232,
      "outputs": [
        {
          "output_type": "stream",
          "text": [
            "\n",
            "\n"
          ],
          "name": "stdout"
        },
        {
          "output_type": "display_data",
          "data": {
            "image/png": "[encoded data removed]",
            "text/plain": [
              "<Figure size 432x288 with 1 Axes>"
            ]
          },
          "metadata": {
            "tags": []
          }
        },
        {
          "output_type": "stream",
          "text": [
            "\n",
            "Distribution: Gaussian\n",
            "Skew: Positive\n",
            "Kurtosis: Leptocurtic\n",
            "Mean: 2904.787539849147\n",
            "Std: 2989.041412379359\n",
            "More Info: \n",
            "\t\t\"\"A informação foi selecionada como indicativo de renda média por household.\"\"\n",
            "\n"
          ],
          "name": "stdout"
        }
      ]
    },
    {
      "cell_type": "markdown",
      "metadata": {
        "id": "M46T0A8k3uOd",
        "colab_type": "text"
      },
      "source": [
        "## Univariate - Variável 6"
      ]
    },
    {
      "cell_type": "code",
      "metadata": {
        "id": "pgc1iAsHwG-U",
        "colab_type": "code",
        "colab": {
          "base_uri": "https://localhost:8080/",
          "height": 497
        },
        "outputId": "b15f67a5-2fdf-4097-8531-dbc9a1eabac3"
      },
      "source": [
        "why = '\\n\\t\\t\"\"A informação foi selecionada como indicativo de quantos CPFs por empresa estão no ranking de 0 a 4.\"\"\\n'\n",
        "plot(df, 'countplot', \"PORTEEMPREGADOR\", title=description('PORTEEMPREGADOR'), y_axis_name=' ', x_axis_name=' ', info=('PORTEEMPREGADOR', 0,0,2,why), show_info=True) "
      ],
      "execution_count": 234,
      "outputs": [
        {
          "output_type": "stream",
          "text": [
            "\n",
            "\n"
          ],
          "name": "stdout"
        },
        {
          "output_type": "display_data",
          "data": {
            "image/png": "[encoded data removed]",
            "text/plain": [
              "<Figure size 432x288 with 1 Axes>"
            ]
          },
          "metadata": {
            "tags": []
          }
        },
        {
          "output_type": "stream",
          "text": [
            "\n",
            "Distribution: Gaussian\n",
            "Skew: Positive\n",
            "Kurtosis: Leptocurtic\n",
            "Mean: 0.8319354881249094\n",
            "Std: 1.3023443785317785\n",
            "More Info: \n",
            "\t\t\"\"A informação foi selecionada como indicativo de quantos CPFs por empresa estão no ranking de 0 a 4.\"\"\n",
            "\n"
          ],
          "name": "stdout"
        }
      ]
    },
    {
      "cell_type": "markdown",
      "metadata": {
        "id": "14OmTLhg6Z5H",
        "colab_type": "text"
      },
      "source": [
        "## Univariate - Variável 7"
      ]
    },
    {
      "cell_type": "code",
      "metadata": {
        "id": "UYGrjRAdwShV",
        "colab_type": "code",
        "colab": {
          "base_uri": "https://localhost:8080/",
          "height": 497
        },
        "outputId": "e0090ae5-486f-4677-8f1b-647be9c8e10d"
      },
      "source": [
        "why = '\\n\\t\\t\"\"A informação foi selecionada como indicativo de proposta inadimplente ou não.\"\"\\n'\n",
        "plot(df, 'countplot', \"TARGET\", title=description('TARGET'), y_axis_name=' ', x_axis_name=' ', info=('TARGET', 0,0,2,why), show_info=True) "
      ],
      "execution_count": 245,
      "outputs": [
        {
          "output_type": "stream",
          "text": [
            "\n",
            "\n"
          ],
          "name": "stdout"
        },
        {
          "output_type": "display_data",
          "data": {
            "image/png": "[encoded data removed]",
            "text/plain": [
              "<Figure size 432x288 with 1 Axes>"
            ]
          },
          "metadata": {
            "tags": []
          }
        },
        {
          "output_type": "stream",
          "text": [
            "\n",
            "Distribution: Gaussian\n",
            "Skew: Positive\n",
            "Kurtosis: Leptocurtic\n",
            "Mean: 0.09640847751596937\n",
            "Std: 0.29515109089178676\n",
            "More Info: \n",
            "\t\t\"\"A informação foi selecionada como indicativo de proposta inadimplente ou não.\"\"\n",
            "\n"
          ],
          "name": "stdout"
        }
      ]
    },
    {
      "cell_type": "markdown",
      "metadata": {
        "id": "2Kxts6_28rBc",
        "colab_type": "text"
      },
      "source": [
        "## Univariate - Variável 8"
      ]
    },
    {
      "cell_type": "code",
      "metadata": {
        "id": "thWg1NthwSj6",
        "colab_type": "code",
        "colab": {
          "base_uri": "https://localhost:8080/",
          "height": 497
        },
        "outputId": "d79756b6-cbf2-41d2-cd53-a3cb6b86d54f"
      },
      "source": [
        "why = '\\n\\t\\t\"\"A informação foi selecionada como indicativo de quanto tempo o CPF já teve para declarar imposto.\"\"\\n'\n",
        "plot(df, 'distplot', \"TEMPOCPF\", title=description('TEMPOCPF'), y_axis_name=' ', x_axis_name=' ', info=('TEMPOCPF', 0,1,2,why), show_info=True)"
      ],
      "execution_count": 243,
      "outputs": [
        {
          "output_type": "stream",
          "text": [
            "\n",
            "\n"
          ],
          "name": "stdout"
        },
        {
          "output_type": "display_data",
          "data": {
            "image/png": "[encoded data removed]",
            "text/plain": [
              "<Figure size 432x288 with 1 Axes>"
            ]
          },
          "metadata": {
            "tags": []
          }
        },
        {
          "output_type": "stream",
          "text": [
            "\n",
            "Distribution: Gaussian\n",
            "Skew: Negative\n",
            "Kurtosis: Leptocurtic\n",
            "Mean: 15.736359878792248\n",
            "Std: 7.988362018707247\n",
            "More Info: \n",
            "\t\t\"\"A informação foi selecionada como indicativo de quanto tempo o CPF já teve para declarar imposto.\"\"\n",
            "\n"
          ],
          "name": "stdout"
        }
      ]
    },
    {
      "cell_type": "markdown",
      "metadata": {
        "id": "b0Q3xjRF-3dq",
        "colab_type": "text"
      },
      "source": [
        "## Univariate - Variável 9"
      ]
    },
    {
      "cell_type": "code",
      "metadata": {
        "id": "kBCgh12iwSqH",
        "colab_type": "code",
        "colab": {
          "base_uri": "https://localhost:8080/",
          "height": 543
        },
        "outputId": "8db5cb44-83d2-4d7b-f3bd-78ce491a4bea"
      },
      "source": [
        "why = '\\n\\t\\t\"\"A informação foi selecionada como um indício se o CPF possuí uma participação em empresas.\"\"\\n'\n",
        "plot(df, 'pizza', 'SOCIOEMPRESA', is_subplot=True, subplot_index=(2,1,1), y_axis_name=' ', x_axis_name=' ') \n",
        "plot(df, 'countplot', 'SOCIOEMPRESA', title=description('SOCIOEMPRESA'), is_subplot=True, subplot_index=(2,1,2), final_subplot=True, info=('SOCIOEMPRESA', 0,0,2,why), show_info=True)"
      ],
      "execution_count": 248,
      "outputs": [
        {
          "output_type": "stream",
          "text": [
            "\n",
            "\n"
          ],
          "name": "stdout"
        },
        {
          "output_type": "display_data",
          "data": {
            "image/png": "[encoded data removed]",
            "text/plain": [
              "<Figure size 432x288 with 1 Axes>"
            ]
          },
          "metadata": {
            "tags": []
          }
        },
        {
          "output_type": "stream",
          "text": [
            "\n",
            "\n"
          ],
          "name": "stdout"
        },
        {
          "output_type": "display_data",
          "data": {
            "image/png": "[encoded data removed]",
            "text/plain": [
              "<Figure size 432x288 with 1 Axes>"
            ]
          },
          "metadata": {
            "tags": []
          }
        },
        {
          "output_type": "stream",
          "text": [
            "\n",
            "Distribution: Gaussian\n",
            "Skew: Positive\n",
            "Kurtosis: Leptocurtic\n",
            "Mean: 0.08483997309807335\n",
            "Std: 0.2786438731331874\n",
            "More Info: \n",
            "\t\t\"\"A informação foi selecionada como um indício se o CPF possuí uma participação em empresas.\"\"\n",
            "\n"
          ],
          "name": "stdout"
        }
      ]
    },
    {
      "cell_type": "markdown",
      "metadata": {
        "id": "sZlnw4ve_U49",
        "colab_type": "text"
      },
      "source": [
        "## Univariate - Variável 10"
      ]
    },
    {
      "cell_type": "code",
      "metadata": {
        "id": "Vv88jzb3wStz",
        "colab_type": "code",
        "colab": {
          "base_uri": "https://localhost:8080/",
          "height": 543
        },
        "outputId": "31ae93db-a718-44bc-d373-9199a32906a0"
      },
      "source": [
        "why = '\\n\\t\\t\"\"A informação foi selecionada como um indício se o CPF é funcionário público.\"\"\\n'\n",
        "plot(df, 'pizza', 'FUNCIONARIOPUBLICO', is_subplot=True, subplot_index=(2,1,1), y_axis_name=' ', x_axis_name=' ') \n",
        "plot(df, 'countplot', 'FUNCIONARIOPUBLICO', title=description('FUNCIONARIOPUBLICO'), is_subplot=True, subplot_index=(2,1,2), final_subplot=True, info=('FUNCIONARIOPUBLICO', 0,0,2,why), show_info=True)"
      ],
      "execution_count": 250,
      "outputs": [
        {
          "output_type": "stream",
          "text": [
            "\n",
            "\n"
          ],
          "name": "stdout"
        },
        {
          "output_type": "display_data",
          "data": {
            "image/png": "[encoded data removed]",
            "text/plain": [
              "<Figure size 432x288 with 1 Axes>"
            ]
          },
          "metadata": {
            "tags": []
          }
        },
        {
          "output_type": "stream",
          "text": [
            "\n",
            "\n"
          ],
          "name": "stdout"
        },
        {
          "output_type": "display_data",
          "data": {
            "image/png": "[encoded data removed]",
            "text/plain": [
              "<Figure size 432x288 with 1 Axes>"
            ]
          },
          "metadata": {
            "tags": []
          }
        },
        {
          "output_type": "stream",
          "text": [
            "\n",
            "Distribution: Gaussian\n",
            "Skew: Positive\n",
            "Kurtosis: Leptocurtic\n",
            "Mean: 0.0915588611517717\n",
            "Std: 0.2884026877675264\n",
            "More Info: \n",
            "\t\t\"\"A informação foi selecionada como um indício se o CPF é funcionário público.\"\"\n",
            "\n"
          ],
          "name": "stdout"
        }
      ]
    },
    {
      "cell_type": "markdown",
      "metadata": {
        "id": "fDuUUoKM_vx8",
        "colab_type": "text"
      },
      "source": [
        "## Univariate - Variável 11"
      ]
    },
    {
      "cell_type": "code",
      "metadata": {
        "id": "d4ohAdYOx6i4",
        "colab_type": "code",
        "colab": {
          "base_uri": "https://localhost:8080/",
          "height": 497
        },
        "outputId": "3ec8f001-8b6f-4502-cde9-1a2cb1ec2a62"
      },
      "source": [
        "why = '\\n\\t\\t\"\"A informação foi selecionada como indicativo de segmentação.\"\"\\n'\n",
        "plot(df, 'countplot', \"SEGMENTACAO\", title=description('SEGMENTACAO'), y_axis_name=' ', x_axis_name=' ', info=('SEGMENTACAO', 0,0,1,why), show_info=True) "
      ],
      "execution_count": 253,
      "outputs": [
        {
          "output_type": "stream",
          "text": [
            "\n",
            "\n"
          ],
          "name": "stdout"
        },
        {
          "output_type": "display_data",
          "data": {
            "image/png": "[encoded data removed]",
            "text/plain": [
              "<Figure size 432x288 with 1 Axes>"
            ]
          },
          "metadata": {
            "tags": []
          }
        },
        {
          "output_type": "stream",
          "text": [
            "\n",
            "Distribution: Gaussian\n",
            "Skew: Positive\n",
            "Kurtosis: Mesokurtic\n",
            "Mean: 0.5758429929712123\n",
            "Std: 1.0010992661553337\n",
            "More Info: \n",
            "\t\t\"\"A informação foi selecionada como indicativo de segmentação.\"\"\n",
            "\n"
          ],
          "name": "stdout"
        }
      ]
    },
    {
      "cell_type": "markdown",
      "metadata": {
        "id": "bEWczaeUAGun",
        "colab_type": "text"
      },
      "source": [
        "## Univariate - Variável 12"
      ]
    },
    {
      "cell_type": "code",
      "metadata": {
        "id": "Uf8-yExdx6pG",
        "colab_type": "code",
        "colab": {
          "base_uri": "https://localhost:8080/",
          "height": 497
        },
        "outputId": "92344f8a-1e85-40ad-ad78-a4b0550d9d2f"
      },
      "source": [
        "why = '\\n\\t\\t\"\"A informação foi selecionada como indicativo de proximidade ao centro, pois pode indicar um maior custo de vida.\"\"\\n'\n",
        "plot(df, 'distplot', \"DISTCENTROCIDADE\", title=description('DISTCENTROCIDADE'), y_axis_name=' ', x_axis_name=' ', info=('DISTCENTROCIDADE', 0,0,1,why), show_info=True) "
      ],
      "execution_count": 256,
      "outputs": [
        {
          "output_type": "stream",
          "text": [
            "\n",
            "\n"
          ],
          "name": "stdout"
        },
        {
          "output_type": "display_data",
          "data": {
            "image/png": "[encoded data removed]",
            "text/plain": [
              "<Figure size 432x288 with 1 Axes>"
            ]
          },
          "metadata": {
            "tags": []
          }
        },
        {
          "output_type": "stream",
          "text": [
            "\n",
            "Distribution: Gaussian\n",
            "Skew: Positive\n",
            "Kurtosis: Mesokurtic\n",
            "Mean: 4037.8931249650354\n",
            "Std: 4813.157985541082\n",
            "More Info: \n",
            "\t\t\"\"A informação foi selecionada como indicativo de proximidade ao centro, pois pode indicar um maior custo de vida.\"\"\n",
            "\n"
          ],
          "name": "stdout"
        }
      ]
    },
    {
      "cell_type": "markdown",
      "metadata": {
        "id": "ImJ8DiPhAxpg",
        "colab_type": "text"
      },
      "source": [
        "## Univariate - Variável 13"
      ]
    },
    {
      "cell_type": "code",
      "metadata": {
        "id": "O1nEQUyBx6zg",
        "colab_type": "code",
        "colab": {
          "base_uri": "https://localhost:8080/",
          "height": 497
        },
        "outputId": "686736fd-e7c5-423d-ed1b-7d5684e7917e"
      },
      "source": [
        "why = '\\n\\t\\t\"\"A informação foi selecionada como indicativo de segmentação telefônica.\"\"\\n'\n",
        "plot(df, 'countplot', \"SEGMENTACAOTELECOM\", title=description('SEGMENTACAOTELECOM'), y_axis_name=' ', x_axis_name=' ', info=('SEGMENTACAOTELECOM', 0,0,2,why), show_info=True) "
      ],
      "execution_count": 260,
      "outputs": [
        {
          "output_type": "stream",
          "text": [
            "\n",
            "\n"
          ],
          "name": "stdout"
        },
        {
          "output_type": "display_data",
          "data": {
            "image/png": "[encoded data removed]",
            "text/plain": [
              "<Figure size 432x288 with 1 Axes>"
            ]
          },
          "metadata": {
            "tags": []
          }
        },
        {
          "output_type": "stream",
          "text": [
            "\n",
            "Distribution: Gaussian\n",
            "Skew: Positive\n",
            "Kurtosis: Leptocurtic\n",
            "Mean: 0.26120913610528673\n",
            "Std: 0.8971520067605976\n",
            "More Info: \n",
            "\t\t\"\"A informação foi selecionada como indicativo de segmentação telefônica.\"\"\n",
            "\n"
          ],
          "name": "stdout"
        }
      ]
    },
    {
      "cell_type": "markdown",
      "metadata": {
        "id": "tO8JpYt6BQbn",
        "colab_type": "text"
      },
      "source": [
        "## Univariate - Variável 14"
      ]
    },
    {
      "cell_type": "code",
      "metadata": {
        "id": "UPSoY0oVyV0n",
        "colab_type": "code",
        "colab": {
          "base_uri": "https://localhost:8080/",
          "height": 497
        },
        "outputId": "e8d284f1-0961-4bc4-cf20-5eb1c0b8389f"
      },
      "source": [
        "why = '\\n\\t\\t\"\"A informação foi selecionada como indicativo de segmentação de e-commerce.\"\"\\n'\n",
        "plot(df, 'countplot', \"SEGMENTACAOECOM\", title=description('SEGMENTACAOECOM'), y_axis_name=' ', x_axis_name=' ', info=('SEGMENTACAOECOM', 0,0,2,why), show_info=True) "
      ],
      "execution_count": 263,
      "outputs": [
        {
          "output_type": "stream",
          "text": [
            "\n",
            "\n"
          ],
          "name": "stdout"
        },
        {
          "output_type": "display_data",
          "data": {
            "image/png": "[encoded data removed]",
            "text/plain": [
              "<Figure size 432x288 with 1 Axes>"
            ]
          },
          "metadata": {
            "tags": []
          }
        },
        {
          "output_type": "stream",
          "text": [
            "\n",
            "Distribution: Gaussian\n",
            "Skew: Positive\n",
            "Kurtosis: Leptocurtic\n",
            "Mean: 0.21007899144149492\n",
            "Std: 0.4434333270602802\n",
            "More Info: \n",
            "\t\t\"\"A informação foi selecionada como indicativo de segmentação de e-commerce.\"\"\n",
            "\n"
          ],
          "name": "stdout"
        }
      ]
    },
    {
      "cell_type": "markdown",
      "metadata": {
        "id": "eVLXEfeZBlwc",
        "colab_type": "text"
      },
      "source": [
        "## Univariate - Variável 15"
      ]
    },
    {
      "cell_type": "code",
      "metadata": {
        "id": "43z7thomyiLz",
        "colab_type": "code",
        "colab": {
          "base_uri": "https://localhost:8080/",
          "height": 497
        },
        "outputId": "2f8b6a32-50f5-4be9-d5d8-de7448b5effc"
      },
      "source": [
        "why = '\\n\\t\\t\"\"A informação foi selecionada como indicativo de idade do household e a propensão de não ter um emprego.\"\"\\n'\n",
        "plot(df, 'distplot', \"MEDIAIDADECASA\", title=description('MEDIAIDADECASA'), y_axis_name=' ', x_axis_name=' ', info=('MEDIAIDADECASA', 0,0,2,why), show_info=True) "
      ],
      "execution_count": 267,
      "outputs": [
        {
          "output_type": "stream",
          "text": [
            "\n",
            "\n"
          ],
          "name": "stdout"
        },
        {
          "output_type": "display_data",
          "data": {
            "image/png": "[encoded data removed]",
            "text/plain": [
              "<Figure size 432x288 with 1 Axes>"
            ]
          },
          "metadata": {
            "tags": []
          }
        },
        {
          "output_type": "stream",
          "text": [
            "\n",
            "Distribution: Gaussian\n",
            "Skew: Positive\n",
            "Kurtosis: Leptocurtic\n",
            "Mean: 36.211859312766016\n",
            "Std: 10.921494420855883\n",
            "More Info: \n",
            "\t\t\"\"A informação foi selecionada como indicativo de idade do household e a propensão de não ter um emprego.\"\"\n",
            "\n"
          ],
          "name": "stdout"
        }
      ]
    },
    {
      "cell_type": "markdown",
      "metadata": {
        "id": "aWVxaVM6CFyH",
        "colab_type": "text"
      },
      "source": [
        "## Univariate - Variável 16"
      ]
    },
    {
      "cell_type": "code",
      "metadata": {
        "id": "hdBV5AGryV6U",
        "colab_type": "code",
        "colab": {
          "base_uri": "https://localhost:8080/",
          "height": 543
        },
        "outputId": "2570ae76-df1c-4fdc-d3f4-23bb266ccebc"
      },
      "source": [
        "why = '\\n\\t\\t\"\"A informação foi selecionada como um indício se o CPF household possuí segmentação de cobrança baixa.\"\"\\n'\n",
        "plot(df, 'pizza', 'COBRANCABAIXOCASA', is_subplot=True, subplot_index=(2,1,1), y_axis_name=' ', x_axis_name=' ') \n",
        "plot(df, 'countplot', 'COBRANCABAIXOCASA', title=description('COBRANCABAIXOCASA'), is_subplot=True, subplot_index=(2,1,2), final_subplot=True, info=('COBRANCABAIXOCASA', 0,0,2,why), show_info=True)"
      ],
      "execution_count": 269,
      "outputs": [
        {
          "output_type": "stream",
          "text": [
            "\n",
            "\n"
          ],
          "name": "stdout"
        },
        {
          "output_type": "display_data",
          "data": {
            "image/png": "[encoded data removed]",
            "text/plain": [
              "<Figure size 432x288 with 1 Axes>"
            ]
          },
          "metadata": {
            "tags": []
          }
        },
        {
          "output_type": "stream",
          "text": [
            "\n",
            "\n"
          ],
          "name": "stdout"
        },
        {
          "output_type": "display_data",
          "data": {
            "image/png": "[encoded data removed]",
            "text/plain": [
              "<Figure size 432x288 with 1 Axes>"
            ]
          },
          "metadata": {
            "tags": []
          }
        },
        {
          "output_type": "stream",
          "text": [
            "\n",
            "Distribution: Gaussian\n",
            "Skew: Positive\n",
            "Kurtosis: Leptocurtic\n",
            "Mean: 0.06038570157787009\n",
            "Std: 0.2382010886835263\n",
            "More Info: \n",
            "\t\t\"\"A informação foi selecionada como um indício se o CPF household possuí segmentação de cobrança baixa.\"\"\n",
            "\n"
          ],
          "name": "stdout"
        }
      ]
    },
    {
      "cell_type": "markdown",
      "metadata": {
        "id": "mHs6283iCxMh",
        "colab_type": "text"
      },
      "source": [
        "## Univariate - Variável 17"
      ]
    },
    {
      "cell_type": "code",
      "metadata": {
        "id": "Qc9smMB3yp-y",
        "colab_type": "code",
        "colab": {
          "base_uri": "https://localhost:8080/",
          "height": 497
        },
        "outputId": "3b76f25e-f3b1-4b82-f374-7a27cdb13105"
      },
      "source": [
        "why = '\\n\\t\\t\"\"A informação foi selecionada como indicativo de renda média por CEP.\"\"\\n'\n",
        "plot(df, 'distplot', \"MEDIARENDACEP\", title=description('MEDIARENDACEP'), y_axis_name=' ', x_axis_name=' ', info=('MEDIARENDACEP', 0,0,2,why), show_info=True) "
      ],
      "execution_count": 272,
      "outputs": [
        {
          "output_type": "stream",
          "text": [
            "\n",
            "\n"
          ],
          "name": "stdout"
        },
        {
          "output_type": "display_data",
          "data": {
            "image/png": "[encoded data removed]",
            "text/plain": [
              "<Figure size 432x288 with 1 Axes>"
            ]
          },
          "metadata": {
            "tags": []
          }
        },
        {
          "output_type": "stream",
          "text": [
            "\n",
            "Distribution: Gaussian\n",
            "Skew: Positive\n",
            "Kurtosis: Leptocurtic\n",
            "Mean: 2634.9950051969286\n",
            "Std: 1076.0975220267758\n",
            "More Info: \n",
            "\t\t\"\"A informação foi selecionada como indicativo de renda média por CEP.\"\"\n",
            "\n"
          ],
          "name": "stdout"
        }
      ]
    },
    {
      "cell_type": "markdown",
      "metadata": {
        "id": "bPcQneboDVlj",
        "colab_type": "text"
      },
      "source": [
        "## Univariate - Variável 18"
      ]
    },
    {
      "cell_type": "code",
      "metadata": {
        "id": "GQf1VkXtyqYy",
        "colab_type": "code",
        "colab": {
          "base_uri": "https://localhost:8080/",
          "height": 497
        },
        "outputId": "204bd394-2fe2-408c-f12c-bd9ae44dc502"
      },
      "source": [
        "why = '\\n\\t\\t\"\"A informação foi selecionada como indicativo de anos até última restitução.\"\"\\n'\n",
        "plot(df, 'distplot', \"ANOSULTIMARESTITUICAO\", title=description('ANOSULTIMARESTITUICAO'), y_axis_name=' ', x_axis_name=' ', info=('ANOSULTIMARESTITUICAO', 0,0,2,why), show_info=True) "
      ],
      "execution_count": 275,
      "outputs": [
        {
          "output_type": "stream",
          "text": [
            "\n",
            "\n"
          ],
          "name": "stdout"
        },
        {
          "output_type": "display_data",
          "data": {
            "image/png": "[encoded data removed]",
            "text/plain": [
              "<Figure size 432x288 with 1 Axes>"
            ]
          },
          "metadata": {
            "tags": []
          }
        },
        {
          "output_type": "stream",
          "text": [
            "\n",
            "Distribution: Gaussian\n",
            "Skew: Positive\n",
            "Kurtosis: Leptocurtic\n",
            "Mean: 2.8719666854934145\n",
            "Std: 3.2540142103996\n",
            "More Info: \n",
            "\t\t\"\"A informação foi selecionada como indicativo de anos até última restitução.\"\"\n",
            "\n"
          ],
          "name": "stdout"
        }
      ]
    },
    {
      "cell_type": "markdown",
      "metadata": {
        "id": "rVwP9b3DDrrp",
        "colab_type": "text"
      },
      "source": [
        "## Univariate - Variável 19"
      ]
    },
    {
      "cell_type": "code",
      "metadata": {
        "id": "xsmrjUo9yp6U",
        "colab_type": "code",
        "colab": {
          "base_uri": "https://localhost:8080/",
          "height": 543
        },
        "outputId": "3aab34a8-414a-433a-fc1d-c98f4817c6f9"
      },
      "source": [
        "why = '\\n\\t\\t\"\"A informação foi selecionada como um indício se uma casa possuí funcionário público.\"\"\\n'\n",
        "plot(df, 'pizza', 'FUNCIONARIOPUBLICOCASA', is_subplot=True, subplot_index=(2,1,1), y_axis_name=' ', x_axis_name=' ') \n",
        "plot(df, 'countplot', 'FUNCIONARIOPUBLICOCASA', title=description('FUNCIONARIOPUBLICOCASA'), is_subplot=True, subplot_index=(2,1,2), final_subplot=True, info=('FUNCIONARIOPUBLICOCASA', 0,0,2,why), show_info=True)"
      ],
      "execution_count": 278,
      "outputs": [
        {
          "output_type": "stream",
          "text": [
            "\n",
            "\n"
          ],
          "name": "stdout"
        },
        {
          "output_type": "display_data",
          "data": {
            "image/png": "[encoded data removed]",
            "text/plain": [
              "<Figure size 432x288 with 1 Axes>"
            ]
          },
          "metadata": {
            "tags": []
          }
        },
        {
          "output_type": "stream",
          "text": [
            "\n",
            "\n"
          ],
          "name": "stdout"
        },
        {
          "output_type": "display_data",
          "data": {
            "image/png": "[encoded data removed]",
            "text/plain": [
              "<Figure size 432x288 with 1 Axes>"
            ]
          },
          "metadata": {
            "tags": []
          }
        },
        {
          "output_type": "stream",
          "text": [
            "\n",
            "Distribution: Gaussian\n",
            "Skew: Positive\n",
            "Kurtosis: Leptocurtic\n",
            "Mean: 0.19743671678656868\n",
            "Std: 0.3980663614869503\n",
            "More Info: \n",
            "\t\t\"\"A informação foi selecionada como um indício se uma casa possuí funcionário público.\"\"\n",
            "\n"
          ],
          "name": "stdout"
        }
      ]
    },
    {
      "cell_type": "markdown",
      "metadata": {
        "id": "k_TU15YQEKnm",
        "colab_type": "text"
      },
      "source": [
        "## Univariate - Variável 20"
      ]
    },
    {
      "cell_type": "code",
      "metadata": {
        "id": "T3xCUtCGyWBK",
        "colab_type": "code",
        "colab": {
          "base_uri": "https://localhost:8080/",
          "height": 497
        },
        "outputId": "c4168d52-85b2-45bd-93e7-5d2bd1881bb3"
      },
      "source": [
        "why = '\\n\\t\\t\"\"A informação foi selecionada como indicativo de pessoas com o ensino fundamental incompleto.\"\"\\n'\n",
        "plot(df, 'distplot', \"PERCENTFUNDAMENTALCEP\", title=description('PERCENTFUNDAMENTALCEP'), y_axis_name=' ', x_axis_name=' ', info=('PERCENTFUNDAMENTALCEP', 0,0,2,why), show_info=True) "
      ],
      "execution_count": 280,
      "outputs": [
        {
          "output_type": "stream",
          "text": [
            "\n",
            "\n"
          ],
          "name": "stdout"
        },
        {
          "output_type": "display_data",
          "data": {
            "image/png": "[encoded data removed]",
            "text/plain": [
              "<Figure size 432x288 with 1 Axes>"
            ]
          },
          "metadata": {
            "tags": []
          }
        },
        {
          "output_type": "stream",
          "text": [
            "\n",
            "Distribution: Gaussian\n",
            "Skew: Positive\n",
            "Kurtosis: Leptocurtic\n",
            "Mean: 6.750432806991888\n",
            "Std: 4.0113788513812185\n",
            "More Info: \n",
            "\t\t\"\"A informação foi selecionada como indicativo de pessoas com o ensino fundamental incompleto.\"\"\n",
            "\n"
          ],
          "name": "stdout"
        }
      ]
    },
    {
      "cell_type": "code",
      "metadata": {
        "id": "bWMgk5DQTDpm",
        "colab_type": "code",
        "colab": {}
      },
      "source": [
        ""
      ],
      "execution_count": 187,
      "outputs": []
    },
    {
      "cell_type": "markdown",
      "metadata": {
        "colab_type": "text",
        "id": "cAVrOW1tgQU7"
      },
      "source": [
        "# Multivariate data analysis"
      ]
    },
    {
      "cell_type": "markdown",
      "metadata": {
        "colab_type": "text",
        "id": "jD7VaU40z_sN"
      },
      "source": [
        "In this section, you should plot at least 8 multivariate visualizations. The key here is to investigate underlying correlations and behaviors in the dataset.\n",
        "Naturally, as visualizations are being created, we should end up with obvious results, yet, you should find at least **TWO** non-obvious behavior in data.\n",
        "\n",
        "Please follow these steps for creating your visualizations:\n",
        "1. State an hypothesis. The key here is to explain why you are choosing those specific variables together and what you are expecting to find.\n",
        "2. Determine what kind of visualization is the most suited.\n",
        "3. Report the findings and whether they corroborate or not the aforestated hypothesis.\n",
        "\n",
        "\n",
        "### Hints\n",
        "\n",
        "In this section, make sure you go beyond naive explorations. For instance, try PCA, t-SNE, and even other techniques we have not worked with during the lectures. The key here is to start to develop a critical mindset towards data analysis and our own work.\n",
        "\n",
        "### Important\n",
        "\n",
        "It is strictly forbidden to create multivariate visualizations using variables that were not used in the previous section (univariate analysis)."
      ]
    },
    {
      "cell_type": "code",
      "metadata": {
        "colab_type": "code",
        "id": "fp4ct7TngWmF",
        "colab": {}
      },
      "source": [
        "# again, feel free to place as many cells to plot the visualizations, \n",
        "# as well as describe to the main findings"
      ],
      "execution_count": 188,
      "outputs": []
    },
    {
      "cell_type": "code",
      "metadata": {
        "id": "QW7RQ1Rnp-IU",
        "colab_type": "code",
        "colab": {}
      },
      "source": [
        "# Vif não impacta o resultado da regressão logística.\n",
        "# Mas, ao mesmo tempo remover va riávies com Vif alto, torna a equação mais simples.\n",
        "def calc_vif(df):  \n",
        "    df.fillna(df.mean(), inplace=True) # Imputação:  Substituir os valores faltantes pela média de cada coluna.\n",
        "    vif = pd.DataFrame()\n",
        "    vif['Variaveis'], vif['vif'] = df.columns, [variance_inflation_factor(df.values, i) for i in range(df.shape[1])]\n",
        "    return vif"
      ],
      "execution_count": 189,
      "outputs": []
    },
    {
      "cell_type": "markdown",
      "metadata": {
        "colab_type": "text",
        "id": "ehWz8rAcgZ0c"
      },
      "source": [
        "# Final Plots"
      ]
    },
    {
      "cell_type": "markdown",
      "metadata": {
        "colab_type": "text",
        "id": "OHyF3RvU2q9r"
      },
      "source": [
        "In this section, you need to enhance 3 multivariate visualizations that were presented in the previous section of the report.\n",
        "The key here is to enhance these visualizations with the goal of presenting them for an audience that is not familiar with the dataset used or with data analysis.\n",
        "**Therefore, make sure that its size, colors, textures, etc, are appropriate are convey the right information to the audience.**\n",
        "\n",
        "For your final plots, make sure you follow these steps:\n",
        "1. Present the plot\n",
        "2. Provide a description of the visualization, including the main findings that we can extract from it\n",
        "\n",
        "\n",
        "**Hint: take a look at the checklist also made available based on the work of Evergreen.**"
      ]
    },
    {
      "cell_type": "code",
      "metadata": {
        "colab_type": "code",
        "id": "K90_0h6JgfnW",
        "colab": {}
      },
      "source": [
        "# your code goes here"
      ],
      "execution_count": 190,
      "outputs": []
    },
    {
      "cell_type": "markdown",
      "metadata": {
        "colab_type": "text",
        "id": "Ua7B5nTmgbN7"
      },
      "source": [
        "# Digest"
      ]
    },
    {
      "cell_type": "markdown",
      "metadata": {
        "colab_type": "text",
        "id": "YJ0cqdoj4Lg7"
      },
      "source": [
        "In this section you should write down all the main findings of this exploratory data analysis. Furthermore, you should provide a reflection about your own work and effort during the module, highlighting what you believe you have done well and what you should have done differently. This digest should have at least 2500 characters (no spaces)."
      ]
    },
    {
      "cell_type": "markdown",
      "metadata": {
        "colab_type": "text",
        "id": "NQWFN0TEPUzp"
      },
      "source": [
        "```\n",
        "Add your text here.\n",
        "```"
      ]
    },
    {
      "cell_type": "markdown",
      "metadata": {
        "id": "8fLxDWdYSDl1",
        "colab_type": "text"
      },
      "source": [
        "# Machine Learning\n",
        "\n",
        "In this section, you should test different machine learning approaches to **build** and **evaluate** your model.\n",
        "\n",
        "**IMPORTANT: DO NOT FORGET TO REPORT YOUR PREDICTIONS FOR THE TEST DATA. YOU SHOULD BUILD AND EXPORT A FILE ACCORDING TO THE PROJECT DESCRIPTION WITH THE DEFAULTING PROBABILITIES!**"
      ]
    },
    {
      "cell_type": "code",
      "metadata": {
        "id": "bAHhYjFhSDl2",
        "colab_type": "code",
        "colab": {}
      },
      "source": [
        "# use as many cells as you wish."
      ],
      "execution_count": 191,
      "outputs": []
    },
    {
      "cell_type": "code",
      "metadata": {
        "id": "HmLvZmqOSDl6",
        "colab_type": "code",
        "colab": {}
      },
      "source": [
        "# but the sure that all cells are commented adequately!"
      ],
      "execution_count": 192,
      "outputs": []
    },
    {
      "cell_type": "markdown",
      "metadata": {
        "colab_type": "text",
        "id": "nXeToQbygdNh"
      },
      "source": [
        "# Future work"
      ]
    },
    {
      "cell_type": "markdown",
      "metadata": {
        "colab_type": "text",
        "id": "jDmGwnkqghPx"
      },
      "source": [
        "In this cell, please provide at least 3 different ideas that you would like to pursuit within this dataset. That may include, for example, the use of machine learning techniques towards a goal, or analyzing variables that you had no time to during this work. \n",
        "Please provide **details** on how you would tackle this problem and provide specifics on which techniques should be used for such purposes.\n",
        "This section should contain, at least, 2500 characters (no spaces)."
      ]
    },
    {
      "cell_type": "markdown",
      "metadata": {
        "colab_type": "text",
        "id": "dTHOs8-MPbWD"
      },
      "source": [
        "```\n",
        "Add your text here.\n",
        "```\n"
      ]
    },
    {
      "cell_type": "markdown",
      "metadata": {
        "colab_type": "text",
        "id": "_CaFQEil1F6Q"
      },
      "source": [
        "# Final Steps\n"
      ]
    },
    {
      "cell_type": "markdown",
      "metadata": {
        "colab_type": "text",
        "id": "a2R5Kily1H7f"
      },
      "source": [
        "1. Save this report as a jupyter notebook (`.ipynb`)\n",
        "2. Save a copy of this report as a PDF file (`.pdf`)\n",
        "3. Copy the dataset\n",
        "4. Zip it all together within a single file (`<your_name>.zip`)\n",
        "5. Send it over using Blackboard."
      ]
    },
    {
      "cell_type": "code",
      "metadata": {
        "id": "hao78HlnSDl-",
        "colab_type": "code",
        "colab": {}
      },
      "source": [
        ""
      ],
      "execution_count": 192,
      "outputs": []
    }
  ]
}