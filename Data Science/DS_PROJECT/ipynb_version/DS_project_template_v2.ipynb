{
  "nbformat": 4,
  "nbformat_minor": 0,
  "metadata": {
    "accelerator": "GPU",
    "colab": {
      "name": "DS_project_template.ipynb",
      "provenance": [],
      "collapsed_sections": [
        "WwufnHfvfSwv"
      ]
    },
    "kernelspec": {
      "display_name": "Python 3",
      "language": "python",
      "name": "python3"
    },
    "language_info": {
      "codemirror_mode": {
        "name": "ipython",
        "version": 3
      },
      "file_extension": ".py",
      "mimetype": "text/x-python",
      "name": "python",
      "nbconvert_exporter": "python",
      "pygments_lexer": "ipython3",
      "version": "3.7.6"
    }
  },
  "cells": [
    {
      "cell_type": "markdown",
      "metadata": {
        "colab_type": "text",
        "id": "WwufnHfvfSwv"
      },
      "source": [
        "# Final Report - Data Science \n",
        "## Bachelor in Computer Science / PUCPR\n",
        "\n",
        "Professor Jean Paul Barddal\n",
        "\n",
        "`Bruno Thuma` - `bruno.thuma@hotmail.com`\n",
        "\n",
        "`Gustavo Hammerschmidt` - `gustavocrazy@yahoo.com`\n",
        "\n",
        "`Leonardo Cleyton` - `leo_cleyton@hotmail.com`\n",
        "\n",
        "`Lucas Lourenço Dall Agnol` - `lucas_ppl@live.com`\n",
        "\n",
        "`Victor Marcel Vieira` - `e255270@outlook.com`\n",
        "\n",
        "`2020`"
      ]
    },
    {
      "cell_type": "markdown",
      "metadata": {
        "colab_type": "text",
        "id": "68-F6cD9VL-J"
      },
      "source": [
        "# Import the libs you need"
      ]
    },
    {
      "cell_type": "code",
      "metadata": {
        "colab_type": "code",
        "id": "itrIGnaaVQnH",
        "colab": {
          "base_uri": "https://localhost:8080/",
          "height": 70
        },
        "outputId": "9450d41b-64ed-450f-8241-09615ce5fccc"
      },
      "source": [
        "# Standard libraries:\n",
        "import numpy as np\n",
        "import pandas as pd\n",
        "import matplotlib.pyplot as plt\n",
        "import seaborn as sns\n",
        "from scipy import stats # Statistics measurements.\n",
        "from statsmodels.stats.outliers_influence import variance_inflation_factor # Statistics measurements.\n",
        "\n",
        "#########################################################\n",
        "#########################################################\n",
        "\n",
        "# Drive Authentication libraries used to connect to the database:\n",
        "!pip install -U -q PyDrive\n",
        "from pydrive.auth import GoogleAuth\n",
        "from pydrive.drive import GoogleDrive\n",
        "from google.colab import auth\n",
        "from oauth2client.client import GoogleCredentials"
      ],
      "execution_count": 1,
      "outputs": [
        {
          "output_type": "stream",
          "text": [
            "/usr/local/lib/python3.6/dist-packages/statsmodels/tools/_testing.py:19: FutureWarning: pandas.util.testing is deprecated. Use the functions in the public API at pandas.testing instead.\n",
            "  import pandas.util.testing as tm\n"
          ],
          "name": "stderr"
        }
      ]
    },
    {
      "cell_type": "markdown",
      "metadata": {
        "colab_type": "text",
        "id": "kTP1pmiPgDY_"
      },
      "source": [
        "# Loading your data"
      ]
    },
    {
      "cell_type": "markdown",
      "metadata": {
        "colab_type": "text",
        "id": "DIRXQ53th3am"
      },
      "source": [
        "Below, load the data using pandas and make all the necessary data cleansing so that all data types are correct for posterior analysis."
      ]
    },
    {
      "cell_type": "code",
      "metadata": {
        "colab_type": "code",
        "id": "-VCzmIHcgA2P",
        "colab": {}
      },
      "source": [
        "# LOAD YOUR DATA HERE:\n",
        "\n",
        "#########################################################\n",
        "#########################################################\n",
        "\n",
        "# Authenticate and create the PyDrive client.\n",
        "auth.authenticate_user()\n",
        "gauth = GoogleAuth()\n",
        "gauth.credentials = GoogleCredentials.get_application_default()\n",
        "drive = GoogleDrive(gauth)\n",
        "\n",
        "#########################################################\n",
        "#########################################################\n",
        "\n",
        "# LINKS TO THE DATABASE TRAINING, TESTING AND DESCRIPTION FILES:\n",
        "CSV_TRAIN_FILE_LINK = \"https://drive.google.com/file/d/1yyev_-wV1KCuflo71nsPXkrAQCPj2teB/view?usp=sharing\"\n",
        "id_train_set = CSV_TRAIN_FILE_LINK.split('/')[-2]\n",
        "\n",
        "CSV_TEST_FILE_LINK = \"https://drive.google.com/file/d/1TWbp7bYhU5BwjReZEIHt018BBeG043cC/view?usp=sharing\"\n",
        "id_test_set = CSV_TEST_FILE_LINK.split(\"/\")[-2]\n",
        "\n",
        "DESCRIPTION_FILE_LINK = \"https://drive.google.com/file/d/1qblVwABXSrtSolBMAUkCucZ0i5UKyvak/view?usp=sharing\"\n",
        "id_description = DESCRIPTION_FILE_LINK.split(\"/\")[-2]\n",
        "\n",
        "#########################################################\n",
        "#########################################################\n",
        "\n",
        "# DOWNLOADING THE TRAIN FILE ON MEMORY AND OPENING IT WITH PANDAS:\n",
        "downloaded = drive.CreateFile({'id':id_train_set})\n",
        "downloaded.GetContentFile('train_file.csv')  \n",
        "\n",
        "df = pd.read_csv('train_file.csv', na_values=-9999.0, sep=',', error_bad_lines=False)\n",
        "df[\"SAFRA\"] = \"TRAIN\"\n",
        "\n",
        "#########################################################\n",
        "#########################################################\n",
        "\n",
        "# DOWNLOADING THE TEST FILE ON MEMORY AND OPENING IT WITH PANDAS:\n",
        "downloaded_t = drive.CreateFile({'id':id_test_set})\n",
        "downloaded_t.GetContentFile('test_file.csv')  \n",
        "\n",
        "df_test = pd.read_csv('test_file.csv', na_values=-9999.0, sep=',', error_bad_lines=False)\n",
        "df_test[\"SAFRA\"] = \"TEST\"\n",
        "\n",
        "#########################################################\n",
        "#########################################################\n",
        "\n",
        "# DOWNLOADING THE DESCRIPTION FILE ON MEMORY AND OPENING IT WITH PANDAS:\n",
        "downloaded = drive.CreateFile({'id':id_description})\n",
        "downloaded.GetContentFile('description_file.xlsx') \n",
        "\n",
        "df_description = pd.DataFrame(pd.read_excel(\"description_file.xlsx\")) \n",
        "\n",
        "#########################################################\n",
        "#########################################################"
      ],
      "execution_count": 2,
      "outputs": []
    },
    {
      "cell_type": "code",
      "metadata": {
        "id": "HYnis2AvfnFr",
        "colab_type": "code",
        "colab": {}
      },
      "source": [
        "# CLEAN AND TREAT THE DATA HERE:"
      ],
      "execution_count": 3,
      "outputs": []
    },
    {
      "cell_type": "code",
      "metadata": {
        "id": "WjdrQmwpfrHT",
        "colab_type": "code",
        "colab": {}
      },
      "source": [
        "# SETTING ASSESSMENT FUNCTIONS TO CHECK THE DATABASE STATUS THROUGHOUT EXECUTION ON THE FLY:\n",
        "\n",
        "#########################################################\n",
        "#########################################################\n",
        "\n",
        "# GRAB THE COLUMNS' NAME:\n",
        "col_names = lambda x: \"\\n\".join([\"Coluna \"+str(i)+\": \"+str(x.columns[i]) for i in range(0, len(x.columns))])\n",
        "\n",
        "#########################################################\n",
        "#########################################################\n",
        "\n",
        "# NUMBER OF LINES IN DATAFRAME:\n",
        "n_lines = lambda x: x.shape[0]\n",
        "\n",
        "# NUMBER OF COLUMNS IN DATAFRAME:\n",
        "n_columns = lambda x: x.shape[1]\n",
        "\n",
        "#########################################################\n",
        "#########################################################\n",
        "\n",
        "# REMOVE COLUMNS FROM DATAFRAME:\n",
        "remove_columns = lambda x, columns: x.drop(labels=columns, axis=1, inplace=True)\n",
        "\n",
        "def remove_from_dataframe(df, columns):\n",
        "    for i in [col_names(df).find(x) for x in columns]:\n",
        "        if i == -1:\n",
        "            return \"Columns weren't found!\" \n",
        "    remove_columns(df, columns)\n",
        "    return \"Columns removed!\"\n",
        "\n",
        "#########################################################\n",
        "#########################################################\n",
        "\n",
        "# SPECIFICATIONS ON COLUMNS WITH NON MULTIVALUES:\n",
        "def specifications(df, multivalue=False):\n",
        "    names, values_of_name = [x for x in df.columns], [df[x].unique() for x in df.columns]\n",
        "    n_values = [ (str(x) if len(x) < 15 else 'multivalue') for x in values_of_name] \n",
        "    ret, ret2 = [ (\"Name: \"+names[x]+\", values = \"+n_values[x] if n_values[x]!='multivalue' else \"\") for x in range(0, len(names))], [ (\"Name: \"+names[x]+\", values = \"+n_values[x]) for x in range(0, len(names))]\n",
        "    return (\"\\n\".join(filter(lambda x : x != \"\", ret)) if not multivalue else \"\\n\".join(ret2))\n",
        "\n",
        "#########################################################\n",
        "#########################################################\n",
        "\n",
        "# Number of missing values by column:\n",
        "missing_values = lambda x: pd.DataFrame(np.array([x[i].isna().sum() for i in df.columns]),index=df.columns).T\n",
        "\n",
        "#########################################################\n",
        "#########################################################\n",
        "\n",
        "#Column name description:\n",
        "description = lambda name: df_description[df_description[\"FINALNOME\"] == str(name)].T.iloc[1, 0]\n",
        "\n",
        "#########################################################\n",
        "#########################################################\n"
      ],
      "execution_count": 4,
      "outputs": []
    },
    {
      "cell_type": "code",
      "metadata": {
        "colab_type": "code",
        "id": "Zpe46g9NiAy5",
        "colab": {}
      },
      "source": [
        "# REMOÇÃO DE COLUNAS:\n",
        "remove_from_dataframe(df, {\"ORIENTACAO_SEXUAL\", \"RELIGIAO\"})\n",
        "remove_from_dataframe(df_description, {'Unnamed: 2'})\n",
        "\n",
        "# Remoção de valores descritivos iguais a na:\n",
        "df_description = df_description[df_description['DESCRIÇÃO'].notna()]"
      ],
      "execution_count": 5,
      "outputs": []
    },
    {
      "cell_type": "code",
      "metadata": {
        "colab_type": "code",
        "id": "Y7WshR3nmZkL",
        "colab": {}
      },
      "source": [
        "# use as many code and text cells you wish"
      ],
      "execution_count": 6,
      "outputs": []
    },
    {
      "cell_type": "markdown",
      "metadata": {
        "colab_type": "text",
        "id": "xX9sOXW1gOCU"
      },
      "source": [
        "# Univariate data analysis"
      ]
    },
    {
      "cell_type": "markdown",
      "metadata": {
        "colab_type": "text",
        "id": "EQljrblLzQQz"
      },
      "source": [
        "In this section, you should perform univariate data analysis on at least 20 variables. \n",
        "\n",
        "In the end, you should describe the main variables that are of your interest, and these should be accounted for in the next sections of the report.\n",
        "The definition of each variable chosen should be clarified, so arbitrary selections are **not** accepted at this point.\n",
        "\n",
        "For each variable plotted, make sure you determine the following:\n",
        "1. The distribution of the data (gaussian, binomial, exponential, etc)\n",
        "2. Skew\n",
        "3. Kurtosis\n",
        "4. Mean, standard deviation, and what they stand for in the context of the dataset\n",
        "\n",
        "Regardless of the type of the variable being analyzed, make sure you plot it correctly. For instance, make sure scatterplots are not used for categorical data and so forth."
      ]
    },
    {
      "cell_type": "code",
      "metadata": {
        "colab_type": "code",
        "id": "BWS2-FMfgWJR",
        "colab": {}
      },
      "source": [
        "# place as many cells to plot the visualizations, \n",
        "# as well as to describe the main findings"
      ],
      "execution_count": 7,
      "outputs": []
    },
    {
      "cell_type": "code",
      "metadata": {
        "id": "OBdFCBzdvD7d",
        "colab_type": "code",
        "colab": {}
      },
      "source": [
        "# SETTING ASSESSMENT FUNCTIONS TO CHECK THE DATABASE THROUGHOUT EXECUTION ON THE FLY:\n",
        "\n",
        "#########################################################\n",
        "#########################################################\n",
        "\n",
        "# GET REPARTITION OF DATAFRAME BY DIVISION AS MENCIONED ON DICTIONARY.XLSX:\n",
        "# WARNING: 'SAFRA' COLUMN WAS NOT FOUND IN DATAFRAME, THEREFORE, WAS REMOVED. \n",
        "#    -> USE THE FOLLOWING CODE TO CHECK THE INEXISTANCE:  print(col_names(df).find(\"SAFRA\"))\n",
        "#    -> OUR TEAM HAS CHECKED THE DICTIONARY FOR EXPLANANTION: APPARENTLY, SAFRA REFERS TO THE SAMPLE SET IT WAS OBTAINED:\n",
        "#    -> IN THIS CASE, MEANING THAT THE SET IS EITHER 'TRAIN' OR 'TEST'.\n",
        "def splitted_df_block(df, block_index):\n",
        "    names = dict()\n",
        "    names[\"basicas\"], names[\"renda\"], names[\"empresarial\"], names[\"familiar\"], names[\"regional\"] = 0,1,2,3,4\n",
        "    indexes = [[\"HS_CPF\",\"SAFRA\",\"TEMPOCPF\", \"DISTCENTROCIDADE\", \"DISTZONARISCO\",\"QTDENDERECO\", \"QTDEMAIL\", \"QTDCELULAR\",\n",
        "                \"CELULARPROCON\", \"QTDFONEFIXO\", \"TELFIXOPROCON\", \"TARGET\"],  # Colunas básicas;\n",
        "                [\"ESTIMATIVARENDA\",\"QTDDECLARACAOISENTA\",\"QTDDECLARACAO10\",\"QTDDECLARACAOREST10\",\"QTDDECLARACAOPAGAR10\",\n",
        "                  \"RESTITUICAOAGENCIAALTARENDA\",\"BOLSAFAMILIA\",\"ANOSULTIMARESTITUICAO\",\"ANOSULTIMADECLARACAO\",\"ANOSULTIMADECLARACAOPAGAR\"], # Renda;\n",
        "                [\"INDICEEMPREGO\", \"PORTEEMPREGADOR\", \"SOCIOEMPRESA\", \"FUNCIONARIOPUBLICO\", \"SEGMENTACAO\",\n",
        "                  \"SEGMENTACAOCOBRANCA\", \"SEGMENTACAOECOM\", \"SEGMENTACAOFIN\", \"SEGMENTACAOTELECOM\"], # Empresarial;\n",
        "                [\"QTDPESSOASCASA\",\"MENORRENDACASA\",\"MAIORRENDACASA\",\"SOMARENDACASA\",\"MEDIARENDACASA\",\"MAIORIDADECASA\",\n",
        "                  \"MENORIDADECASA\",\"MEDIAIDADECASA\",\"INDICMENORDEIDADE\",\"COBRANCABAIXOCASA\",\"COBRANCAMEDIOCASA\",\"COBRANCAALTACASA\",\n",
        "                  \"SEGMENTACAOFINBAIXACASA\",\"SEGMENTACAOFINMEDIACASA\",\"SEGMENTACAOALTACASA\",\"BOLSAFAMILIACASA\",\"FUNCIONARIOPUBLICOCASA\"], #Familiar;\n",
        "                [\n",
        "                  \"IDADEMEDIACEP\",\"PERCENTMASCCEP\",\"PERCENTFEMCEP\",\"PERCENTANALFABETOCEP\",\"PERCENTPRIMARIOCEP\",\"PERCENTFUNDAMENTALCEP\",\"PERCENTMEDIOCEP\",\n",
        "                  \"PERCENTSUPERIORCEP\",\"PERCENTMESTRADOCEP\",\"PERCENTDOUTORADOCEP\",\"PERCENTBOLSAFAMILIACEP\",\"PERCENTFUNCIONARIOPUBLICOCEP\",\"MEDIARENDACEP\",\"PIBMUNICIPIO\",\n",
        "                  \"QTDUTILITARIOMUNICIPIO\",\"QTDAUTOMOVELMUNICIPIO\",\"QTDCAMINHAOMUNICIPIO\",\"QTDCAMINHONETEMUNICIPIO\",\"QTDMOTOMUNICIPIO\",\"PERCENTPOPZONAURBANA\",\"IDHMUNICIPIO\" ] # Regional.\n",
        "    ]\n",
        "    return df[indexes[block_index]] if not isinstance(block_index, str) else df[indexes[names[block_index.lower()]]]\n",
        "\n",
        "#########################################################\n",
        "#########################################################\n",
        "\n",
        "# PLOT ANALYSIS FUNCTIONS:\n",
        "standard_plot_functions = [\n",
        "                           \n",
        "      ['distplot', lambda df, var, ignore: sns.distplot(df[var].dropna())],\n",
        "      ['countplot', lambda df, var, ignore: sns.countplot(df[var].dropna())],\n",
        "      ['boxplot', lambda df, var, var2: sns.boxplot(df[var].dropna()) if var2 == None else sns.boxplot(x=df[var].dropna(), y=df[var2].dropna())],\n",
        "      ['violinplot', lambda df, var, var2: sns.violinplot(df[var].dropna()) if var2 == None else sns.violinplot(x=df[var].dropna(), y=df[var2].dropna())],\n",
        "      ['hist', lambda df, var, ignore: df[var].hist()],\n",
        "      ['pizza', lambda df, var, ignore: df[var].dropna().value_counts().plot(kind='pie')],\n",
        "      ['distplot_kne', lambda df, var, ignore: sns.distplot(df[var].dropna(), kde=False, bins=10)],\n",
        "      ['describe', lambda df, ignore, ignore2: df.describe()], \n",
        "      ['corr', lambda df, ignore, ignore2: df.corr()], \n",
        "      ['head', lambda df, var, limit: df[var].head(limit)],\n",
        "      ['jointplot', lambda df, var, var2: sns.jointplot(df[var], df[var2], kind='kde')],\n",
        "      ['scatterplot', lambda df, var, var2: sns.scatterplot(df[var], df[var2])],\n",
        "      ['swarmplot',  lambda df, var, var2: sns.swarmplot(df[var], df[var2])]\n",
        "\n",
        "]\n",
        "\n",
        "#########################################################\n",
        "#########################################################\n",
        "\n",
        "# PLOT ANALYSIS FUNCTIONS:\n",
        "additional_plot_functions = [\n",
        "                             \n",
        "    ['scatterplot_op', lambda df, var, var2, s_, alpha_: sns.scatterplot(df[var], df[var2], s=s_, alpha=alpha_)],\n",
        "    ['stripplot', lambda df, var, var2, jitter_, size_: sns.stripplot(df[var], df[var2], jitter=jitter_, size=size_)],\n",
        "    ['kdeplot', lambda df, var, var2, shade_, ignore: sns.kdeplot(df[var], df[var2], shade=shade_)]\n",
        "    \n",
        "]\n",
        "\n",
        "#########################################################\n",
        "#########################################################\n",
        "\n",
        "# PLOT ANALYSIS FUNCTION:\n",
        "# Easy caller to plot in one line:\n",
        "def plot(df, type_, var1=None, var2=None, options=[]):\n",
        "    \n",
        "    global standard_plot_functions, additional_plot_functions\n",
        "    \n",
        "    types = dict()\n",
        "    for match in standard_plot_functions:\n",
        "        types[match[0]] = match[1]\n",
        "    \n",
        "    for match in additional_plot_functions:\n",
        "        types[match[0]] = match[1]\n",
        "\n",
        "    call_names = [i[0] for i in standard_plot_functions]\n",
        "    call_names.append(additional_plot_functions)\n",
        "\n",
        "    if type_ in ['scatterplot_op', 'stripplot', 'kdeplot']:\n",
        "        types[type_](df, var, var2, option[0], None) if type_ == 'kdeplot' else types[type_](df, var, var2, options[0], options[1])\n",
        "\n",
        "    elif type_ in ['describe', 'corr']:\n",
        "        return types[type_](df, None, None)\n",
        "\n",
        "    elif type_ in [i[0] for i in standard_plot_functions]:\n",
        "        types[type_](df, var1, var2)\n",
        "\n",
        "    elif type_ not in call_names:\n",
        "        return 'Type not found!'\n",
        "    plt.show()\n",
        "\n",
        "#########################################################\n",
        "#########################################################\n"
      ],
      "execution_count": 8,
      "outputs": []
    },
    {
      "cell_type": "code",
      "metadata": {
        "colab_type": "code",
        "id": "zACQ5EROmhM5",
        "colab": {}
      },
      "source": [
        "# if you realize you need to further clean your data here, there is no problem, \n",
        "# yet, make sure you are describing the entire process and the rationale \n",
        "# behind your choices here\n",
        "\n",
        "# REPARTIONING OF THE DAFRAME BY BLOCKS RELATED TO DICTIONARY:\n",
        "df_basicas, df_renda = splitted_df_block(df, \"basicas\"), splitted_df_block(df, \"renda\")\n",
        "df_empresarial, df_familiar = splitted_df_block(df, \"empresarial\"), splitted_df_block(df, \"familiar\")\n",
        "df_regional = splitted_df_block(df, \"regional\")"
      ],
      "execution_count": 10,
      "outputs": []
    },
    {
      "cell_type": "code",
      "metadata": {
        "id": "4Xk7GWUi5TJI",
        "colab_type": "code",
        "colab": {
          "base_uri": "https://localhost:8080/",
          "height": 541
        },
        "outputId": "1eec87d9-e30a-4cd9-f7ca-2195205a6b79"
      },
      "source": [
        "#plot(df_renda, 'violinplot', 'BOLSAFAMILIA')\n",
        "#plot(df_renda, 'violinplot','BOLSAFAMILIA','RESTITUICAOAGENCIAALTARENDA')"
      ],
      "execution_count": 40,
      "outputs": [
        {
          "output_type": "display_data",
          "data": {
            "image/png": "[encoded data removed]",
            "text/plain": [
              "<Figure size 432x288 with 1 Axes>"
            ]
          },
          "metadata": {
            "tags": [],
            "needs_background": "light"
          }
        },
        {
          "output_type": "display_data",
          "data": {
            "image/png": "[encoded data removed]",
            "text/plain": [
              "<Figure size 432x288 with 1 Axes>"
            ]
          },
          "metadata": {
            "tags": [],
            "needs_background": "light"
          }
        }
      ]
    },
    {
      "cell_type": "code",
      "metadata": {
        "id": "7gZe05JnGE0p",
        "colab_type": "code",
        "colab": {
          "base_uri": "https://localhost:8080/",
          "height": 251
        },
        "outputId": "d9fced0d-ccc9-4c41-b455-82e771dd7eba"
      },
      "source": [
        "print(specifications(df_renda),'\\n\\n\\n',specifications(df_renda, True))\n"
      ],
      "execution_count": 45,
      "outputs": [
        {
          "output_type": "stream",
          "text": [
            "Name: RESTITUICAOAGENCIAALTARENDA, values = [ 0.  1. nan]\n",
            "Name: BOLSAFAMILIA, values = [ 0.  1. nan] \n",
            "\n",
            "\n",
            " Name: ESTIMATIVARENDA, values = multivalue\n",
            "Name: QTDDECLARACAOISENTA, values = multivalue\n",
            "Name: QTDDECLARACAO10, values = multivalue\n",
            "Name: QTDDECLARACAOREST10, values = multivalue\n",
            "Name: QTDDECLARACAOPAGAR10, values = multivalue\n",
            "Name: RESTITUICAOAGENCIAALTARENDA, values = [ 0.  1. nan]\n",
            "Name: BOLSAFAMILIA, values = [ 0.  1. nan]\n",
            "Name: ANOSULTIMARESTITUICAO, values = multivalue\n",
            "Name: ANOSULTIMADECLARACAO, values = multivalue\n",
            "Name: ANOSULTIMADECLARACAOPAGAR, values = multivalue\n"
          ],
          "name": "stdout"
        }
      ]
    },
    {
      "cell_type": "code",
      "metadata": {
        "id": "o4N45DckGE4-",
        "colab_type": "code",
        "colab": {}
      },
      "source": [
        ""
      ],
      "execution_count": null,
      "outputs": []
    },
    {
      "cell_type": "code",
      "metadata": {
        "id": "FlhTaHwCGE3j",
        "colab_type": "code",
        "colab": {}
      },
      "source": [
        ""
      ],
      "execution_count": null,
      "outputs": []
    },
    {
      "cell_type": "code",
      "metadata": {
        "id": "ASE0I1MpGEyb",
        "colab_type": "code",
        "colab": {}
      },
      "source": [
        ""
      ],
      "execution_count": null,
      "outputs": []
    },
    {
      "cell_type": "markdown",
      "metadata": {
        "colab_type": "text",
        "id": "cAVrOW1tgQU7"
      },
      "source": [
        "# Multivariate data analysis"
      ]
    },
    {
      "cell_type": "markdown",
      "metadata": {
        "colab_type": "text",
        "id": "jD7VaU40z_sN"
      },
      "source": [
        "In this section, you should plot at least 8 multivariate visualizations. The key here is to investigate underlying correlations and behaviors in the dataset.\n",
        "Naturally, as visualizations are being created, we should end up with obvious results, yet, you should find at least **TWO** non-obvious behavior in data.\n",
        "\n",
        "Please follow these steps for creating your visualizations:\n",
        "1. State an hypothesis. The key here is to explain why you are choosing those specific variables together and what you are expecting to find.\n",
        "2. Determine what kind of visualization is the most suited.\n",
        "3. Report the findings and whether they corroborate or not the aforestated hypothesis.\n",
        "\n",
        "\n",
        "### Hints\n",
        "\n",
        "In this section, make sure you go beyond naive explorations. For instance, try PCA, t-SNE, and even other techniques we have not worked with during the lectures. The key here is to start to develop a critical mindset towards data analysis and our own work.\n",
        "\n",
        "### Important\n",
        "\n",
        "It is strictly forbidden to create multivariate visualizations using variables that were not used in the previous section (univariate analysis)."
      ]
    },
    {
      "cell_type": "code",
      "metadata": {
        "colab_type": "code",
        "id": "fp4ct7TngWmF",
        "colab": {}
      },
      "source": [
        "# again, feel free to place as many cells to plot the visualizations, \n",
        "# as well as describe to the main findings"
      ],
      "execution_count": 46,
      "outputs": []
    },
    {
      "cell_type": "code",
      "metadata": {
        "id": "QW7RQ1Rnp-IU",
        "colab_type": "code",
        "colab": {}
      },
      "source": [
        "# Vif não impacta o resultado da regressão logística.\n",
        "# Mas, ao mesmo tempo remover va riávies com Vif alto, torna a equação mais simples.\n",
        "def calc_vif(df):  \n",
        "    df.fillna(df.mean(), inplace=True) # Imputação:  Substituir os valores faltantes pela média de cada coluna.\n",
        "    vif = pd.DataFrame()\n",
        "    vif['Variaveis'], vif['vif'] = df.columns, [variance_inflation_factor(df.values, i) for i in range(df.shape[1])]\n",
        "    return vif"
      ],
      "execution_count": 47,
      "outputs": []
    },
    {
      "cell_type": "markdown",
      "metadata": {
        "colab_type": "text",
        "id": "ehWz8rAcgZ0c"
      },
      "source": [
        "# Final Plots"
      ]
    },
    {
      "cell_type": "markdown",
      "metadata": {
        "colab_type": "text",
        "id": "OHyF3RvU2q9r"
      },
      "source": [
        "In this section, you need to enhance 3 multivariate visualizations that were presented in the previous section of the report.\n",
        "The key here is to enhance these visualizations with the goal of presenting them for an audience that is not familiar with the dataset used or with data analysis.\n",
        "**Therefore, make sure that its size, colors, textures, etc, are appropriate are convey the right information to the audience.**\n",
        "\n",
        "For your final plots, make sure you follow these steps:\n",
        "1. Present the plot\n",
        "2. Provide a description of the visualization, including the main findings that we can extract from it\n",
        "\n",
        "\n",
        "**Hint: take a look at the checklist also made available based on the work of Evergreen.**"
      ]
    },
    {
      "cell_type": "code",
      "metadata": {
        "colab_type": "code",
        "id": "K90_0h6JgfnW",
        "colab": {}
      },
      "source": [
        "# your code goes here"
      ],
      "execution_count": null,
      "outputs": []
    },
    {
      "cell_type": "markdown",
      "metadata": {
        "colab_type": "text",
        "id": "Ua7B5nTmgbN7"
      },
      "source": [
        "# Digest"
      ]
    },
    {
      "cell_type": "markdown",
      "metadata": {
        "colab_type": "text",
        "id": "YJ0cqdoj4Lg7"
      },
      "source": [
        "In this section you should write down all the main findings of this exploratory data analysis. Furthermore, you should provide a reflection about your own work and effort during the module, highlighting what you believe you have done well and what you should have done differently. This digest should have at least 2500 characters (no spaces)."
      ]
    },
    {
      "cell_type": "markdown",
      "metadata": {
        "colab_type": "text",
        "id": "NQWFN0TEPUzp"
      },
      "source": [
        "```\n",
        "Add your text here.\n",
        "```"
      ]
    },
    {
      "cell_type": "markdown",
      "metadata": {
        "id": "8fLxDWdYSDl1",
        "colab_type": "text"
      },
      "source": [
        "# Machine Learning\n",
        "\n",
        "In this section, you should test different machine learning approaches to **build** and **evaluate** your model.\n",
        "\n",
        "**IMPORTANT: DO NOT FORGET TO REPORT YOUR PREDICTIONS FOR THE TEST DATA. YOU SHOULD BUILD AND EXPORT A FILE ACCORDING TO THE PROJECT DESCRIPTION WITH THE DEFAULTING PROBABILITIES!**"
      ]
    },
    {
      "cell_type": "code",
      "metadata": {
        "id": "bAHhYjFhSDl2",
        "colab_type": "code",
        "colab": {}
      },
      "source": [
        "# use as many cells as you wish."
      ],
      "execution_count": null,
      "outputs": []
    },
    {
      "cell_type": "code",
      "metadata": {
        "id": "HmLvZmqOSDl6",
        "colab_type": "code",
        "colab": {}
      },
      "source": [
        "# but the sure that all cells are commented adequately!"
      ],
      "execution_count": null,
      "outputs": []
    },
    {
      "cell_type": "markdown",
      "metadata": {
        "colab_type": "text",
        "id": "nXeToQbygdNh"
      },
      "source": [
        "# Future work"
      ]
    },
    {
      "cell_type": "markdown",
      "metadata": {
        "colab_type": "text",
        "id": "jDmGwnkqghPx"
      },
      "source": [
        "In this cell, please provide at least 3 different ideas that you would like to pursuit within this dataset. That may include, for example, the use of machine learning techniques towards a goal, or analyzing variables that you had no time to during this work. \n",
        "Please provide **details** on how you would tackle this problem and provide specifics on which techniques should be used for such purposes.\n",
        "This section should contain, at least, 2500 characters (no spaces)."
      ]
    },
    {
      "cell_type": "markdown",
      "metadata": {
        "colab_type": "text",
        "id": "dTHOs8-MPbWD"
      },
      "source": [
        "```\n",
        "Add your text here.\n",
        "```\n"
      ]
    },
    {
      "cell_type": "markdown",
      "metadata": {
        "colab_type": "text",
        "id": "_CaFQEil1F6Q"
      },
      "source": [
        "# Final Steps\n"
      ]
    },
    {
      "cell_type": "markdown",
      "metadata": {
        "colab_type": "text",
        "id": "a2R5Kily1H7f"
      },
      "source": [
        "1. Save this report as a jupyter notebook (`.ipynb`)\n",
        "2. Save a copy of this report as a PDF file (`.pdf`)\n",
        "3. Copy the dataset\n",
        "4. Zip it all together within a single file (`<your_name>.zip`)\n",
        "5. Send it over using Blackboard."
      ]
    },
    {
      "cell_type": "code",
      "metadata": {
        "id": "hao78HlnSDl-",
        "colab_type": "code",
        "colab": {}
      },
      "source": [
        ""
      ],
      "execution_count": 47,
      "outputs": []
    }
  ]
}