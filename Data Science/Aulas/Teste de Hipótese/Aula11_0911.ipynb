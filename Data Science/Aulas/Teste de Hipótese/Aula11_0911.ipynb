{
  "nbformat": 4,
  "nbformat_minor": 0,
  "metadata": {
    "colab": {
      "name": "Aula11_0911.ipynb",
      "provenance": [],
      "collapsed_sections": []
    },
    "kernelspec": {
      "name": "python3",
      "display_name": "Python 3"
    }
  },
  "cells": [
    {
      "cell_type": "code",
      "metadata": {
        "id": "EqpdG1nV5Zqq"
      },
      "source": [
        "import pandas as pd, numpy as np, matplotlib.pyplot as plt, seaborn as sns"
      ],
      "execution_count": 57,
      "outputs": []
    },
    {
      "cell_type": "code",
      "metadata": {
        "id": "6-JZKNm_FRil"
      },
      "source": [
        "# scipy\n",
        "\n",
        "# testes paramétricos.\n",
        "from scipy.stats import ttest_rel # pareado.\n",
        "from scipy.stats import ttest_ind # não-pareado.\n",
        "\n",
        "# testes não-paramétricos.\n",
        "from scipy.stats import wilcoxon # pareado.\n",
        "from scipy.stats import mannwhitneyu # não-pareado."
      ],
      "execution_count": 58,
      "outputs": []
    },
    {
      "cell_type": "code",
      "metadata": {
        "id": "5BYPvB3M5iap"
      },
      "source": [
        "# criando um dataset sintético.\n",
        "from sklearn.datasets import make_classification\n",
        "\n",
        "X, y = make_classification(n_samples=10000, n_features=50, \n",
        "                           n_informative=10, n_redundant=5, \n",
        "                           n_repeated=5, n_classes=3, random_state=20)"
      ],
      "execution_count": 59,
      "outputs": []
    },
    {
      "cell_type": "code",
      "metadata": {
        "id": "BIbn6CFO_Ckf"
      },
      "source": [
        "# importando classificadores.\n",
        "from sklearn.linear_model import LogisticRegression\n",
        "from sklearn.tree import DecisionTreeClassifier\n",
        "from sklearn.neighbors import KNeighborsClassifier"
      ],
      "execution_count": 60,
      "outputs": []
    },
    {
      "cell_type": "code",
      "metadata": {
        "id": "qY4_s29oGm19"
      },
      "source": [
        "lr = LogisticRegression(max_iter=1000)\n",
        "dt = DecisionTreeClassifier()\n",
        "knn = KNeighborsClassifier(n_neighbors=3)"
      ],
      "execution_count": 61,
      "outputs": []
    },
    {
      "cell_type": "code",
      "metadata": {
        "id": "WnJa8VJ3HHnB"
      },
      "source": [
        "# implementando k-fold: dividir o kfold em k dobras,\n",
        "# sendo que 1 parte fica para teste e (k-1) para treino,\n",
        "# esse processo é repetido k vezes.\n",
        "# estratificação: visa garantir que o percentual de cada\n",
        "# classe em cada fold, é o mesmo que o percentual no dataset inteiro. \n",
        "from sklearn.model_selection import StratifiedKFold\n",
        "from sklearn.metrics import accuracy_score\n",
        "\n",
        "skf = StratifiedKFold(n_splits=10, shuffle=True, random_state=911)"
      ],
      "execution_count": 62,
      "outputs": []
    },
    {
      "cell_type": "code",
      "metadata": {
        "id": "nVtA2fpZJFFH"
      },
      "source": [
        "# criando tabela de resultados.\n",
        "resultados = pd.DataFrame(columns=['lr', 'dt', 'knn'])"
      ],
      "execution_count": 63,
      "outputs": []
    },
    {
      "cell_type": "code",
      "metadata": {
        "id": "Ih-CJyS8J3Wx"
      },
      "source": [
        "# for (treino e teste) e, dentro do for, eu crio e testo.\n",
        "# TODOS os classificadores, então é um cenário PAREADO.\n",
        "\n",
        "# Vários laços de repetição, um por classificador, eu\n",
        "# tenho um cenário NÃO-PAREADO.\n",
        "# Existe uma exceção: se em cada laço de repetição nos mantivermos\n",
        "# o random state do processo de validação, o cenário continua pareado."
      ],
      "execution_count": 64,
      "outputs": []
    },
    {
      "cell_type": "code",
      "metadata": {
        "id": "s5bwYECyK4YM"
      },
      "source": [
        "# Um laço de repetição que treina todos os classificadores.\n",
        "# Cenário pareado:\n",
        "for train_index, test_index in skf.split(X, y):\n",
        "    # Obtendo conjuntos de treino e teste:\n",
        "    X_train, y_train = X[train_index], y[train_index]\n",
        "    X_test, y_test = X[test_index], y[test_index]\n",
        "\n",
        "    # treino dos classificadores:\n",
        "    lr.fit(X_train, y_train)\n",
        "    dt.fit(X_train, y_train)\n",
        "    knn.fit(X_train, y_train)\n",
        "\n",
        "    # teste dos classificadores:\n",
        "    acc_lr = accuracy_score(y_test, lr.predict(X_test))\n",
        "    acc_dt = accuracy_score(y_test, dt.predict(X_test))\n",
        "    acc_knn = accuracy_score(y_test, knn.predict(X_test))\n",
        "\n",
        "    # guardando os resultados:\n",
        "    linha = {'lr':acc_lr, 'dt':acc_dt, 'knn':acc_knn}\n",
        "    resultados = resultados.append(linha, ignore_index=True)"
      ],
      "execution_count": 65,
      "outputs": []
    },
    {
      "cell_type": "code",
      "metadata": {
        "id": "tGQ5quFPMDXK",
        "outputId": "e739344f-de52-4af7-e38c-b829e29e53b3",
        "colab": {
          "base_uri": "https://localhost:8080/"
        }
      },
      "source": [
        "print(resultados)"
      ],
      "execution_count": 66,
      "outputs": [
        {
          "output_type": "stream",
          "text": [
            "      lr     dt    knn\n",
            "0  0.613  0.727  0.854\n",
            "1  0.623  0.715  0.881\n",
            "2  0.646  0.763  0.859\n",
            "3  0.598  0.746  0.868\n",
            "4  0.634  0.763  0.870\n",
            "5  0.636  0.726  0.858\n",
            "6  0.624  0.744  0.848\n",
            "7  0.612  0.732  0.856\n",
            "8  0.635  0.733  0.893\n",
            "9  0.623  0.725  0.885\n"
          ],
          "name": "stdout"
        }
      ]
    },
    {
      "cell_type": "code",
      "metadata": {
        "id": "o-OM0ukBMEhv"
      },
      "source": [
        "# para determinar se devo usar um teste paramétrico ou não,\n",
        "# preciso garantir que todas as colunas tenham comportamento normal (gaussiano)\n",
        "# OU que meu experimento foi executado ao menos 30 vezes."
      ],
      "execution_count": 67,
      "outputs": []
    },
    {
      "cell_type": "code",
      "metadata": {
        "id": "JH0HVNTDOC8X",
        "outputId": "534c6829-48ca-4821-c70c-0a7c10769520",
        "colab": {
          "base_uri": "https://localhost:8080/"
        }
      },
      "source": [
        "# Como conclusão, precisamos usar um teste pareado e não-paramétrico.\n",
        "# Wilcoxon:\n",
        "# Alerta: wilcoxon, mann-whitey, e testes t só permitem avaliar\n",
        "# duas alternativas(classificadores).\n",
        "stat, p = wilcoxon(resultados['dt'], resultados['knn'])\n",
        "if p < 0.05: # 95% de confiança.\n",
        "    print('Há diferença significativa.')\n",
        "else:\n",
        "    print('Não há diferença significativa.')"
      ],
      "execution_count": 68,
      "outputs": [
        {
          "output_type": "stream",
          "text": [
            "Há diferença significativa.\n"
          ],
          "name": "stdout"
        }
      ]
    },
    {
      "cell_type": "code",
      "metadata": {
        "id": "zh5wdLy2OT-j",
        "outputId": "fe23d79c-cec8-4988-f124-9a59d5b67936",
        "colab": {
          "base_uri": "https://localhost:8080/"
        }
      },
      "source": [
        "stat, p = wilcoxon(resultados['knn'], resultados['lr'])\n",
        "if p < 0.05: # 95% de confiança.\n",
        "    print('Há diferença significativa.')\n",
        "else:\n",
        "    print('Não há diferença significativa.')"
      ],
      "execution_count": 69,
      "outputs": [
        {
          "output_type": "stream",
          "text": [
            "Há diferença significativa.\n"
          ],
          "name": "stdout"
        }
      ]
    },
    {
      "cell_type": "code",
      "metadata": {
        "id": "_mM8URP3P0FT"
      },
      "source": [
        "# neste ponto, eu poderia acabar assumindo que DT > LR,\n",
        "# mas isso está, estatisticamente, incorreto!\n",
        "# a solução seria usar testes para múltiplas alternativas."
      ],
      "execution_count": 70,
      "outputs": []
    },
    {
      "cell_type": "code",
      "metadata": {
        "id": "6mNRuD5sQGuM"
      },
      "source": [
        "# testes de múltiplas alternativas(múltiplas comparações).\n",
        "\n",
        "# 2 etapas: Friedman(determina se há ou não diferença).\n",
        "#           Nmenyi: onde esta a diferença."
      ],
      "execution_count": 71,
      "outputs": []
    },
    {
      "cell_type": "code",
      "metadata": {
        "id": "PDORvrOpYQ--",
        "outputId": "aeccb7e0-2f78-4272-91d5-0cbae4358f5d",
        "colab": {
          "base_uri": "https://localhost:8080/"
        }
      },
      "source": [
        "from scipy.stats import friedmanchisquare\n",
        "stat, p = friedmanchisquare(resultados['lr'], resultados['dt'], resultados['knn'])\n",
        "if p < 0.05: # 95% de confiança.\n",
        "    print('Há diferença significativa.')\n",
        "else:\n",
        "    print('Não há diferença significativa.')"
      ],
      "execution_count": 72,
      "outputs": [
        {
          "output_type": "stream",
          "text": [
            "Há diferença significativa.\n"
          ],
          "name": "stdout"
        }
      ]
    },
    {
      "cell_type": "code",
      "metadata": {
        "id": "eIGyOGzNY5Gm"
      },
      "source": [
        "# criar tabela de ranking:\n",
        "from scipy.stats import rankdata\n",
        "ranking = (resultados * -1).apply(lambda row: rankdata([row['lr'], row['dt'], row['knn']]), axis=1)\n",
        "#print(resultados)\n",
        "#print(ranking)"
      ],
      "execution_count": 73,
      "outputs": []
    },
    {
      "cell_type": "code",
      "metadata": {
        "id": "30K2NcyDZS6m",
        "outputId": "f68a829b-0025-47b1-d830-0dafcdfa8e79",
        "colab": {
          "base_uri": "https://localhost:8080/"
        }
      },
      "source": [
        "!pip install orange3"
      ],
      "execution_count": 74,
      "outputs": [
        {
          "output_type": "stream",
          "text": [
            "Requirement already satisfied: orange3 in /usr/local/lib/python3.6/dist-packages (3.27.1)\n",
            "Requirement already satisfied: networkx in /usr/local/lib/python3.6/dist-packages (from orange3) (2.5)\n",
            "Requirement already satisfied: PyQtWebEngine>=5.12 in /usr/local/lib/python3.6/dist-packages (from orange3) (5.15.1)\n",
            "Requirement already satisfied: xlrd>=0.9.2 in /usr/local/lib/python3.6/dist-packages (from orange3) (1.1.0)\n",
            "Requirement already satisfied: python-louvain>=0.13 in /usr/local/lib/python3.6/dist-packages (from orange3) (0.14)\n",
            "Requirement already satisfied: scipy>=0.16.1 in /usr/local/lib/python3.6/dist-packages (from orange3) (1.4.1)\n",
            "Requirement already satisfied: matplotlib>=2.0.0 in /usr/local/lib/python3.6/dist-packages (from orange3) (3.2.2)\n",
            "Requirement already satisfied: joblib>=0.9.4 in /usr/local/lib/python3.6/dist-packages (from orange3) (0.17.0)\n",
            "Requirement already satisfied: numpy>=1.16.0 in /usr/local/lib/python3.6/dist-packages (from orange3) (1.18.5)\n",
            "Requirement already satisfied: pyyaml in /usr/local/lib/python3.6/dist-packages (from orange3) (3.13)\n",
            "Requirement already satisfied: openpyxl in /usr/local/lib/python3.6/dist-packages (from orange3) (2.5.9)\n",
            "Requirement already satisfied: orange-canvas-core<0.2a,>=0.1.18 in /usr/local/lib/python3.6/dist-packages (from orange3) (0.1.18)\n",
            "Requirement already satisfied: pip>=9.0 in /usr/local/lib/python3.6/dist-packages (from orange3) (19.3.1)\n",
            "Requirement already satisfied: PyQt5!=5.15.1,>=5.12 in /usr/local/lib/python3.6/dist-packages (from orange3) (5.15.0)\n",
            "Requirement already satisfied: openTSNE>=0.4.3 in /usr/local/lib/python3.6/dist-packages (from orange3) (0.4.4)\n",
            "Requirement already satisfied: scikit-learn!=0.23.0,>=0.22.0 in /usr/local/lib/python3.6/dist-packages (from orange3) (0.22.2.post1)\n",
            "Requirement already satisfied: orange-widget-base>=4.8.1 in /usr/local/lib/python3.6/dist-packages (from orange3) (4.9.0)\n",
            "Requirement already satisfied: serverfiles in /usr/local/lib/python3.6/dist-packages (from orange3) (0.3.0)\n",
            "Requirement already satisfied: baycomp>=1.0.2 in /usr/local/lib/python3.6/dist-packages (from orange3) (1.0.2)\n",
            "Requirement already satisfied: chardet>=3.0.2 in /usr/local/lib/python3.6/dist-packages (from orange3) (3.0.4)\n",
            "Requirement already satisfied: httpx~=0.14.0 in /usr/local/lib/python3.6/dist-packages (from orange3) (0.14.3)\n",
            "Requirement already satisfied: setuptools>=36.3 in /usr/local/lib/python3.6/dist-packages (from orange3) (50.3.2)\n",
            "Requirement already satisfied: pandas in /usr/local/lib/python3.6/dist-packages (from orange3) (1.1.4)\n",
            "Requirement already satisfied: bottleneck>=1.0.0 in /usr/local/lib/python3.6/dist-packages (from orange3) (1.3.2)\n",
            "Requirement already satisfied: keyring in /usr/local/lib/python3.6/dist-packages (from orange3) (21.5.0)\n",
            "Requirement already satisfied: AnyQt>=0.0.11 in /usr/local/lib/python3.6/dist-packages (from orange3) (0.0.11)\n",
            "Requirement already satisfied: requests in /usr/local/lib/python3.6/dist-packages (from orange3) (2.23.0)\n",
            "Requirement already satisfied: xlsxwriter in /usr/local/lib/python3.6/dist-packages (from orange3) (1.3.7)\n",
            "Requirement already satisfied: keyrings.alt in /usr/local/lib/python3.6/dist-packages (from orange3) (4.0.1)\n",
            "Requirement already satisfied: docutils in /usr/local/lib/python3.6/dist-packages (from orange3) (0.16)\n",
            "Requirement already satisfied: pyqtgraph>=0.11.0 in /usr/local/lib/python3.6/dist-packages (from orange3) (0.11.0)\n",
            "Requirement already satisfied: decorator>=4.3.0 in /usr/local/lib/python3.6/dist-packages (from networkx->orange3) (4.4.2)\n",
            "Requirement already satisfied: PyQt5-sip<13,>=12.8 in /usr/local/lib/python3.6/dist-packages (from PyQtWebEngine>=5.12->orange3) (12.8.1)\n",
            "Requirement already satisfied: pyparsing!=2.0.4,!=2.1.2,!=2.1.6,>=2.0.1 in /usr/local/lib/python3.6/dist-packages (from matplotlib>=2.0.0->orange3) (2.4.7)\n",
            "Requirement already satisfied: cycler>=0.10 in /usr/local/lib/python3.6/dist-packages (from matplotlib>=2.0.0->orange3) (0.10.0)\n",
            "Requirement already satisfied: python-dateutil>=2.1 in /usr/local/lib/python3.6/dist-packages (from matplotlib>=2.0.0->orange3) (2.8.1)\n",
            "Requirement already satisfied: kiwisolver>=1.0.1 in /usr/local/lib/python3.6/dist-packages (from matplotlib>=2.0.0->orange3) (1.3.1)\n",
            "Requirement already satisfied: jdcal in /usr/local/lib/python3.6/dist-packages (from openpyxl->orange3) (1.4.1)\n",
            "Requirement already satisfied: et-xmlfile in /usr/local/lib/python3.6/dist-packages (from openpyxl->orange3) (1.0.1)\n",
            "Requirement already satisfied: cachecontrol[filecache] in /usr/local/lib/python3.6/dist-packages (from orange-canvas-core<0.2a,>=0.1.18->orange3) (0.12.6)\n",
            "Requirement already satisfied: commonmark>=0.8.1 in /usr/local/lib/python3.6/dist-packages (from orange-canvas-core<0.2a,>=0.1.18->orange3) (0.9.1)\n",
            "Requirement already satisfied: dictdiffer in /usr/local/lib/python3.6/dist-packages (from orange-canvas-core<0.2a,>=0.1.18->orange3) (0.8.1)\n",
            "Requirement already satisfied: certifi in /usr/local/lib/python3.6/dist-packages (from httpx~=0.14.0->orange3) (2020.6.20)\n",
            "Requirement already satisfied: sniffio in /usr/local/lib/python3.6/dist-packages (from httpx~=0.14.0->orange3) (1.2.0)\n",
            "Requirement already satisfied: httpcore==0.10.* in /usr/local/lib/python3.6/dist-packages (from httpx~=0.14.0->orange3) (0.10.2)\n",
            "Requirement already satisfied: rfc3986[idna2008]<2,>=1.3 in /usr/local/lib/python3.6/dist-packages (from httpx~=0.14.0->orange3) (1.4.0)\n",
            "Requirement already satisfied: pytz>=2017.2 in /usr/local/lib/python3.6/dist-packages (from pandas->orange3) (2018.9)\n",
            "Requirement already satisfied: jeepney>=0.4.2; sys_platform == \"linux\" in /usr/local/lib/python3.6/dist-packages (from keyring->orange3) (0.4.3)\n",
            "Requirement already satisfied: importlib-metadata>=1; python_version < \"3.8\" in /usr/local/lib/python3.6/dist-packages (from keyring->orange3) (2.0.0)\n",
            "Requirement already satisfied: SecretStorage>=3.2; sys_platform == \"linux\" in /usr/local/lib/python3.6/dist-packages (from keyring->orange3) (3.2.0)\n",
            "Requirement already satisfied: urllib3!=1.25.0,!=1.25.1,<1.26,>=1.21.1 in /usr/local/lib/python3.6/dist-packages (from requests->orange3) (1.24.3)\n",
            "Requirement already satisfied: idna<3,>=2.5 in /usr/local/lib/python3.6/dist-packages (from requests->orange3) (2.10)\n",
            "Requirement already satisfied: six in /usr/local/lib/python3.6/dist-packages (from cycler>=0.10->matplotlib>=2.0.0->orange3) (1.15.0)\n",
            "Requirement already satisfied: msgpack>=0.5.2 in /usr/local/lib/python3.6/dist-packages (from cachecontrol[filecache]->orange-canvas-core<0.2a,>=0.1.18->orange3) (1.0.0)\n",
            "Requirement already satisfied: lockfile>=0.9; extra == \"filecache\" in /usr/local/lib/python3.6/dist-packages (from cachecontrol[filecache]->orange-canvas-core<0.2a,>=0.1.18->orange3) (0.12.2)\n",
            "Requirement already satisfied: contextvars>=2.1; python_version < \"3.7\" in /usr/local/lib/python3.6/dist-packages (from sniffio->httpx~=0.14.0->orange3) (2.4)\n",
            "Requirement already satisfied: h11<0.10,>=0.8 in /usr/local/lib/python3.6/dist-packages (from httpcore==0.10.*->httpx~=0.14.0->orange3) (0.9.0)\n",
            "Requirement already satisfied: zipp>=0.5 in /usr/local/lib/python3.6/dist-packages (from importlib-metadata>=1; python_version < \"3.8\"->keyring->orange3) (3.4.0)\n",
            "Requirement already satisfied: cryptography>=2.0 in /usr/local/lib/python3.6/dist-packages (from SecretStorage>=3.2; sys_platform == \"linux\"->keyring->orange3) (3.2.1)\n",
            "Requirement already satisfied: immutables>=0.9 in /usr/local/lib/python3.6/dist-packages (from contextvars>=2.1; python_version < \"3.7\"->sniffio->httpx~=0.14.0->orange3) (0.14)\n",
            "Requirement already satisfied: cffi!=1.11.3,>=1.8 in /usr/local/lib/python3.6/dist-packages (from cryptography>=2.0->SecretStorage>=3.2; sys_platform == \"linux\"->keyring->orange3) (1.14.3)\n",
            "Requirement already satisfied: pycparser in /usr/local/lib/python3.6/dist-packages (from cffi!=1.11.3,>=1.8->cryptography>=2.0->SecretStorage>=3.2; sys_platform == \"linux\"->keyring->orange3) (2.20)\n"
          ],
          "name": "stdout"
        }
      ]
    },
    {
      "cell_type": "code",
      "metadata": {
        "id": "Ufj0FDezabge",
        "outputId": "55c7832c-b03d-4149-a536-35c40f13e1a5",
        "colab": {
          "base_uri": "https://localhost:8080/",
          "height": 143
        }
      },
      "source": [
        "import Orange\n",
        "nomes = resultados.columns.values\n",
        "avgrank = ranking.mean() # média por coluna(classificador).\n",
        "cd = Orange.evaluation.compute_CD(avgrank, len(ranking), alpha=\"0.05\")\n",
        "Orange.evaluation.graph_ranks(avgrank, nomes, cd=cd, width=6, textspace=1.5)\n",
        "plt.show()"
      ],
      "execution_count": 75,
      "outputs": [
        {
          "output_type": "display_data",
          "data": {
            "image/png": "[encoded data removed]",
            "text/plain": [
              "<Figure size 432x111.6 with 1 Axes>"
            ]
          },
          "metadata": {
            "tags": []
          }
        }
      ]
    },
    {
      "cell_type": "code",
      "metadata": {
        "id": "QDeAPimsbbP6",
        "outputId": "8cd08fec-15c0-4df5-9577-f17115d01125",
        "colab": {
          "base_uri": "https://localhost:8080/"
        }
      },
      "source": [
        "# Testes bayesianos:\n",
        "!pip install baycomp"
      ],
      "execution_count": 76,
      "outputs": [
        {
          "output_type": "stream",
          "text": [
            "Requirement already satisfied: baycomp in /usr/local/lib/python3.6/dist-packages (1.0.2)\n",
            "Requirement already satisfied: matplotlib>=2.1.2 in /usr/local/lib/python3.6/dist-packages (from baycomp) (3.2.2)\n",
            "Requirement already satisfied: numpy>=1.13.1 in /usr/local/lib/python3.6/dist-packages (from baycomp) (1.18.5)\n",
            "Requirement already satisfied: scipy>=0.19.1 in /usr/local/lib/python3.6/dist-packages (from baycomp) (1.4.1)\n",
            "Requirement already satisfied: cycler>=0.10 in /usr/local/lib/python3.6/dist-packages (from matplotlib>=2.1.2->baycomp) (0.10.0)\n",
            "Requirement already satisfied: kiwisolver>=1.0.1 in /usr/local/lib/python3.6/dist-packages (from matplotlib>=2.1.2->baycomp) (1.3.1)\n",
            "Requirement already satisfied: python-dateutil>=2.1 in /usr/local/lib/python3.6/dist-packages (from matplotlib>=2.1.2->baycomp) (2.8.1)\n",
            "Requirement already satisfied: pyparsing!=2.0.4,!=2.1.2,!=2.1.6,>=2.0.1 in /usr/local/lib/python3.6/dist-packages (from matplotlib>=2.1.2->baycomp) (2.4.7)\n",
            "Requirement already satisfied: six in /usr/local/lib/python3.6/dist-packages (from cycler>=0.10->matplotlib>=2.1.2->baycomp) (1.15.0)\n"
          ],
          "name": "stdout"
        }
      ]
    },
    {
      "cell_type": "code",
      "metadata": {
        "id": "LXHyetUsfNEa"
      },
      "source": [
        "from baycomp import two_on_multiple # dois classificadores em múltiplas bases.\n",
        "from itertools import combinations # auxiliar para todos os pares possíveis de calssificadores.\n",
        "# dt x lr, dt x knn, knn x lr, ..."
      ],
      "execution_count": 77,
      "outputs": []
    },
    {
      "cell_type": "code",
      "metadata": {
        "id": "kWQXOqelfekI"
      },
      "source": [
        "# Estruturas auxiliares do teste bayesiano e uma lista de índices.\n",
        "n_classif = len(resultados.columns)\n",
        "matrix_bayes = np.zeros((n_classif, n_classif), dtype=float)\n",
        "indices = np.arange(n_classif)"
      ],
      "execution_count": 78,
      "outputs": []
    },
    {
      "cell_type": "code",
      "metadata": {
        "id": "U6DZgOAqf-Ol",
        "outputId": "51a2fde2-0aa5-41b5-ec1c-f3347a27ab07",
        "colab": {
          "base_uri": "https://localhost:8080/",
          "height": 1000
        }
      },
      "source": [
        "# criar as combinações possíveis entre os classificadores.\n",
        "# e para cada combinação, aplicar o teste bayesiano.\n",
        "for i in combinations(indices, 2):\n",
        "    # aplicar o teste bayesiano.\n",
        "    clf1, clf2 = resultados.columns[i[0]], resultados.columns[i[1]]\n",
        "    (prob_1, rope, prob_2), figura = two_on_multiple(resultados[clf1], \n",
        "                                                     resultados[clf2],\n",
        "                                           rope=0.05, nsamples=10000, plot=True)\n",
        "    \n",
        "    # armazenar os resultados:\n",
        "    matrix_bayes[i[0]][i[1]] = prob_1\n",
        "    matrix_bayes[i[1]][i[0]] = prob_2\n",
        "\n",
        "    # aprensentar os resultados da comparação:\n",
        "    plt.title(f'{clf1} vs. {clf2}')\n",
        "    plt.show()\n",
        "\n",
        "sns.heatmap(matrix_bayes, annot=True, \n",
        "            xticklabels=resultados.columns,\n",
        "            yticklabels=resultados.columns, fmt='.2f')\n",
        "plt.show()"
      ],
      "execution_count": 79,
      "outputs": [
        {
          "output_type": "display_data",
          "data": {
            "image/png": "[encoded data removed]",
            "text/plain": [
              "<Figure size 432x288 with 1 Axes>"
            ]
          },
          "metadata": {
            "tags": [],
            "needs_background": "light"
          }
        },
        {
          "output_type": "display_data",
          "data": {
            "image/png": "[encoded data removed]",
            "text/plain": [
              "<Figure size 432x288 with 1 Axes>"
            ]
          },
          "metadata": {
            "tags": [],
            "needs_background": "light"
          }
        },
        {
          "output_type": "display_data",
          "data": {
            "image/png": "[encoded data removed]",
            "text/plain": [
              "<Figure size 432x288 with 1 Axes>"
            ]
          },
          "metadata": {
            "tags": [],
            "needs_background": "light"
          }
        },
        {
          "output_type": "display_data",
          "data": {
            "image/png": "[encoded data removed]",
            "text/plain": [
              "<Figure size 432x288 with 2 Axes>"
            ]
          },
          "metadata": {
            "tags": [],
            "needs_background": "light"
          }
        }
      ]
    },
    {
      "cell_type": "code",
      "metadata": {
        "id": "TLkoo_csf_rm"
      },
      "source": [
        ""
      ],
      "execution_count": 79,
      "outputs": []
    }
  ]
}